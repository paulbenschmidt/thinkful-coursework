{
 "cells": [
  {
   "cell_type": "markdown",
   "metadata": {},
   "source": [
    "# Challenge: Validating a linear regression\n",
    "### Validating regression models for prediction\n",
    "Statistical tests are useful for making sure a model is a good fit to the test data, and that all the features are useful to the model. However, to make sure a model has good predictive validity for new data, it is necessary to assess the performance of the model on new datasets.\n",
    "\n",
    "The procedure is the same as what you learned in the Naive Bayes lesson – the holdout method and cross-validation method are both available. You've already had experience writing code to run these kinds of validation models for Naive Bayes: now you can try it again with linear regression. In this case, your goal is to achieve a model with a consistent R2 and only statistically significant parameters across multiple samples.\n",
    "\n",
    "We'll use the property crime model you've been working on with, based on the FBI:UCR data. Since your model formulation to date has used the entire New York State 2013 dataset, you'll need to validate it using some of the other crime datasets available at the FBI:UCR website. Options include other states crime rates in 2013 or crime rates in New York State in other years or a combination of these.\n",
    "\n",
    "### Iterate\n",
    "Based on the results of your validation test, create a revised model, and then test both old and new models on a new holdout or set of folds.\n",
    "\n",
    "Include your model(s) and a brief writeup of the reasoning behind the validation method you chose and the changes you made to submit and review with your mentor."
   ]
  },
  {
   "cell_type": "markdown",
   "metadata": {},
   "source": [
    "## Exercise Begins:\n",
    "### Step 1: Creating Model on New York FBI Dataset"
   ]
  },
  {
   "cell_type": "code",
   "execution_count": 69,
   "metadata": {},
   "outputs": [],
   "source": [
    "import pandas as pd\n",
    "import numpy as np\n",
    "import matplotlib.pyplot as plt\n",
    "import seaborn as sns\n",
    "\n",
    "import sklearn.linear_model as linear_model\n",
    "import scipy.stats as stats\n",
    "import statsmodels.formula.api as smf\n",
    "from sklearn.model_selection import train_test_split\n",
    "from sklearn.model_selection import cross_val_score\n",
    "from sklearn.feature_selection import f_regression\n",
    "\n",
    "%matplotlib inline"
   ]
  },
  {
   "cell_type": "code",
   "execution_count": 4,
   "metadata": {
    "scrolled": true
   },
   "outputs": [
    {
     "data": {
      "text/html": [
       "<div>\n",
       "<style scoped>\n",
       "    .dataframe tbody tr th:only-of-type {\n",
       "        vertical-align: middle;\n",
       "    }\n",
       "\n",
       "    .dataframe tbody tr th {\n",
       "        vertical-align: top;\n",
       "    }\n",
       "\n",
       "    .dataframe thead th {\n",
       "        text-align: right;\n",
       "    }\n",
       "</style>\n",
       "<table border=\"1\" class=\"dataframe\">\n",
       "  <thead>\n",
       "    <tr style=\"text-align: right;\">\n",
       "      <th></th>\n",
       "      <th>city</th>\n",
       "      <th>population</th>\n",
       "      <th>violent_crime</th>\n",
       "      <th>murder</th>\n",
       "      <th>rape_legacy</th>\n",
       "      <th>robbery</th>\n",
       "      <th>agg_assault</th>\n",
       "      <th>property_crime</th>\n",
       "      <th>burglary</th>\n",
       "      <th>larceny</th>\n",
       "      <th>motor_theft</th>\n",
       "      <th>arson</th>\n",
       "    </tr>\n",
       "  </thead>\n",
       "  <tbody>\n",
       "    <tr>\n",
       "      <th>0</th>\n",
       "      <td>Adams Village</td>\n",
       "      <td>1861</td>\n",
       "      <td>0</td>\n",
       "      <td>0</td>\n",
       "      <td>0</td>\n",
       "      <td>0</td>\n",
       "      <td>0</td>\n",
       "      <td>12</td>\n",
       "      <td>2</td>\n",
       "      <td>10</td>\n",
       "      <td>0</td>\n",
       "      <td>0</td>\n",
       "    </tr>\n",
       "    <tr>\n",
       "      <th>1</th>\n",
       "      <td>Addison Town and Village</td>\n",
       "      <td>2577</td>\n",
       "      <td>3</td>\n",
       "      <td>0</td>\n",
       "      <td>0</td>\n",
       "      <td>0</td>\n",
       "      <td>3</td>\n",
       "      <td>24</td>\n",
       "      <td>3</td>\n",
       "      <td>20</td>\n",
       "      <td>1</td>\n",
       "      <td>0</td>\n",
       "    </tr>\n",
       "    <tr>\n",
       "      <th>2</th>\n",
       "      <td>Akron Village</td>\n",
       "      <td>2846</td>\n",
       "      <td>3</td>\n",
       "      <td>0</td>\n",
       "      <td>0</td>\n",
       "      <td>0</td>\n",
       "      <td>3</td>\n",
       "      <td>16</td>\n",
       "      <td>1</td>\n",
       "      <td>15</td>\n",
       "      <td>0</td>\n",
       "      <td>0</td>\n",
       "    </tr>\n",
       "    <tr>\n",
       "      <th>3</th>\n",
       "      <td>Albany</td>\n",
       "      <td>97956</td>\n",
       "      <td>791</td>\n",
       "      <td>8</td>\n",
       "      <td>30</td>\n",
       "      <td>227</td>\n",
       "      <td>526</td>\n",
       "      <td>4090</td>\n",
       "      <td>705</td>\n",
       "      <td>3243</td>\n",
       "      <td>142</td>\n",
       "      <td>NaN</td>\n",
       "    </tr>\n",
       "    <tr>\n",
       "      <th>4</th>\n",
       "      <td>Albion Village</td>\n",
       "      <td>6388</td>\n",
       "      <td>23</td>\n",
       "      <td>0</td>\n",
       "      <td>3</td>\n",
       "      <td>4</td>\n",
       "      <td>16</td>\n",
       "      <td>223</td>\n",
       "      <td>53</td>\n",
       "      <td>165</td>\n",
       "      <td>5</td>\n",
       "      <td>NaN</td>\n",
       "    </tr>\n",
       "  </tbody>\n",
       "</table>\n",
       "</div>"
      ],
      "text/plain": [
       "                       city population violent_crime murder rape_legacy  \\\n",
       "0             Adams Village       1861             0      0           0   \n",
       "1  Addison Town and Village       2577             3      0           0   \n",
       "2             Akron Village       2846             3      0           0   \n",
       "3                    Albany      97956           791      8          30   \n",
       "4            Albion Village       6388            23      0           3   \n",
       "\n",
       "  robbery agg_assault property_crime burglary larceny motor_theft arson  \n",
       "0       0           0             12        2      10           0     0  \n",
       "1       0           3             24        3      20           1     0  \n",
       "2       0           3             16        1      15           0     0  \n",
       "3     227         526           4090      705    3243         142   NaN  \n",
       "4       4          16            223       53     165           5   NaN  "
      ]
     },
     "execution_count": 4,
     "metadata": {},
     "output_type": "execute_result"
    }
   ],
   "source": [
    "df = pd.read_excel('table_8_offenses_known_to_law_enforcement_new_york_by_city_2013.xls')\n",
    "df = df.drop(df.index[0:4]).drop(df.index[-3:])\n",
    "df.columns = ['city','population','violent_crime','murder','rape_revised','rape_legacy','robbery','agg_assault',\n",
    "                       'property_crime','burglary','larceny','motor_theft','arson']\n",
    "df = df.drop('rape_revised', axis=1) #missing data\n",
    "df.index = range(len(df))\n",
    "df.head()"
   ]
  },
  {
   "cell_type": "code",
   "execution_count": 5,
   "metadata": {},
   "outputs": [
    {
     "data": {
      "text/plain": [
       "city                0\n",
       "population          0\n",
       "violent_crime       0\n",
       "murder              0\n",
       "rape_legacy         0\n",
       "robbery             0\n",
       "agg_assault         0\n",
       "property_crime      0\n",
       "burglary            0\n",
       "larceny             0\n",
       "motor_theft         0\n",
       "arson             161\n",
       "dtype: int64"
      ]
     },
     "execution_count": 5,
     "metadata": {},
     "output_type": "execute_result"
    }
   ],
   "source": [
    "df.isnull().sum()"
   ]
  },
  {
   "cell_type": "code",
   "execution_count": 30,
   "metadata": {},
   "outputs": [],
   "source": [
    "df['arson'] = (df.arson > 0).astype(int)"
   ]
  },
  {
   "cell_type": "code",
   "execution_count": 51,
   "metadata": {
    "scrolled": true
   },
   "outputs": [
    {
     "data": {
      "text/html": [
       "<div>\n",
       "<style scoped>\n",
       "    .dataframe tbody tr th:only-of-type {\n",
       "        vertical-align: middle;\n",
       "    }\n",
       "\n",
       "    .dataframe tbody tr th {\n",
       "        vertical-align: top;\n",
       "    }\n",
       "\n",
       "    .dataframe thead th {\n",
       "        text-align: right;\n",
       "    }\n",
       "</style>\n",
       "<table border=\"1\" class=\"dataframe\">\n",
       "  <thead>\n",
       "    <tr style=\"text-align: right;\">\n",
       "      <th></th>\n",
       "      <th>city</th>\n",
       "      <th>population</th>\n",
       "      <th>population_sq</th>\n",
       "      <th>murder</th>\n",
       "      <th>robbery</th>\n",
       "      <th>property_crime</th>\n",
       "    </tr>\n",
       "  </thead>\n",
       "  <tbody>\n",
       "    <tr>\n",
       "      <th>0</th>\n",
       "      <td>Adams Village</td>\n",
       "      <td>1861</td>\n",
       "      <td>3463321</td>\n",
       "      <td>0</td>\n",
       "      <td>0</td>\n",
       "      <td>12</td>\n",
       "    </tr>\n",
       "    <tr>\n",
       "      <th>1</th>\n",
       "      <td>Addison Town and Village</td>\n",
       "      <td>2577</td>\n",
       "      <td>6640929</td>\n",
       "      <td>0</td>\n",
       "      <td>0</td>\n",
       "      <td>24</td>\n",
       "    </tr>\n",
       "    <tr>\n",
       "      <th>2</th>\n",
       "      <td>Akron Village</td>\n",
       "      <td>2846</td>\n",
       "      <td>8099716</td>\n",
       "      <td>0</td>\n",
       "      <td>0</td>\n",
       "      <td>16</td>\n",
       "    </tr>\n",
       "    <tr>\n",
       "      <th>3</th>\n",
       "      <td>Albany</td>\n",
       "      <td>97956</td>\n",
       "      <td>9595377936</td>\n",
       "      <td>1</td>\n",
       "      <td>1</td>\n",
       "      <td>4090</td>\n",
       "    </tr>\n",
       "    <tr>\n",
       "      <th>4</th>\n",
       "      <td>Albion Village</td>\n",
       "      <td>6388</td>\n",
       "      <td>40806544</td>\n",
       "      <td>0</td>\n",
       "      <td>1</td>\n",
       "      <td>223</td>\n",
       "    </tr>\n",
       "  </tbody>\n",
       "</table>\n",
       "</div>"
      ],
      "text/plain": [
       "                       city population population_sq  murder  robbery  \\\n",
       "0             Adams Village       1861       3463321       0        0   \n",
       "1  Addison Town and Village       2577       6640929       0        0   \n",
       "2             Akron Village       2846       8099716       0        0   \n",
       "3                    Albany      97956    9595377936       1        1   \n",
       "4            Albion Village       6388      40806544       0        1   \n",
       "\n",
       "  property_crime  \n",
       "0             12  \n",
       "1             24  \n",
       "2             16  \n",
       "3           4090  \n",
       "4            223  "
      ]
     },
     "execution_count": 51,
     "metadata": {},
     "output_type": "execute_result"
    }
   ],
   "source": [
    "features = pd.DataFrame(df[['city','population']])\n",
    "features['population_sq'] = features.population**2\n",
    "features['murder'] = np.where(df.murder>0,1,0)\n",
    "features['robbery'] = np.where(df.robbery>0,1,0)\n",
    "features['property_crime'] = df.property_crime\n",
    "features.head()"
   ]
  },
  {
   "cell_type": "code",
   "execution_count": 71,
   "metadata": {},
   "outputs": [
    {
     "name": "stdout",
     "output_type": "stream",
     "text": [
      "With 20% Holdout: -3538.7292574003404\n",
      "Testing on Sample: 0.9961247104988709\n",
      "[ 7.60520539e-01  8.23393294e-01 -9.24026836e-03  5.04913291e-01\n",
      "  4.74244233e-01  4.19961624e-01 -3.37873798e+03  8.21731323e-01\n",
      "  8.86333090e-01 -9.81038943e-01]\n",
      "\n",
      "Coefficients: \n",
      " [[ 3.46570268e-02 -2.11108019e-09  1.51866535e+01 -9.62774363e+01]]\n",
      "\n",
      "Intercept: \n",
      " [-109.57533562]\n",
      "\n",
      "R-squared:\n",
      "0.9961247104988709\n"
     ]
    }
   ],
   "source": [
    "regr = linear_model.LinearRegression()\n",
    "Y = features.property_crime.values.reshape(-1,1)\n",
    "X = features[['population','population_sq','murder','robbery']]\n",
    "model = regr.fit(X, Y)\n",
    "\n",
    "X_train, X_test, y_train, y_test = train_test_split(X, Y, test_size=0.2, random_state=20)\n",
    "print('With 20% Holdout: ' + str(regr.fit(X_train, y_train).score(X_test, y_test)))\n",
    "print('Testing on Sample: ' + str(regr.fit(X, Y).score(X, Y)))\n",
    "print(cross_val_score(regr, X, Y, cv=10))\n",
    "\n",
    "print('\\nCoefficients: \\n', regr.coef_)\n",
    "print('\\nIntercept: \\n', regr.intercept_)\n",
    "print('\\nR-squared:')\n",
    "print(regr.score(X, Y))"
   ]
  },
  {
   "cell_type": "markdown",
   "metadata": {},
   "source": [
    "The model records a 99.6% of variance explained on the dataset used for modeling."
   ]
  },
  {
   "cell_type": "markdown",
   "metadata": {},
   "source": [
    "### Step 2: Validating Model on New Dataset"
   ]
  },
  {
   "cell_type": "code",
   "execution_count": 118,
   "metadata": {},
   "outputs": [
    {
     "data": {
      "text/html": [
       "<div>\n",
       "<style scoped>\n",
       "    .dataframe tbody tr th:only-of-type {\n",
       "        vertical-align: middle;\n",
       "    }\n",
       "\n",
       "    .dataframe tbody tr th {\n",
       "        vertical-align: top;\n",
       "    }\n",
       "\n",
       "    .dataframe thead th {\n",
       "        text-align: right;\n",
       "    }\n",
       "</style>\n",
       "<table border=\"1\" class=\"dataframe\">\n",
       "  <thead>\n",
       "    <tr style=\"text-align: right;\">\n",
       "      <th></th>\n",
       "      <th>city</th>\n",
       "      <th>population</th>\n",
       "      <th>violent_crime</th>\n",
       "      <th>murder</th>\n",
       "      <th>rape_revised</th>\n",
       "      <th>rape_legacy</th>\n",
       "      <th>robbery</th>\n",
       "      <th>agg_assault</th>\n",
       "      <th>property_crime</th>\n",
       "      <th>burglary</th>\n",
       "      <th>larceny</th>\n",
       "      <th>motor_theft</th>\n",
       "      <th>arson</th>\n",
       "    </tr>\n",
       "  </thead>\n",
       "  <tbody>\n",
       "    <tr>\n",
       "      <th>364</th>\n",
       "      <td>Woodbury Town4, 5</td>\n",
       "      <td>10739.0</td>\n",
       "      <td>4.0</td>\n",
       "      <td>0.0</td>\n",
       "      <td>0.0</td>\n",
       "      <td>0.0</td>\n",
       "      <td>1.0</td>\n",
       "      <td>3.0</td>\n",
       "      <td>0.0</td>\n",
       "      <td>5.0</td>\n",
       "      <td>0.0</td>\n",
       "      <td>0.0</td>\n",
       "      <td>0.0</td>\n",
       "    </tr>\n",
       "    <tr>\n",
       "      <th>365</th>\n",
       "      <td>Woodstock Town4</td>\n",
       "      <td>5907.0</td>\n",
       "      <td>3.0</td>\n",
       "      <td>0.0</td>\n",
       "      <td>1.0</td>\n",
       "      <td>0.0</td>\n",
       "      <td>2.0</td>\n",
       "      <td>0.0</td>\n",
       "      <td>43.0</td>\n",
       "      <td>14.0</td>\n",
       "      <td>29.0</td>\n",
       "      <td>0.0</td>\n",
       "      <td>0.0</td>\n",
       "    </tr>\n",
       "    <tr>\n",
       "      <th>366</th>\n",
       "      <td>Yonkers4</td>\n",
       "      <td>200624.0</td>\n",
       "      <td>974.0</td>\n",
       "      <td>3.0</td>\n",
       "      <td>33.0</td>\n",
       "      <td>0.0</td>\n",
       "      <td>358.0</td>\n",
       "      <td>580.0</td>\n",
       "      <td>2009.0</td>\n",
       "      <td>414.0</td>\n",
       "      <td>1395.0</td>\n",
       "      <td>200.0</td>\n",
       "      <td>15.0</td>\n",
       "    </tr>\n",
       "    <tr>\n",
       "      <th>367</th>\n",
       "      <td>Yorktown Town4</td>\n",
       "      <td>36989.0</td>\n",
       "      <td>13.0</td>\n",
       "      <td>0.0</td>\n",
       "      <td>0.0</td>\n",
       "      <td>0.0</td>\n",
       "      <td>0.0</td>\n",
       "      <td>13.0</td>\n",
       "      <td>209.0</td>\n",
       "      <td>24.0</td>\n",
       "      <td>182.0</td>\n",
       "      <td>3.0</td>\n",
       "      <td>0.0</td>\n",
       "    </tr>\n",
       "    <tr>\n",
       "      <th>368</th>\n",
       "      <td>Youngstown Village4</td>\n",
       "      <td>1896.0</td>\n",
       "      <td>0.0</td>\n",
       "      <td>0.0</td>\n",
       "      <td>0.0</td>\n",
       "      <td>0.0</td>\n",
       "      <td>0.0</td>\n",
       "      <td>0.0</td>\n",
       "      <td>1.0</td>\n",
       "      <td>0.0</td>\n",
       "      <td>1.0</td>\n",
       "      <td>0.0</td>\n",
       "      <td>0.0</td>\n",
       "    </tr>\n",
       "  </tbody>\n",
       "</table>\n",
       "</div>"
      ],
      "text/plain": [
       "                    city  population  violent_crime  murder  rape_revised  \\\n",
       "364    Woodbury Town4, 5     10739.0            4.0     0.0           0.0   \n",
       "365      Woodstock Town4      5907.0            3.0     0.0           1.0   \n",
       "366             Yonkers4    200624.0          974.0     3.0          33.0   \n",
       "367       Yorktown Town4     36989.0           13.0     0.0           0.0   \n",
       "368  Youngstown Village4      1896.0            0.0     0.0           0.0   \n",
       "\n",
       "     rape_legacy  robbery  agg_assault  property_crime  burglary  larceny  \\\n",
       "364          0.0      1.0          3.0             0.0       5.0      0.0   \n",
       "365          0.0      2.0          0.0            43.0      14.0     29.0   \n",
       "366          0.0    358.0        580.0          2009.0     414.0   1395.0   \n",
       "367          0.0      0.0         13.0           209.0      24.0    182.0   \n",
       "368          0.0      0.0          0.0             1.0       0.0      1.0   \n",
       "\n",
       "     motor_theft  arson  \n",
       "364          0.0    0.0  \n",
       "365          0.0    0.0  \n",
       "366        200.0   15.0  \n",
       "367          3.0    0.0  \n",
       "368          0.0    0.0  "
      ]
     },
     "execution_count": 118,
     "metadata": {},
     "output_type": "execute_result"
    }
   ],
   "source": [
    "df2 = pd.read_excel('Table_8_Offenses_Known_to_Law_Enforcement_by_New_York_by_City_2014.xls',skiprows=[0,1,2],header=1)\n",
    "df2.columns = ['city','population','violent_crime','murder','rape_revised','rape_legacy','robbery','agg_assault',\n",
    "                       'property_crime','burglary','larceny','motor_theft','arson']\n",
    "df2 = df2.drop(list(np.arange(369, 376)))\n",
    "df2 = df2.fillna(0)\n",
    "df2.tail()"
   ]
  },
  {
   "cell_type": "code",
   "execution_count": 120,
   "metadata": {},
   "outputs": [
    {
     "data": {
      "text/html": [
       "<div>\n",
       "<style scoped>\n",
       "    .dataframe tbody tr th:only-of-type {\n",
       "        vertical-align: middle;\n",
       "    }\n",
       "\n",
       "    .dataframe tbody tr th {\n",
       "        vertical-align: top;\n",
       "    }\n",
       "\n",
       "    .dataframe thead th {\n",
       "        text-align: right;\n",
       "    }\n",
       "</style>\n",
       "<table border=\"1\" class=\"dataframe\">\n",
       "  <thead>\n",
       "    <tr style=\"text-align: right;\">\n",
       "      <th></th>\n",
       "      <th>city</th>\n",
       "      <th>population</th>\n",
       "      <th>population_sq</th>\n",
       "      <th>murder</th>\n",
       "      <th>robbery</th>\n",
       "      <th>property_crime</th>\n",
       "    </tr>\n",
       "  </thead>\n",
       "  <tbody>\n",
       "    <tr>\n",
       "      <th>0</th>\n",
       "      <td>Adams Village</td>\n",
       "      <td>1851.0</td>\n",
       "      <td>3.426201e+06</td>\n",
       "      <td>0</td>\n",
       "      <td>0</td>\n",
       "      <td>11.0</td>\n",
       "    </tr>\n",
       "    <tr>\n",
       "      <th>1</th>\n",
       "      <td>Addison Town and Village</td>\n",
       "      <td>2568.0</td>\n",
       "      <td>6.594624e+06</td>\n",
       "      <td>0</td>\n",
       "      <td>1</td>\n",
       "      <td>49.0</td>\n",
       "    </tr>\n",
       "    <tr>\n",
       "      <th>2</th>\n",
       "      <td>Afton Village4</td>\n",
       "      <td>820.0</td>\n",
       "      <td>6.724000e+05</td>\n",
       "      <td>0</td>\n",
       "      <td>0</td>\n",
       "      <td>1.0</td>\n",
       "    </tr>\n",
       "    <tr>\n",
       "      <th>3</th>\n",
       "      <td>Akron Village</td>\n",
       "      <td>2842.0</td>\n",
       "      <td>8.076964e+06</td>\n",
       "      <td>0</td>\n",
       "      <td>0</td>\n",
       "      <td>17.0</td>\n",
       "    </tr>\n",
       "    <tr>\n",
       "      <th>4</th>\n",
       "      <td>Albany4</td>\n",
       "      <td>98595.0</td>\n",
       "      <td>9.720974e+09</td>\n",
       "      <td>1</td>\n",
       "      <td>1</td>\n",
       "      <td>3888.0</td>\n",
       "    </tr>\n",
       "  </tbody>\n",
       "</table>\n",
       "</div>"
      ],
      "text/plain": [
       "                       city  population  population_sq  murder  robbery  \\\n",
       "0             Adams Village      1851.0   3.426201e+06       0        0   \n",
       "1  Addison Town and Village      2568.0   6.594624e+06       0        1   \n",
       "2            Afton Village4       820.0   6.724000e+05       0        0   \n",
       "3             Akron Village      2842.0   8.076964e+06       0        0   \n",
       "4                   Albany4     98595.0   9.720974e+09       1        1   \n",
       "\n",
       "   property_crime  \n",
       "0            11.0  \n",
       "1            49.0  \n",
       "2             1.0  \n",
       "3            17.0  \n",
       "4          3888.0  "
      ]
     },
     "execution_count": 120,
     "metadata": {},
     "output_type": "execute_result"
    }
   ],
   "source": [
    "features2 = pd.DataFrame(df2[['city','population']])\n",
    "features2['population_sq'] = features2.population**2\n",
    "features2['murder'] = np.where(df2.murder>0,1,0)\n",
    "features2['robbery'] = np.where(df2.robbery>0,1,0)\n",
    "features2['property_crime'] = df2.property_crime\n",
    "features2.head()"
   ]
  },
  {
   "cell_type": "code",
   "execution_count": 121,
   "metadata": {},
   "outputs": [
    {
     "name": "stdout",
     "output_type": "stream",
     "text": [
      "With 20% Holdout: -0.8108885035465314\n",
      "Testing on Sample: 0.9959873955740507\n",
      "[ 7.80936931e-01  7.69079747e-01  3.41572105e-01  5.39245515e-01\n",
      "  4.92931128e-01 -1.48275628e-01 -4.01976775e+03  8.57241017e-01\n",
      "  8.91030225e-01 -1.80218273e+00]\n",
      "\n",
      "Coefficients: \n",
      " [[ 3.26700959e-02 -1.96220826e-09  1.76777833e+01 -1.13726991e+02]]\n",
      "\n",
      "Intercept: \n",
      " [-97.32201853]\n",
      "\n",
      "R-squared:\n",
      "0.9959873955740507\n"
     ]
    }
   ],
   "source": [
    "regr = linear_model.LinearRegression()\n",
    "Y = features2.property_crime.values.reshape(-1,1)\n",
    "X = features2[['population','population_sq','murder','robbery']]\n",
    "model = regr.fit(X, Y)\n",
    "\n",
    "X_train, X_test, y_train, y_test = train_test_split(X, Y, test_size=0.2, random_state=20)\n",
    "print('With 20% Holdout: ' + str(regr.fit(X_train, y_train).score(X_test, y_test)))\n",
    "print('Testing on Sample: ' + str(regr.fit(X, Y).score(X, Y)))\n",
    "print(cross_val_score(regr, X, Y, cv=10))\n",
    "\n",
    "print('\\nCoefficients: \\n', regr.coef_)\n",
    "print('\\nIntercept: \\n', regr.intercept_)\n",
    "print('\\nR-squared:')\n",
    "print(regr.score(X, Y))"
   ]
  },
  {
   "cell_type": "markdown",
   "metadata": {},
   "source": [
    "When tested on New York's property crime of 2014, it returned a very similar r-squared value of 99.6%."
   ]
  },
  {
   "cell_type": "code",
   "execution_count": 137,
   "metadata": {},
   "outputs": [
    {
     "data": {
      "text/html": [
       "<div>\n",
       "<style scoped>\n",
       "    .dataframe tbody tr th:only-of-type {\n",
       "        vertical-align: middle;\n",
       "    }\n",
       "\n",
       "    .dataframe tbody tr th {\n",
       "        vertical-align: top;\n",
       "    }\n",
       "\n",
       "    .dataframe thead th {\n",
       "        text-align: right;\n",
       "    }\n",
       "</style>\n",
       "<table border=\"1\" class=\"dataframe\">\n",
       "  <thead>\n",
       "    <tr style=\"text-align: right;\">\n",
       "      <th></th>\n",
       "      <th>city</th>\n",
       "      <th>population</th>\n",
       "      <th>violent_crime</th>\n",
       "      <th>murder</th>\n",
       "      <th>rape_legacy</th>\n",
       "      <th>robbery</th>\n",
       "      <th>agg_assault</th>\n",
       "      <th>property_crime</th>\n",
       "      <th>burglary</th>\n",
       "      <th>larceny</th>\n",
       "      <th>motor_theft</th>\n",
       "      <th>arson</th>\n",
       "    </tr>\n",
       "  </thead>\n",
       "  <tbody>\n",
       "    <tr>\n",
       "      <th>457</th>\n",
       "      <td>Yountville</td>\n",
       "      <td>2969.0</td>\n",
       "      <td>1.0</td>\n",
       "      <td>0.0</td>\n",
       "      <td>1.0</td>\n",
       "      <td>0.0</td>\n",
       "      <td>0.0</td>\n",
       "      <td>57.0</td>\n",
       "      <td>17.0</td>\n",
       "      <td>34.0</td>\n",
       "      <td>6.0</td>\n",
       "      <td>0.0</td>\n",
       "    </tr>\n",
       "    <tr>\n",
       "      <th>458</th>\n",
       "      <td>Yreka</td>\n",
       "      <td>7639.0</td>\n",
       "      <td>49.0</td>\n",
       "      <td>1.0</td>\n",
       "      <td>2.0</td>\n",
       "      <td>2.0</td>\n",
       "      <td>44.0</td>\n",
       "      <td>278.0</td>\n",
       "      <td>71.0</td>\n",
       "      <td>193.0</td>\n",
       "      <td>14.0</td>\n",
       "      <td>2.0</td>\n",
       "    </tr>\n",
       "    <tr>\n",
       "      <th>459</th>\n",
       "      <td>Yuba City</td>\n",
       "      <td>65133.0</td>\n",
       "      <td>174.0</td>\n",
       "      <td>2.0</td>\n",
       "      <td>15.0</td>\n",
       "      <td>39.0</td>\n",
       "      <td>118.0</td>\n",
       "      <td>1980.0</td>\n",
       "      <td>438.0</td>\n",
       "      <td>1210.0</td>\n",
       "      <td>332.0</td>\n",
       "      <td>16.0</td>\n",
       "    </tr>\n",
       "    <tr>\n",
       "      <th>460</th>\n",
       "      <td>Yucaipa</td>\n",
       "      <td>52524.0</td>\n",
       "      <td>107.0</td>\n",
       "      <td>0.0</td>\n",
       "      <td>7.0</td>\n",
       "      <td>31.0</td>\n",
       "      <td>69.0</td>\n",
       "      <td>926.0</td>\n",
       "      <td>262.0</td>\n",
       "      <td>534.0</td>\n",
       "      <td>130.0</td>\n",
       "      <td>13.0</td>\n",
       "    </tr>\n",
       "    <tr>\n",
       "      <th>461</th>\n",
       "      <td>Yucca Valley</td>\n",
       "      <td>21214.0</td>\n",
       "      <td>86.0</td>\n",
       "      <td>3.0</td>\n",
       "      <td>7.0</td>\n",
       "      <td>15.0</td>\n",
       "      <td>61.0</td>\n",
       "      <td>429.0</td>\n",
       "      <td>141.0</td>\n",
       "      <td>234.0</td>\n",
       "      <td>54.0</td>\n",
       "      <td>2.0</td>\n",
       "    </tr>\n",
       "  </tbody>\n",
       "</table>\n",
       "</div>"
      ],
      "text/plain": [
       "             city  population  violent_crime  murder  rape_legacy  robbery  \\\n",
       "457    Yountville      2969.0            1.0     0.0          1.0      0.0   \n",
       "458         Yreka      7639.0           49.0     1.0          2.0      2.0   \n",
       "459     Yuba City     65133.0          174.0     2.0         15.0     39.0   \n",
       "460       Yucaipa     52524.0          107.0     0.0          7.0     31.0   \n",
       "461  Yucca Valley     21214.0           86.0     3.0          7.0     15.0   \n",
       "\n",
       "     agg_assault  property_crime  burglary  larceny  motor_theft  arson  \n",
       "457          0.0            57.0      17.0     34.0          6.0    0.0  \n",
       "458         44.0           278.0      71.0    193.0         14.0    2.0  \n",
       "459        118.0          1980.0     438.0   1210.0        332.0   16.0  \n",
       "460         69.0           926.0     262.0    534.0        130.0   13.0  \n",
       "461         61.0           429.0     141.0    234.0         54.0    2.0  "
      ]
     },
     "execution_count": 137,
     "metadata": {},
     "output_type": "execute_result"
    }
   ],
   "source": [
    "df3 = pd.read_excel('table_8_offenses_known_to_law_enforcement_california_by_city_2013.xls',skiprows=[0,1,2],header=1)\n",
    "df3.columns = ['city','population','violent_crime','murder','rape_revised','rape_legacy','robbery','agg_assault',\n",
    "                       'property_crime','burglary','larceny','motor_theft','arson']\n",
    "df3 = df3.drop(list(np.arange(462, 464)))\n",
    "df3 = df3.drop('rape_revised', axis=1)\n",
    "df3.tail()"
   ]
  },
  {
   "cell_type": "code",
   "execution_count": 138,
   "metadata": {},
   "outputs": [
    {
     "data": {
      "text/plain": [
       "city              0\n",
       "population        0\n",
       "violent_crime     0\n",
       "murder            0\n",
       "rape_legacy       0\n",
       "robbery           0\n",
       "agg_assault       0\n",
       "property_crime    0\n",
       "burglary          0\n",
       "larceny           0\n",
       "motor_theft       0\n",
       "arson             0\n",
       "dtype: int64"
      ]
     },
     "execution_count": 138,
     "metadata": {},
     "output_type": "execute_result"
    }
   ],
   "source": [
    "df3.isnull().sum()"
   ]
  },
  {
   "cell_type": "code",
   "execution_count": 139,
   "metadata": {},
   "outputs": [
    {
     "data": {
      "text/html": [
       "<div>\n",
       "<style scoped>\n",
       "    .dataframe tbody tr th:only-of-type {\n",
       "        vertical-align: middle;\n",
       "    }\n",
       "\n",
       "    .dataframe tbody tr th {\n",
       "        vertical-align: top;\n",
       "    }\n",
       "\n",
       "    .dataframe thead th {\n",
       "        text-align: right;\n",
       "    }\n",
       "</style>\n",
       "<table border=\"1\" class=\"dataframe\">\n",
       "  <thead>\n",
       "    <tr style=\"text-align: right;\">\n",
       "      <th></th>\n",
       "      <th>city</th>\n",
       "      <th>population</th>\n",
       "      <th>population_sq</th>\n",
       "      <th>murder</th>\n",
       "      <th>robbery</th>\n",
       "      <th>property_crime</th>\n",
       "    </tr>\n",
       "  </thead>\n",
       "  <tbody>\n",
       "    <tr>\n",
       "      <th>0</th>\n",
       "      <td>Adelanto</td>\n",
       "      <td>31165.0</td>\n",
       "      <td>9.712572e+08</td>\n",
       "      <td>1</td>\n",
       "      <td>1</td>\n",
       "      <td>886.0</td>\n",
       "    </tr>\n",
       "    <tr>\n",
       "      <th>1</th>\n",
       "      <td>Agoura Hills</td>\n",
       "      <td>20762.0</td>\n",
       "      <td>4.310606e+08</td>\n",
       "      <td>0</td>\n",
       "      <td>1</td>\n",
       "      <td>306.0</td>\n",
       "    </tr>\n",
       "    <tr>\n",
       "      <th>2</th>\n",
       "      <td>Alameda</td>\n",
       "      <td>76206.0</td>\n",
       "      <td>5.807354e+09</td>\n",
       "      <td>0</td>\n",
       "      <td>1</td>\n",
       "      <td>1902.0</td>\n",
       "    </tr>\n",
       "    <tr>\n",
       "      <th>3</th>\n",
       "      <td>Albany</td>\n",
       "      <td>19104.0</td>\n",
       "      <td>3.649628e+08</td>\n",
       "      <td>0</td>\n",
       "      <td>1</td>\n",
       "      <td>557.0</td>\n",
       "    </tr>\n",
       "    <tr>\n",
       "      <th>4</th>\n",
       "      <td>Alhambra</td>\n",
       "      <td>84710.0</td>\n",
       "      <td>7.175784e+09</td>\n",
       "      <td>1</td>\n",
       "      <td>1</td>\n",
       "      <td>1774.0</td>\n",
       "    </tr>\n",
       "  </tbody>\n",
       "</table>\n",
       "</div>"
      ],
      "text/plain": [
       "           city  population  population_sq  murder  robbery  property_crime\n",
       "0      Adelanto     31165.0   9.712572e+08       1        1           886.0\n",
       "1  Agoura Hills     20762.0   4.310606e+08       0        1           306.0\n",
       "2       Alameda     76206.0   5.807354e+09       0        1          1902.0\n",
       "3        Albany     19104.0   3.649628e+08       0        1           557.0\n",
       "4      Alhambra     84710.0   7.175784e+09       1        1          1774.0"
      ]
     },
     "execution_count": 139,
     "metadata": {},
     "output_type": "execute_result"
    }
   ],
   "source": [
    "features3 = pd.DataFrame(df3[['city','population']])\n",
    "features3['population_sq'] = features3.population**2\n",
    "features3['murder'] = np.where(df3.murder>0,1,0)\n",
    "features3['robbery'] = np.where(df3.robbery>0,1,0)\n",
    "features3['property_crime'] = df3.property_crime\n",
    "features3.head()"
   ]
  },
  {
   "cell_type": "code",
   "execution_count": 142,
   "metadata": {},
   "outputs": [
    {
     "name": "stdout",
     "output_type": "stream",
     "text": [
      "With 20% Holdout: 0.8248292250247196\n",
      "Testing on Sample: 0.9177587802000594\n",
      "[0.89153712 0.67164932 0.51430019 0.85977255 0.76738625 0.64933063\n",
      " 0.72916232 0.8337693  0.65274753 0.8108551 ]\n",
      "\n",
      "Coefficients: \n",
      " [[ 3.52407586e-02 -3.37581716e-09 -2.55950826e+01 -2.74245713e+02]]\n",
      "\n",
      "Intercept: \n",
      " [-109.02048275]\n",
      "\n",
      "R-squared:\n",
      "0.9177587802000594\n"
     ]
    }
   ],
   "source": [
    "Y = features3.property_crime.values.reshape(-1,1)\n",
    "X = features3[['population','population_sq','murder','robbery']]\n",
    "model = regr.fit(X, Y)\n",
    "\n",
    "X_train, X_test, y_train, y_test = train_test_split(X, Y, test_size=0.2, random_state=20)\n",
    "print('With 20% Holdout: ' + str(regr.fit(X_train, y_train).score(X_test, y_test)))\n",
    "print('Testing on Sample: ' + str(regr.fit(X, Y).score(X, Y)))\n",
    "print(cross_val_score(regr, X, Y, cv=10))\n",
    "\n",
    "print('\\nCoefficients: \\n', regr.coef_)\n",
    "print('\\nIntercept: \\n', regr.intercept_)\n",
    "print('\\nR-squared:')\n",
    "print(regr.score(X, Y))"
   ]
  },
  {
   "cell_type": "markdown",
   "metadata": {},
   "source": [
    "However, when tested on California's property crime of 2013, it returned a lower r-squared value of 91.8%."
   ]
  },
  {
   "cell_type": "markdown",
   "metadata": {},
   "source": [
    "### Step 3: Revising and Testing New Model on Both Datasets\n",
    "#### Assessing Model with Holdout Groups"
   ]
  },
  {
   "cell_type": "markdown",
   "metadata": {},
   "source": [
    "In order to revise the dataset, first we will see how we can increase the r-squared value in the third dataset of California. From there, we will test the new model back on New York's dataset to see if it compromised on its r-squared value."
   ]
  },
  {
   "cell_type": "code",
   "execution_count": 149,
   "metadata": {},
   "outputs": [
    {
     "data": {
      "text/plain": [
       "<matplotlib.axes._subplots.AxesSubplot at 0x16f0e850>"
      ]
     },
     "execution_count": 149,
     "metadata": {},
     "output_type": "execute_result"
    },
    {
     "data": {
      "image/png": "[encoded data removed]",
      "text/plain": [
       "<Figure size 576x360 with 2 Axes>"
      ]
     },
     "metadata": {
      "needs_background": "light"
     },
     "output_type": "display_data"
    }
   ],
   "source": [
    "plt.figure(figsize=(8,5))\n",
    "sns.heatmap(df3.corr(),annot=True)"
   ]
  },
  {
   "cell_type": "code",
   "execution_count": 150,
   "metadata": {},
   "outputs": [
    {
     "data": {
      "text/plain": [
       "<matplotlib.collections.PathCollection at 0x177d0ad0>"
      ]
     },
     "execution_count": 150,
     "metadata": {},
     "output_type": "execute_result"
    },
    {
     "data": {
      "image/png": "[encoded data removed]",
      "text/plain": [
       "<Figure size 432x288 with 1 Axes>"
      ]
     },
     "metadata": {
      "needs_background": "light"
     },
     "output_type": "display_data"
    }
   ],
   "source": [
    "plt.scatter(df3.property_crime, df3.violent_crime)"
   ]
  },
  {
   "cell_type": "code",
   "execution_count": 151,
   "metadata": {},
   "outputs": [],
   "source": [
    "features3['violent_crime'] = df3.violent_crime"
   ]
  },
  {
   "cell_type": "code",
   "execution_count": 152,
   "metadata": {},
   "outputs": [
    {
     "name": "stdout",
     "output_type": "stream",
     "text": [
      "With 20% Holdout: 0.9066753311053807\n",
      "Testing on Sample: 0.9704001955562817\n",
      "[0.91781057 0.75841299 0.80546152 0.91416669 0.89638558 0.96426274\n",
      " 0.545397   0.92626491 0.91453287 0.9133228 ]\n",
      "\n",
      "Coefficients: \n",
      " [[ 1.82238878e-02 -2.53427378e-09 -8.21075863e+01 -4.39908674e+01\n",
      "   3.22776943e+00]]\n",
      "\n",
      "Intercept: \n",
      " [-39.06183533]\n",
      "\n",
      "R-squared:\n",
      "0.9704001955562817\n"
     ]
    }
   ],
   "source": [
    "Y = features3.property_crime.values.reshape(-1,1)\n",
    "X = features3[['population','population_sq','murder','robbery','violent_crime']]\n",
    "model = regr.fit(X, Y)\n",
    "\n",
    "X_train, X_test, y_train, y_test = train_test_split(X, Y, test_size=0.2, random_state=20)\n",
    "print('With 20% Holdout: ' + str(regr.fit(X_train, y_train).score(X_test, y_test)))\n",
    "print('Testing on Sample: ' + str(regr.fit(X, Y).score(X, Y)))\n",
    "print(cross_val_score(regr, X, Y, cv=10))\n",
    "\n",
    "print('\\nCoefficients: \\n', regr.coef_)\n",
    "print('\\nIntercept: \\n', regr.intercept_)\n",
    "print('\\nR-squared:')\n",
    "print(regr.score(X, Y))"
   ]
  },
  {
   "cell_type": "markdown",
   "metadata": {},
   "source": [
    "By adding the new continuous feature of violent crime, there was a considerable increase in the r-squared value. Let's see if this addition carries over for New York's datasets."
   ]
  },
  {
   "cell_type": "code",
   "execution_count": 154,
   "metadata": {},
   "outputs": [
    {
     "name": "stdout",
     "output_type": "stream",
     "text": [
      "With 20% Holdout: -1220.051903495076\n",
      "Testing on Sample: 0.9987036640607805\n",
      "[ 9.33057808e-01  9.73507483e-01  6.87276899e-01  8.02301873e-01\n",
      "  5.66707826e-01  3.35789385e-01 -1.29349503e+03  9.60369172e-01\n",
      "  9.55509835e-01  1.55393746e-02]\n",
      "\n",
      "Coefficients: \n",
      " [[ 1.17461147e-02 -1.62871009e-09 -9.51638349e+00  9.92402288e+01\n",
      "   3.01785680e+00]]\n",
      "\n",
      "Intercept: \n",
      " [-12.79432495]\n",
      "\n",
      "R-squared:\n",
      "0.9987036640607805\n"
     ]
    }
   ],
   "source": [
    "features['violent_crime'] = df.violent_crime\n",
    "\n",
    "Y = features.property_crime.values.reshape(-1,1)\n",
    "X = features[['population','population_sq','murder','robbery','violent_crime']]\n",
    "model = regr.fit(X, Y)\n",
    "\n",
    "X_train, X_test, y_train, y_test = train_test_split(X, Y, test_size=0.2, random_state=20)\n",
    "print('With 20% Holdout: ' + str(regr.fit(X_train, y_train).score(X_test, y_test)))\n",
    "print('Testing on Sample: ' + str(regr.fit(X, Y).score(X, Y)))\n",
    "print(cross_val_score(regr, X, Y, cv=10))\n",
    "\n",
    "print('\\nCoefficients: \\n', regr.coef_)\n",
    "print('\\nIntercept: \\n', regr.intercept_)\n",
    "print('\\nR-squared:')\n",
    "print(regr.score(X, Y))"
   ]
  },
  {
   "cell_type": "markdown",
   "metadata": {},
   "source": [
    "While adding any extra feature should increase the r-squared value, it is notable that the coefficient for the new feature 'violent_crime' (3.01785680e+00) shows that it is still a valuable addition for the multilinear regression model."
   ]
  },
  {
   "cell_type": "markdown",
   "metadata": {},
   "source": [
    "#### Assessing Model with Cross-Validation"
   ]
  },
  {
   "cell_type": "code",
   "execution_count": 188,
   "metadata": {},
   "outputs": [
    {
     "name": "stdout",
     "output_type": "stream",
     "text": [
      "(278, 5) (278,)\n",
      "(70, 5) (70,)\n"
     ]
    }
   ],
   "source": [
    "# create training and testing vars\n",
    "Y = features.property_crime\n",
    "X = features[['population','population_sq','murder','robbery','violent_crime']]\n",
    "\n",
    "X_train, X_test, y_train, y_test = train_test_split(X, Y, test_size=0.2)\n",
    "print (X_train.shape, y_train.shape)\n",
    "print (X_test.shape, y_test.shape)"
   ]
  },
  {
   "cell_type": "code",
   "execution_count": 189,
   "metadata": {},
   "outputs": [
    {
     "data": {
      "text/plain": [
       "Text(0, 0.5, 'Predictions')"
      ]
     },
     "execution_count": 189,
     "metadata": {},
     "output_type": "execute_result"
    },
    {
     "data": {
      "image/png": "[encoded data removed]",
      "text/plain": [
       "<Figure size 432x288 with 1 Axes>"
      ]
     },
     "metadata": {
      "needs_background": "light"
     },
     "output_type": "display_data"
    }
   ],
   "source": [
    "lm = linear_model.LinearRegression()\n",
    "model = lm.fit(X_train, y_train)\n",
    "predictions = lm.predict(X_test)\n",
    "\n",
    "plt.scatter(y_test, predictions)\n",
    "plt.xlabel('True Values')\n",
    "plt.ylabel('Predictions')"
   ]
  },
  {
   "cell_type": "code",
   "execution_count": 190,
   "metadata": {},
   "outputs": [
    {
     "name": "stdout",
     "output_type": "stream",
     "text": [
      "Score: -1208.3088593202772\n"
     ]
    }
   ],
   "source": [
    "print ('Score:', model.score(X_test, y_test))"
   ]
  },
  {
   "cell_type": "code",
   "execution_count": 191,
   "metadata": {},
   "outputs": [
    {
     "name": "stdout",
     "output_type": "stream",
     "text": [
      "Cross-validated scores: [ 9.73933075e-01  7.46245396e-01  7.07422364e-01 -2.48684391e+03\n",
      "  9.58766905e-01  7.17233463e-01]\n"
     ]
    }
   ],
   "source": [
    "# Perform 6-fold cross validation\n",
    "scores = cross_val_score(model, X, Y, cv=6)\n",
    "print ('Cross-validated scores:', scores)"
   ]
  },
  {
   "cell_type": "code",
   "execution_count": 192,
   "metadata": {},
   "outputs": [
    {
     "data": {
      "text/plain": [
       "<matplotlib.collections.PathCollection at 0x162ba4f0>"
      ]
     },
     "execution_count": 192,
     "metadata": {},
     "output_type": "execute_result"
    },
    {
     "data": {
      "image/png": "[encoded data removed]",
      "text/plain": [
       "<Figure size 432x288 with 1 Axes>"
      ]
     },
     "metadata": {
      "needs_background": "light"
     },
     "output_type": "display_data"
    }
   ],
   "source": [
    "# Make cross validated predictions\n",
    "from sklearn.model_selection import cross_val_predict\n",
    "\n",
    "predictions = cross_val_predict(model, X, Y, cv=6)\n",
    "plt.scatter(Y, predictions)"
   ]
  },
  {
   "cell_type": "code",
   "execution_count": 193,
   "metadata": {},
   "outputs": [
    {
     "name": "stdout",
     "output_type": "stream",
     "text": [
      "Cross-Predicted Accuracy: -2410.2644256977123\n"
     ]
    }
   ],
   "source": [
    "from sklearn import metrics\n",
    "\n",
    "accuracy = metrics.r2_score(Y, predictions)\n",
    "print ('Cross-Predicted Accuracy:', accuracy)"
   ]
  }
 ],
 "metadata": {
  "kernelspec": {
   "display_name": "Python 3",
   "language": "python",
   "name": "python3"
  },
  "language_info": {
   "codemirror_mode": {
    "name": "ipython",
    "version": 3
   },
   "file_extension": ".py",
   "mimetype": "text/x-python",
   "name": "python",
   "nbconvert_exporter": "python",
   "pygments_lexer": "ipython3",
   "version": "3.7.2"
  }
 },
 "nbformat": 4,
 "nbformat_minor": 2
}
