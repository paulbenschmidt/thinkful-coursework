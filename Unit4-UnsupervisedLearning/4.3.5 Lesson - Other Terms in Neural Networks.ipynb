{
 "cells": [
  {
   "cell_type": "markdown",
   "metadata": {},
   "source": [
    "# Other terms in neural networks\n",
    "Before we move on there are a few other terms we need to introduce, just so you're familiar with the 'lingo' the 'kids' are using these days.\n",
    "\n",
    "## Recursive neural networks\n",
    "So far when we've talked about neural networks, we've only really referred to them in a feedforward context. *Feedforward* means there is a clear directionality or flow to the network. Things have started at the beginning, moved in one direction, and proceed to the end. That doesn't have to be the case, though.\n",
    "\n",
    "Data can run through nodes or neurons more than once. These kinds of networks are called *recursive neural networks*. RNN can be extremely useful for drawing out more complex relationships.\n",
    "\n",
    "## Convolutional neural networks\n",
    "If you start working with neural networks, you'll also probably hear about convolutional neural networks. So far we've talked about these neurons linking together in a grid-like structure. If you've read through the additional texts then you know that the grid-like structure can be represented using matrices.\n",
    "\n",
    "Typically the relationship between layers is (relatively) simple matrix multiplication. However the link can involve another level of complexity by linking those matrices via linear equations, called *convolutions*. Now, these linear transformations are specialized and can have huge effects on the network that you create, but to get into the way we decide these you need much deeper understanding of linear algebra and neural networks than is within the scope of this course.\n",
    "\n",
    "## Deep learning\n",
    "Another buzzword running around neural networks and unsupervised learning is *deep learning*. It sounds terribly exciting and if you look at a lot of the literature around data science it could seem like deep learning is the magical solution to everything.\n",
    "\n",
    "But deep learning isn't magical. In fact, you already know what deep learning is. It's just a neural network with *several hidden layers*. There's no explicit cutoff to when something has enough layers to qualify as \"deep\" learning. A big downside of deep learning is that the additional complexity can add to runtime and make the model even more of a black box and more difficult to understand what's going on inside.\n",
    "\n",
    "## Reinforcement learning\n",
    "Lastly, we should give a quick mention to reinforcement learning. Reinforcement learning is occasionally grouped within supervised learning but more and more it's becoming its own discipline.\n",
    "\n",
    "*Reinforcement learning* is an incredibly useful and exciting form of data science, where a model gets feedback from its environment or system. The model tries potential actions at random, and then sees what kind of feedback it receives. In the end it learns a way to operate through a series of events that generates the most positive feedback.\n",
    "\n",
    "This kind of learning is used for anything from automatically playing a video game (walking into red shells = bad) to learning how to drive a car (crashing into walls = bad). It is a fascinating field and many of the underlying tools are covered in this lesson and this unit as a whole. However, in general it requires a different kind of data than is readily available and a more significant engineering background in order to properly link that feedback loop up than the scope of this course allows."
   ]
  }
 ],
 "metadata": {
  "kernelspec": {
   "display_name": "Python 3",
   "language": "python",
   "name": "python3"
  },
  "language_info": {
   "codemirror_mode": {
    "name": "ipython",
    "version": 3
   },
   "file_extension": ".py",
   "mimetype": "text/x-python",
   "name": "python",
   "nbconvert_exporter": "python",
   "pygments_lexer": "ipython3",
   "version": "3.7.3"
  }
 },
 "nbformat": 4,
 "nbformat_minor": 2
}
