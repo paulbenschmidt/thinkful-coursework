{
 "cells": [
  {
   "cell_type": "markdown",
   "metadata": {},
   "source": [
    "# Drill: Unsupervised or supervised?\n",
    "For each of these scenarios decide if you could use supervised or unsupervised techniques, or both!\n",
    "\n",
    "1. Define the likelihood that an individual will contract a specific disease\n",
    "    - Considering that the likelihood is the target variable, some sort of tagged dataset would be required (making this project supervised learning). I'm not sure of any way someone could approach this as an unsupervised task with the same level of accuracy as supervised learning.\n",
    "2. Translate a set of images into variables for modeling\n",
    "    - Since the variables of the set of images are unknown prior to the start of the experiment, this would be unsupervised learning. Specifically: \"Unsupervised neural networks have become an important technique, particularly in things like image recognition where it can be effective in discovering latent variables which are impactful but not explicitly defined in the initial dataset\" (from 4.1.1).\n",
    "3. An ecommerce company wants to identify power users\n",
    "    - Both approaches would work. If power users have already been identified and the company wants to identify more, the supervised approach would be in order. If power users were not yet defined, then one could use unsupervised learning to define who the power users are (unsupervised clustering).\n",
    "4. That same company wants to see shopping patterns in users\n",
    "    - Unsupervised learning. Since the patterns have not yet been defined, the unsupervised approach would be tasked with discovering these patterns that are not explicitly mentioned. Moreover, patterns may or may not exist - but you cannot find out unless you explore with unsupervised learning.\n",
    "5. You want to reduce the number of variables inputting into your random forest model\n",
    "    - Supervised learning. Since the outcome is defined (having a reduced set of variables), the data scientist simply has to whittle down his features until the accuracy is still above the minumum threshold with the smallest amount of features or the model has been made sufficiently computationally efficient.\n",
    "\n",
    "\n",
    "If any of these scenarios are unclear feel free to follow up with your mentor.\n",
    "\n"
   ]
  }
 ],
 "metadata": {
  "kernelspec": {
   "display_name": "Python 3",
   "language": "python",
   "name": "python3"
  },
  "language_info": {
   "codemirror_mode": {
    "name": "ipython",
    "version": 3
   },
   "file_extension": ".py",
   "mimetype": "text/x-python",
   "name": "python",
   "nbconvert_exporter": "python",
   "pygments_lexer": "ipython3",
   "version": "3.7.3"
  }
 },
 "nbformat": 4,
 "nbformat_minor": 2
}
