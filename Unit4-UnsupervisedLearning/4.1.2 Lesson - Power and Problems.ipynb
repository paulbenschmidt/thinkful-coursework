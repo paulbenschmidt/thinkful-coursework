{
 "cells": [
  {
   "cell_type": "markdown",
   "metadata": {},
   "source": [
    "# Power and problems\n",
    "As we already mentioned, unsupervised learning can work in a myriad of contexts some of which operate on their own and others which are great for working in concert with other approaches (like how PCA is a great first step to building a supervised model).\n",
    "\n",
    "## Evaluation\n",
    "This is not without challenges, however. Probably the biggest difficulty in unsupervised learning is evaluation. Since there is no outcome variable, defining the accuracy of the model isn't really possible, since you have nothing to evaluate against. There are some approaches for dealing with this.\n",
    "\n",
    "Firstly, you can look at the volatility of your model. If it stays reasonably stable to slight perturbations or the exclusion or addition of some data this is a relatively good thing.\n",
    "\n",
    "Unsupervised learning also often has to simply be tested. If you're trying to create clusters, test what you intended to do with those clusters and see if it works as you'd hoped. Instead of working on this specific step in the data pipeline, you evaluate how later steps perform and tweak the unsupervised step to see how it affects performance.\n",
    "\n",
    "The truth remains, however, that many of these models have no absolute form of evaluation. It can be extremely hard to say whether an unsupervised model is a 'good' or 'bad' model.\n",
    "\n",
    "## Complexity\n",
    "With the challenge of evaluation comes another: complexity. Since these models are hard to evaluate it is also often difficult to decide on a stopping condition. This leads to models that can get increasingly more complex and therefore more resource consuming to run. This is particularly true of neural networks, something we'll talk about in greater detail later.\n",
    "\n",
    "This can be addressed through imposing some of your own limitations or keeping some of the structures simple, but it is definitely still a risk in this class of models.\n",
    "\n",
    "There is also significant research, particularly in neural networks, that shows the advantages of some of the more complex models. Their performance can be quite strong."
   ]
  }
 ],
 "metadata": {
  "kernelspec": {
   "display_name": "Python 3",
   "language": "python",
   "name": "python3"
  },
  "language_info": {
   "codemirror_mode": {
    "name": "ipython",
    "version": 3
   },
   "file_extension": ".py",
   "mimetype": "text/x-python",
   "name": "python",
   "nbconvert_exporter": "python",
   "pygments_lexer": "ipython3",
   "version": "3.7.3"
  }
 },
 "nbformat": 4,
 "nbformat_minor": 2
}
