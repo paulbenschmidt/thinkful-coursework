{
 "cells": [
  {
   "cell_type": "markdown",
   "metadata": {},
   "source": [
    "# Why we do this\n",
    "In the past two units we showed a good range of what can be done with supervised learning techniques. But to use a supervised technique you have to have a lot of information about your process and understand some aspects of it pretty well. You have to have some kind of outcome you're interested in, specifically one you can observe and record.\n",
    "\n",
    "But that isn't always the case, and it isn't always what you're interested in. Enter: unsupervised learning.\n",
    "\n",
    "## Unsupervised Learning\n",
    "So, you have no outcome variable. Maybe you can't actually observe what you're interested in. Maybe it just isn't that kind of problem. But there's no outcome variable. Then you don't really have a training set the way we've thought about them before. Time to pack up and go home, right?\n",
    "\n",
    "Wrong.\n",
    "\n",
    "Unsupervised learning looks through the data you do have, a series of independent variables that make up your observed (or observable) data, and allows you to do something with it or say something about it. What can you do or say? Many different things. It depends on what kind of unsupervised model you want to build.\n",
    "\n",
    "## Clustering\n",
    "Clustering models are probably the simplest to logically grasp. Let's say you have a bunch of variables that you've observed as part of a process that you're studying. A clustering algorithm will go over that set of variables and say, \"I think these are groups of related observations.\"\n",
    "\n",
    "That can happen in two ways. Typically you tell it how many groups, or clusters, the algorithm is allowed to generate, and the algorithm goes over the data creating the groups that minimize some cost function. More rarely the algorithm can find the number of groups on its own.\n",
    "\n",
    "## Variable Importance\n",
    "You've actually already worked on variable importance in this course. PCA is an unsupervised technique for finding out which variables tend to be most influential in your dataset. There are plenty of other techniques in this space, but we'll leave you with PCA for this course.\n",
    "\n",
    "## Neural Networks\n",
    "Lastly come neural networks. Neural networks get their own lesson later in this course, but they can function as either a supervised or unsupervised technique. Unsupervised neural networks have become an important technique, particularly in things like image recognition where it can be effective in discovering **latent variables** which are impactful but not explicitly defined in the initial dataset.\n",
    "\n",
    "This brief overview of techniques gives a sense of what unsupervised techniques can accomplish, but we'll dive in deeper as we introduce specific techniques throughout the unit. There are many topics we won't cover in this course. You can refer to this [text]('https://medium.com/intuitionmachine/navigating-the-unsupervised-learning-landscape-951bd5842df9') for a brief introduction to other techniques and this [one]('http://www.inf.ed.ac.uk/teaching/courses/pmr/docs/ul.pdf') for a more in depth and technical survey. Unsupervised learning is a deep and evolving field of which we're only barely able to scratch the surface."
   ]
  }
 ],
 "metadata": {
  "kernelspec": {
   "display_name": "Python 3",
   "language": "python",
   "name": "python3"
  },
  "language_info": {
   "codemirror_mode": {
    "name": "ipython",
    "version": 3
   },
   "file_extension": ".py",
   "mimetype": "text/x-python",
   "name": "python",
   "nbconvert_exporter": "python",
   "pygments_lexer": "ipython3",
   "version": "3.7.3"
  }
 },
 "nbformat": 4,
 "nbformat_minor": 2
}
