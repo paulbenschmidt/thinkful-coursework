{
 "cells": [
  {
   "cell_type": "markdown",
   "metadata": {},
   "source": [
    "# What is a cluster?\n",
    "Human beings like to organize things into groups. It's universally acknowledged truth. In data analysis, we may divide things by city of origin, or gender, or create age groups, among others. These are examples of manual clustering, where we define the bounds (the criteria that separate groups) ourselves.\n",
    "\n",
    "When it comes to dealing with more than one variable at a time, however, it is easier to let an algorithm organize data points with similar characteristics into groups. Some algorithms use _hard clustering_, where each data point is assigned to only one cluster; others use _soft clustering_, where each data point is assigned a degree of membership for every cluster. We will mostly review hard clustering options here. Either way, an algorithmic cluster is a set of data points that have been determined to be more similar to one another than to other data points. The way that similarity is determined is what differentiates the various clustering methods.\n",
    "\n",
    "Clustering is useful as a method of generating features for a model, as well as a way of learning more about associations between data points. However, there are also some caveats: First, it is important to normalize data before clustering them, so that all variables have equal potential impact on the clustering algorithm. And second, just because an algorithm can find a certain number of clusters doesn't mean those clusters are meaningful. If the number of clusters we request is too large, or the algorithm grabs too many clusters, groups will start to split on trivial differences, leading to overfitting. If there are too few clusters, we won't get much information from them, and real differences between data points can be obscured.\n",
    "\n",
    "We can also cluster hierarchically, where lower-level clusters are formed and then grouped into higher-level clusters. This can be useful if we are interested in subdivisions within a larger cluster. For example, imagine we have four clusters: young men, young women, older men, and older women. If all we have are those four clusters, we don't really know whether the young men are more similar to the young women, or to the older men. To find this out, we could do hierarchical clustering, where we first have the four lower-level clusters, but then we also add two high-level clusters (men vs women, or young vs old) that would show us which lower-level clusters have more in common.\n",
    "\n",
    "Now let's get to clustering!"
   ]
  }
 ],
 "metadata": {
  "kernelspec": {
   "display_name": "Python 3",
   "language": "python",
   "name": "python3"
  },
  "language_info": {
   "codemirror_mode": {
    "name": "ipython",
    "version": 3
   },
   "file_extension": ".py",
   "mimetype": "text/x-python",
   "name": "python",
   "nbconvert_exporter": "python",
   "pygments_lexer": "ipython3",
   "version": "3.7.3"
  }
 },
 "nbformat": 4,
 "nbformat_minor": 2
}
