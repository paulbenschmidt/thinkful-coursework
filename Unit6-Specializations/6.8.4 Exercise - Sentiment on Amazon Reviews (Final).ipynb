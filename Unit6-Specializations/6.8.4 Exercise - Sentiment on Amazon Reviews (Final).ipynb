{
  "nbformat": 4,
  "nbformat_minor": 0,
  "metadata": {
    "colab": {
      "name": "6.8.4 Exercise - Sentiment on Amazon Reviews (Final).ipynb",
      "version": "0.3.2",
      "provenance": [],
      "collapsed_sections": []
    },
    "language_info": {
      "codemirror_mode": {
        "name": "ipython",
        "version": 3
      },
      "file_extension": ".py",
      "mimetype": "text/x-python",
      "name": "python",
      "nbconvert_exporter": "python",
      "pygments_lexer": "ipython3",
      "version": "3.7.0"
    },
    "kernelspec": {
      "name": "python3",
      "display_name": "Python 3"
    },
    "accelerator": "GPU"
  },
  "cells": [
    {
      "cell_type": "markdown",
      "metadata": {
        "id": "u2gTIFHpei8X",
        "colab_type": "text"
      },
      "source": [
        "# NLP Sentiment Analysis of Amazon Reviews\n"
      ]
    },
    {
      "cell_type": "code",
      "metadata": {
        "id": "ukxZRknYc0mq",
        "colab_type": "code",
        "colab": {}
      },
      "source": [
        "!apt-get install openjdk-8-jdk-headless -qq > /dev/null\n",
        "!wget -q https://www-us.apache.org/dist/spark/spark-2.4.3/spark-2.4.3-bin-hadoop2.7.tgz\n",
        "!tar xf spark-2.4.3-bin-hadoop2.7.tgz"
      ],
      "execution_count": 0,
      "outputs": []
    },
    {
      "cell_type": "code",
      "metadata": {
        "id": "Sn8wV9X8c3rA",
        "colab_type": "code",
        "outputId": "5d7f5289-9e56-4f3a-a79c-0a2c1d92b848",
        "colab": {
          "base_uri": "https://localhost:8080/",
          "height": 50
        }
      },
      "source": [
        "# Install spark-related dependencies for Python\n",
        "!pip install -q findspark\n",
        "!pip install pyspark"
      ],
      "execution_count": 2,
      "outputs": [
        {
          "output_type": "stream",
          "text": [
            "Requirement already satisfied: pyspark in /usr/local/lib/python3.6/dist-packages (2.4.3)\n",
            "Requirement already satisfied: py4j==0.10.7 in /usr/local/lib/python3.6/dist-packages (from pyspark) (0.10.7)\n"
          ],
          "name": "stdout"
        }
      ]
    },
    {
      "cell_type": "code",
      "metadata": {
        "id": "CrvXyAdrc4mD",
        "colab_type": "code",
        "colab": {}
      },
      "source": [
        "# Set up required environment variables\n",
        "import os\n",
        "os.environ[\"JAVA_HOME\"] = \"/usr/lib/jvm/java-8-openjdk-amd64\"\n",
        "os.environ[\"SPARK_HOME\"] = \"/content/spark-2.4.3-bin-hadoop2.7\""
      ],
      "execution_count": 0,
      "outputs": []
    },
    {
      "cell_type": "code",
      "metadata": {
        "id": "-m2IKfhsc7h7",
        "colab_type": "code",
        "outputId": "63786ce7-7a05-42ec-c56c-ad4d0c1bfec8",
        "colab": {
          "base_uri": "https://localhost:8080/",
          "height": 34
        }
      },
      "source": [
        "# Point Colaboratory to Google Drive\n",
        "from google.colab import drive\n",
        "drive.mount('/content/gdrive')"
      ],
      "execution_count": 4,
      "outputs": [
        {
          "output_type": "stream",
          "text": [
            "Drive already mounted at /content/gdrive; to attempt to forcibly remount, call drive.mount(\"/content/gdrive\", force_remount=True).\n"
          ],
          "name": "stdout"
        }
      ]
    },
    {
      "cell_type": "markdown",
      "metadata": {
        "id": "IthjpidXv3Gb",
        "colab_type": "text"
      },
      "source": [
        "For this exercise, let's go back to the sentiment analysis we did earlier in the course - specifically, the Amazon reviews dataset.\n",
        "\n",
        "It's important to start with a clear goal in mind. In this case, we'd like to determine if we can predict whether a review is positive or negative based on the language in the review.\n",
        "\n",
        "We're going to tackle this problem with Spark - so you'll need to apply the principles you've learned thus far in the context of Spark.\n",
        "\n",
        "Some tips to help you get started:\n",
        "\n",
        "1. Pyspark always needs to point at a running Spark instance. You can do that using a SparkContext.\n",
        "2. We're still working in batch mode, so you'll need to load an entire file into memory in order to run any models you build.\n",
        "3. Spark likes to execute models in a pipeline, so remember that when the time comes to set up your model.\n",
        "4. Spark's machine learning algorithms expect numeric variables."
      ]
    },
    {
      "cell_type": "code",
      "metadata": {
        "id": "lIOBCKZJwBga",
        "colab_type": "code",
        "colab": {}
      },
      "source": [
        "from pyspark import SparkContext\n",
        "from pyspark.sql import SparkSession, SQLContext\n",
        "\n",
        "from pyspark.sql.functions import UserDefinedFunction\n",
        "from pyspark.sql.types import IntegerType\n",
        "\n",
        "from pyspark.ml.feature import Tokenizer, Word2Vec\n",
        "\n",
        "# these imports are how we build and manager our data science processes: cleaning data, preparing a model,\n",
        "# executing the model, and evaluating the model.\n",
        "from pyspark.ml import Pipeline\n",
        "from pyspark.ml.classification import RandomForestClassifier\n",
        "from pyspark.ml.feature import IndexToString, StringIndexer, VectorIndexer, VectorAssembler\n",
        "from pyspark.ml.evaluation import MulticlassClassificationEvaluator\n",
        "from pyspark.mllib.evaluation import BinaryClassificationMetrics\n",
        "\n",
        "from matplotlib import pyplot as plt\n",
        "import numpy as np\n",
        "import functools\n",
        "%matplotlib inline"
      ],
      "execution_count": 0,
      "outputs": []
    },
    {
      "cell_type": "code",
      "metadata": {
        "id": "vsTfJOlZwE7G",
        "colab_type": "code",
        "colab": {}
      },
      "source": [
        "# we use a set of constants for clarity and simplicity in managing the notebook.\n",
        "# this allows you to refer back to this cell at any time if you need to either confirm or modify any of these values.\n",
        "\n",
        "DATA_NAME = \"/content/gdrive/My Drive/Colab Datasets/reviews_Health_and_Personal_Care_5.json.gz\"\n",
        "APP_NAME = \"Sentiment Analysis with Amazon Reviews Exercise\"\n",
        "SPARK_URL = \"local[*]\"\n",
        "RANDOM_SEED = 141107\n",
        "TRAINING_DATA_RATIO = 0.8\n",
        "RF_NUM_TREES = 10\n",
        "RF_MAX_DEPTH = 4\n",
        "RF_NUM_BINS = 32"
      ],
      "execution_count": 0,
      "outputs": []
    },
    {
      "cell_type": "markdown",
      "metadata": {
        "id": "njH6vP9mwLD4",
        "colab_type": "text"
      },
      "source": [
        "\n",
        "The first thing we always do is create a SparkContext, and then immediately afterward create a sqlContext to be able to load and manipulate an RDD/dataframe."
      ]
    },
    {
      "cell_type": "code",
      "metadata": {
        "id": "r-Qd2VTFwHzL",
        "colab_type": "code",
        "colab": {}
      },
      "source": [
        "sc = SparkSession.builder.appName(APP_NAME).master(SPARK_URL).getOrCreate()\n",
        "sqlContext = SQLContext(sc)"
      ],
      "execution_count": 0,
      "outputs": []
    },
    {
      "cell_type": "markdown",
      "metadata": {
        "id": "lGAV72awwewP",
        "colab_type": "text"
      },
      "source": [
        "\n",
        "Now that we've connected to Spark and have a sqlContext ready, it's time to load our data.\n",
        "\n",
        "We assume that you've already checked over some of the data, understand its type, and expected values/lengths before you get here.\n",
        "\n",
        "Luckily this is a simple exercise - this is a JSON file and all we need to do is load it into a dataframe."
      ]
    },
    {
      "cell_type": "code",
      "metadata": {
        "id": "s__0l3mhwMn2",
        "colab_type": "code",
        "colab": {}
      },
      "source": [
        "reviews = sqlContext.read.json(DATA_NAME)"
      ],
      "execution_count": 0,
      "outputs": []
    },
    {
      "cell_type": "markdown",
      "metadata": {
        "id": "h9e8A9akxJ81",
        "colab_type": "text"
      },
      "source": [
        "Let's check the shape of the dataset, and review the schema so we see what we're dealing with."
      ]
    },
    {
      "cell_type": "code",
      "metadata": {
        "id": "09AibPXKwjsF",
        "colab_type": "code",
        "outputId": "5b459e66-53fa-4b83-ebf2-d9bf0ee89232",
        "colab": {
          "base_uri": "https://localhost:8080/",
          "height": 34
        }
      },
      "source": [
        "print(f\"Dataset shape is {reviews.count():d} rows by {len(reviews.columns):d} columns.\")"
      ],
      "execution_count": 9,
      "outputs": [
        {
          "output_type": "stream",
          "text": [
            "Dataset shape is 346355 rows by 9 columns.\n"
          ],
          "name": "stdout"
        }
      ]
    },
    {
      "cell_type": "code",
      "metadata": {
        "id": "2vvv5JJ0xRpQ",
        "colab_type": "code",
        "outputId": "96512536-3cff-4e86-ad8c-ae5f6aea8830",
        "colab": {
          "base_uri": "https://localhost:8080/",
          "height": 218
        }
      },
      "source": [
        "reviews.printSchema()"
      ],
      "execution_count": 10,
      "outputs": [
        {
          "output_type": "stream",
          "text": [
            "root\n",
            " |-- asin: string (nullable = true)\n",
            " |-- helpful: array (nullable = true)\n",
            " |    |-- element: long (containsNull = true)\n",
            " |-- overall: double (nullable = true)\n",
            " |-- reviewText: string (nullable = true)\n",
            " |-- reviewTime: string (nullable = true)\n",
            " |-- reviewerID: string (nullable = true)\n",
            " |-- reviewerName: string (nullable = true)\n",
            " |-- summary: string (nullable = true)\n",
            " |-- unixReviewTime: long (nullable = true)\n",
            "\n"
          ],
          "name": "stdout"
        }
      ]
    },
    {
      "cell_type": "markdown",
      "metadata": {
        "id": "EgUeguxCdckJ",
        "colab_type": "text"
      },
      "source": [
        "\n",
        "Our schema shows that there is hope for our problem. Specifically, there are two columns that look interesting, and potentially a third:\n",
        "\n",
        "* overall: this looks like where we're keeping the starred review - on a scale of 1 to 5. We can make a decision on how we want to handle this in our model.\n",
        "* reviewText: This looks like it's the actual text of the review - we need to figure out from this whether or not it is positive or negative.\n",
        "* summary: This could also be helpful, but we need to understand what it is.\n",
        "\n",
        "Based on this cursory review of the dataset, we can see that we should be able to prepare this data such that we can use a classifier to model the sentiment (positive/negative) of the dataset.\n",
        "\n",
        "There are two data preparation steps we'll need to do before we run our model:\n",
        "\n",
        "1. Decide whether to recode our overall column into a more limited variable - either simply positive/negative or positive/neutral/negative\n",
        "2. Convert the text of each review into a numerical vector. Pyspark offers a number of methods to do this - we'll use Word2Vec\n",
        "\n",
        "----------------------------------\n",
        "\n",
        "\n",
        "Before we get going on our data preparation, let's take a look at the columns we mentioned above.\n",
        "\n",
        "To perform a SQL query on a dataframe, we need to create a `tempTable`."
      ]
    },
    {
      "cell_type": "code",
      "metadata": {
        "id": "TbaCWOYmxPIq",
        "colab_type": "code",
        "colab": {}
      },
      "source": [
        "reviews.registerTempTable('reviews')"
      ],
      "execution_count": 0,
      "outputs": []
    },
    {
      "cell_type": "code",
      "metadata": {
        "id": "a9G8YWpgd9YW",
        "colab_type": "code",
        "outputId": "364e4e4f-1920-4a01-c37b-73073971c6df",
        "colab": {
          "base_uri": "https://localhost:8080/",
          "height": 185
        }
      },
      "source": [
        "sqlContext.sql(\"select overall, count(overall) as reviewCount from reviews group by overall order by overall desc\").show()"
      ],
      "execution_count": 12,
      "outputs": [
        {
          "output_type": "stream",
          "text": [
            "+-------+-----------+\n",
            "|overall|reviewCount|\n",
            "+-------+-----------+\n",
            "|    5.0|     211633|\n",
            "|    4.0|      68168|\n",
            "|    3.0|      33254|\n",
            "|    2.0|      16754|\n",
            "|    1.0|      16546|\n",
            "+-------+-----------+\n",
            "\n"
          ],
          "name": "stdout"
        }
      ]
    },
    {
      "cell_type": "markdown",
      "metadata": {
        "id": "I0NuCjsbetE5",
        "colab_type": "text"
      },
      "source": [
        "\n",
        "We see that most of the reviews are 5-star - so we certainly should recode. For our purposes, we can get closer to a balanced dataset if we recode to >3 is positive, <= 3 is negative.\n",
        "\n",
        "It's a bit of a stretch but a decent first pass.\n",
        "\n",
        "(Later, if you want to improve your classifier's performance, you could apply a resampling method to help balance the dataset).\n",
        "\n",
        "Let's recode the overall score to positive or negative\n",
        "\n",
        "* Positive: overall > 3\n",
        "* Negative: overall <= 3\n",
        "\n",
        "The easiest path to recoding the data in this fashion is to create a new column, from a User Defined Function."
      ]
    },
    {
      "cell_type": "code",
      "metadata": {
        "id": "sQRbzOJneJo7",
        "colab_type": "code",
        "colab": {}
      },
      "source": [
        "udf = UserDefinedFunction(lambda x: 1 if x > 3.0 else -1, IntegerType())\n",
        "\n",
        "reviews = reviews.withColumn(\"overall_recode\",udf(reviews.overall))"
      ],
      "execution_count": 0,
      "outputs": []
    },
    {
      "cell_type": "markdown",
      "metadata": {
        "id": "3zVlxGHefG82",
        "colab_type": "text"
      },
      "source": [
        "This time let's just make a plot of the two labels - so we can see the imbalance."
      ]
    },
    {
      "cell_type": "code",
      "metadata": {
        "id": "eukD1wWNfEXo",
        "colab_type": "code",
        "outputId": "c5b77823-adda-4f23-c837-4f52e759a8ed",
        "colab": {
          "base_uri": "https://localhost:8080/",
          "height": 440
        }
      },
      "source": [
        "plt.rcParams['figure.figsize'] = (15, 6)\n",
        " \n",
        "statuses = reviews.groupBy('overall_recode').count().collect()\n",
        "\n",
        "categories = [i[0] for i in statuses]\n",
        "counts = [i[1] for i in statuses]\n",
        " \n",
        "ind = np.array(range(len(categories)))\n",
        "width = 0.35\n",
        "plt.bar(ind, counts, width=width, color='r')\n",
        " \n",
        "plt.ylabel('counts')\n",
        "plt.title('distribution')\n",
        "plt.xticks(ind + width/2., categories)"
      ],
      "execution_count": 14,
      "outputs": [
        {
          "output_type": "execute_result",
          "data": {
            "text/plain": [
              "([<matplotlib.axis.XTick at 0x7f26fed8eb38>,\n",
              "  <matplotlib.axis.XTick at 0x7f26fed8e4e0>],\n",
              " <a list of 2 Text xticklabel objects>)"
            ]
          },
          "metadata": {
            "tags": []
          },
          "execution_count": 14
        },
        {
          "output_type": "display_data",
          "data": {
            "image/png": "[encoded data removed]",
            "text/plain": [
              "<Figure size 1080x432 with 1 Axes>"
            ]
          },
          "metadata": {
            "tags": []
          }
        }
      ]
    },
    {
      "cell_type": "markdown",
      "metadata": {
        "id": "ClYfWUlZfcY6",
        "colab_type": "text"
      },
      "source": [
        "Now it's time to look at the text and encode it into vectors.\n",
        "\n",
        "First, let's take a look at the relevant columns."
      ]
    },
    {
      "cell_type": "code",
      "metadata": {
        "id": "8Jomsm0ofWmQ",
        "colab_type": "code",
        "outputId": "a3e2667d-1cd3-4052-8f06-a666e293f679",
        "colab": {
          "base_uri": "https://localhost:8080/",
          "height": 286
        }
      },
      "source": [
        "reviews.select(\"overall\", \"overall_recode\", \"summary\", \"reviewText\").show(10)"
      ],
      "execution_count": 15,
      "outputs": [
        {
          "output_type": "stream",
          "text": [
            "+-------+--------------+--------------------+--------------------+\n",
            "|overall|overall_recode|             summary|          reviewText|\n",
            "+-------+--------------+--------------------+--------------------+\n",
            "|    5.0|             1| Handy little gadget|This is a great l...|\n",
            "|    4.0|             1|Small & may need ...|I would recommend...|\n",
            "|    4.0|             1|Very good but not...|What I liked was ...|\n",
            "|    4.0|             1|great addition to...|Love the Great po...|\n",
            "|    5.0|             1|Very nice and con...|This is very nice...|\n",
            "|    5.0|             1|$9.99, pretty and...|The light comes o...|\n",
            "|    4.0|             1|Lightweight and e...|These are lightwe...|\n",
            "|    5.0|             1|Excellent Design ...|We bought one for...|\n",
            "|    3.0|            -1|                Okay|The screen of the...|\n",
            "|    4.0|             1|    Pocket magnifier|This pocket magni...|\n",
            "+-------+--------------+--------------------+--------------------+\n",
            "only showing top 10 rows\n",
            "\n"
          ],
          "name": "stdout"
        }
      ]
    },
    {
      "cell_type": "markdown",
      "metadata": {
        "id": "b8aiHDJPfmaT",
        "colab_type": "text"
      },
      "source": [
        "For the start of this exercise we'll use only the `reviewText` column; later we could even merge the `summary` and `reviewText` to see if it improves the performance of the classifier."
      ]
    },
    {
      "cell_type": "code",
      "metadata": {
        "id": "ezi9XhXyMGIX",
        "colab_type": "code",
        "colab": {}
      },
      "source": [
        "subsample = reviews.sample(False, 0.1, seed=0)"
      ],
      "execution_count": 0,
      "outputs": []
    },
    {
      "cell_type": "code",
      "metadata": {
        "id": "1Qnbsq9hOQse",
        "colab_type": "code",
        "colab": {
          "base_uri": "https://localhost:8080/",
          "height": 34
        },
        "outputId": "79bc462b-7a25-4668-92b0-d9fa796cadff"
      },
      "source": [
        "type(subsample)"
      ],
      "execution_count": 17,
      "outputs": [
        {
          "output_type": "execute_result",
          "data": {
            "text/plain": [
              "pyspark.sql.dataframe.DataFrame"
            ]
          },
          "metadata": {
            "tags": []
          },
          "execution_count": 17
        }
      ]
    },
    {
      "cell_type": "code",
      "metadata": {
        "id": "07gerQ0Vfhel",
        "colab_type": "code",
        "colab": {}
      },
      "source": [
        "tokenizer = Tokenizer(inputCol=\"reviewText\", outputCol=\"tokenized_text\").transform(subsample)"
      ],
      "execution_count": 0,
      "outputs": []
    },
    {
      "cell_type": "code",
      "metadata": {
        "id": "vVprytn63vo4",
        "colab_type": "code",
        "colab": {}
      },
      "source": [
        "word2Vec = Word2Vec(vectorSize=5, seed=42, inputCol=\"tokenized_text\", outputCol=\"w2v_vector\").setNumPartitions(4).fit(tokenizer)\n",
        "w2vdf=word2Vec.transform(tokenizer)"
      ],
      "execution_count": 0,
      "outputs": []
    },
    {
      "cell_type": "code",
      "metadata": {
        "id": "w2bWbXjafx-D",
        "colab_type": "code",
        "outputId": "f90d759c-92a6-48ab-88fa-2514286c92bd",
        "colab": {
          "base_uri": "https://localhost:8080/",
          "height": 286
        }
      },
      "source": [
        "w2vdf.printSchema()"
      ],
      "execution_count": 22,
      "outputs": [
        {
          "output_type": "stream",
          "text": [
            "root\n",
            " |-- asin: string (nullable = true)\n",
            " |-- helpful: array (nullable = true)\n",
            " |    |-- element: long (containsNull = true)\n",
            " |-- overall: double (nullable = true)\n",
            " |-- reviewText: string (nullable = true)\n",
            " |-- reviewTime: string (nullable = true)\n",
            " |-- reviewerID: string (nullable = true)\n",
            " |-- reviewerName: string (nullable = true)\n",
            " |-- summary: string (nullable = true)\n",
            " |-- unixReviewTime: long (nullable = true)\n",
            " |-- overall_recode: integer (nullable = true)\n",
            " |-- tokenized_text: array (nullable = true)\n",
            " |    |-- element: string (containsNull = true)\n",
            " |-- w2v_vector: vector (nullable = true)\n",
            "\n"
          ],
          "name": "stdout"
        }
      ]
    },
    {
      "cell_type": "code",
      "metadata": {
        "id": "BXGwsBdQ3U2N",
        "colab_type": "code",
        "colab": {
          "base_uri": "https://localhost:8080/",
          "height": 286
        },
        "outputId": "4453f922-54fc-4a60-f085-98b2b9dba26a"
      },
      "source": [
        "w2vdf.select(\"overall_recode\", \"reviewText\", \"tokenized_text\", \"w2v_vector\").show(10)"
      ],
      "execution_count": 23,
      "outputs": [
        {
          "output_type": "stream",
          "text": [
            "+--------------+--------------------+--------------------+--------------------+\n",
            "|overall_recode|          reviewText|      tokenized_text|          w2v_vector|\n",
            "+--------------+--------------------+--------------------+--------------------+\n",
            "|             1|purchased this fo...|[purchased, this,...|[0.31564160308667...|\n",
            "|             1|A very good magni...|[a, very, good, m...|[0.62682358654482...|\n",
            "|             1|Make no mistake t...|[make, no, mistak...|[0.38871746406305...|\n",
            "|             1|Being an extra la...|[being, an, extra...|[0.46334525697775...|\n",
            "|             1|I had a lot of tr...|[i, had, a, lot, ...|[0.71141420891790...|\n",
            "|             1|No issues, these ...|[no, issues,, the...|[0.55845348657138...|\n",
            "|            -1|I bought a pack o...|[i, bought, a, pa...|[0.18985471847545...|\n",
            "|            -1|The AAAs I have i...|[the, aaas, i, ha...|[0.37750841776895...|\n",
            "|            -1|I've had a set of...|[i've, had, a, se...|[0.29990114389068...|\n",
            "|             1|Love them . . . T...|[love, them, ., ....|[0.35783386381154...|\n",
            "+--------------+--------------------+--------------------+--------------------+\n",
            "only showing top 10 rows\n",
            "\n"
          ],
          "name": "stdout"
        }
      ]
    },
    {
      "cell_type": "markdown",
      "metadata": {
        "id": "SW81WEzo3a1v",
        "colab_type": "text"
      },
      "source": [
        "Since we have everything in numeric format, let's start with our old standby, the **random forest**. You can choose other classifiers to see how they perform, and even chain them together and use their collective predictions in an ensemble to improve model performance.\n",
        "\n",
        "Important - note that your data is now in the w2vdf object - not the amznInstantVideo object."
      ]
    },
    {
      "cell_type": "code",
      "metadata": {
        "id": "7_4pvQUI3d9q",
        "colab_type": "code",
        "colab": {}
      },
      "source": [
        "# Build the training indexers/split data/classifier\n",
        "# first we'll generate a labelIndexer\n",
        "labelIndexer = StringIndexer(inputCol=\"overall_recode\", outputCol=\"indexedLabel\").fit(w2vdf)\n",
        "\n",
        "# now generate the indexed feature vector.\n",
        "featureIndexer = VectorIndexer(inputCol=\"w2v_vector\", outputCol=\"indexedFeatures\", maxCategories=4).fit(w2vdf)\n",
        "    \n",
        "# Split the data into training and validation sets (30% held out for testing)\n",
        "(trainingData, testData) = w2vdf.randomSplit([TRAINING_DATA_RATIO, 1 - TRAINING_DATA_RATIO])\n",
        "\n",
        "# Train a RandomForest model.\n",
        "rf = RandomForestClassifier(labelCol=\"indexedLabel\", featuresCol=\"indexedFeatures\", numTrees=RF_NUM_TREES)\n",
        "\n",
        "# Chain indexers and forest in a Pipeline\n",
        "pipeline = Pipeline(stages=[labelIndexer, featureIndexer, rf])"
      ],
      "execution_count": 0,
      "outputs": []
    },
    {
      "cell_type": "code",
      "metadata": {
        "id": "Be5xdBDL3kJG",
        "colab_type": "code",
        "colab": {}
      },
      "source": [
        "# Train model.  This also runs the indexers.\n",
        "model = pipeline.fit(trainingData)\n",
        "\n",
        "# Make predictions.\n",
        "predictions = model.transform(testData)"
      ],
      "execution_count": 0,
      "outputs": []
    },
    {
      "cell_type": "code",
      "metadata": {
        "id": "uVpC2eZx3n66",
        "colab_type": "code",
        "colab": {
          "base_uri": "https://localhost:8080/",
          "height": 50
        },
        "outputId": "7e0e24af-8162-4cdf-fdcf-aa5b8b885fa9"
      },
      "source": [
        "# Select (prediction, true label) and compute test error\n",
        "evaluator = MulticlassClassificationEvaluator(\n",
        "    labelCol=\"indexedLabel\", predictionCol=\"prediction\", metricName=\"accuracy\")\n",
        "accuracy = evaluator.evaluate(predictions)\n",
        "\n",
        "print(f\"Test Error = {(1.0 - accuracy):g}\")\n",
        "print(f\"Accuracy = {accuracy:g}\")"
      ],
      "execution_count": 26,
      "outputs": [
        {
          "output_type": "stream",
          "text": [
            "Test Error = 0.188316\n",
            "Accuracy = 0.811684\n"
          ],
          "name": "stdout"
        }
      ]
    },
    {
      "cell_type": "markdown",
      "metadata": {
        "id": "ZKVS8-wqPclG",
        "colab_type": "text"
      },
      "source": [
        "\n",
        "We didn't do so well... but that's typical in data science work.\n",
        "\n",
        "Here's where you can go from here:\n",
        "\n",
        "* Think about resampling the overall dataset to better balance positive and negative reviews.\n",
        "* Use a different method to tokenize and convert the text to numeric (TF/IDF, etc).\n",
        "* Adjust the parameters of your classifier."
      ]
    },
    {
      "cell_type": "code",
      "metadata": {
        "id": "f7dTHsoYPiIh",
        "colab_type": "code",
        "colab": {}
      },
      "source": [
        ""
      ],
      "execution_count": 0,
      "outputs": []
    }
  ]
}