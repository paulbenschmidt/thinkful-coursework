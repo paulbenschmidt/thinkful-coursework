{
  "nbformat": 4,
  "nbformat_minor": 0,
  "metadata": {
    "colab": {
      "name": "6.8.3 Exercise - rfc_spark_batch_02_26_19.ipynb",
      "version": "0.3.2",
      "provenance": [],
      "collapsed_sections": []
    },
    "language_info": {
      "codemirror_mode": {
        "name": "ipython",
        "version": 3
      },
      "file_extension": ".py",
      "mimetype": "text/x-python",
      "name": "python",
      "nbconvert_exporter": "python",
      "pygments_lexer": "ipython3",
      "version": "3.7.0"
    },
    "kernelspec": {
      "display_name": "Python 3",
      "language": "python",
      "name": "python3"
    }
  },
  "cells": [
    {
      "cell_type": "markdown",
      "metadata": {
        "colab_type": "text",
        "id": "rCwqd_Gdlx10"
      },
      "source": [
        "In this notebook, you'll learn the basics of working with Spark in batch mode to build a random forest classifier. Note that this notebook is intended to be run on Google Colaboratory."
      ]
    },
    {
      "cell_type": "markdown",
      "metadata": {
        "id": "3_1S3Ou---gU",
        "colab_type": "text"
      },
      "source": [
        "## Spark and Colaboratory setup\n",
        "\n",
        "First, there's some configration specific to running Spark on Colaboratory that we'll need to attend to. Run these cells to set everything up."
      ]
    },
    {
      "cell_type": "code",
      "metadata": {
        "colab_type": "code",
        "id": "ahlaHUHYnGcg",
        "colab": {}
      },
      "source": [
        "!apt-get install openjdk-8-jdk-headless -qq > /dev/null\n",
        "!wget -q https://www-us.apache.org/dist/spark/spark-2.4.3/spark-2.4.3-bin-hadoop2.7.tgz\n",
        "!tar xf spark-2.4.3-bin-hadoop2.7.tgz"
      ],
      "execution_count": 0,
      "outputs": []
    },
    {
      "cell_type": "code",
      "metadata": {
        "id": "p813Ywqm--gc",
        "colab_type": "code",
        "outputId": "d48db24c-1663-4086-a1e1-d20da9b5afc0",
        "colab": {
          "base_uri": "https://localhost:8080/",
          "height": 218
        }
      },
      "source": [
        "# Install spark-related depdencies for Python\n",
        "!pip install -q findspark\n",
        "!pip install pyspark"
      ],
      "execution_count": 2,
      "outputs": [
        {
          "output_type": "stream",
          "text": [
            "Collecting pyspark\n",
            "\u001b[?25l  Downloading https://files.pythonhosted.org/packages/37/98/244399c0daa7894cdf387e7007d5e8b3710a79b67f3fd991c0b0b644822d/pyspark-2.4.3.tar.gz (215.6MB)\n",
            "\u001b[K     |████████████████████████████████| 215.6MB 78kB/s \n",
            "\u001b[?25hCollecting py4j==0.10.7 (from pyspark)\n",
            "\u001b[?25l  Downloading https://files.pythonhosted.org/packages/e3/53/c737818eb9a7dc32a7cd4f1396e787bd94200c3997c72c1dbe028587bd76/py4j-0.10.7-py2.py3-none-any.whl (197kB)\n",
            "\u001b[K     |████████████████████████████████| 204kB 42.3MB/s \n",
            "\u001b[?25hBuilding wheels for collected packages: pyspark\n",
            "  Building wheel for pyspark (setup.py) ... \u001b[?25l\u001b[?25hdone\n",
            "  Stored in directory: /root/.cache/pip/wheels/8d/20/f0/b30e2024226dc112e256930dd2cd4f06d00ab053c86278dcf3\n",
            "Successfully built pyspark\n",
            "Installing collected packages: py4j, pyspark\n",
            "Successfully installed py4j-0.10.7 pyspark-2.4.3\n"
          ],
          "name": "stdout"
        }
      ]
    },
    {
      "cell_type": "code",
      "metadata": {
        "colab_type": "code",
        "id": "9pxKUb5pnHix",
        "colab": {}
      },
      "source": [
        "# Set up required environment variables\n",
        "\n",
        "import os\n",
        "os.environ[\"JAVA_HOME\"] = \"/usr/lib/jvm/java-8-openjdk-amd64\"\n",
        "os.environ[\"SPARK_HOME\"] = \"/content/spark-2.4.3-bin-hadoop2.7\""
      ],
      "execution_count": 0,
      "outputs": []
    },
    {
      "cell_type": "code",
      "metadata": {
        "id": "aawOL6O9--gl",
        "colab_type": "code",
        "outputId": "53303a8e-07d8-4c8e-d795-6671b4e53da5",
        "colab": {
          "base_uri": "https://localhost:8080/",
          "height": 121
        }
      },
      "source": [
        "# Point Colaboratory to Google Drive\n",
        "\n",
        "from google.colab import drive\n",
        "drive.mount('/content/gdrive')"
      ],
      "execution_count": 4,
      "outputs": [
        {
          "output_type": "stream",
          "text": [
            "Go to this URL in a browser: https://accounts.google.com/o/oauth2/auth?client_id=947318989803-6bn6qk8qdgf4n4g3pfee6491hc0brc4i.apps.googleusercontent.com&redirect_uri=urn%3Aietf%3Awg%3Aoauth%3A2.0%3Aoob&scope=email%20https%3A%2F%2Fwww.googleapis.com%2Fauth%2Fdocs.test%20https%3A%2F%2Fwww.googleapis.com%2Fauth%2Fdrive%20https%3A%2F%2Fwww.googleapis.com%2Fauth%2Fdrive.photos.readonly%20https%3A%2F%2Fwww.googleapis.com%2Fauth%2Fpeopleapi.readonly&response_type=code\n",
            "\n",
            "Enter your authorization code:\n",
            "··········\n",
            "Mounted at /content/gdrive\n"
          ],
          "name": "stdout"
        }
      ]
    },
    {
      "cell_type": "markdown",
      "metadata": {
        "colab_type": "text",
        "id": "cTDxREFdlx11"
      },
      "source": [
        "##  Import dependencies\n",
        "\n",
        "Next, we need to import the tools we'll need from PySpark. The imports below allow us to connect to the Spark server, load our data, clean it, and prepare, execute, and evaluate a model."
      ]
    },
    {
      "cell_type": "code",
      "metadata": {
        "colab_type": "code",
        "id": "UBIeh7Eblx12",
        "colab": {}
      },
      "source": [
        "from pyspark import SparkContext\n",
        "from pyspark.sql import SparkSession\n",
        "\n",
        "from pyspark.ml import Pipeline\n",
        "from pyspark.ml.classification import RandomForestClassifier\n",
        "from pyspark.ml.feature import IndexToString, StringIndexer, VectorIndexer, VectorAssembler\n",
        "from pyspark.ml.evaluation import MulticlassClassificationEvaluator\n",
        "\n",
        "from pyspark.sql.functions import isnan, when, count, col"
      ],
      "execution_count": 0,
      "outputs": []
    },
    {
      "cell_type": "markdown",
      "metadata": {
        "colab_type": "text",
        "id": "5PLkpx0slx15"
      },
      "source": [
        "## Set our constants\n",
        "\n",
        "Next, we create a set of constants that we can refer to throughout the notebook. These are values that the rest of our code needs to run, but that we might need to change at some point (for instance, if the location of our data changes). \n",
        "\n",
        "If you saved the relevant datasets in the folders suggested in the previous checkpoint (link), you can use the below code chunk as is. If you saved the datasets elsewhere on your Google Drive, modify the file path after the `My Drive` folder. \n",
        "\n",
        "Regardless of the exact file path, these datasets **must** be stored on Google Drive!"
      ]
    },
    {
      "cell_type": "code",
      "metadata": {
        "colab_type": "code",
        "id": "Mqs6LIRelx16",
        "colab": {}
      },
      "source": [
        "CSV_PATH = \"/content/gdrive/My Drive/Colab Datasets/allData.csv\" \n",
        "CSV_ACTIVITY_LABEL_PATH = \"/content/gdrive/My Drive/Colab Datasets/activity_labels.csv\"\n",
        "APP_NAME = \"UCI HAR Random Forest Example\"\n",
        "SPARK_URL = \"local[*]\"\n",
        "RANDOM_SEED = 141107\n",
        "TRAINING_DATA_RATIO = 0.8\n",
        "RF_NUM_TREES = 10\n",
        "RF_MAX_DEPTH = 4\n",
        "RF_NUM_BINS = 32"
      ],
      "execution_count": 0,
      "outputs": []
    },
    {
      "cell_type": "markdown",
      "metadata": {
        "colab_type": "text",
        "id": "hh1r-3Ialx19"
      },
      "source": [
        "## Connect to the server and load data\n",
        "\n",
        "Now we're ready to connect to the Spark server. We do that (relying on the constants set above) and then load our labels (loaded into `activity_labels`) and activity data (loaded into `df`). "
      ]
    },
    {
      "cell_type": "code",
      "metadata": {
        "colab_type": "code",
        "id": "e3daglotlx19",
        "colab": {}
      },
      "source": [
        "spark = SparkSession.builder.appName(APP_NAME).master(SPARK_URL).getOrCreate()\n",
        "activity_labels = spark.read.options(inferschema = \"true\").csv(CSV_ACTIVITY_LABEL_PATH)\n",
        "df = spark.read.options(inferschema = \"true\").csv(CSV_PATH)"
      ],
      "execution_count": 0,
      "outputs": []
    },
    {
      "cell_type": "markdown",
      "metadata": {
        "colab_type": "text",
        "id": "c-r3VQzLlx2A"
      },
      "source": [
        "## Validate the data\n",
        "\n",
        "If our data has been properly cleaned and prepared, it will meet the following criteria, which we'll verify in just a moment:\n",
        "\n",
        "* The dataframe shape should be 10,299 rows by 562 columns\n",
        "* All feature columns should be doubles. Note that one of the columns is for our labels and it will not be double.\n",
        "* There should be no nulls. This point is crucial because Spark will fail to build our vector variables for our classifier if there are any null values.\n",
        "\n",
        "Let's confirm these points."
      ]
    },
    {
      "cell_type": "code",
      "metadata": {
        "colab_type": "code",
        "id": "iokDZIFRlx2A",
        "outputId": "5adcd324-b78a-4f7c-cf04-9d709e126b93",
        "colab": {
          "base_uri": "https://localhost:8080/",
          "height": 34
        }
      },
      "source": [
        "# Confirm the dataframe shape is 10,299 rows by 562 columns\n",
        "print(f\"Dataset shape is {df.count():d} rows by {len(df.columns):d} columns.\")"
      ],
      "execution_count": 8,
      "outputs": [
        {
          "output_type": "stream",
          "text": [
            "Dataset shape is 10299 rows by 562 columns.\n"
          ],
          "name": "stdout"
        }
      ]
    },
    {
      "cell_type": "code",
      "metadata": {
        "colab_type": "code",
        "id": "Zh9sVIqtlx2E",
        "outputId": "217dece8-410f-4e40-a82d-61b9c15ab2f8",
        "colab": {
          "base_uri": "https://localhost:8080/",
          "height": 34
        }
      },
      "source": [
        "# Confirm that all feature columns are doubles via a list comprehension\n",
        "# We're expecting 561 of 562 here, accounting for the labels column\n",
        "double_cols = [col[0] for col in df.dtypes if col[1] == 'double']\n",
        "print(f\"{len(double_cols):d} columns out of {len(df.columns):d} total are type double.\")"
      ],
      "execution_count": 9,
      "outputs": [
        {
          "output_type": "stream",
          "text": [
            "561 columns out of 562 total are type double.\n"
          ],
          "name": "stdout"
        }
      ]
    },
    {
      "cell_type": "code",
      "metadata": {
        "colab_type": "code",
        "id": "YEA2XsDtlx2I",
        "outputId": "1731f1cf-8145-49f0-ead7-6ac25a0bd880",
        "colab": {
          "base_uri": "https://localhost:8080/",
          "height": 34
        }
      },
      "source": [
        "# Confirm there are no null values. We use the dataframe select method to build a \n",
        "# list that is then converted to a Python dict. This way it's easy to sum up the nulls.\n",
        "null_counts = df.select([count(when(isnan(c) | col(c).isNull(), c)).alias(c) \n",
        "                         for c in df.columns]).toPandas().to_dict(orient='records')\n",
        "\n",
        "print(f\"There are {sum(null_counts[0].values()):d} null values in the dataset.\")"
      ],
      "execution_count": 10,
      "outputs": [
        {
          "output_type": "stream",
          "text": [
            "There are 0 null values in the dataset.\n"
          ],
          "name": "stdout"
        }
      ]
    },
    {
      "cell_type": "markdown",
      "metadata": {
        "colab_type": "text",
        "id": "vxdcUvn7lx2L"
      },
      "source": [
        "## Set up and run our classifier in Spark\n",
        "\n",
        "After confirming our data is clean, we're ready to reshape the data and run the random forest model.\n",
        "\n",
        "In Spark, we manipulate the data to work in a Spark pipeline, define each of the steps in the pipeline, chain them together, and finally run the pipeline.\n",
        "\n",
        "Apache Spark classifiers expect 2 columns of input:\n",
        "\n",
        "1. __labels__: an indexed set of numeric variables that represent the classification from the set of features we provide.\n",
        "2. __features__: an indexed, vector variable that contains all of the feature values in each row. \n",
        "\n",
        "In order to do this, we need to create these 2 columns from our dataset - the data is there, but not yet in a format we can use for the classifier.\n",
        "\n",
        "To create the indexed labels column, we'll create a column called `indexedLabel` using the `StringIndexer` method. We use the column `_c0` as the source for our label index since that contains our labels. The column contains only one value per index.\n",
        "    \n",
        "To create the indexed features column, we'll need to do two things. First, we'll create the vector of features using the `VectorAssembler` method. To create this vector, we'll need to use all 561 numeric columns from our data frame. The vector assembler will create a new column called `features`, and each row of this column will contain a 561-element vector that is built from the 561 features in the dataset.\n",
        "\n",
        "Finally, we'll complete the data preparation by creating an indexed vector from the `features` column. We'll call this vector `indexedFeatures`.\n",
        "    \n",
        "Since the classifier expects indexed labels and an indexed vector column of data, we'll use the `indexedLabel` and `indexedFeatures` as inputs to our random forest classifier."
      ]
    },
    {
      "cell_type": "code",
      "metadata": {
        "colab_type": "code",
        "id": "LlRqCnRslx2M",
        "colab": {}
      },
      "source": [
        "# Generate our feature vector.\n",
        "# Note that we're doing the work on the `df` object - we don't create new dataframes, \n",
        "# just add columns to the one we already are using.\n",
        "\n",
        "# the transform method creates the column.\n",
        "\n",
        "df = VectorAssembler(inputCols=double_cols, outputCol=\"features\").transform(df)"
      ],
      "execution_count": 0,
      "outputs": []
    },
    {
      "cell_type": "markdown",
      "metadata": {
        "colab_type": "text",
        "id": "GHNhdDitlx2O"
      },
      "source": [
        "Let's confirm that the features are there. It's easy to do this in Apache Spark using the `select` and `show` methods on the dataframe.  "
      ]
    },
    {
      "cell_type": "code",
      "metadata": {
        "colab_type": "code",
        "id": "cFL8zXBDlx2P",
        "outputId": "43769780-e19f-40c3-88ce-75f793fb59aa",
        "colab": {
          "base_uri": "https://localhost:8080/",
          "height": 202
        }
      },
      "source": [
        "df.select(\"_c0\", \"features\").show(5)"
      ],
      "execution_count": 12,
      "outputs": [
        {
          "output_type": "stream",
          "text": [
            "+---+--------------------+\n",
            "|_c0|            features|\n",
            "+---+--------------------+\n",
            "|  5|[0.289,-0.0203,-0...|\n",
            "|  5|[0.278,-0.0164,-0...|\n",
            "|  5|[0.28,-0.0195,-0....|\n",
            "|  5|[0.279,-0.0262,-0...|\n",
            "|  5|[0.277,-0.0166,-0...|\n",
            "+---+--------------------+\n",
            "only showing top 5 rows\n",
            "\n"
          ],
          "name": "stdout"
        }
      ]
    },
    {
      "cell_type": "markdown",
      "metadata": {
        "colab_type": "text",
        "id": "7JuLglvQlx2S"
      },
      "source": [
        "Now we're ready to build the indexers, split our data for training and testing, define our model, and finally chain everything together into a pipeline.\n",
        "\n",
        "__It's important to note that when we execute this cell, we're not actually running our model. At this point, we're only defining its parameters__."
      ]
    },
    {
      "cell_type": "code",
      "metadata": {
        "colab_type": "code",
        "id": "0tMHGAVylx2U",
        "colab": {}
      },
      "source": [
        "# Build the training indexers / split data / classifier\n",
        "# first we'll generate a labelIndexer\n",
        "labelIndexer = StringIndexer(inputCol=\"_c0\", outputCol=\"indexedLabel\").fit(df)\n",
        "\n",
        "# now generate the indexed feature vector\n",
        "featureIndexer = VectorIndexer(inputCol=\"features\", outputCol=\"indexedFeatures\", maxCategories=4).fit(df)\n",
        "    \n",
        "# Split the data into training and validation sets (30% held out for testing)\n",
        "(trainingData, testData) = df.randomSplit([TRAINING_DATA_RATIO, 1 - TRAINING_DATA_RATIO])\n",
        "\n",
        "# Train a RandomForest model.\n",
        "rf = RandomForestClassifier(labelCol=\"indexedLabel\", featuresCol=\"indexedFeatures\", numTrees=RF_NUM_TREES)\n",
        "\n",
        "# Chain indexers and forest in a Pipeline\n",
        "pipeline = Pipeline(stages=[labelIndexer, featureIndexer, rf])"
      ],
      "execution_count": 0,
      "outputs": []
    },
    {
      "cell_type": "markdown",
      "metadata": {
        "colab_type": "text",
        "id": "xBr2bivRlx2W"
      },
      "source": [
        "This next cell runs the pipeline, delivering a trained model at the end of the process."
      ]
    },
    {
      "cell_type": "code",
      "metadata": {
        "colab_type": "code",
        "id": "PVl2IQMolx2X",
        "scrolled": true,
        "colab": {}
      },
      "source": [
        "# Train model.  This also runs the indexers.\n",
        "model = pipeline.fit(trainingData)"
      ],
      "execution_count": 0,
      "outputs": []
    },
    {
      "cell_type": "markdown",
      "metadata": {
        "colab_type": "text",
        "id": "yBOhNbXPlx2Y"
      },
      "source": [
        "It is now easy to test our model and make predictions simply by using the model's `transform` method on the `testData` dataset."
      ]
    },
    {
      "cell_type": "code",
      "metadata": {
        "colab_type": "code",
        "id": "AOpXWFSPlx2Z",
        "colab": {}
      },
      "source": [
        "# Make predictions.\n",
        "predictions = model.transform(testData)"
      ],
      "execution_count": 0,
      "outputs": []
    },
    {
      "cell_type": "markdown",
      "metadata": {
        "colab_type": "text",
        "id": "4ipzFtKllx2c"
      },
      "source": [
        "## Evaluate the model\n",
        "\n",
        "Now we can use the MulticlassClassificationEvaluator to test the model's accuracy."
      ]
    },
    {
      "cell_type": "code",
      "metadata": {
        "colab_type": "code",
        "id": "mBGcd3x_lx2d",
        "outputId": "1df3b7f4-9279-41ec-b4af-93c30c9295fc",
        "colab": {
          "base_uri": "https://localhost:8080/",
          "height": 50
        }
      },
      "source": [
        "# Select (prediction, true label) and compute test error\n",
        "evaluator = MulticlassClassificationEvaluator(\n",
        "    labelCol=\"indexedLabel\", predictionCol=\"prediction\", metricName=\"accuracy\")\n",
        "accuracy = evaluator.evaluate(predictions)\n",
        "\n",
        "print(f\"Test Error = {(1.0 - accuracy):g}\")\n",
        "print(f\"Accuracy = {accuracy:g}\")"
      ],
      "execution_count": 16,
      "outputs": [
        {
          "output_type": "stream",
          "text": [
            "Test Error = 0.0905569\n",
            "Accuracy = 0.909443\n"
          ],
          "name": "stdout"
        }
      ]
    },
    {
      "cell_type": "markdown",
      "metadata": {
        "colab_type": "text",
        "id": "pDrdglv-lx2h"
      },
      "source": [
        "## Next Steps\n",
        "\n",
        "We've seen how to prepare data and build a classifier in Spark. You might want to play around with this notebook and learn more about how Spark works. Here are some ideas:\n",
        "\n",
        "- Look at the set of labels, and see if there are any features that would make sense to combine. Spark allows you to map values into a new column.\n",
        "- Identify the most important features among the 561 source features (using PCA or something similar), then reduce the feature set and see if the model performs better.\n",
        "- Modify the settings of the random forest to see if the performance improves.\n",
        "- Use Spark's tools to find other techniques to evaluate the performance of your model. See if you can figure out how to generate an ROC plot, find the AUC value, or plot a confusion matrix."
      ]
    },
    {
      "cell_type": "markdown",
      "metadata": {
        "id": "e8J79ENgiWRt",
        "colab_type": "text"
      },
      "source": [
        "**1. Combine features according to labels**\n"
      ]
    },
    {
      "cell_type": "code",
      "metadata": {
        "id": "nFgtDsFPk4i8",
        "colab_type": "code",
        "outputId": "adc581f1-b4e6-472e-9ca9-ee1e0a32d75d",
        "colab": {
          "base_uri": "https://localhost:8080/",
          "height": 218
        }
      },
      "source": [
        "print('Unique Target Variables and Value Counts:')\n",
        "df.groupBy(\"_c0\").count().show()"
      ],
      "execution_count": 17,
      "outputs": [
        {
          "output_type": "stream",
          "text": [
            "Unique Target Variables and Value Counts:\n",
            "+---+-----+\n",
            "|_c0|count|\n",
            "+---+-----+\n",
            "|  1| 1722|\n",
            "|  6| 1944|\n",
            "|  3| 1406|\n",
            "|  5| 1906|\n",
            "|  4| 1777|\n",
            "|  2| 1544|\n",
            "+---+-----+\n",
            "\n"
          ],
          "name": "stdout"
        }
      ]
    },
    {
      "cell_type": "code",
      "metadata": {
        "id": "J_Z71PVOiSft",
        "colab_type": "code",
        "colab": {}
      },
      "source": [
        "import pandas as pd\n",
        "import numpy as np\n",
        "from pyspark.ml.stat import Correlation\n",
        "\n",
        "feature_correlation = Correlation.corr(df, \"features\").head()\n",
        "correlations = pd.DataFrame(r1[0].toArray().tolist())\n",
        "correlations.head()\n",
        "\n",
        "# Select upper triangle of correlation matrix\n",
        "upper = correlations.where(np.triu(np.ones(correlations.shape), k=1).astype(np.bool))\n",
        "\n",
        "# Find index of feature columns with correlation greater than 0.95\n",
        "to_drop = [column for column in upper.columns if any(upper[column] > 0.95)]"
      ],
      "execution_count": 0,
      "outputs": []
    },
    {
      "cell_type": "code",
      "metadata": {
        "id": "wBO00uXamCbf",
        "colab_type": "code",
        "colab": {}
      },
      "source": [
        "# Delete columns at index 1 & 2\n",
        "reduced_df = df\n",
        "\n",
        "for x in to_drop:\n",
        "  reduced_df = reduced_df.drop(df.columns[x])\n",
        "\n",
        "#result_pdf = reduced_df.select(\"*\").toPandas()\n",
        "\n",
        "reduced_df = reduced_df.drop('features')\n",
        "\n",
        "print(reduced_df.count(), len(reduced_df.columns))"
      ],
      "execution_count": 0,
      "outputs": []
    },
    {
      "cell_type": "code",
      "metadata": {
        "id": "XXnI1WJJ0AQN",
        "colab_type": "code",
        "colab": {}
      },
      "source": [
        "double_cols = [col[0] for col in reduced_df.dtypes if col[1] == 'double']\n",
        "reduced_df = VectorAssembler(inputCols=double_cols, outputCol=\"features\").transform(reduced_df)"
      ],
      "execution_count": 0,
      "outputs": []
    },
    {
      "cell_type": "code",
      "metadata": {
        "id": "FOim_uRloZGe",
        "colab_type": "code",
        "colab": {}
      },
      "source": [
        "# Repeating pipeline\n",
        "labelIndexer = StringIndexer(inputCol=\"_c0\", outputCol=\"indexedLabel\").fit(reduced_df)\n",
        "featureIndexer = VectorIndexer(inputCol=\"features\", outputCol=\"indexedFeatures\", maxCategories=4).fit(reduced_df)\n",
        "(trainingData, testData) = reduced_df.randomSplit([TRAINING_DATA_RATIO, 1 - TRAINING_DATA_RATIO])\n",
        "rf = RandomForestClassifier(labelCol=\"indexedLabel\", featuresCol=\"indexedFeatures\", numTrees=RF_NUM_TREES)\n",
        "\n",
        "# Chain indexers and forest in a Pipeline\n",
        "pipeline = Pipeline(stages=[labelIndexer, featureIndexer, rf])\n",
        "\n",
        "model = pipeline.fit(trainingData)\n",
        "\n",
        "predictions = model.transform(testData)"
      ],
      "execution_count": 0,
      "outputs": []
    },
    {
      "cell_type": "code",
      "metadata": {
        "id": "4S3v4DXtwPmK",
        "colab_type": "code",
        "colab": {
          "base_uri": "https://localhost:8080/",
          "height": 50
        },
        "outputId": "47846538-0a7c-48ad-cf63-7afd04e7a212"
      },
      "source": [
        "# Select (prediction, true label) and compute test error\n",
        "evaluator = MulticlassClassificationEvaluator(\n",
        "    labelCol=\"indexedLabel\", predictionCol=\"prediction\", metricName=\"accuracy\")\n",
        "accuracy = evaluator.evaluate(predictions)\n",
        "\n",
        "print(f\"Test Error = {(1.0 - accuracy):g}\")\n",
        "print(f\"Accuracy = {accuracy:g}\")"
      ],
      "execution_count": 163,
      "outputs": [
        {
          "output_type": "stream",
          "text": [
            "Test Error = 0.0931253\n",
            "Accuracy = 0.906875\n"
          ],
          "name": "stdout"
        }
      ]
    },
    {
      "cell_type": "markdown",
      "metadata": {
        "id": "3Pm6nHws26xJ",
        "colab_type": "text"
      },
      "source": [
        "Great! We were able to reduce our feature set into nearly half of its size *and* improve the accuracy scores!\n",
        "\n",
        "\n",
        "**2. Principal Compenent Analysis**"
      ]
    },
    {
      "cell_type": "code",
      "metadata": {
        "id": "UwHPUUDc_58i",
        "colab_type": "code",
        "colab": {
          "base_uri": "https://localhost:8080/",
          "height": 238
        },
        "outputId": "0c041154-cb4c-41a2-b077-2c4e1e6a6bd9"
      },
      "source": [
        "from pyspark.ml.feature import PCA\n",
        "\n",
        "pca = PCA(k=100, inputCol=\"features\", outputCol=\"pcaFeatures\")\n",
        "model = pca.fit(reduced_df)\n",
        "\n",
        "df_with_pca = model.transform(reduced_df)\n",
        "result = df_with_pca.select(\"pcaFeatures\")\n",
        "result.show(5, truncate=False)\n",
        "\n",
        "print(result.count())"
      ],
      "execution_count": 142,
      "outputs": [
        {
          "output_type": "stream",
          "text": [
            "+-----------------------------------------------------------------------------------------------------------------------------------------------------------------------------------------------------------------------------------------------------------------------------------------------------------------------------------------------------------------------------------------------------------------------------------------------------------------------------------------------------------------------------------------------------------------------------------------------------------------------------------------------------------------------------------------------------------------------------------------------------------------------------------------------------------------------------------------------------------------------------------------------------------------------------------------------------------------------------------------------------------------------------------------------------------------------------------------------------------------------------------------------------------------------------------------------------------------------------------------------------------------------------------------------------------------------------------------------------------------------------------------------------------------------------------------------------------------------------------------------------------------------------------------------------------------------------------------------------------------------------------------------------------------------------------------------------------------------------------------------------------------------------------------------------------------------------------------------------------------------------------------------------------------------------------------------------------------------------------------------------------------------------------------------------------------+\n",
            "|pcaFeatures                                                                                                                                                                                                                                                                                                                                                                                                                                                                                                                                                                                                                                                                                                                                                                                                                                                                                                                                                                                                                                                                                                                                                                                                                                                                                                                                                                                                                                                                                                                                                                                                                                                                                                                                                                                                                                                                                                                                                                                                                                                      |\n",
            "+-----------------------------------------------------------------------------------------------------------------------------------------------------------------------------------------------------------------------------------------------------------------------------------------------------------------------------------------------------------------------------------------------------------------------------------------------------------------------------------------------------------------------------------------------------------------------------------------------------------------------------------------------------------------------------------------------------------------------------------------------------------------------------------------------------------------------------------------------------------------------------------------------------------------------------------------------------------------------------------------------------------------------------------------------------------------------------------------------------------------------------------------------------------------------------------------------------------------------------------------------------------------------------------------------------------------------------------------------------------------------------------------------------------------------------------------------------------------------------------------------------------------------------------------------------------------------------------------------------------------------------------------------------------------------------------------------------------------------------------------------------------------------------------------------------------------------------------------------------------------------------------------------------------------------------------------------------------------------------------------------------------------------------------------------------------------+\n",
            "|[-7.9587308882676675,-4.652776420450874,-0.9672857076965882,0.6999816299273764,0.29832057215004293,-0.5412202829933157,-0.8538411181639293,0.8688577655955435,2.888369615711097,1.4261863398713113,-1.5362861850712592,0.10042728471782544,-0.03618573452974185,0.19233747853464414,1.8032904812035875,5.8804801520461955E-5,0.6613309621055301,-0.8232790975777935,1.1205669702704073,-0.7822266349723667,0.8940494895292262,1.090047825419908,0.19373737499050375,-0.9391241729114964,0.2395688926613812,-1.1270823382192334,-0.6055833782151465,-0.059198440141194485,0.7719483487138749,1.2670472131088908,0.32306070952452687,-0.8451392275125178,-1.456121336138728,-1.0833377035088867,-0.6987084327214214,1.577741420793518,0.2808139097183816,0.12817067293913542,-0.5139677269264137,-0.7696387310350548,-0.5509071321044485,-0.5936825474020937,-1.712924382377162,-0.033636775992183995,-0.39352215187756157,-0.6205424931780045,0.7218182957637279,-0.016981881390288715,1.1858885946739672,-0.1503904282716349,-0.4061037000312672,0.01661443998100783,-0.1663445551107994,-0.2661332919198429,-0.896524233893933,-0.0803735628498948,-0.5809128780912092,-0.33531029544519897,-1.0283113121937293,-0.30474079744616933,-0.02914094253369668,-0.5720988383433879,-0.1786637098376254,0.3743426928984015,-1.1504850772400026,1.3452267168334735,0.2408014836750702,-0.6565023354220625,-1.3320107732208561,0.1897699671819656,-0.22865702093559095,0.520268427569976,0.46314672140868335,-0.7066649422417033,-0.9049591097371724,0.17169950166152456,-1.0238534543763058,0.10134901912061393,-0.4230603629969567,0.66898457924302,-0.7918017692203365,0.23517532249795783,0.17524912198312612,-0.23221016646042078,0.24705514795949085,-0.6703900252713787,0.06133699699325154,1.3172519328928107,-0.48433392201064807,0.49392282243866525,0.325490043642236,-0.4986076803435847,0.0772464465087302,0.7227729614763989,0.3949680969414375,0.6609177561966405,-0.8434802234674413,0.9361065616067602,-0.5031301240572905,0.7774321524348866]         |\n",
            "|[-7.770807134741685,-5.005580706864824,-1.4459166379865172,-0.8511715545874738,-0.2461800578356356,-1.4852696438454396,-2.0011921115743725,0.2917921738124272,1.1334632469927715,1.055243046604653,-2.2118577485407296,-0.5080484809739623,-0.5588789176110736,-0.2548367071182751,1.1695846885306032,-0.024968225359988022,0.5675172468701958,-0.08250505374813964,0.6548655744377772,-0.341070622585852,0.6846011943630447,0.8328390305541445,-0.04876085699071308,-0.3821722122040801,0.07649192078779599,-1.9284871507843722,0.18707778884987547,-0.2265936273087109,0.20249250053122578,1.0597516456736622,0.23514196682179292,0.10037073713887874,-1.3867859563455875,-0.7263202519858737,-0.2840267473802163,0.8953070160524284,0.15539410311585355,-0.06333571222547704,-0.2981258548388481,-0.34997801524453004,-0.5945098507141338,-0.3507635741764055,-1.323588435401652,0.6525340237563789,0.5561215418362405,-0.12871621480323103,-0.26898928873497746,-0.32605555228505245,0.3567724820408858,-0.5655196916660905,-0.13822279878400978,0.10963461407177652,-0.05543695688554205,-0.18183893405548077,-0.3093290609582168,0.16617957068901687,-0.5435251691020223,0.30124390442900656,-1.1102414660017983,-0.05172492586441514,-0.12811825954328643,-0.6817780642714568,-0.20874515845318425,0.10865556303929122,-1.2876464239250363,0.9245822719525317,0.2834201417044303,-0.730753267298516,-0.630639583234342,0.4625310525981412,-0.5022886536632621,0.5798957376834557,0.24970181198167501,-0.7610636474028298,-0.538401857893799,0.14540655874058658,-0.9022668477826787,0.24245353710678258,-0.39542258644169725,0.8877967420996814,-0.9685555539383536,0.1899194073144795,0.23466984986632838,-0.28831085433503273,0.21442301601697716,-0.17362048727408955,-0.22761627376537463,1.016238694891085,-0.836223686298886,0.5337678975553429,0.16779691694714274,-0.5169774927970768,0.052938973355992014,0.7188165689060574,0.5724379881923818,0.6317030046003338,-0.6979546439298936,1.2294788824317673,-0.6117405025569128,0.8932750379804237]|\n",
            "|[-7.727551698051434,-4.984141211677547,-1.1844227436657506,0.31965448016789894,-0.18617091508704062,-0.5330530098743899,-2.372268717114544,0.3504781229228683,1.4907996596096196,0.7906129486742375,-1.7098925644230645,-0.312751675519856,-0.8362491686946467,-0.21554786370438386,0.4114811422123917,0.13768104030355047,0.6832436644486477,0.4157932148768829,0.7676603629852435,-0.5179320883545457,0.7363009993257726,0.9572517029569556,-0.2919739757045405,0.009396605020624152,-0.11926828347675891,-1.944757953726611,0.60393942249648,-0.2988370030703284,0.10987351947352104,1.0448428007294774,0.4623468830578654,0.10649351492391455,-1.0810350651904201,-0.7355080721253154,-0.9461038083435702,1.241346446376941,0.1550078544529205,-0.34214131112190804,-0.27292730295558976,-0.5254998217454361,-0.8911612745539439,-0.857325701463613,-1.4975978721485286,0.17478136066338865,0.47525814814644196,-0.0849928997019022,-0.13797036587519862,-0.47553889443597824,1.0733163815329076,-1.0272410423934093,0.05231761263490208,0.30641844477285163,0.328189619565269,-0.6502590927147733,-0.050907094751188986,0.25650612761476366,-0.2995852201423122,0.3004572514368237,-1.2469687679139192,-0.05156288788606243,0.1395706038971431,-0.5143146692295335,-0.14974078710014546,0.39217999290022726,-1.126689714233362,1.1517080907012065,0.3521529620743205,-1.0051940159864514,-0.6108313628735543,0.6431919959275643,-0.5509660178955568,0.8488018031970622,0.24371644210156687,-0.7758618251841749,-0.5831810935131578,0.2969497915413018,-0.832413658704118,0.2276565349470315,-0.128589050652205,0.7527149806965228,-0.6752837362881189,-0.014741134378619188,0.22995771608051394,-0.04192883098313219,0.07948099990256899,-0.31936316823369637,-0.3722529652248494,0.9040915221561575,-0.7477991071975757,0.2925734557483632,0.209592788492733,-0.41455876441344486,-0.20628424235966025,0.9029248160031303,0.36410395793874123,0.4291617515447015,-0.722046370211897,0.9926697707370927,-0.7368710002067392,0.8308530858552218]             |\n",
            "|[-8.00368122961719,-4.559795688796311,-0.8059314470251461,-1.3011827343936824,-0.33432417414654303,0.1400723197376137,-2.4881164543807137,0.41985639250124535,1.3030630423773384,0.6931165944306921,-2.4502904002676207,-0.38737306815608885,0.2589963477641225,0.032977630561256445,0.6227283759770151,0.03237253329722512,0.7568343915650374,1.0726832325116948,1.0179634312849672,-0.8236824659695208,0.3489799921928068,1.1761899937708562,0.0607320684661899,-0.02288340863386319,-0.06880149767852752,-1.5231652023984337,0.6810417113533496,-0.08161823746714263,0.066413405497231,1.020980753765943,0.32419398685350026,0.12064790170682448,-1.3363497162437727,-0.5810161894220295,-0.9036257521784237,1.250725510264556,0.15007111017787883,-0.4160192705513299,-0.0568888430821375,-0.4179424750126522,-1.0215541683323335,-0.7522859797054524,-2.0323457141219765,0.15093383915515216,0.4218250338498436,0.027659252584781212,0.3202281853010245,-0.4151507722861014,0.8717493005885125,-0.5889077710307444,0.37666286848151503,0.45240723146580597,0.5501118100646992,-0.5019777477038144,0.06940062055393538,0.3786299541765484,-0.44266245551840977,0.400688107102949,-1.4518761490169945,0.004807132651616074,-0.11467115126189718,-0.5580469028910394,0.19783064091066196,0.21552651696734093,-0.904155953866778,0.8690238147727746,0.10233301462978399,-0.950327011782319,-0.8632383983312438,1.1053045664053882,0.15271955506057952,-0.37825319446169464,0.6757996816801538,-0.971137165185118,0.10058739635866816,0.3494214262308265,-0.9223198586870347,-0.0021222286171499903,-0.0336134802006725,0.6922917327143672,-0.4075340489500814,-0.14747324624561325,-0.32049475558079993,-0.04575781326205448,-0.20867655058241527,-0.27937144833999245,-0.277995496991471,1.0397705485895716,-0.7827437355964605,0.1345031247417694,0.182663742464765,-0.6703057250301748,-0.14129332436183692,0.6265165782519162,0.41418775883347986,0.7349589661268952,-0.5872281230404007,1.2068958391420552,-0.4418679209473409,0.5480187733009774]         |\n",
            "|[-8.053927764017612,-4.667318098650972,-0.5753128433104209,-0.4378504965954009,-0.4334643031609255,0.27216105680731806,-2.59499125963835,0.649740124351263,0.7670394642776773,0.8682212342325474,-1.8771058569993788,-0.6835575124077579,0.31736635503707916,0.10413154457861447,0.43607293655554585,0.3697333737975101,1.3044203922327695,0.7522459196156943,1.215935020077943,-0.21757632160250706,0.1776620021210745,0.9065081897486696,-0.0836765485516906,-0.7797713948021963,-0.13662876658371553,-2.0894239082834303,0.5612926071882158,-0.022692015027693333,0.03627406984602803,1.1552097661974243,0.49949959390717624,0.32043241541410256,-1.0001665516850848,-1.0143306611433753,-0.5071569805161434,0.8647148037674378,-0.08705758540252691,-0.38803348709646623,-0.0927234840936712,-0.7744087650333638,-0.9883091567090664,-0.30290789760692177,-1.2247468462440485,0.2469374535271445,0.40993605002458156,-0.2571740719076759,0.03589047931987356,-0.5885320555873774,0.5767925917111405,-0.9198138842216356,-0.0774528218783196,0.19870885763160548,0.23863274847256022,-0.24853271403514507,-0.34387978882249237,0.6217938907107303,-0.5568165235213467,0.10673506065053062,-1.2307209906860723,0.0930100188506977,-0.01474060099741265,-0.6305866028303203,-0.088384755979479,0.581854752890328,-1.3079748606613837,0.9092589122118196,0.10450944025478183,-1.2419107215601293,-0.570732260304987,0.5131775043039801,-0.5553023760915116,0.5046625955500905,0.3475074031868951,-0.8348841323050242,-0.7936037797976846,0.11676991585661435,-0.9663888325496924,0.11448474976694409,-0.08011651662985253,0.8936326550440535,-0.8351913159224945,0.06764233506767425,0.08586628546731707,-0.1366896093161096,0.07883267650110844,-0.025055862238527626,-0.23710637971878157,0.8065098910014376,-0.6791598361641119,0.5394756583433431,0.07218159793863034,-0.34336268491147565,-0.0602979187849719,0.6095677130409933,0.5102136884059679,0.5640343284562417,-0.6061725571455971,1.1838062466626298,-0.5628004124426621,1.0584479080209794]       |\n",
            "+-----------------------------------------------------------------------------------------------------------------------------------------------------------------------------------------------------------------------------------------------------------------------------------------------------------------------------------------------------------------------------------------------------------------------------------------------------------------------------------------------------------------------------------------------------------------------------------------------------------------------------------------------------------------------------------------------------------------------------------------------------------------------------------------------------------------------------------------------------------------------------------------------------------------------------------------------------------------------------------------------------------------------------------------------------------------------------------------------------------------------------------------------------------------------------------------------------------------------------------------------------------------------------------------------------------------------------------------------------------------------------------------------------------------------------------------------------------------------------------------------------------------------------------------------------------------------------------------------------------------------------------------------------------------------------------------------------------------------------------------------------------------------------------------------------------------------------------------------------------------------------------------------------------------------------------------------------------------------------------------------------------------------------------------------------------------+\n",
            "only showing top 5 rows\n",
            "\n",
            "10299\n"
          ],
          "name": "stdout"
        }
      ]
    },
    {
      "cell_type": "code",
      "metadata": {
        "id": "YFwQoMQ85F4K",
        "colab_type": "code",
        "colab": {}
      },
      "source": [
        "# Repeating pipeline\n",
        "labelIndexer = StringIndexer(inputCol=\"_c0\", outputCol=\"indexedLabel\").fit(df_with_pca)\n",
        "featureIndexer = VectorIndexer(inputCol=\"pcaFeatures\", outputCol=\"indexedFeatures\", maxCategories=4).fit(df_with_pca)\n",
        "(trainingData, testData) = df_with_pca.randomSplit([TRAINING_DATA_RATIO, 1 - TRAINING_DATA_RATIO])\n",
        "rf = RandomForestClassifier(labelCol=\"indexedLabel\", featuresCol=\"indexedFeatures\", numTrees=RF_NUM_TREES)\n",
        "\n",
        "# Chain indexers and forest in a Pipeline\n",
        "pipeline = Pipeline(stages=[labelIndexer, featureIndexer, rf])\n",
        "\n",
        "model = pipeline.fit(trainingData)\n",
        "\n",
        "predictions_2 = model.transform(testData)"
      ],
      "execution_count": 0,
      "outputs": []
    },
    {
      "cell_type": "code",
      "metadata": {
        "id": "OZvrtv3VCuDY",
        "colab_type": "code",
        "colab": {
          "base_uri": "https://localhost:8080/",
          "height": 50
        },
        "outputId": "061180a2-a430-492a-d95e-4290bc24a505"
      },
      "source": [
        "# Select (prediction, true label) and compute test error\n",
        "evaluator = MulticlassClassificationEvaluator(\n",
        "    labelCol=\"indexedLabel\", predictionCol=\"prediction\", metricName=\"accuracy\")\n",
        "accuracy = evaluator.evaluate(predictions_2)\n",
        "\n",
        "print(f\"Test Error = {(1.0 - accuracy):g}\")\n",
        "print(f\"Accuracy = {accuracy:g}\")"
      ],
      "execution_count": 146,
      "outputs": [
        {
          "output_type": "stream",
          "text": [
            "Test Error = 0.199807\n",
            "Accuracy = 0.800193\n"
          ],
          "name": "stdout"
        }
      ]
    },
    {
      "cell_type": "markdown",
      "metadata": {
        "id": "8jttmtPgFTHv",
        "colab_type": "text"
      },
      "source": [
        "**3. Plot a confusion matrix**"
      ]
    },
    {
      "cell_type": "code",
      "metadata": {
        "id": "VH6ybzTBBkJC",
        "colab_type": "code",
        "colab": {
          "base_uri": "https://localhost:8080/",
          "height": 134
        },
        "outputId": "7c22badb-f8e2-4e47-cef5-1c062d2c77d4"
      },
      "source": [
        "from sklearn.metrics import confusion_matrix\n",
        "\n",
        "y_true = predictions.select(\"_c0\")\n",
        "y_true = y_true.toPandas()\n",
        "\n",
        "y_pred = predictions.select(\"prediction\")\n",
        "y_pred = y_pred.toPandas()\n",
        "\n",
        "cnf_matrix = confusion_matrix(y_true, y_pred)\n",
        "cnf_matrix"
      ],
      "execution_count": 170,
      "outputs": [
        {
          "output_type": "execute_result",
          "data": {
            "text/plain": [
              "array([[  0,   0,   0,   0,   0,   0,   0],\n",
              "       [  0,   0,   0, 325,  15,   7,   0],\n",
              "       [  0,   0,   0,  14, 278,  13,   0],\n",
              "       [  0,   0,   0,  12,  26, 235,   0],\n",
              "       [  0,  37, 330,   0,   0,   0,   0],\n",
              "       [  0, 321,  65,   0,   0,   0,   0],\n",
              "       [371,   0,   1,   0,   1,   0,   0]])"
            ]
          },
          "metadata": {
            "tags": []
          },
          "execution_count": 170
        }
      ]
    }
  ]
}
