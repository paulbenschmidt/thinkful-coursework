{
 "cells": [
  {
   "cell_type": "markdown",
   "metadata": {},
   "source": [
    "# Big Data\n",
    "How is it that companies like Google and Facebook have become two of the most valuable in the world when they ostensibly offer their products for free? Big data is an integral part of the answer. In 2012, Facebook reported that it processed over 500 terabytes of data _every day_, and that number has only grown over time. By analyzing this enormous amount of data, Facebook has become an incredibly effective and profitable advertising platform.\n",
    "\n",
    "Social media and marketing aren't the only industries that benefit from using big data. The finance, education, government, manufacturing, and healthcare sectors are all at the forefront of big data analytics as well. And the use of big data will continue to permeate every industry.\n",
    "\n",
    "In this lesson, you'll learn to answer research questions using Spark with large datasets. First, we'll go over what big data is, why it matters, and the role Spark plays in working with it. Then, you'll set up a Spark instance using Google Colaboratory. Once you're up and running, we'll walk you through examples of using Spark in batch and streaming mode. This lesson ends with a challenge where you'll Spark to analyze streaming data from the FourSquare API in real time.\n",
    "\n",
    "## Using Spark for Big Data\n",
    "Businesses rely on numbers to guide decision making and to exploit their competitive advantages whenever possible. As a result, companies have always leveraged state of the art computing technology to understand as much data as possible. Even though it’s a relatively new term, “big data” simply refers to a desire to glean relevant information from the most data. In recent years, as processing power and storage capacity have grown and prices for these services have dropped, businesses have gained the ability to tap massive troves  of data.\n",
    "\n",
    "The sheer amount of data available is staggering, as data generation exponentially expands. In 2013, Science Daily [reported](https://www.sciencedaily.com/releases/2013/05/130522085217.htm) that 90% of all data ever created in history has been generated in the last two years; IBM followed up a year later with a reminder that each year we generate 10 times more data than the prior year. Today, IBM reports that 2.5 quintillion (2.5 x 1018) bytes of data are generated each day. As more devices - particularly internet-of-things devices — come online, and more and more people gain internet access, the data generated daily will only increase.\n",
    "\n",
    "For a data scientist, the availability of big data is both enticing and daunting. To better comprehend big data, most companies will describe it in the context of the “3 Vs”: volume, velocity, and variety:\n",
    "\n",
    "* **Volume**: Data comes from a variety of sources, including social media, transaction data, internet-of-things data, and sensor data. Storing this data used to be challenging — even prohibitive — but the availability of distributed storage systems such as Hadoop has reduced this barrier and allowed more data to be stored for longer periods of time.\n",
    "* **Velocity**: Data often streams into the system at a very high rate, especially when considering point-of-sale transaction data, social media content, and sensor data. Effective utilization of the data requires that it be processed and acted upon in a timely fashion.\n",
    "* **Variety**: Today, data scientists utilize more unique data types and formats than ever. These include structured data in databases, unstructured text, streaming sensor data, images, audio, stock ticker data, and many others. Big data tools allow data scientists to use varied formats together and identify common signal and information.\n",
    "\n",
    "## Why does big data matter?\n",
    "Data is only valuable insofar as you extract insight from it, and the big data side of data science is about bringing your data science skill set to bear on extracting actionable insights from these myriad data sources. Big data can be analyzed to uncover ways to reduce costs and time, improve product design, make smarter decisions, and answer all sorts of questions. It's behind many state-of-the-art business techniques including:\n",
    "\n",
    "* cybersecurity\n",
    "* predicting tool or device failure before it happens\n",
    "* optimizing delivery routes\n",
    "* providing personalized offers or recommendations\n",
    "* real-time language translation\n",
    "\n",
    "## Who uses big data?\n",
    "Big data shows up in many industries, but at the forefront — both in terms of data collection and analysis — are finance, education, government, manufacturing, healthcare, and retail. In these domains, big data has transformed business models and provided benefits to both the business and their customers.\n",
    "\n",
    "As you might imagine, you don’t work with big data on your laptop directly. You need to connect to a larger infrastructure that has been optimized and designed to handle the scale and speed of big data. Typically big data falls into one of three categories: streaming data, social data, or publicly available datasets. When designing a big data project, you should consider storage needs, how much of the data will be analyzed, and how data insights will be put into action.\n",
    "\n",
    "## Big Data with Spark\n",
    "So far in your data science education, you’ve focused on the tools provided by Python to build machine learning models. All of the work you’ve done so far has been on datasets hosted on a single machine (often loaded directly into memory); similarly, the code you’ve written has executed on a single system — often in a single process or thread. There is a great deal of power in this approach. In fact, even when working with big data, you’ll often want to explore, build models, and test on samples of the larger dataset.\n",
    "\n",
    "Adding big data to your toolkit means that you go from working on a dataset hosted on a single system to working with distributed datasets. The best means to work with distributed, massive datasets is within a distributed computing framework. Distributed computing brings significant challenges — How do you synchronize the code across many processors? What happens if a single processor fails? How do you roll up results when execution concludes?\n",
    "\n",
    "Apache Spark aims to solve many of these challenges. Spark simplifies the tasks that bedevil developers when working on distributed computing including resource scheduling, job execution, communication between nodes, and so on. Spark was developed from the beginning to work with machine learning algorithms, which means it has been optimized for high-performance in situations where data is accessed multiple times over many iterations.\n",
    "\n",
    "Spark is the leading open source distributed analytics platform. Its [project page](https://spark.apache.org/powered-by.html) lists almost 100 companies using Spark in production, and there are almost 400 active developers contributing to the codebase on GitHub.\n",
    "\n",
    "Spark can run in standalone local mode with all processes inside a single Java Virtual Machine, or in standalone cluster mode. Data scientists interact with Spark via APIs in several languages. Spark supports 4 programming languages: Java, Scala, Python, and R. We’ll use Python in our examples for this course.\n",
    "\n",
    "Spark uses a data representation called the Resilient Distributed Dataset (RDD). This is a data type very similar to the dataframe you know from Pandas but optimized to be distributed across multiple computers, residing in memory across all of them. Once an RDD has been created, by using Spark methods and functions, you interact with this distributed dataset as if it existed only on a single device. As an end developer, you don’t know — or need to know — how the RDD is actually allocated. Spark frees you from those details and allows you to focus on what is important to you — analyzing a dataset."
   ]
  }
 ],
 "metadata": {
  "kernelspec": {
   "display_name": "Python 3",
   "language": "python",
   "name": "python3"
  },
  "language_info": {
   "codemirror_mode": {
    "name": "ipython",
    "version": 3
   },
   "file_extension": ".py",
   "mimetype": "text/x-python",
   "name": "python",
   "nbconvert_exporter": "python",
   "pygments_lexer": "ipython3",
   "version": "3.7.3"
  }
 },
 "nbformat": 4,
 "nbformat_minor": 2
}
