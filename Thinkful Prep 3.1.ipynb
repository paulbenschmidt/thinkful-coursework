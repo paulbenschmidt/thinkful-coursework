{
 "cells": [
  {
   "cell_type": "code",
   "execution_count": 76,
   "metadata": {},
   "outputs": [],
   "source": [
    "import pandas as pd\n",
    "import numpy as np\n",
    "%matplotlib inline"
   ]
  },
  {
   "cell_type": "code",
   "execution_count": 31,
   "metadata": {},
   "outputs": [
    {
     "name": "stdout",
     "output_type": "stream",
     "text": [
      "[24 27 28 35 37 42 54] [1 1 1 2 1 1 1]\n"
     ]
    },
    {
     "data": {
      "text/plain": [
       "35"
      ]
     },
     "execution_count": 31,
     "metadata": {},
     "output_type": "execute_result"
    }
   ],
   "source": [
    "df = pd.DataFrame()\n",
    "df['age'] = [28, 42, 27, 24, 35, 54, 35, 37]\n",
    "\n",
    "sum(df['age']) / len(df['age'])\n",
    "\n",
    "import numpy as np\n",
    "np.mean(df['age'])\n",
    "\n",
    "import statistics\n",
    "statistics.median(df['age'])\n",
    "\n",
    "np.median(df['age'])\n",
    "\n",
    "# statistics.mode(df['age'])\n",
    "\n",
    "(values, counts) = np.unique(df['age'], return_counts=True)\n",
    "print (values, counts)\n",
    "ind = np.argmax(counts)\n",
    "\n",
    "values[ind]\n"
   ]
  },
  {
   "cell_type": "code",
   "execution_count": 75,
   "metadata": {},
   "outputs": [
    {
     "name": "stdout",
     "output_type": "stream",
     "text": [
      "92.5\n",
      "80.9375\n",
      "8.99652710772329\n",
      "9.617692030835672\n",
      "3.4003676271838605\n"
     ]
    },
    {
     "data": {
      "image/png": "[encoded data removed]",
      "text/plain": [
       "<Figure size 432x288 with 2 Axes>"
      ]
     },
     "metadata": {
      "needs_background": "light"
     },
     "output_type": "display_data"
    }
   ],
   "source": [
    "%matplotlib inline\n",
    "\n",
    "df = pd.DataFrame()\n",
    "df['age'] = [28, 42, 27, 24, 35, 54, 35, 37]\n",
    "\n",
    "print(df['age'].var())\n",
    "print(np.var(df.age))\n",
    "\n",
    "# calculating standard deviation\n",
    "# s = v ** 0.5\n",
    "print(np.std(df['age']))\n",
    "\n",
    "#must manually set the delta degrees of freedom to n-1 instead of simply n\n",
    "print(np.std(df['age'], ddof=1))\n",
    "\n",
    "#calculating standard error\n",
    "# se = s / (n ** 0.5)\n",
    "print(np.std(df['age'] ,ddof=1) / np.sqrt(len(df['age'])))\n",
    "\n",
    "# -----------------------------------------------------------------\n",
    "# First, create an empty dataframe to store your variables-to-be.\n",
    "pop=pd.DataFrame()\n",
    "\n",
    "# Then create two variables with mean = 60, one with a low standard\n",
    "# deviation (sd=10) and one with a high standard deviation (sd=100).\n",
    "pop['low_var']=np.random.normal(60, 10, 10000)\n",
    "pop['high_var']=np.random.normal(60, 100, 10000)\n",
    "\n",
    "# Finally, create histograms of the two variables.\n",
    "pop.hist(layout=(2, 1), sharex=True)\n",
    "plt.show()"
   ]
  },
  {
   "cell_type": "code",
   "execution_count": 74,
   "metadata": {},
   "outputs": [
    {
     "name": "stdout",
     "output_type": "stream",
     "text": [
      "low_var      95.326351\n",
      "high_var    430.313560\n",
      "dtype: float64\n",
      "low_var      21.291286\n",
      "high_var   -315.624091\n",
      "dtype: float64\n"
     ]
    },
    {
     "data": {
      "image/png": "[encoded data removed]",
      "text/plain": [
       "<Figure size 432x288 with 2 Axes>"
      ]
     },
     "metadata": {
      "needs_background": "light"
     },
     "output_type": "display_data"
    },
    {
     "data": {
      "text/plain": [
       "low_var     10.017188\n",
       "high_var    95.177345\n",
       "dtype: float64"
      ]
     },
     "execution_count": 74,
     "metadata": {},
     "output_type": "execute_result"
    }
   ],
   "source": [
    "%matplotlib inline\n",
    "\n",
    "pop=pd.DataFrame()\n",
    "pop['low_var']=np.random.normal(60, 10, 10000)\n",
    "pop['high_var']=np.random.normal(60, 100, 10000)\n",
    "\n",
    "# Calculate and print the maximum and minimum values for each variable.\n",
    "print(pop.max())\n",
    "print(pop.min())\n",
    "\n",
    "# Take a random sample of 100 observations from each variable\n",
    "# and store it in a new dataframe.\n",
    "sample=pd.DataFrame()\n",
    "sample['low_var'] = np.random.choice(pop['low_var'], 100)\n",
    "sample['high_var']=np.random.choice(pop['high_var'], 100)\n",
    "\n",
    "# Again, visualize the data. Note that here we're using a pandas method to \n",
    "# create the histogram.\n",
    "sample.hist()\n",
    "plt.show()\n",
    "\n",
    "# Check how well the sample replicates the population.\n",
    "sample.mean()\n",
    "sample.std(ddof=1)"
   ]
  },
  {
   "cell_type": "code",
   "execution_count": 84,
   "metadata": {},
   "outputs": [
    {
     "name": "stdout",
     "output_type": "stream",
     "text": [
      "           height      weight\n",
      "count  200.000000  200.000000\n",
      "mean    66.214328  179.260533\n",
      "std      6.864790   26.936251\n",
      "min     49.196103  124.911964\n",
      "25%     62.018081  159.833877\n",
      "50%     65.918361  174.424737\n",
      "75%     70.041608  195.279854\n",
      "max     88.778765  250.381672\n"
     ]
    },
    {
     "data": {
      "text/plain": [
       "171.365345    1\n",
       "174.241333    1\n",
       "234.193613    1\n",
       "195.180970    1\n",
       "224.718054    1\n",
       "Name: weight, dtype: int64"
      ]
     },
     "execution_count": 84,
     "metadata": {},
     "output_type": "execute_result"
    }
   ],
   "source": [
    "import numpy as np\n",
    "import pandas as pd\n",
    "%matplotlib inline\n",
    "\n",
    "# Set up the data\n",
    "data = pd.DataFrame()\n",
    "data['gender'] = ['male'] * 100 + ['female'] * 100\n",
    "data['height'] = np.append(np.random.normal(69, 8, 100), np.random.normal(64, 5, 100))\n",
    "data['weight'] = np.append(np.random.normal(195, 25, 100), np.random.normal(166, 15, 100))\n",
    "\n",
    "data.head()\n",
    "\n",
    "data.height.mean()\n",
    "data.height.std()\n",
    "\n",
    "# awesome illustration that gives you a snapshot of count, mean,\n",
    "# standard deviation, data falling below 25%, 50%, and 75%, and min/max\n",
    "print(data.describe())\n",
    "\n",
    "#provides information specific to subcategories of gender\n",
    "data.groupby('gender').describe()\n",
    "\n",
    "# useful for collecting summary of string data\n",
    "data.gender.value_counts()\n",
    "\n",
    "# not useful since the integers are randoms and only occur once\n",
    "data.weight.value_counts().head()"
   ]
  }
 ],
 "metadata": {
  "kernelspec": {
   "display_name": "Python 3",
   "language": "python",
   "name": "python3"
  },
  "language_info": {
   "codemirror_mode": {
    "name": "ipython",
    "version": 3
   },
   "file_extension": ".py",
   "mimetype": "text/x-python",
   "name": "python",
   "nbconvert_exporter": "python",
   "pygments_lexer": "ipython3",
   "version": "3.7.2"
  }
 },
 "nbformat": 4,
 "nbformat_minor": 2
}
