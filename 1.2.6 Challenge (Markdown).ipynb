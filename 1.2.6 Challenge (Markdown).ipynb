{
 "cells": [
  {
   "cell_type": "markdown",
   "metadata": {},
   "source": [
    "1. What's the most expensive listing? What else can you tell me about the listing?\n",
    "\n",
    "```sql\n",
    "WITH expensive AS\n",
    "(\n",
    "SELECT \tid\n",
    "FROM\tsfo_prices\n",
    "WHERE\tnumprice = (SELECT MAX(numprice) FROM sfo_prices)\n",
    ")\n",
    "SELECT *\n",
    "FROM sfo_listings\n",
    "WHERE id = (SELECT id FROM expensive);\n",
    "```"
   ]
  },
  {
   "cell_type": "markdown",
   "metadata": {},
   "source": [
    "2. What neighborhoods seem to be the most popular?\n",
    "\n",
    "```sql\n",
    "SELECT \t\tneighbourhood,\n",
    "\t\t\tCOUNT(*)\n",
    "FROM \t\tsfo_listings\n",
    "GROUP BY \tneighbourhood\n",
    "ORDER BY\tcount DESC;\n",
    "```"
   ]
  },
  {
   "cell_type": "markdown",
   "metadata": {},
   "source": [
    "3. What time of year is the cheapest time to go to San Francisco? What about the busiest?\n",
    "A. After a simple average cost, there are more cheaper AirBnBs in the months of December, January, and February.\n",
    "```sql\n",
    "SELECT \n",
    "\tcalender_date,\n",
    "\tCOUNT(*),\n",
    "\tAVG(CAST(REPLACE(REPLACE(price,'$',''), ',','') AS DECIMAL)) AS average_cost\n",
    "FROM sfo_calendar\n",
    "GROUP BY sfo_calendar.calender_date\n",
    "ORDER BY average_cost DESC;\n",
    "```\n",
    "\n",
    "B. The month of August\n",
    "```sql\n",
    "SELECT \t\tcalender_date,\n",
    "\t\t\tCOUNT(*)\n",
    "FROM \t\tsfo_calendar\n",
    "WHERE \t\tavailable = 't'\n",
    "GROUP BY \tcalender_date\n",
    "ORDER BY \tcount ASC\n",
    "LIMIT \t\t10;\n",
    "```"
   ]
  }
 ],
 "metadata": {
  "kernelspec": {
   "display_name": "Python 3",
   "language": "python",
   "name": "python3"
  },
  "language_info": {
   "codemirror_mode": {
    "name": "ipython",
    "version": 3
   },
   "file_extension": ".py",
   "mimetype": "text/x-python",
   "name": "python",
   "nbconvert_exporter": "python",
   "pygments_lexer": "ipython3",
   "version": "3.7.2"
  }
 },
 "nbformat": 4,
 "nbformat_minor": 2
}
