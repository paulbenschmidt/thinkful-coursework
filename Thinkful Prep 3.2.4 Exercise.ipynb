{
 "cells": [
  {
   "cell_type": "code",
   "execution_count": 11,
   "metadata": {},
   "outputs": [
    {
     "name": "stdout",
     "output_type": "stream",
     "text": [
      "6.25%\n"
     ]
    }
   ],
   "source": [
    "# 1. Calculate the probability of flipping a balanced coin four times and getting each pattern: HTTH, HHHH and TTHH.\n",
    "\n",
    "# P(H|T|T|H) = ((1/2)*(1/2)*(1/2)*(1/2))\n",
    "htth = ((1/2)*(1/2)*(1/2)*(1/2))\n",
    "print(str(htth * 100) + \"%\")\n",
    "\n",
    "# All coin-flips will be 6.25% given that the coin is 50% chance for either side\n"
   ]
  },
  {
   "cell_type": "code",
   "execution_count": 14,
   "metadata": {},
   "outputs": [
    {
     "name": "stdout",
     "output_type": "stream",
     "text": [
      "53.333333333333336%\n"
     ]
    }
   ],
   "source": [
    "# 2. If a list of people has 24 women and 21 men, then the probability of choosing a man from the list is 21/45. What is the probability of not choosing a man?\n",
    "\n",
    "not_man = 24/45\n",
    "print(str(not_man * 100) + \"%\")"
   ]
  },
  {
   "cell_type": "code",
   "execution_count": 16,
   "metadata": {},
   "outputs": [
    {
     "name": "stdout",
     "output_type": "stream",
     "text": [
      "0.0005%\n"
     ]
    }
   ],
   "source": [
    "# 3. The probability that Bernice will travel by plane sometime in the next year is 10%. The probability of a plane crash at any time is .005%. What is the probability that Bernice will be in a plane crash sometime in the next year?\n",
    "\n",
    "travel = .10\n",
    "crash = .00005\n",
    "death = travel * crash\n",
    "print(str(death*100) + \"%\")"
   ]
  },
  {
   "cell_type": "code",
   "execution_count": 17,
   "metadata": {},
   "outputs": [
    {
     "name": "stdout",
     "output_type": "stream",
     "text": [
      "The conclusion is misleading because the people who spend more time \n",
      "on the website are more likely to click more links and, consequently, more\n",
      "likely to be asked to complete the survey (since they clicked more links)\n",
      "which would cause the sample of the population to skew the results.\n"
     ]
    }
   ],
   "source": [
    "# 4. A data scientist wants to study the behavior of users on the company website. Each time a user clicks on a link on the website, there is a 5% chance that the user will be asked to complete a short survey about their behavior on the website. The data scientist uses the survey data to conclude that, on average, users spend 15 minutes surfing the company website before moving on to other things. What is wrong with this conclusion?\n",
    "\n",
    "print('''The conclusion is misleading because the people who spend more time \n",
    "on the website are more likely to click more links and, consequently, more\n",
    "likely to be asked to complete the survey (since they clicked more links)\n",
    "which would cause the sample of the population to skew the results.''')"
   ]
  }
 ],
 "metadata": {
  "kernelspec": {
   "display_name": "Python 3",
   "language": "python",
   "name": "python3"
  },
  "language_info": {
   "codemirror_mode": {
    "name": "ipython",
    "version": 3
   },
   "file_extension": ".py",
   "mimetype": "text/x-python",
   "name": "python",
   "nbconvert_exporter": "python",
   "pygments_lexer": "ipython3",
   "version": "3.7.2"
  }
 },
 "nbformat": 4,
 "nbformat_minor": 2
}
