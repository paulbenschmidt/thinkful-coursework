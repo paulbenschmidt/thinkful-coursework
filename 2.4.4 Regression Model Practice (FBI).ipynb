{
 "cells": [
  {
   "cell_type": "code",
   "execution_count": 116,
   "metadata": {},
   "outputs": [],
   "source": [
    "import pandas as pd\n",
    "import numpy as np\n",
    "import matplotlib.pyplot as plt\n",
    "import seaborn as sns\n",
    "import sklearn.linear_model as linear_model\n",
    "import scipy.stats as stats\n",
    "import statsmodels.formula.api as sm\n",
    "%matplotlib inline"
   ]
  },
  {
   "cell_type": "code",
   "execution_count": 155,
   "metadata": {
    "scrolled": true
   },
   "outputs": [
    {
     "name": "stdout",
     "output_type": "stream",
     "text": [
      "348\n"
     ]
    },
    {
     "data": {
      "text/html": [
       "<div>\n",
       "<style scoped>\n",
       "    .dataframe tbody tr th:only-of-type {\n",
       "        vertical-align: middle;\n",
       "    }\n",
       "\n",
       "    .dataframe tbody tr th {\n",
       "        vertical-align: top;\n",
       "    }\n",
       "\n",
       "    .dataframe thead th {\n",
       "        text-align: right;\n",
       "    }\n",
       "</style>\n",
       "<table border=\"1\" class=\"dataframe\">\n",
       "  <thead>\n",
       "    <tr style=\"text-align: right;\">\n",
       "      <th></th>\n",
       "      <th>city</th>\n",
       "      <th>population</th>\n",
       "      <th>violent_crime</th>\n",
       "      <th>murder</th>\n",
       "      <th>rape_legacy</th>\n",
       "      <th>robbery</th>\n",
       "      <th>agg_assault</th>\n",
       "      <th>property_crime</th>\n",
       "      <th>burglary</th>\n",
       "      <th>larceny</th>\n",
       "      <th>motor_theft</th>\n",
       "      <th>arson</th>\n",
       "    </tr>\n",
       "  </thead>\n",
       "  <tbody>\n",
       "    <tr>\n",
       "      <th>0</th>\n",
       "      <td>Adams Village</td>\n",
       "      <td>1861</td>\n",
       "      <td>0</td>\n",
       "      <td>0</td>\n",
       "      <td>0</td>\n",
       "      <td>0</td>\n",
       "      <td>0</td>\n",
       "      <td>12</td>\n",
       "      <td>2</td>\n",
       "      <td>10</td>\n",
       "      <td>0</td>\n",
       "      <td>0</td>\n",
       "    </tr>\n",
       "    <tr>\n",
       "      <th>1</th>\n",
       "      <td>Addison Town and Village</td>\n",
       "      <td>2577</td>\n",
       "      <td>3</td>\n",
       "      <td>0</td>\n",
       "      <td>0</td>\n",
       "      <td>0</td>\n",
       "      <td>3</td>\n",
       "      <td>24</td>\n",
       "      <td>3</td>\n",
       "      <td>20</td>\n",
       "      <td>1</td>\n",
       "      <td>0</td>\n",
       "    </tr>\n",
       "    <tr>\n",
       "      <th>2</th>\n",
       "      <td>Akron Village</td>\n",
       "      <td>2846</td>\n",
       "      <td>3</td>\n",
       "      <td>0</td>\n",
       "      <td>0</td>\n",
       "      <td>0</td>\n",
       "      <td>3</td>\n",
       "      <td>16</td>\n",
       "      <td>1</td>\n",
       "      <td>15</td>\n",
       "      <td>0</td>\n",
       "      <td>0</td>\n",
       "    </tr>\n",
       "    <tr>\n",
       "      <th>3</th>\n",
       "      <td>Albany</td>\n",
       "      <td>97956</td>\n",
       "      <td>791</td>\n",
       "      <td>8</td>\n",
       "      <td>30</td>\n",
       "      <td>227</td>\n",
       "      <td>526</td>\n",
       "      <td>4090</td>\n",
       "      <td>705</td>\n",
       "      <td>3243</td>\n",
       "      <td>142</td>\n",
       "      <td>0</td>\n",
       "    </tr>\n",
       "    <tr>\n",
       "      <th>4</th>\n",
       "      <td>Albion Village</td>\n",
       "      <td>6388</td>\n",
       "      <td>23</td>\n",
       "      <td>0</td>\n",
       "      <td>3</td>\n",
       "      <td>4</td>\n",
       "      <td>16</td>\n",
       "      <td>223</td>\n",
       "      <td>53</td>\n",
       "      <td>165</td>\n",
       "      <td>5</td>\n",
       "      <td>0</td>\n",
       "    </tr>\n",
       "  </tbody>\n",
       "</table>\n",
       "</div>"
      ],
      "text/plain": [
       "                       city  population  violent_crime  murder  rape_legacy  \\\n",
       "0             Adams Village        1861              0       0            0   \n",
       "1  Addison Town and Village        2577              3       0            0   \n",
       "2             Akron Village        2846              3       0            0   \n",
       "3                    Albany       97956            791       8           30   \n",
       "4            Albion Village        6388             23       0            3   \n",
       "\n",
       "   robbery  agg_assault  property_crime  burglary  larceny  motor_theft  arson  \n",
       "0        0            0              12         2       10            0      0  \n",
       "1        0            3              24         3       20            1      0  \n",
       "2        0            3              16         1       15            0      0  \n",
       "3      227          526            4090       705     3243          142      0  \n",
       "4        4           16             223        53      165            5      0  "
      ]
     },
     "execution_count": 155,
     "metadata": {},
     "output_type": "execute_result"
    }
   ],
   "source": [
    "#Loading and cleaning data\n",
    "\n",
    "df = pd.read_excel('table_8_offenses_known_to_law_enforcement_new_york_by_city_2013.xls')\n",
    "df = df.drop(df.index[0:4]).drop(df.index[-3:])\n",
    "df.columns = ['city','population','violent_crime','murder','rape_revised','rape_legacy','robbery','agg_assault',\n",
    "                       'property_crime','burglary','larceny','motor_theft','arson']\n",
    "df = df.drop('rape_revised', axis=1)\n",
    "df = df.fillna(0)\n",
    "df.index = range(len(df))\n",
    "\n",
    "print(len(df))\n",
    "df.head()"
   ]
  },
  {
   "cell_type": "code",
   "execution_count": 78,
   "metadata": {
    "scrolled": false
   },
   "outputs": [
    {
     "data": {
      "text/html": [
       "<div>\n",
       "<style scoped>\n",
       "    .dataframe tbody tr th:only-of-type {\n",
       "        vertical-align: middle;\n",
       "    }\n",
       "\n",
       "    .dataframe tbody tr th {\n",
       "        vertical-align: top;\n",
       "    }\n",
       "\n",
       "    .dataframe thead th {\n",
       "        text-align: right;\n",
       "    }\n",
       "</style>\n",
       "<table border=\"1\" class=\"dataframe\">\n",
       "  <thead>\n",
       "    <tr style=\"text-align: right;\">\n",
       "      <th></th>\n",
       "      <th>population</th>\n",
       "      <th>pop_winsorized</th>\n",
       "      <th>population_sq</th>\n",
       "      <th>pop_winsorized_sq</th>\n",
       "      <th>voilent_crime</th>\n",
       "      <th>murder</th>\n",
       "      <th>rape_legacy</th>\n",
       "      <th>robbery</th>\n",
       "      <th>agg_assault</th>\n",
       "      <th>property_crime</th>\n",
       "      <th>burglary</th>\n",
       "      <th>larceny</th>\n",
       "      <th>motor_theft</th>\n",
       "      <th>arson</th>\n",
       "      <th>total</th>\n",
       "    </tr>\n",
       "  </thead>\n",
       "  <tbody>\n",
       "    <tr>\n",
       "      <th>0</th>\n",
       "      <td>1861</td>\n",
       "      <td>1861</td>\n",
       "      <td>3463321</td>\n",
       "      <td>3463321</td>\n",
       "      <td>0</td>\n",
       "      <td>0</td>\n",
       "      <td>0</td>\n",
       "      <td>0</td>\n",
       "      <td>0</td>\n",
       "      <td>1</td>\n",
       "      <td>1</td>\n",
       "      <td>1</td>\n",
       "      <td>0</td>\n",
       "      <td>0</td>\n",
       "      <td>3</td>\n",
       "    </tr>\n",
       "    <tr>\n",
       "      <th>1</th>\n",
       "      <td>2577</td>\n",
       "      <td>2577</td>\n",
       "      <td>6640929</td>\n",
       "      <td>6640929</td>\n",
       "      <td>1</td>\n",
       "      <td>0</td>\n",
       "      <td>0</td>\n",
       "      <td>0</td>\n",
       "      <td>1</td>\n",
       "      <td>1</td>\n",
       "      <td>1</td>\n",
       "      <td>1</td>\n",
       "      <td>1</td>\n",
       "      <td>0</td>\n",
       "      <td>6</td>\n",
       "    </tr>\n",
       "    <tr>\n",
       "      <th>2</th>\n",
       "      <td>2846</td>\n",
       "      <td>2846</td>\n",
       "      <td>8099716</td>\n",
       "      <td>8099716</td>\n",
       "      <td>1</td>\n",
       "      <td>0</td>\n",
       "      <td>0</td>\n",
       "      <td>0</td>\n",
       "      <td>1</td>\n",
       "      <td>1</td>\n",
       "      <td>1</td>\n",
       "      <td>1</td>\n",
       "      <td>0</td>\n",
       "      <td>0</td>\n",
       "      <td>5</td>\n",
       "    </tr>\n",
       "    <tr>\n",
       "      <th>3</th>\n",
       "      <td>97956</td>\n",
       "      <td>36369</td>\n",
       "      <td>9595377936</td>\n",
       "      <td>1322704161</td>\n",
       "      <td>1</td>\n",
       "      <td>1</td>\n",
       "      <td>1</td>\n",
       "      <td>1</td>\n",
       "      <td>1</td>\n",
       "      <td>1</td>\n",
       "      <td>1</td>\n",
       "      <td>1</td>\n",
       "      <td>1</td>\n",
       "      <td>0</td>\n",
       "      <td>9</td>\n",
       "    </tr>\n",
       "    <tr>\n",
       "      <th>4</th>\n",
       "      <td>6388</td>\n",
       "      <td>6388</td>\n",
       "      <td>40806544</td>\n",
       "      <td>40806544</td>\n",
       "      <td>1</td>\n",
       "      <td>0</td>\n",
       "      <td>1</td>\n",
       "      <td>1</td>\n",
       "      <td>1</td>\n",
       "      <td>1</td>\n",
       "      <td>1</td>\n",
       "      <td>1</td>\n",
       "      <td>1</td>\n",
       "      <td>0</td>\n",
       "      <td>8</td>\n",
       "    </tr>\n",
       "  </tbody>\n",
       "</table>\n",
       "</div>"
      ],
      "text/plain": [
       "   population  pop_winsorized  population_sq  pop_winsorized_sq  \\\n",
       "0        1861            1861        3463321            3463321   \n",
       "1        2577            2577        6640929            6640929   \n",
       "2        2846            2846        8099716            8099716   \n",
       "3       97956           36369     9595377936         1322704161   \n",
       "4        6388            6388       40806544           40806544   \n",
       "\n",
       "   voilent_crime  murder  rape_legacy  robbery  agg_assault  property_crime  \\\n",
       "0              0       0            0        0            0               1   \n",
       "1              1       0            0        0            1               1   \n",
       "2              1       0            0        0            1               1   \n",
       "3              1       1            1        1            1               1   \n",
       "4              1       0            1        1            1               1   \n",
       "\n",
       "   burglary  larceny  motor_theft  arson  total  \n",
       "0         1        1            0      0      3  \n",
       "1         1        1            1      0      6  \n",
       "2         1        1            0      0      5  \n",
       "3         1        1            1      0      9  \n",
       "4         1        1            1      0      8  "
      ]
     },
     "execution_count": 78,
     "metadata": {},
     "output_type": "execute_result"
    }
   ],
   "source": [
    "#Creating simple features for all columns of DataFrame (don't judge me, Nick)\n",
    "\n",
    "features = pd.DataFrame(df['population'])\n",
    "features['pop_winsorized'] = stats.mstats.winsorize(features.population, limits=.1)\n",
    "features['population_sq'] = df.population**2\n",
    "features['pop_winsorized_sq'] = features.pop_winsorized**2\n",
    "features['voilent_crime'] = np.where(df.violent_crime>0, 1, 0)\n",
    "features['murder'] = np.where(df.murder>0, 1, 0)\n",
    "features['rape_legacy'] = np.where(df.rape_legacy>0, 1, 0)\n",
    "features['robbery'] = np.where(df.robbery>0, 1, 0)\n",
    "features['agg_assault'] = np.where(df.agg_assault>0, 1, 0)\n",
    "features['property_crime'] = np.where(df.property_crime>0, 1, 0)\n",
    "features['burglary'] = np.where(df.burglary>0, 1, 0)\n",
    "features['larceny'] = np.where(df.larceny>0, 1, 0)\n",
    "features['motor_theft'] = np.where(df.motor_theft>0, 1, 0)\n",
    "features['arson'] = np.where(df.arson>0, 1, 0)\n",
    "\n",
    "foo = features\n",
    "foo = foo.drop('population', axis=1).drop('population_sq', axis=1).drop('pop_winsorized', axis=1).drop('pop_winsorized_sq', axis=1)\n",
    "features['total'] = foo.sum(axis=1)\n",
    "\n",
    "features.head()"
   ]
  },
  {
   "cell_type": "code",
   "execution_count": 79,
   "metadata": {},
   "outputs": [
    {
     "data": {
      "text/html": [
       "<div>\n",
       "<style scoped>\n",
       "    .dataframe tbody tr th:only-of-type {\n",
       "        vertical-align: middle;\n",
       "    }\n",
       "\n",
       "    .dataframe tbody tr th {\n",
       "        vertical-align: top;\n",
       "    }\n",
       "\n",
       "    .dataframe thead th {\n",
       "        text-align: right;\n",
       "    }\n",
       "</style>\n",
       "<table border=\"1\" class=\"dataframe\">\n",
       "  <thead>\n",
       "    <tr style=\"text-align: right;\">\n",
       "      <th></th>\n",
       "      <th>population</th>\n",
       "      <th>population_sq</th>\n",
       "      <th>violent_crime</th>\n",
       "      <th>murder</th>\n",
       "      <th>rape_legacy</th>\n",
       "      <th>robbery</th>\n",
       "      <th>agg_assault</th>\n",
       "      <th>property_crime</th>\n",
       "      <th>burglary</th>\n",
       "      <th>larceny</th>\n",
       "      <th>motor_theft</th>\n",
       "      <th>arson</th>\n",
       "    </tr>\n",
       "  </thead>\n",
       "  <tbody>\n",
       "    <tr>\n",
       "      <th>0</th>\n",
       "      <td>-0.084830</td>\n",
       "      <td>-0.053866</td>\n",
       "      <td>-0.071608</td>\n",
       "      <td>-0.085562</td>\n",
       "      <td>-0.085562</td>\n",
       "      <td>-0.070708</td>\n",
       "      <td>-0.071074</td>\n",
       "      <td>-0.101910</td>\n",
       "      <td>-0.127233</td>\n",
       "      <td>-0.098804</td>\n",
       "      <td>-0.089001</td>\n",
       "      <td>-0.127558</td>\n",
       "    </tr>\n",
       "    <tr>\n",
       "      <th>1</th>\n",
       "      <td>-0.083239</td>\n",
       "      <td>-0.053865</td>\n",
       "      <td>-0.070542</td>\n",
       "      <td>-0.085562</td>\n",
       "      <td>-0.085562</td>\n",
       "      <td>-0.070708</td>\n",
       "      <td>-0.069316</td>\n",
       "      <td>-0.100344</td>\n",
       "      <td>-0.126152</td>\n",
       "      <td>-0.097228</td>\n",
       "      <td>-0.086522</td>\n",
       "      <td>-0.127558</td>\n",
       "    </tr>\n",
       "    <tr>\n",
       "      <th>2</th>\n",
       "      <td>-0.082641</td>\n",
       "      <td>-0.053864</td>\n",
       "      <td>-0.070542</td>\n",
       "      <td>-0.085562</td>\n",
       "      <td>-0.085562</td>\n",
       "      <td>-0.070708</td>\n",
       "      <td>-0.069316</td>\n",
       "      <td>-0.101388</td>\n",
       "      <td>-0.128314</td>\n",
       "      <td>-0.098016</td>\n",
       "      <td>-0.089001</td>\n",
       "      <td>-0.127558</td>\n",
       "    </tr>\n",
       "    <tr>\n",
       "      <th>3</th>\n",
       "      <td>0.128697</td>\n",
       "      <td>-0.051327</td>\n",
       "      <td>0.209360</td>\n",
       "      <td>0.351509</td>\n",
       "      <td>0.351509</td>\n",
       "      <td>0.149460</td>\n",
       "      <td>0.237226</td>\n",
       "      <td>0.430485</td>\n",
       "      <td>0.632809</td>\n",
       "      <td>0.410646</td>\n",
       "      <td>0.262986</td>\n",
       "      <td>-0.127558</td>\n",
       "    </tr>\n",
       "    <tr>\n",
       "      <th>4</th>\n",
       "      <td>-0.074771</td>\n",
       "      <td>-0.053856</td>\n",
       "      <td>-0.063438</td>\n",
       "      <td>-0.085562</td>\n",
       "      <td>-0.085562</td>\n",
       "      <td>-0.066828</td>\n",
       "      <td>-0.061696</td>\n",
       "      <td>-0.074364</td>\n",
       "      <td>-0.072095</td>\n",
       "      <td>-0.074380</td>\n",
       "      <td>-0.076607</td>\n",
       "      <td>-0.127558</td>\n",
       "    </tr>\n",
       "  </tbody>\n",
       "</table>\n",
       "</div>"
      ],
      "text/plain": [
       "   population  population_sq  violent_crime    murder  rape_legacy   robbery  \\\n",
       "0   -0.084830      -0.053866      -0.071608 -0.085562    -0.085562 -0.070708   \n",
       "1   -0.083239      -0.053865      -0.070542 -0.085562    -0.085562 -0.070708   \n",
       "2   -0.082641      -0.053864      -0.070542 -0.085562    -0.085562 -0.070708   \n",
       "3    0.128697      -0.051327       0.209360  0.351509     0.351509  0.149460   \n",
       "4   -0.074771      -0.053856      -0.063438 -0.085562    -0.085562 -0.066828   \n",
       "\n",
       "   agg_assault  property_crime  burglary   larceny  motor_theft     arson  \n",
       "0    -0.071074       -0.101910 -0.127233 -0.098804    -0.089001 -0.127558  \n",
       "1    -0.069316       -0.100344 -0.126152 -0.097228    -0.086522 -0.127558  \n",
       "2    -0.069316       -0.101388 -0.128314 -0.098016    -0.089001 -0.127558  \n",
       "3     0.237226        0.430485  0.632809  0.410646     0.262986 -0.127558  \n",
       "4    -0.061696       -0.074364 -0.072095 -0.074380    -0.076607 -0.127558  "
      ]
     },
     "execution_count": 79,
     "metadata": {},
     "output_type": "execute_result"
    }
   ],
   "source": [
    "standard_df = pd.DataFrame()\n",
    "standard_df['population'] = (df['population']-df['population'].mean())/df['population'].std()\n",
    "standard_df['population_sq'] = (features.population_sq-features.population_sq.mean())/features.population_sq.std()\n",
    "standard_df['violent_crime'] = (df['violent_crime']-df['violent_crime'].mean())/df['violent_crime'].std()\n",
    "standard_df['murder'] = (df['murder']-df['murder'].mean())/df['murder'].std()\n",
    "standard_df['rape_legacy'] = (df['murder']-df['murder'].mean())/df['murder'].std()\n",
    "standard_df['robbery'] = (df['robbery']-df['robbery'].mean())/df['robbery'].std()\n",
    "standard_df['agg_assault'] = (df['agg_assault']-df['agg_assault'].mean())/df['agg_assault'].std()\n",
    "standard_df['property_crime'] = (df['property_crime']-df['property_crime'].mean())/df['property_crime'].std()\n",
    "standard_df['burglary'] = (df['burglary']-df['burglary'].mean())/df['burglary'].std()\n",
    "standard_df['larceny'] = (df['larceny']-df['larceny'].mean())/df['larceny'].std()\n",
    "standard_df['motor_theft'] = (df['motor_theft']-df['motor_theft'].mean())/df['motor_theft'].std()\n",
    "standard_df['arson'] = (df['arson']-df['arson'].mean())/df['arson'].std()\n",
    "\n",
    "standard_df.head()"
   ]
  },
  {
   "cell_type": "code",
   "execution_count": 80,
   "metadata": {
    "scrolled": true
   },
   "outputs": [
    {
     "data": {
      "text/plain": [
       "<matplotlib.axes._subplots.AxesSubplot at 0x134bf9f0>"
      ]
     },
     "execution_count": 80,
     "metadata": {},
     "output_type": "execute_result"
    },
    {
     "data": {
      "image/png": "[encoded data removed]",
      "text/plain": [
       "<Figure size 432x288 with 1 Axes>"
      ]
     },
     "metadata": {
      "needs_background": "light"
     },
     "output_type": "display_data"
    }
   ],
   "source": [
    "# 𝑃𝑟𝑜𝑝𝑒𝑟𝑡𝑦𝑐𝑟𝑖𝑚𝑒 = 𝛼 + 𝑃𝑜𝑝𝑢𝑙𝑎𝑡𝑖𝑜𝑛 + 𝑃𝑜𝑝𝑢𝑙𝑎𝑡𝑖𝑜𝑛^2 + 𝑀𝑢𝑟𝑑𝑒𝑟 + 𝑅𝑜𝑏𝑏𝑒𝑟𝑦\n",
    "sns.distplot(list(df.property_crime))"
   ]
  },
  {
   "cell_type": "code",
   "execution_count": 81,
   "metadata": {},
   "outputs": [
    {
     "data": {
      "text/plain": [
       "<matplotlib.axes._subplots.AxesSubplot at 0x1350ec70>"
      ]
     },
     "execution_count": 81,
     "metadata": {},
     "output_type": "execute_result"
    },
    {
     "data": {
      "image/png": "[encoded data removed]",
      "text/plain": [
       "<Figure size 432x288 with 2 Axes>"
      ]
     },
     "metadata": {
      "needs_background": "light"
     },
     "output_type": "display_data"
    }
   ],
   "source": [
    "# Goal: Build a model to predict property crime\n",
    "sns.heatmap(df.corr(), annot=True)"
   ]
  },
  {
   "cell_type": "markdown",
   "metadata": {},
   "source": [
    "### Regression Model 1"
   ]
  },
  {
   "cell_type": "code",
   "execution_count": 82,
   "metadata": {},
   "outputs": [
    {
     "name": "stdout",
     "output_type": "stream",
     "text": [
      "Intercept: \n",
      " [-109.57533562]\n",
      "Coefficients: \n",
      " [[ 3.46570268e-02 -2.11108019e-09  1.51866535e+01 -9.62774363e+01]]\n",
      "\n",
      "R-squared: \n",
      " 0.9961247104988709\n"
     ]
    }
   ],
   "source": [
    "# 𝑃𝑟𝑜𝑝𝑒𝑟𝑡𝑦𝑐𝑟𝑖𝑚𝑒 = 𝛼 + 𝑃𝑜𝑝𝑢𝑙𝑎𝑡𝑖𝑜𝑛 + 𝑃𝑜𝑝𝑢𝑙𝑎𝑡𝑖𝑜𝑛2 + 𝑀𝑢𝑟𝑑𝑒𝑟 + 𝑅𝑜𝑏𝑏𝑒𝑟𝑦\n",
    "\n",
    "X = features[['population','population_sq','murder','robbery']]\n",
    "Y = df['property_crime'].values.reshape(-1, 1)\n",
    "\n",
    "regr = linear_model.LinearRegression()\n",
    "regr.fit(X, Y)\n",
    "\n",
    "print('Intercept: \\n', regr.intercept_)\n",
    "print('Coefficients: \\n', regr.coef_)\n",
    "print('\\nR-squared: \\n', regr.score(X, Y))"
   ]
  },
  {
   "cell_type": "code",
   "execution_count": 83,
   "metadata": {
    "scrolled": true
   },
   "outputs": [
    {
     "data": {
      "image/png": "[encoded data removed]",
      "text/plain": [
       "<Figure size 432x288 with 1 Axes>"
      ]
     },
     "metadata": {
      "needs_background": "light"
     },
     "output_type": "display_data"
    }
   ],
   "source": [
    "# Extract predicted values.\n",
    "predicted = regr.predict(X).ravel()\n",
    "actual = df['property_crime']\n",
    "\n",
    "# Calculate the error, also called the residual.\n",
    "residual = actual - predicted\n",
    "\n",
    "plt.hist(residual)\n",
    "plt.title('Residual counts')\n",
    "plt.xlabel('Residual')\n",
    "plt.ylabel('Count')\n",
    "plt.show()"
   ]
  },
  {
   "cell_type": "code",
   "execution_count": 84,
   "metadata": {},
   "outputs": [
    {
     "data": {
      "image/png": "[encoded data removed]",
      "text/plain": [
       "<Figure size 432x288 with 1 Axes>"
      ]
     },
     "metadata": {
      "needs_background": "light"
     },
     "output_type": "display_data"
    }
   ],
   "source": [
    "plt.scatter(predicted, residual)\n",
    "plt.xlabel('Predicted')\n",
    "plt.ylabel('Residual')\n",
    "plt.axhline(y=0)\n",
    "plt.title('Residual vs. Predicted')\n",
    "plt.show()"
   ]
  },
  {
   "cell_type": "code",
   "execution_count": 85,
   "metadata": {},
   "outputs": [
    {
     "data": {
      "image/png": "[encoded data removed]",
      "text/plain": [
       "<Figure size 432x288 with 1 Axes>"
      ]
     },
     "metadata": {
      "needs_background": "light"
     },
     "output_type": "display_data"
    }
   ],
   "source": [
    "plt.scatter(predicted, residual)\n",
    "plt.xlim(0, 10000)\n",
    "plt.xlabel('Predicted')\n",
    "plt.ylabel('Residual')\n",
    "plt.axhline(y=0)\n",
    "plt.title('Residual vs. Predicted (Limited X-Axis)')\n",
    "plt.show()"
   ]
  },
  {
   "cell_type": "code",
   "execution_count": 86,
   "metadata": {},
   "outputs": [
    {
     "data": {
      "text/html": [
       "<div>\n",
       "<style scoped>\n",
       "    .dataframe tbody tr th:only-of-type {\n",
       "        vertical-align: middle;\n",
       "    }\n",
       "\n",
       "    .dataframe tbody tr th {\n",
       "        vertical-align: top;\n",
       "    }\n",
       "\n",
       "    .dataframe thead th {\n",
       "        text-align: right;\n",
       "    }\n",
       "</style>\n",
       "<table border=\"1\" class=\"dataframe\">\n",
       "  <thead>\n",
       "    <tr style=\"text-align: right;\">\n",
       "      <th></th>\n",
       "      <th>population</th>\n",
       "      <th>population_sq</th>\n",
       "      <th>murder</th>\n",
       "      <th>robbery</th>\n",
       "    </tr>\n",
       "  </thead>\n",
       "  <tbody>\n",
       "    <tr>\n",
       "      <th>population</th>\n",
       "      <td>1.000000</td>\n",
       "      <td>0.998264</td>\n",
       "      <td>0.162309</td>\n",
       "      <td>0.064371</td>\n",
       "    </tr>\n",
       "    <tr>\n",
       "      <th>population_sq</th>\n",
       "      <td>0.998264</td>\n",
       "      <td>1.000000</td>\n",
       "      <td>0.133067</td>\n",
       "      <td>0.043983</td>\n",
       "    </tr>\n",
       "    <tr>\n",
       "      <th>murder</th>\n",
       "      <td>0.162309</td>\n",
       "      <td>0.133067</td>\n",
       "      <td>1.000000</td>\n",
       "      <td>0.313271</td>\n",
       "    </tr>\n",
       "    <tr>\n",
       "      <th>robbery</th>\n",
       "      <td>0.064371</td>\n",
       "      <td>0.043983</td>\n",
       "      <td>0.313271</td>\n",
       "      <td>1.000000</td>\n",
       "    </tr>\n",
       "  </tbody>\n",
       "</table>\n",
       "</div>"
      ],
      "text/plain": [
       "               population  population_sq    murder   robbery\n",
       "population       1.000000       0.998264  0.162309  0.064371\n",
       "population_sq    0.998264       1.000000  0.133067  0.043983\n",
       "murder           0.162309       0.133067  1.000000  0.313271\n",
       "robbery          0.064371       0.043983  0.313271  1.000000"
      ]
     },
     "execution_count": 86,
     "metadata": {},
     "output_type": "execute_result"
    }
   ],
   "source": [
    "X.corr()"
   ]
  },
  {
   "cell_type": "markdown",
   "metadata": {},
   "source": [
    "### Regression Model 2"
   ]
  },
  {
   "cell_type": "code",
   "execution_count": 87,
   "metadata": {},
   "outputs": [],
   "source": [
    "features['property_crime_log'] = df['property_crime'].replace(0,1)\n",
    "features['property_crime_log'] = np.log(np.int64(features['property_crime_log']))\n",
    "features['property_crime_winsorized'] = stats.mstats.winsorize(df.property_crime, limits=.1)"
   ]
  },
  {
   "cell_type": "code",
   "execution_count": 88,
   "metadata": {},
   "outputs": [
    {
     "name": "stdout",
     "output_type": "stream",
     "text": [
      "Intercept: \n",
      " [-7.47395524]\n",
      "Coefficients: \n",
      " [[1.03650408e-02 1.92161186e-07 1.09908997e+02 9.54165389e+01]]\n",
      "\n",
      "R-squared: \n",
      " 0.7820096386716618\n"
     ]
    }
   ],
   "source": [
    "# 𝑃𝑟𝑜𝑝𝑒𝑟𝑡𝑦𝑐𝑟𝑖𝑚𝑒 = 𝛼 + 𝑃𝑜𝑝𝑢𝑙𝑎𝑡𝑖𝑜𝑛 (Winsorized) + 𝑃𝑜𝑝𝑢𝑙𝑎𝑡𝑖𝑜𝑛^2 (Winsorized) + 𝑀𝑢𝑟𝑑𝑒𝑟 + 𝑅𝑜𝑏𝑏𝑒𝑟𝑦\n",
    "\n",
    "X = features[['pop_winsorized','pop_winsorized_sq','murder','robbery']]\n",
    "Y = features['property_crime_winsorized'].values.reshape(-1, 1)\n",
    "\n",
    "regr = linear_model.LinearRegression()\n",
    "regr.fit(X, Y)\n",
    "\n",
    "print('Intercept: \\n', regr.intercept_)\n",
    "print('Coefficients: \\n', regr.coef_)\n",
    "print('\\nR-squared: \\n', regr.score(X, Y))"
   ]
  },
  {
   "cell_type": "code",
   "execution_count": 89,
   "metadata": {
    "scrolled": true
   },
   "outputs": [
    {
     "data": {
      "image/png": "[encoded data removed]",
      "text/plain": [
       "<Figure size 432x288 with 1 Axes>"
      ]
     },
     "metadata": {
      "needs_background": "light"
     },
     "output_type": "display_data"
    }
   ],
   "source": [
    "predicted = regr.predict(X).ravel()\n",
    "actual = features['property_crime_winsorized']\n",
    "\n",
    "residual = actual - predicted\n",
    "\n",
    "plt.hist(residual)\n",
    "plt.title('Residual counts')\n",
    "plt.xlabel('Residual')\n",
    "plt.ylabel('Count')\n",
    "plt.show()"
   ]
  },
  {
   "cell_type": "code",
   "execution_count": 90,
   "metadata": {},
   "outputs": [
    {
     "data": {
      "image/png": "[encoded data removed]",
      "text/plain": [
       "<Figure size 432x288 with 1 Axes>"
      ]
     },
     "metadata": {
      "needs_background": "light"
     },
     "output_type": "display_data"
    }
   ],
   "source": [
    "plt.scatter(predicted, residual)\n",
    "plt.xlabel('Predicted')\n",
    "plt.ylabel('Residual')\n",
    "plt.axhline(y=0)\n",
    "plt.title('Residual vs. Predicted')\n",
    "plt.show()"
   ]
  },
  {
   "cell_type": "code",
   "execution_count": 91,
   "metadata": {},
   "outputs": [
    {
     "data": {
      "text/html": [
       "<div>\n",
       "<style scoped>\n",
       "    .dataframe tbody tr th:only-of-type {\n",
       "        vertical-align: middle;\n",
       "    }\n",
       "\n",
       "    .dataframe tbody tr th {\n",
       "        vertical-align: top;\n",
       "    }\n",
       "\n",
       "    .dataframe thead th {\n",
       "        text-align: right;\n",
       "    }\n",
       "</style>\n",
       "<table border=\"1\" class=\"dataframe\">\n",
       "  <thead>\n",
       "    <tr style=\"text-align: right;\">\n",
       "      <th></th>\n",
       "      <th>pop_winsorized</th>\n",
       "      <th>pop_winsorized_sq</th>\n",
       "      <th>murder</th>\n",
       "      <th>robbery</th>\n",
       "    </tr>\n",
       "  </thead>\n",
       "  <tbody>\n",
       "    <tr>\n",
       "      <th>pop_winsorized</th>\n",
       "      <td>1.000000</td>\n",
       "      <td>0.971392</td>\n",
       "      <td>0.529525</td>\n",
       "      <td>0.528494</td>\n",
       "    </tr>\n",
       "    <tr>\n",
       "      <th>pop_winsorized_sq</th>\n",
       "      <td>0.971392</td>\n",
       "      <td>1.000000</td>\n",
       "      <td>0.545179</td>\n",
       "      <td>0.447906</td>\n",
       "    </tr>\n",
       "    <tr>\n",
       "      <th>murder</th>\n",
       "      <td>0.529525</td>\n",
       "      <td>0.545179</td>\n",
       "      <td>1.000000</td>\n",
       "      <td>0.313271</td>\n",
       "    </tr>\n",
       "    <tr>\n",
       "      <th>robbery</th>\n",
       "      <td>0.528494</td>\n",
       "      <td>0.447906</td>\n",
       "      <td>0.313271</td>\n",
       "      <td>1.000000</td>\n",
       "    </tr>\n",
       "  </tbody>\n",
       "</table>\n",
       "</div>"
      ],
      "text/plain": [
       "                   pop_winsorized  pop_winsorized_sq    murder   robbery\n",
       "pop_winsorized           1.000000           0.971392  0.529525  0.528494\n",
       "pop_winsorized_sq        0.971392           1.000000  0.545179  0.447906\n",
       "murder                   0.529525           0.545179  1.000000  0.313271\n",
       "robbery                  0.528494           0.447906  0.313271  1.000000"
      ]
     },
     "execution_count": 91,
     "metadata": {},
     "output_type": "execute_result"
    }
   ],
   "source": [
    "X.corr()"
   ]
  },
  {
   "cell_type": "markdown",
   "metadata": {},
   "source": [
    "### Regression Model 3"
   ]
  },
  {
   "cell_type": "code",
   "execution_count": 124,
   "metadata": {},
   "outputs": [
    {
     "name": "stdout",
     "output_type": "stream",
     "text": [
      "Intercept: \n",
      " [-1.45553544e-17]\n",
      "Coefficients: \n",
      " [[0.0399113  0.01373753 0.1435746  0.80510208]]\n",
      "\n",
      "R-squared: \n",
      " 0.9999975909517288\n"
     ]
    }
   ],
   "source": [
    "# 𝑃𝑟𝑜𝑝𝑒𝑟𝑡𝑦𝑐𝑟𝑖𝑚𝑒 = 𝛼 + 𝑃𝑜𝑝𝑢𝑙𝑎𝑡𝑖𝑜𝑛 + 𝑀𝑢𝑟𝑑𝑒𝑟 + Burglary\n",
    "\n",
    "X = standard_df[['population','murder','burglary','larceny']]\n",
    "Y = standard_df['property_crime'].values.reshape(-1, 1)\n",
    "\n",
    "regr = linear_model.LinearRegression()\n",
    "regr.fit(X, Y)\n",
    "\n",
    "print('Intercept: \\n', regr.intercept_)\n",
    "print('Coefficients: \\n', regr.coef_)\n",
    "print('\\nR-squared: \\n', regr.score(X, Y))"
   ]
  },
  {
   "cell_type": "code",
   "execution_count": 125,
   "metadata": {},
   "outputs": [
    {
     "data": {
      "text/html": [
       "<table class=\"simpletable\">\n",
       "<caption>OLS Regression Results</caption>\n",
       "<tr>\n",
       "  <th>Dep. Variable:</th>     <td>property_crime</td>  <th>  R-squared:         </th> <td>   0.998</td> \n",
       "</tr>\n",
       "<tr>\n",
       "  <th>Model:</th>                   <td>OLS</td>       <th>  Adj. R-squared:    </th> <td>   0.998</td> \n",
       "</tr>\n",
       "<tr>\n",
       "  <th>Method:</th>             <td>Least Squares</td>  <th>  F-statistic:       </th> <td>7.027e+04</td>\n",
       "</tr>\n",
       "<tr>\n",
       "  <th>Date:</th>             <td>Wed, 10 Apr 2019</td> <th>  Prob (F-statistic):</th>  <td>  0.00</td>  \n",
       "</tr>\n",
       "<tr>\n",
       "  <th>Time:</th>                 <td>08:49:25</td>     <th>  Log-Likelihood:    </th> <td> -2488.7</td> \n",
       "</tr>\n",
       "<tr>\n",
       "  <th>No. Observations:</th>      <td>   348</td>      <th>  AIC:               </th> <td>   4985.</td> \n",
       "</tr>\n",
       "<tr>\n",
       "  <th>Df Residuals:</th>          <td>   344</td>      <th>  BIC:               </th> <td>   5001.</td> \n",
       "</tr>\n",
       "<tr>\n",
       "  <th>Df Model:</th>              <td>     3</td>      <th>                     </th>     <td> </td>    \n",
       "</tr>\n",
       "<tr>\n",
       "  <th>Covariance Type:</th>      <td>nonrobust</td>    <th>                     </th>     <td> </td>    \n",
       "</tr>\n",
       "</table>\n",
       "<table class=\"simpletable\">\n",
       "<tr>\n",
       "       <td></td>         <th>coef</th>     <th>std err</th>      <th>t</th>      <th>P>|t|</th>  <th>[0.025</th>    <th>0.975]</th>  \n",
       "</tr>\n",
       "<tr>\n",
       "  <th>Intercept</th>  <td>   87.0658</td> <td>   19.948</td> <td>    4.365</td> <td> 0.000</td> <td>   47.830</td> <td>  126.302</td>\n",
       "</tr>\n",
       "<tr>\n",
       "  <th>population</th> <td>    0.0122</td> <td>    0.001</td> <td>   12.162</td> <td> 0.000</td> <td>    0.010</td> <td>    0.014</td>\n",
       "</tr>\n",
       "<tr>\n",
       "  <th>murder</th>     <td>  228.4894</td> <td>   11.625</td> <td>   19.655</td> <td> 0.000</td> <td>  205.624</td> <td>  251.355</td>\n",
       "</tr>\n",
       "<tr>\n",
       "  <th>robbery</th>    <td>   -1.9239</td> <td>    0.605</td> <td>   -3.179</td> <td> 0.002</td> <td>   -3.114</td> <td>   -0.734</td>\n",
       "</tr>\n",
       "</table>\n",
       "<table class=\"simpletable\">\n",
       "<tr>\n",
       "  <th>Omnibus:</th>       <td>165.960</td> <th>  Durbin-Watson:     </th> <td>   2.057</td>\n",
       "</tr>\n",
       "<tr>\n",
       "  <th>Prob(Omnibus):</th> <td> 0.000</td>  <th>  Jarque-Bera (JB):  </th> <td>2111.887</td>\n",
       "</tr>\n",
       "<tr>\n",
       "  <th>Skew:</th>          <td> 1.642</td>  <th>  Prob(JB):          </th> <td>    0.00</td>\n",
       "</tr>\n",
       "<tr>\n",
       "  <th>Kurtosis:</th>      <td>14.613</td>  <th>  Cond. No.          </th> <td>5.67e+05</td>\n",
       "</tr>\n",
       "</table><br/><br/>Warnings:<br/>[1] Standard Errors assume that the covariance matrix of the errors is correctly specified.<br/>[2] The condition number is large, 5.67e+05. This might indicate that there are<br/>strong multicollinearity or other numerical problems."
      ],
      "text/plain": [
       "<class 'statsmodels.iolib.summary.Summary'>\n",
       "\"\"\"\n",
       "                            OLS Regression Results                            \n",
       "==============================================================================\n",
       "Dep. Variable:         property_crime   R-squared:                       0.998\n",
       "Model:                            OLS   Adj. R-squared:                  0.998\n",
       "Method:                 Least Squares   F-statistic:                 7.027e+04\n",
       "Date:                Wed, 10 Apr 2019   Prob (F-statistic):               0.00\n",
       "Time:                        08:49:25   Log-Likelihood:                -2488.7\n",
       "No. Observations:                 348   AIC:                             4985.\n",
       "Df Residuals:                     344   BIC:                             5001.\n",
       "Df Model:                           3                                         \n",
       "Covariance Type:            nonrobust                                         \n",
       "==============================================================================\n",
       "                 coef    std err          t      P>|t|      [0.025      0.975]\n",
       "------------------------------------------------------------------------------\n",
       "Intercept     87.0658     19.948      4.365      0.000      47.830     126.302\n",
       "population     0.0122      0.001     12.162      0.000       0.010       0.014\n",
       "murder       228.4894     11.625     19.655      0.000     205.624     251.355\n",
       "robbery       -1.9239      0.605     -3.179      0.002      -3.114      -0.734\n",
       "==============================================================================\n",
       "Omnibus:                      165.960   Durbin-Watson:                   2.057\n",
       "Prob(Omnibus):                  0.000   Jarque-Bera (JB):             2111.887\n",
       "Skew:                           1.642   Prob(JB):                         0.00\n",
       "Kurtosis:                      14.613   Cond. No.                     5.67e+05\n",
       "==============================================================================\n",
       "\n",
       "Warnings:\n",
       "[1] Standard Errors assume that the covariance matrix of the errors is correctly specified.\n",
       "[2] The condition number is large, 5.67e+05. This might indicate that there are\n",
       "strong multicollinearity or other numerical problems.\n",
       "\"\"\""
      ]
     },
     "execution_count": 125,
     "metadata": {},
     "output_type": "execute_result"
    }
   ],
   "source": [
    "model = sm.ols(formula='property_crime ~ population+murder+robbery', data=df)\n",
    "fitted1 = model.fit()\n",
    "fitted1.summary()"
   ]
  },
  {
   "cell_type": "code",
   "execution_count": 93,
   "metadata": {},
   "outputs": [
    {
     "data": {
      "image/png": "[encoded data removed]",
      "text/plain": [
       "<Figure size 432x288 with 1 Axes>"
      ]
     },
     "metadata": {
      "needs_background": "light"
     },
     "output_type": "display_data"
    }
   ],
   "source": [
    "predicted = regr.predict(X).ravel()\n",
    "actual = df.property_crime\n",
    "\n",
    "residual = actual - predicted\n",
    "\n",
    "plt.hist(residual)\n",
    "plt.title('Residual counts')\n",
    "plt.xlabel('Residual')\n",
    "plt.ylabel('Count')\n",
    "plt.show()"
   ]
  },
  {
   "cell_type": "code",
   "execution_count": 154,
   "metadata": {},
   "outputs": [
    {
     "name": "stdout",
     "output_type": "stream",
     "text": [
      "216    141952.554722\n",
      "Name: property_crime, dtype: float64\n"
     ]
    },
    {
     "data": {
      "text/plain": [
       "city              New York\n",
       "population         8396126\n",
       "violent_crime        52384\n",
       "murder                 335\n",
       "rape_legacy           1112\n",
       "robbery              19170\n",
       "agg_assault          31767\n",
       "property_crime      141971\n",
       "burglary             16606\n",
       "larceny             117931\n",
       "motor_theft           7434\n",
       "arson                    0\n",
       "Name: 216, dtype: object"
      ]
     },
     "execution_count": 154,
     "metadata": {},
     "output_type": "execute_result"
    }
   ],
   "source": [
    "print(residual[residual == residual.max()])\n",
    "df.iloc[216, :]"
   ]
  },
  {
   "cell_type": "code",
   "execution_count": 145,
   "metadata": {},
   "outputs": [
    {
     "data": {
      "image/png": "[encoded data removed]",
      "text/plain": [
       "<Figure size 432x288 with 1 Axes>"
      ]
     },
     "metadata": {
      "needs_background": "light"
     },
     "output_type": "display_data"
    }
   ],
   "source": [
    "plt.hist(residual, bins=1000)\n",
    "plt.xlim(0, 1500)\n",
    "plt.title('Residual counts')\n",
    "plt.xlabel('Residual')\n",
    "plt.ylabel('Count')\n",
    "plt.show()"
   ]
  },
  {
   "cell_type": "code",
   "execution_count": 152,
   "metadata": {},
   "outputs": [
    {
     "data": {
      "image/png": "[encoded data removed]",
      "text/plain": [
       "<Figure size 432x288 with 1 Axes>"
      ]
     },
     "metadata": {
      "needs_background": "light"
     },
     "output_type": "display_data"
    }
   ],
   "source": [
    "plt.scatter(predicted, residual)\n",
    "plt.xlabel('Predicted')\n",
    "plt.ylabel('Residual')\n",
    "plt.title('Residual vs. Predicted')\n",
    "plt.show()"
   ]
  },
  {
   "cell_type": "code",
   "execution_count": 153,
   "metadata": {},
   "outputs": [
    {
     "data": {
      "image/png": "[encoded data removed]",
      "text/plain": [
       "<Figure size 432x288 with 1 Axes>"
      ]
     },
     "metadata": {
      "needs_background": "light"
     },
     "output_type": "display_data"
    }
   ],
   "source": [
    "plt.scatter(predicted, residual)\n",
    "plt.xlim(0, 1.5)\n",
    "plt.ylim(0,15000)\n",
    "plt.xlabel('Predicted')\n",
    "plt.ylabel('Residual')\n",
    "plt.title('Residual vs. Predicted (Limited X- and Y-Axis)')\n",
    "plt.show()"
   ]
  },
  {
   "cell_type": "code",
   "execution_count": 126,
   "metadata": {},
   "outputs": [
    {
     "data": {
      "text/html": [
       "<div>\n",
       "<style scoped>\n",
       "    .dataframe tbody tr th:only-of-type {\n",
       "        vertical-align: middle;\n",
       "    }\n",
       "\n",
       "    .dataframe tbody tr th {\n",
       "        vertical-align: top;\n",
       "    }\n",
       "\n",
       "    .dataframe thead th {\n",
       "        text-align: right;\n",
       "    }\n",
       "</style>\n",
       "<table border=\"1\" class=\"dataframe\">\n",
       "  <thead>\n",
       "    <tr style=\"text-align: right;\">\n",
       "      <th></th>\n",
       "      <th>population</th>\n",
       "      <th>murder</th>\n",
       "      <th>burglary</th>\n",
       "      <th>larceny</th>\n",
       "    </tr>\n",
       "  </thead>\n",
       "  <tbody>\n",
       "    <tr>\n",
       "      <th>population</th>\n",
       "      <td>1.000000</td>\n",
       "      <td>0.986758</td>\n",
       "      <td>0.970578</td>\n",
       "      <td>0.997946</td>\n",
       "    </tr>\n",
       "    <tr>\n",
       "      <th>murder</th>\n",
       "      <td>0.986758</td>\n",
       "      <td>1.000000</td>\n",
       "      <td>0.993733</td>\n",
       "      <td>0.993175</td>\n",
       "    </tr>\n",
       "    <tr>\n",
       "      <th>burglary</th>\n",
       "      <td>0.970578</td>\n",
       "      <td>0.993733</td>\n",
       "      <td>1.000000</td>\n",
       "      <td>0.982700</td>\n",
       "    </tr>\n",
       "    <tr>\n",
       "      <th>larceny</th>\n",
       "      <td>0.997946</td>\n",
       "      <td>0.993175</td>\n",
       "      <td>0.982700</td>\n",
       "      <td>1.000000</td>\n",
       "    </tr>\n",
       "  </tbody>\n",
       "</table>\n",
       "</div>"
      ],
      "text/plain": [
       "            population    murder  burglary   larceny\n",
       "population    1.000000  0.986758  0.970578  0.997946\n",
       "murder        0.986758  1.000000  0.993733  0.993175\n",
       "burglary      0.970578  0.993733  1.000000  0.982700\n",
       "larceny       0.997946  0.993175  0.982700  1.000000"
      ]
     },
     "execution_count": 126,
     "metadata": {},
     "output_type": "execute_result"
    }
   ],
   "source": [
    "X.corr()"
   ]
  },
  {
   "cell_type": "markdown",
   "metadata": {},
   "source": [
    "In conclusion, **regression model 3** explains the greatest amount of variance with four independent variables: R-squared and adjusted R-squared are both calculated as 99.8%. While this model is at risk of overfitting, it provides the most accuracy in terms of prediction. \n",
    "\n",
    "The city of New York has the largest residual by far with 141952.554722; however, considering it is a considerable outlier (the only city in the data with that large of a population), it would be unwise to compromise accuracy of the cities with average population size for the sake of 1 data point amidst 347 others. Moreover, considering there are no comparable cities to New York in this data set, if one was more concerned with predicting the property crime rate of New York it would be more beneficial to compare these points in a data set withthe data points of larger cities throughout the United States."
   ]
  }
 ],
 "metadata": {
  "kernelspec": {
   "display_name": "Python 3",
   "language": "python",
   "name": "python3"
  },
  "language_info": {
   "codemirror_mode": {
    "name": "ipython",
    "version": 3
   },
   "file_extension": ".py",
   "mimetype": "text/x-python",
   "name": "python",
   "nbconvert_exporter": "python",
   "pygments_lexer": "ipython3",
   "version": "3.7.2"
  }
 },
 "nbformat": 4,
 "nbformat_minor": 2
}
