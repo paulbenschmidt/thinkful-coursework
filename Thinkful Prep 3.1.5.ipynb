{
 "cells": [
  {
   "cell_type": "code",
   "execution_count": 1,
   "metadata": {},
   "outputs": [
    {
     "name": "stdout",
     "output_type": "stream",
     "text": [
      "     name  age\n",
      "0    Greg   14\n",
      "1  Marcia   12\n",
      "2   Peter   11\n",
      "3     Jan   10\n",
      "4   Bobby    8\n",
      "5   Cindy    6\n",
      "6  Oliver    8\n",
      "Mean: 9.857142857142858\n",
      "Median: 10.0\n",
      "Mode: 0    8\n",
      "dtype: int64\n",
      "Variance A: 7.476190476190475\n",
      "Variance B: 7.476190476190475\n",
      "Standard Deviation AA: 2.734262327610589\n",
      "Standard Deviation AB: 2.734262327610589\n",
      "Standard Deviation BA: 2.734262327610589\n",
      "Standard Deviation BB: 2.531435020952764\n",
      "Standard Error: 1.0334540197243192\n"
     ]
    }
   ],
   "source": [
    "import pandas as pd\n",
    "import numpy as np\n",
    "import statistics\n",
    "\n",
    "# Question 1\n",
    "# Greg was 14, Marcia was 12, Peter was 11, Jan was 10, Bobby was 8, and Cindy was 6 when they started playing the Brady kids on The Brady Bunch. Cousin Oliver was 8 years old when he joined the show. What are the mean, median, and mode of the kids' ages when they first appeared on the show? What are the variance, standard deviation, and standard error?\n",
    "\n",
    "brady = pd.DataFrame()\n",
    "brady['name'] = ['Greg', 'Marcia', 'Peter', 'Jan', 'Bobby', 'Cindy', 'Oliver']\n",
    "brady['age'] = [14, 12, 11, 10, 8, 6, 8]\n",
    "\n",
    "print(brady)\n",
    "\n",
    "print(\"Mean: \" + str(brady.age.mean()))\n",
    "print(\"Median: \" + str(brady.age.median()))\n",
    "print(\"Mode: \" + str(brady.age.mode()))\n",
    "print(\"Variance A: \" + str(brady.age.var()))\n",
    "print(\"Variance B: \" + str(brady['age'].var()))\n",
    "print(\"Standard Deviation AA: \" + str(brady.age.std(ddof=1)))\n",
    "print(\"Standard Deviation AB: \" + str(brady.age.std()))\n",
    "print(\"Standard Deviation BA: \" + str(np.std(brady['age'], ddof=1)))\n",
    "print(\"Standard Deviation BB: \" + str(np.std(brady['age'])))\n",
    "print(\"Standard Error: \" + str(brady.age.std() / np.sqrt(len(brady['age']))))\n"
   ]
  },
  {
   "cell_type": "code",
   "execution_count": 24,
   "metadata": {},
   "outputs": [
    {
     "name": "stdout",
     "output_type": "stream",
     "text": [
      "Using these estimates, my choice of central tendency would\n",
      "be the Mean because it gives the most accurate representation of the\n",
      "entire group - considering their ages are very evenly spread. My \n",
      "choice of variance estimations would be the standard deviation in order to \n",
      "evenly weight all data points instead of giving the outliers more weight \n",
      "than necessary like the variance would do.\n"
     ]
    }
   ],
   "source": [
    "# Question 2\n",
    "# Using these estimates, if you had to choose only one estimate of central tendency and one estimate of variance to describe the data, which would you pick and why?\n",
    "\n",
    "print('''Using these estimates, my choice of central tendency would\n",
    "be the Mean because it gives the most accurate representation of the\n",
    "entire group - considering their ages are very evenly spread. My \n",
    "choice of variance estimations would be the standard deviation in order to \n",
    "evenly weight all data points instead of giving the outliers more weight \n",
    "than necessary like the variance would do.''')"
   ]
  },
  {
   "cell_type": "code",
   "execution_count": 20,
   "metadata": {},
   "outputs": [
    {
     "name": "stdout",
     "output_type": "stream",
     "text": [
      "Mean: 10.0\n",
      "Median: 10.0\n",
      "Mode: 0    8\n",
      "dtype: int64\n",
      "Variance A: 6.333333333333333\n",
      "Variance B: 6.333333333333333\n",
      "Standard Deviation AA: 2.516611478423583\n",
      "Standard Deviation AB: 2.516611478423583\n",
      "Standard Deviation BA: 2.516611478423583\n",
      "Standard Deviation BB: 2.32992949004287\n",
      "Standard Error: 0.9511897312113418\n",
      "\n",
      "The only numbers that did not change as a result of Cindy's birthday\n",
      "were the Mode and Median. The mean increased slightly to account for the bottom\n",
      "shift, and all variances were reduced because the far-lower oultier grew closer\n",
      "to the group's average.\n"
     ]
    }
   ],
   "source": [
    "# Question 3\n",
    "# Next, Cindy has a birthday. Update your estimates- what changed, and what didn't?\n",
    "\n",
    "brady = pd.DataFrame()\n",
    "brady['name'] = ['Greg', 'Marcia', 'Peter', 'Jan', 'Bobby', 'Cindy', 'Oliver']\n",
    "brady['age'] = [14, 12, 11, 10, 8, 7, 8]\n",
    "\n",
    "brady\n",
    "\n",
    "print(\"Mean: \" + str(brady.age.mean()))\n",
    "print(\"Median: \" + str(brady.age.median()))\n",
    "print(\"Mode: \" + str(brady.age.mode()))\n",
    "print(\"Variance A: \" + str(brady.age.var()))\n",
    "print(\"Variance B: \" + str(brady['age'].var()))\n",
    "print(\"Standard Deviation AA: \" + str(brady.age.std(ddof=1)))\n",
    "print(\"Standard Deviation AB: \" + str(brady.age.std()))\n",
    "print(\"Standard Deviation BA: \" + str(np.std(brady['age'], ddof=1)))\n",
    "print(\"Standard Deviation BB: \" + str(np.std(brady['age'])))\n",
    "print(\"Standard Error: \" + str(brady.age.std() / np.sqrt(len(brady['age']))))\n",
    "\n",
    "print('''\\nThe only numbers that did not change as a result of Cindy\\'s birthday\n",
    "were the Mode and Median. The mean increased slightly to account for the bottom\n",
    "shift, and all variances were reduced because the far-lower oultier grew closer\n",
    "to the group\\'s average.''')"
   ]
  },
  {
   "cell_type": "code",
   "execution_count": 26,
   "metadata": {},
   "outputs": [
    {
     "name": "stdout",
     "output_type": "stream",
     "text": [
      "Mean: 9.0\n",
      "Median: 10.0\n",
      "Mode: 0     1\n",
      "1     7\n",
      "2     8\n",
      "3    10\n",
      "4    11\n",
      "5    12\n",
      "6    14\n",
      "dtype: int64\n",
      "Variance A: 18.0\n",
      "Variance B: 18.0\n",
      "Standard Deviation AA: 4.242640687119285\n",
      "Standard Deviation AB: 4.242640687119285\n",
      "Standard Deviation BA: 4.242640687119285\n",
      "Standard Deviation BB: 3.927922024247863\n",
      "Standard Error: 1.6035674514745462\n",
      "\n",
      "My choice of central tendency does not change because the mean\n",
      "is the only option of central tendency that displays the effect of the new \n",
      "1 year-old Jessica. My choice of variance estimations would change from \n",
      "standard deviation to variance in order to more heavily weight the new \n",
      "outlier.\n"
     ]
    }
   ],
   "source": [
    "# Question 4\n",
    "# obody likes Cousin Oliver. Maybe the network should have used an even younger actor. Replace Cousin Oliver with 1-year-old Jessica, then recalculate again. Does this change your choice of central tendency or variance estimation methods?\n",
    "\n",
    "brady = pd.DataFrame()\n",
    "brady['name'] = ['Greg', 'Marcia', 'Peter', 'Jan', 'Bobby', 'Cindy', 'Jessica']\n",
    "brady['age'] = [14, 12, 11, 10, 8, 7, 1]\n",
    "\n",
    "brady\n",
    "\n",
    "print(\"Mean: \" + str(brady.age.mean()))\n",
    "print(\"Median: \" + str(brady.age.median()))\n",
    "print(\"Mode: \" + str(brady.age.mode()))\n",
    "print(\"Variance A: \" + str(brady.age.var()))\n",
    "print(\"Variance B: \" + str(brady['age'].var()))\n",
    "print(\"Standard Deviation AA: \" + str(brady.age.std(ddof=1)))\n",
    "print(\"Standard Deviation AB: \" + str(brady.age.std()))\n",
    "print(\"Standard Deviation BA: \" + str(np.std(brady['age'], ddof=1)))\n",
    "print(\"Standard Deviation BB: \" + str(np.std(brady['age'])))\n",
    "print(\"Standard Error: \" + str(brady.age.std() / np.sqrt(len(brady['age']))))\n",
    "\n",
    "print('''\\nMy choice of central tendency does not change because the mean\n",
    "is the only option of central tendency that displays the effect of the new \n",
    "1 year-old Jessica. My choice of variance estimations would change from \n",
    "standard deviation to variance in order to more heavily weight the new \n",
    "outlier.''')"
   ]
  },
  {
   "cell_type": "code",
   "execution_count": 3,
   "metadata": {},
   "outputs": [
    {
     "name": "stdout",
     "output_type": "stream",
     "text": [
      "Considering the SciPhi Phanatic is a small niche with little relevance \n",
      "to The Brady Bunch, it makes sense to take the mean of the other magazines: \n",
      "therefore, the percentage of adult Americans would be about 20%.\n"
     ]
    }
   ],
   "source": [
    "# Question 5\n",
    "# On the 50th anniversary of The Brady Bunch, four different magazines asked their readers whether they were fans of the show. The answers were: TV Guide 20% fans Entertainment Weekly 23% fans Pop Culture Today 17% fans SciPhi Phanatic 5% fans. Based on these numbers, what percentage of adult Americans would you estimate were Brady Bunch fans on the 50th anniversary of the show?\n",
    "\n",
    "# Weights for discussion\n",
    "# TV Guide 20% fans > 35% weight\n",
    "# Entertainment Weekly 23% fans > 35% weight\n",
    "# Pop Culture Today 17% fans > 25% weight\n",
    "# SciPhi Phanatic 5% fans > 5% weight\n",
    "\n",
    "print('''Considering the SciPhi Phanatic is a small niche with little relevance \n",
    "to The Brady Bunch, it makes sense to take the mean of the other magazines: \n",
    "therefore, the percentage of adult Americans would be about 20%.''')"
   ]
  }
 ],
 "metadata": {
  "kernelspec": {
   "display_name": "Python 3",
   "language": "python",
   "name": "python3"
  },
  "language_info": {
   "codemirror_mode": {
    "name": "ipython",
    "version": 3
   },
   "file_extension": ".py",
   "mimetype": "text/x-python",
   "name": "python",
   "nbconvert_exporter": "python",
   "pygments_lexer": "ipython3",
   "version": "3.7.2"
  }
 },
 "nbformat": 4,
 "nbformat_minor": 2
}
