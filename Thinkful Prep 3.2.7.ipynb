{
 "cells": [
  {
   "cell_type": "code",
   "execution_count": 5,
   "metadata": {},
   "outputs": [
    {
     "name": "stdout",
     "output_type": "stream",
     "text": [
      "Data Source: Amsterdam availability data scraped from AirBnB on December 24th. Question: What arethe popular neighborhoods in Amsterdam?\n",
      "Answer: The shortcomings are twofold: the data is skewed due to the holiday and AirBnB is used as the gauge for the popular neighborhoods of Amsterdam. Regarding the second point, popular isn't well defined and does not clarify whether it means popular in terms of its citizens or in terms of vistors.\n",
      "(After looking at the answer, another shortcoming is that citizens may be less willing to open their homes on a holiday.)\n",
      "To fix this, I would recommend choosing a day that will not be heavily affected by holidays or changing the question to be about the holiday bookings.\n"
     ]
    }
   ],
   "source": [
    "print('''Data Source: Amsterdam availability data scraped from AirBnB on December 24th. Question: What arethe popular neighborhoods in Amsterdam?''')\n",
    "print('''Answer: The shortcomings are twofold: the data is skewed due to the holiday and AirBnB is used as the gauge for the popular neighborhoods of Amsterdam. Regarding the second point, popular isn't well defined and does not clarify whether it means popular in terms of its citizens or in terms of vistors.\n",
    "(After looking at the answer, another shortcoming is that citizens may be less willing to open their homes on a holiday.)\n",
    "To fix this, I would recommend choosing a day that will not be heavily affected by holidays or changing the question to be about the holiday bookings.''')"
   ]
  },
  {
   "cell_type": "code",
   "execution_count": 8,
   "metadata": {},
   "outputs": [
    {
     "name": "stdout",
     "output_type": "stream",
     "text": [
      "Data Source: Mental health services use on September 12, 2001 in San Francisco, CA and New York City, NY. Question: How do patterns of mental health service use vary between cities?\n",
      "Data is skewed because of the immediate trauma of 9/11 that would increase the use of mental health services and because NY would show considerably heavier use because of its proximity to the terrorist attack.\n",
      "Reframe the question to be about the percentage of people who pursue meantal health services after a trauma relative to any average day in the same location (or nearby location within defined mile radius).\n"
     ]
    }
   ],
   "source": [
    "print('''Data Source: Mental health services use on September 12, 2001 in San Francisco, CA and New York City, NY. Question: How do patterns of mental health service use vary between cities?''')\n",
    "print('''Answer: Data is skewed because of the immediate trauma of 9/11 that would increase the use of mental health services and because NY would show considerably heavier use because of its proximity to the terrorist attack.\n",
    "Reframe the question to be about the percentage of people who pursue meantal health services after a trauma relative to any average day in the same location (or nearby location within defined mile radius).''')"
   ]
  },
  {
   "cell_type": "code",
   "execution_count": 9,
   "metadata": {},
   "outputs": [
    {
     "name": "stdout",
     "output_type": "stream",
     "text": [
      "Data Source: Armenian Pub Survey. Question: What are the most common reasons Armenians visit local pubs?\n",
      "Answer: The data shows that the survey sample is composed of students (young, in school, low income), so the question would be more accurate to specify that it is about Armenian students.\n"
     ]
    }
   ],
   "source": [
    "print('''Data Source: Armenian Pub Survey. Question: What are the most common reasons Armenians visit local pubs?''')\n",
    "print('''Answer: The data shows that the survey sample is composed of students (young, in school, low income), so the question would be more accurate to specify that it is about Armenian students.''')"
   ]
  }
 ],
 "metadata": {
  "kernelspec": {
   "display_name": "Python 3",
   "language": "python",
   "name": "python3"
  },
  "language_info": {
   "codemirror_mode": {
    "name": "ipython",
    "version": 3
   },
   "file_extension": ".py",
   "mimetype": "text/x-python",
   "name": "python",
   "nbconvert_exporter": "python",
   "pygments_lexer": "ipython3",
   "version": "3.7.2"
  }
 },
 "nbformat": 4,
 "nbformat_minor": 2
}
