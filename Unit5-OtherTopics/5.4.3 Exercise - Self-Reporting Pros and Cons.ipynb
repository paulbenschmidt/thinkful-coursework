{
 "cells": [
  {
   "cell_type": "markdown",
   "metadata": {},
   "source": [
    "# Self-Reporting Pros and Cons\n",
    "Self-report data is easy and cheap to acquire, but businesses prefer behavioral data. This is because there are literally [thousands of research papers](http://web.psych.utoronto.ca/psy320/Required%20readings_files/4-1.pdf) showing that what people say, think, plan to, or believe they will do is often a very weak indicator of what they actually end up doing!\n",
    "\n",
    "We’ve already reviewed some methods of improving our self-report data: Making sure questions are as unbiased as possible, randomizing question and item order, and allowing non-responses all help to get people’s true thoughts. But even when people are able to report their thoughts honestly, we may not get much value because people are notoriously bad at predicting what they are going to do in the future. The point is that whenever possible you should strive to get behavioral data, and that if behavioral and self-report data disagree, the behavioral data should receive greater weight.\n",
    "\n",
    "Another issue in self-report data is the cost to respondents. Asking customers to complete a survey uses up a small but perceptible amount of their goodwill toward the company; the longer the survey, the more expensive to the customer.\n",
    "\n",
    "Finally, be mindful of voluntary response bias. People are more likely to complete a customer satisfaction survey, for example, if they have very strong feelings about their experience. Those feelings might be positive (“The staff went out of their way to accommodate us, we felt so taken care of!”) or negative (“The cockroaches in the bed were bad, but the smell was worse!”). People in the middle (“It was fine.”) are less likely to spend the energy to register their opinion. Providing incentives to complete the survey (coupons, discounts, etc) can help combat this.\n",
    "\n",
    "In addition to being cheap and easy, surveys are a way of getting information on topics too private (sex, money, bathroom habits), rare (bad customer experiences), or complex (interpersonal relationships) to study behaviorally. In these contexts, surveys can be a useful tool, but their downsides are often downplayed or ignored. Use them mindfully.\n",
    "\n",
    "## DRILL: When to use surveys\n",
    "State whether a survey would be the best option for answering each of the following questions.\n",
    "\n",
    "1. Popularity of various Uber drivers. \n",
    "    - A simple, quick, and optional rating would be effective (as is currently in place) to allow the rider to rate the driver after a ride. Since Uber doesn't allow you to request a specific driver, the behavioral metric of rides given wouldn't illuminate whether the driver is good or not. A survey is required.\n",
    "2. A grocery store wants to know how much people like strawberry, chocolate, and vanilla ice cream.\n",
    "    - Behavioral data would be best because one could accurately assess what is in higher demand. One could supplement this research with self-reporting data, but the behavioral data is more trustworthy and comes without cost.\n",
    "3. Trojan wants to know whether their condoms are more popular among straight people or gay people.\n",
    "    - I can't think of another way of collecting the data, so a survey would be the best way to go. Obviously, there is high potential for bias in the survey considering it is on a sensitive subject.\n",
    "4. Recently, rental rates for HappyCars have increased by 30%, which is quite unusual. You want to find out why this is happening and how to keep the increase going.\n",
    "    - As before, it would be helpful to supplement the research with a survey; however, it may be more accurate and representative to study competitor rental rates, overall trends, public transit usage, and potential increases in the customer pool. The finding may be found without the trouble of a survey and may provide higher-scope accuracy as well.\n",
    "5. Assessing the success rate of a new advertising campaign. \n",
    "    - If exposure is the goal, it may help to survey whether or not the advertisement was seen, but since the goal is ultimately product usage, it would be more helpful to assess increases in enrollments and perhaps even include how the customer found out about the product when purchasing.\n",
    "6. Measuring the effect of nurse/patient ratio on patient recovery rates in hospital wards.\n",
    "    - Since this is highly quantitive, the potential for bias of self-reporting is too high. Therefore, the best option would be to assess different hospital wards on their patient recovery rates and nurse/patient ratios."
   ]
  }
 ],
 "metadata": {
  "kernelspec": {
   "display_name": "Python 3",
   "language": "python",
   "name": "python3"
  },
  "language_info": {
   "codemirror_mode": {
    "name": "ipython",
    "version": 3
   },
   "file_extension": ".py",
   "mimetype": "text/x-python",
   "name": "python",
   "nbconvert_exporter": "python",
   "pygments_lexer": "ipython3",
   "version": "3.7.3"
  }
 },
 "nbformat": 4,
 "nbformat_minor": 2
}
