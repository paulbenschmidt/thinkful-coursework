{
 "cells": [
  {
   "cell_type": "markdown",
   "metadata": {},
   "source": [
    "# Don't Break It\n",
    "## Breaking the website\n",
    "As of this writing, the first sponsored search option when you type 'web scraping' into Google is 'Guide to Blocking Web Scraping.' Websites are designed to be navigated by human beings, who have a fairly low bandwidth for new information. From the viewpoint of the web server, even the fastest reader will go through a website's pages fairly slowly.\n",
    "\n",
    "A web scraping program, on the other hand, consumes information incredibly quickly-- after all, that's why we wrote the program. From the point of view of the server hosting the website the rapid-fire requests from a scraper can flood the server bandwidth and cause it to crash, and then [there's no website for anybody](https://xkcd.com/958/).\n",
    "\n",
    "In fact, crashing a website by flooding it with automated traffic a common hacking technique called a Denial of Service (DoS) attack. The goal in scraping is to retrieve information while a DoS attack seeks to hide information by making a website unavailable, but the mechanism (repeated automated calls to a server) is pretty much the same. Visualize all Three Stooges trying to go through a doorway at once and getting stuck, and you've got the general idea.\n",
    "\n",
    "There are two sides to being a good netizen-scraper. The first is writing a scraper that gets the information you want at a reasonable rate without overwhelming the server. The second is how to work within the methods that websites have developed to protect themselves from DoS attacks and signal that you are a 'good' scraper who shouldn't be blocked.\n",
    "\n",
    "Scrapy provides some very convenient options for both of these aspects. They are set in the 'settings.py' file if you are using the scrapy API interface, and in the ´CrawlerProcess()´ command if you are working in the script. Scrapy is very flexible and there are [a lot of settings](https://doc.scrapy.org/en/latest/topics/settings.html)- we're going to focus on the following:\n",
    "\n",
    "´process = CrawlerProcess({ 'AUTOTHROTTLE_ENABLED': True, 'HTTPCACHE_ENABLED': True, 'ROBOTSTXT_OBEY': True, 'USER_AGENT': 'ThinkfulDataScienceBootcampCrawler (thinkful.com)' })´\n",
    "\n",
    "## Not overwhelming the server\n",
    "### Autothrottle and download delay\n",
    "To avoid a DoS-style scraping attack, you can use the DOWNLOAD_DELAY setting to introduce a variable amount of delay between calls to the server. Alternatively, you can use the autothrottle option (AUTOTHROTTLE_ENABLED) which will try to dynamically set the delay based on how quickly the server responds to scrapy's requests. By default, DOWNLOAD_DELAY is set to 0 and autothrottle is turned off, so make sure to look into these before setting your scraper loose in the wild.\n",
    "\n",
    "### Caching\n",
    "As you're setting up a scraper, you're probably going to run the same code over and over, catching new bugs each time. To avoid constantly hammering the server to download the exact same pages, you can enable the 'HTTP cache' option. Then, when you try to download a page that is already cached on your machine, scrapy will use the cached copy instead. Remember, turn this off (or at least clear your cache) before you start your scraper in earnest to make sure you are getting the most recent data!\n",
    "\n",
    "## Following the Rules\n",
    "### Robots.txt\n",
    "Websites sometimes provide rules to scrapers about what sorts of activities they can engage in and whether certain parts of the site are off-limits. They do this by creating a robots.txt file, usually in the root directory. Here is Amazon's: https://amazon.com/robots.txt.\n",
    "\n",
    "If you click on it, you can see that they place a lot of different aspects of the website off-limits to scrapers. Below, we've pulled some pieces to focus on:\n",
    "\n",
    "\n"
   ]
  },
  {
   "cell_type": "markdown",
   "metadata": {},
   "source": [
    "User-agent: *\n",
    "\n",
    "- Disallow: /exec/obidos/account-access-login\n",
    "- Disallow: /exec/obidos/change-style\n",
    "- Disallow: /exec/obidos/flex-sign-in\n",
    "- Disallow: /exec/obidos/handle-buy-box\n",
    "- Disallow: /exec/obidos/tg/cm/member/\n",
    "- Disallow: /gp/aw/help/id=sss\n",
    "- Disallow: /gp/cart\n",
    "- Disallow: /gp/flex\n",
    "- Disallow: /gp/product/e-mail-friend\n",
    "- Allow: /wishlist/universal*\n",
    "- Allow: /wishlist/vendor-button*\n",
    "- Allow: /wishlist/get-button*\n",
    "- Disallow: /gp/wishlist/\n",
    "\n",
    "\n",
    "User-agent: Googlebot\n",
    "\n",
    "- Disallow: /rss/people/*/reviews\n",
    "- Disallow: /gp/pdp/rss/*/reviews\n",
    "- Disallow: /gp/cdp/member-reviews/\n",
    "- Disallow: /gp/aw/cr/\n",
    "- Disallow: /exec/obidos/account-access-login\n",
    "- Disallow: /exec/obidos/change-style\n",
    "- Disallow: /exec/obidos/flex-sign-in\n",
    "- Disallow: /exec/obidos/handle-buy-box\n",
    "- Disallow: /exec/obidos/tg/cm/member/\n",
    "- Disallow: /gp/aw/help/id=sss\n",
    "\n",
    "\n",
    "User-agent: EtaoSpider\n",
    "\n",
    "- Disallow: /"
   ]
  },
  {
   "cell_type": "markdown",
   "metadata": {},
   "source": [
    "The User-agent identifies the specific robot or scraper that the permissions refer to. A * indicates that these permissions apply to all robots otherwise not named. Notice that amazon's file both disallows some places, and explicitly allows others.\n",
    "\n",
    "It also has special permissions for the Google robot, which indexes the website for search. And finally, it apparently doesn't like EtaoSpider, because they block it from crawling any of the website at all.\n",
    "\n",
    "Scrapy is set to automatically obey robots.txt files when it finds them. Attempts to crawl a disallowed section will generate the following message:\n",
    "\n",
    "´2016-08-19 16:12:56 [scrapy] DEBUG: Forbidden by robots.txt: <GET http://website.com/login>´\n",
    "\n",
    "### USER_AGENT\n",
    "The user agent setting allows you to identify yourself to the administrators of the website. Ideally you would include both a name and an email address so they can contact you if your scraping is causing issues.\n",
    "\n",
    "### Be a good scraper\n",
    "[If you scrape too much, too fast, too carelessly, you'll eventually end up with no website to scrape from.](http://www.qwantz.com/index.php?comic=1731) But if you keep the needs of the website in mind, you'll be able to keep scraping data as long as you need."
   ]
  }
 ],
 "metadata": {
  "kernelspec": {
   "display_name": "Python 3",
   "language": "python",
   "name": "python3"
  },
  "language_info": {
   "codemirror_mode": {
    "name": "ipython",
    "version": 3
   },
   "file_extension": ".py",
   "mimetype": "text/x-python",
   "name": "python",
   "nbconvert_exporter": "python",
   "pygments_lexer": "ipython3",
   "version": "3.7.3"
  }
 },
 "nbformat": 4,
 "nbformat_minor": 2
}
