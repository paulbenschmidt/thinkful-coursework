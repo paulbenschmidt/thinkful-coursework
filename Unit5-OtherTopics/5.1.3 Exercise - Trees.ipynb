{
 "cells": [
  {
   "cell_type": "markdown",
   "metadata": {},
   "source": [
    "# Trees\n",
    "The last data structure we’ll cover in this lesson is the tree. Trees are a bit different than the data structures we’ve seen thus far, but present a useful way for storing information that has either a hierarchical structure or that needs to be rapidly searchable. The most distinguishing trait of trees, however, is their sheer flexibility. We’ll explain what we mean below.\n",
    "\n",
    "## What is a tree?\n",
    "Here we’re going to focus on the most common variety of tree, the binary tree. We'll use that example to go over the vocabulary of trees.\n",
    "\n",
    "All trees are a set of nodes connected in a hierarchy. Each node is a value. That node can connect to nodes below it, which are called its children. The node linked above it, should it exist, is called a parent. The top node is called the root. If the node has no children it’s called a leaf. Every tree is a combination or permutation of these elements.\n",
    "\n",
    "Let’s look at a simple tree and review those definitions, because they’ll be relatively fundamental to what’s to follow and we’ll rely on them whenever we talk about trees. Also, while they’re similar to how we’ve talked about decision trees as a model, we cannot conflate the two as the terms will vary and have sometimes subtle differences in meaning.\n",
    "\n",
    "![Binary Tree](binary_tree_basic.jpeg)\n",
    "\n",
    "So, here A is our root. B and C are children of A. A is therefore a parent of B and a parent of C. B, in turn, is a parent of D and E, while C is a parent of F and G. D, E, F, and G are our leaves.\n",
    "\n",
    "A tree is binary if each non-leaf node has no more than two children. A tree where all parent nodes have two children, like the one above, is called a full binary tree (the leaves don't all have to be in pairs and it can still be binary). This can even more specifically be called a perfect binary tree, since it is a complete tree with all leaves on the same level.\n",
    "\n",
    "## A simple python implementation\n",
    "So how do we make a binary tree of our own?\n",
    "\n",
    "We can do it in two steps. First we must create a node class."
   ]
  },
  {
   "cell_type": "code",
   "execution_count": null,
   "metadata": {},
   "outputs": [],
   "source": [
    "class Node:\n",
    "    def __init__(self, val):\n",
    "        self.left = None\n",
    "        self.right = None\n",
    "        self.val = val"
   ]
  },
  {
   "cell_type": "markdown",
   "metadata": {},
   "source": [
    "What this has done is create the framework for nodes. A node will take a value, which gives us the value at that point. It also lets us establish a left and right value, the two children of this node. To create a binary tree, we simply populate those children with their own nodes.\n",
    "\n",
    "So to reconstruct the tree from above we’d simply do this:"
   ]
  },
  {
   "cell_type": "code",
   "execution_count": null,
   "metadata": {},
   "outputs": [],
   "source": [
    "# Establish the initial root node and children\n",
    "root = Node(‘A’)\n",
    "root.left = Node(‘B’)\n",
    "root.right = Node(‘C’)\n",
    "\n",
    "# Add the appropriate children for ‘B’ and ‘C’\n",
    "root.left.left = Node(‘D’)\n",
    "root.left.right = Node(‘E’)\n",
    "root.right.left = Node(‘F’)\n",
    "root.right.right = Node(‘G’)"
   ]
  },
  {
   "cell_type": "markdown",
   "metadata": {},
   "source": [
    "And there you have it. We’ve now successfully implemented our example tree in Python. Note that this tree can easily grow by adding further children to leaf nodes, an important feature of trees that can be valuable if you need your tree to dynamically grow and prune.\n",
    "\n",
    "## Flexibility and Use Cases\n",
    "Now, one of the main features of trees as a data structure should be clear here. For arrays and linked lists there was a pretty clear order to things, and that order was very clearly specified in building the list. That order also meant a rigidity.\n",
    "\n",
    "Trees, however, are much more flexible. You can put data into them in a variety of different ways, leading to a variety of differently shaped trees. Trees can have three children per node. They could increase as you move down from node to children. They could do almost anything you could imagine in that structure of nodes and children. Now, naturally, some will be more suited to certain data sets than others, and efficiencies of various operations will likewise vary, but the sheer flexibility is a key advantage.\n",
    "\n",
    "So what are these kinds of trees good for? The most obvious answer is hierarchical data. If you think of your data in layers, then trees can represent that. Academic courses (broken down into department, level, and then course) are a classic example. Machine learning models (broken down as supervised/unsupervised, then by class, then down to specific kinds of implementations) could also work.\n",
    "\n",
    "## Traversing a Tree\n",
    "Traversing a tree means seeing the value of all of the nodes in a trees and discerning its structure. If you are simply given a tree you have to traverse it to know what its structure is and values are. This is another point where trees offer serious flexibility and a great deal of choice for the user. For an array or a linked list, there is a single way to best read the data (though you could argue arrays could also be read backwards). Trees have many many more options.\n",
    "\n",
    "The simplest way is probably breadth first. In breadth first you try to explore the full breadth of a layer, one layer at a time starting from the root. For our example this would look like:\n",
    "\n",
    "A, B, C, D, E, F, G\n",
    "\n",
    "You tend to favor starting on the left for all traversal algorithms.\n",
    "\n",
    "You can also read a tree in a preorder fashion. This moves all the way through the left side of the tree and then moves back one layer at a time to move to the right before then proceeding down the left side of the tree. To further explain, this would read our tree as:\n",
    "\n",
    "A, B, D, E, C, F, G\n",
    "\n",
    "This is called a depth first traversal, since it first aims to find the depth of a tree, in direct contrast to the breadth first method outlined previously.\n",
    "\n",
    "## Binary Heaps\n",
    "Binary Heaps are a particular variety of binary tree. They have two defining features. Firstly, the must be complete binary trees. Second the values within the heap either always increase or always decrease as you move from layer to layer. This means every parent must either be greater or less than all children (this property must hold for the whole tree). A minimum binary heap sees the parent as always less than the children, a maximum always greater than.\n",
    "\n",
    "Let’s look at an example.\n",
    "\n",
    "![Binary Heap](binary_heap.jpeg)\n",
    "\n",
    "Here we have a maximum binary heap. Each parent is greater than its subsequent children. Now, obviously, to have this greater than or less than property the heap has to be used to store numeric data.\n",
    "\n",
    "Why do this? Well, this gives us some advantages in searching for data. For instance, when we look to the second layer, we know the only place an 8 could be is as the child of a 9. We gain that information without having to look through the children of 7. Data scientists will want to use this for times when they want quickly find and use subsets of a data set, so the tree will need to have the logic the data scientist can use.\n",
    "\n",
    "You can see a broader Python implementation of the binary heap [here](http://quiz.geeksforgeeks.org/binary-heap/).\n",
    "\n",
    "## DRILL:\n",
    "\n",
    "Implement a binary tree, which is filled with 15 pieces of random data. Your job is to then write a program to traverse the tree using a breadth first traversal. If you want additional practice, try other forms of traversal."
   ]
  },
  {
   "cell_type": "code",
   "execution_count": 27,
   "metadata": {},
   "outputs": [],
   "source": [
    "class Node:\n",
    "    def __init__(self, val):\n",
    "        self.left = None\n",
    "        self.right = None\n",
    "        self.level = None\n",
    "        self.val = val\n",
    "\n",
    "# Establish the initial root node and children\n",
    "root = Node('Animal')\n",
    "root.left = Node('Water')\n",
    "root.right = Node('Land')\n",
    "\n",
    "# Add the appropriate children for ‘Water’ and ‘Land’\n",
    "root.left.left = Node('Fish')\n",
    "root.left.right = Node('Amphibian')\n",
    "\n",
    "root.right.left = Node('Reptile')\n",
    "root.right.right = Node('Mammal')\n",
    "\n",
    "# Add the appropriate children\n",
    "root.left.left.left = Node('Shark')\n",
    "root.left.left.right = Node('Catfish')\n",
    "\n",
    "root.left.right.left = Node('Frog')\n",
    "root.left.right.right = Node('Salamander')\n",
    "\n",
    "root.right.left.left = Node('Turtle')\n",
    "root.right.left.right = Node('Snake')\n",
    "\n",
    "root.right.right.left = Node('Dog')\n",
    "root.right.right.right = Node('Giraffe')"
   ]
  },
  {
   "cell_type": "markdown",
   "metadata": {},
   "source": [
    "### Breadth-First Traversal"
   ]
  },
  {
   "cell_type": "code",
   "execution_count": 33,
   "metadata": {},
   "outputs": [],
   "source": [
    "# Function to  print level order traversal of tree \n",
    "def printBFD(root): \n",
    "    h = height(root) \n",
    "    for i in range(1, h+1): \n",
    "        printGivenLevel(root, i) \n",
    "  \n",
    "  \n",
    "# Print nodes at a given level \n",
    "def printGivenLevel(root, level): \n",
    "    if root is None: \n",
    "        return\n",
    "    if level == 1: \n",
    "        print('{}'.format(root.val))\n",
    "    elif level > 1 : \n",
    "        printGivenLevel(root.left , level-1) \n",
    "        printGivenLevel(root.right , level-1) \n",
    "  \n",
    "def height(node): \n",
    "    \"\"\"Utility function for finding height of tree along longest path from root node to farthest leaf node .\"\"\"\n",
    "    if node is None: \n",
    "        return 0 \n",
    "    else: \n",
    "        # Compute the height of each subtree  \n",
    "        lheight = height(node.left) \n",
    "        rheight = height(node.right) \n",
    "  \n",
    "        #Use the larger one \n",
    "        if lheight > rheight : \n",
    "            return lheight+1\n",
    "        else: \n",
    "            return rheight+1"
   ]
  },
  {
   "cell_type": "code",
   "execution_count": 34,
   "metadata": {},
   "outputs": [
    {
     "name": "stdout",
     "output_type": "stream",
     "text": [
      "Animal\n",
      "Water\n",
      "Land\n",
      "Fish\n",
      "Amphibian\n",
      "Reptile\n",
      "Mammal\n",
      "Shark\n",
      "Catfish\n",
      "Frog\n",
      "Salamander\n",
      "Turtle\n",
      "Snake\n",
      "Dog\n",
      "Giraffe\n"
     ]
    }
   ],
   "source": [
    "printBFD(root)"
   ]
  },
  {
   "cell_type": "markdown",
   "metadata": {},
   "source": [
    "### Depth-First Traversal\n",
    "#### Inorder"
   ]
  },
  {
   "cell_type": "code",
   "execution_count": 35,
   "metadata": {},
   "outputs": [],
   "source": [
    "# A function to do inorder tree traversal \n",
    "def printInorder(root): \n",
    "    if root: \n",
    "        # First recur on left child \n",
    "        printInorder(root.left) \n",
    "        # then print the data of node \n",
    "        print(root.val), \n",
    "        # now recur on right child \n",
    "        printInorder(root.right) "
   ]
  },
  {
   "cell_type": "code",
   "execution_count": 36,
   "metadata": {},
   "outputs": [
    {
     "name": "stdout",
     "output_type": "stream",
     "text": [
      "Shark\n",
      "Fish\n",
      "Catfish\n",
      "Water\n",
      "Frog\n",
      "Amphibian\n",
      "Salamander\n",
      "Animal\n",
      "Turtle\n",
      "Reptile\n",
      "Snake\n",
      "Land\n",
      "Dog\n",
      "Mammal\n",
      "Giraffe\n"
     ]
    }
   ],
   "source": [
    "printInorder(root)"
   ]
  },
  {
   "cell_type": "markdown",
   "metadata": {},
   "source": [
    "#### Preorder"
   ]
  },
  {
   "cell_type": "code",
   "execution_count": 37,
   "metadata": {},
   "outputs": [],
   "source": [
    "# A function to do preorder tree traversal \n",
    "def printPreorder(root): \n",
    "    if root: \n",
    "        # First print the data of node \n",
    "        print(root.val)\n",
    "        # Then recur on left child \n",
    "        printPreorder(root.left)\n",
    "        # Finally recur on right child \n",
    "        printPreorder(root.right) "
   ]
  },
  {
   "cell_type": "code",
   "execution_count": 38,
   "metadata": {},
   "outputs": [
    {
     "name": "stdout",
     "output_type": "stream",
     "text": [
      "Animal\n",
      "Water\n",
      "Fish\n",
      "Shark\n",
      "Catfish\n",
      "Amphibian\n",
      "Frog\n",
      "Salamander\n",
      "Land\n",
      "Reptile\n",
      "Turtle\n",
      "Snake\n",
      "Mammal\n",
      "Dog\n",
      "Giraffe\n"
     ]
    }
   ],
   "source": [
    "printPreorder(root)"
   ]
  },
  {
   "cell_type": "markdown",
   "metadata": {},
   "source": [
    "#### Postorder"
   ]
  },
  {
   "cell_type": "code",
   "execution_count": 39,
   "metadata": {},
   "outputs": [],
   "source": [
    "# A function to do postorder tree traversal \n",
    "def printPostorder(root): \n",
    "    if root: \n",
    "        # First recur on left child \n",
    "        printPostorder(root.left) \n",
    "        # the recur on right child \n",
    "        printPostorder(root.right) \n",
    "        # now print the data of node \n",
    "        print(root.val)"
   ]
  },
  {
   "cell_type": "code",
   "execution_count": 40,
   "metadata": {},
   "outputs": [
    {
     "name": "stdout",
     "output_type": "stream",
     "text": [
      "Shark\n",
      "Catfish\n",
      "Fish\n",
      "Frog\n",
      "Salamander\n",
      "Amphibian\n",
      "Water\n",
      "Turtle\n",
      "Snake\n",
      "Reptile\n",
      "Dog\n",
      "Giraffe\n",
      "Mammal\n",
      "Land\n",
      "Animal\n"
     ]
    }
   ],
   "source": [
    "printPostorder(root)"
   ]
  }
 ],
 "metadata": {
  "kernelspec": {
   "display_name": "Python 3",
   "language": "python",
   "name": "python3"
  },
  "language_info": {
   "codemirror_mode": {
    "name": "ipython",
    "version": 3
   },
   "file_extension": ".py",
   "mimetype": "text/x-python",
   "name": "python",
   "nbconvert_exporter": "python",
   "pygments_lexer": "ipython3",
   "version": "3.7.3"
  }
 },
 "nbformat": 4,
 "nbformat_minor": 2
}
