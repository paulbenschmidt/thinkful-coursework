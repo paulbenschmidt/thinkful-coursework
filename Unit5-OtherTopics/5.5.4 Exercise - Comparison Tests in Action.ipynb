{
 "cells": [
  {
   "cell_type": "markdown",
   "metadata": {},
   "source": [
    "# Challenge: What Test to Use\n",
    "Using selected questions from the 2012 and 2014 editions of the [European Social Survey](http://www.europeansocialsurvey.org/data/round-index.html), address the following questions. Keep track of your code and results in a Jupyter notebook or other source that you can share with your mentor. For each question, explain why you chose the approach you did.\n",
    "\n",
    "Here is the [data file](https://raw.githubusercontent.com/Thinkful-Ed/data-201-resources/master/ESS_practice_data/ESSdata_Thinkful.csv). And here is the [codebook](https://thinkful-ed.github.io/data-201-resources/ESS_practice_data/ESS_codebook.html), with information about the variable coding and content.\n",
    "\n",
    "In this dataset, the same participants answered questions in 2012 and again 2014.\n",
    "\n",
    "1. Did people become less trusting from 2012 to 2014? Compute results for each country in the sample.\n",
    "2. Did people become happier from 2012 to 2014? Compute results for each country in the sample.\n",
    "3. Who reported watching more TV in 2012: men or women?\n",
    "4. Who was more likely to believe people were fair in 2012: people living with a partner or people living alone?\n",
    "5. Pick three or four of the countries in the sample and compare how often people met socially in 2014. Are there differences, and if so, which countries stand out?\n",
    "6. Pick three or four of the countries in the sample and compare how often people took part in social activities, relative to others their age, in 2014. Are there differences, and if so, which countries stand out?\n",
    "\n",
    "As a reminder:\n",
    "\n",
    "\n",
    "<table border=\"1\">\n",
    "<tr>\n",
    "<th>Experiment Type</th>\n",
    "<th colspan=\"2\">Normally Distributed</th>\n",
    "<th colspan=\"2\">Non-Normally Distributed</th>\n",
    "</tr>\n",
    "<tr>\n",
    "<th></th>\n",
    "<th>Test</th>\n",
    "<th>Function</th>\n",
    "<th>Test</th>\n",
    "<th>Function</th>\n",
    "</tr>\n",
    "<tr>\n",
    "<td>A/B Test<br>\n",
    "of Independent Groups</td>\n",
    "<td>T-Test for independent samples</td>\n",
    "<td>[`scipy.stats.ttest_ind`]</td>\n",
    "<td>Mann-Whitney U test<br>\n",
    "Moon's Median Test<br>\n",
    "Kruskal-Wallis Test</td>\n",
    "<td>[`scipy.stats.mannwhitneyu`]<br>\n",
    "[`scipy.stats.median_test`]<br>\n",
    "[`scipy.stats.kruskal`]</td>\n",
    "</tr>\n",
    "<tr>\n",
    "<td>A/B/C/… Test<br>\n",
    "of Three or More Independent Groups</td>\n",
    "<td>One-way ANOVA</td>\n",
    "<td>[`scipy.stats.f_oneway`]</td>\n",
    "<td>Mood’s median test<br>\n",
    "Kruskal-Wallis test</td>\n",
    "<td>[`scipy.stats.median_test`]<br>\n",
    "[`scipy.stats.kruskal`]</td>\n",
    "</tr>\n",
    "<tr>\n",
    "<td>A/B Test<br>\n",
    "where all participants experience both versions</td>\n",
    "<td>T-Test for paired samples</td>\n",
    "<td>[`scipy.stats.ttest_rel`]</td>\n",
    "<td>Wilcoxon signed-rank test</td>\n",
    "<td>[`scipy.stats.wilcoxon`]</td>\n",
    "</tr>\n",
    "</table>"
   ]
  },
  {
   "cell_type": "code",
   "execution_count": 121,
   "metadata": {},
   "outputs": [],
   "source": [
    "import numpy as np\n",
    "import pandas as pd\n",
    "\n",
    "import matplotlib.pyplot as plt\n",
    "import seaborn as sns\n",
    "\n",
    "import scipy.stats as stats\n",
    "from statsmodels.stats.multicomp import pairwise_tukeyhsd"
   ]
  },
  {
   "cell_type": "code",
   "execution_count": 8,
   "metadata": {},
   "outputs": [
    {
     "name": "stdout",
     "output_type": "stream",
     "text": [
      "(8594, 13)\n"
     ]
    },
    {
     "data": {
      "text/html": [
       "<div>\n",
       "<style scoped>\n",
       "    .dataframe tbody tr th:only-of-type {\n",
       "        vertical-align: middle;\n",
       "    }\n",
       "\n",
       "    .dataframe tbody tr th {\n",
       "        vertical-align: top;\n",
       "    }\n",
       "\n",
       "    .dataframe thead th {\n",
       "        text-align: right;\n",
       "    }\n",
       "</style>\n",
       "<table border=\"1\" class=\"dataframe\">\n",
       "  <thead>\n",
       "    <tr style=\"text-align: right;\">\n",
       "      <th></th>\n",
       "      <th>cntry</th>\n",
       "      <th>idno</th>\n",
       "      <th>year</th>\n",
       "      <th>tvtot</th>\n",
       "      <th>ppltrst</th>\n",
       "      <th>pplfair</th>\n",
       "      <th>pplhlp</th>\n",
       "      <th>happy</th>\n",
       "      <th>sclmeet</th>\n",
       "      <th>sclact</th>\n",
       "      <th>gndr</th>\n",
       "      <th>agea</th>\n",
       "      <th>partner</th>\n",
       "    </tr>\n",
       "  </thead>\n",
       "  <tbody>\n",
       "    <tr>\n",
       "      <th>0</th>\n",
       "      <td>CH</td>\n",
       "      <td>5.0</td>\n",
       "      <td>6</td>\n",
       "      <td>3.0</td>\n",
       "      <td>3.0</td>\n",
       "      <td>10.0</td>\n",
       "      <td>5.0</td>\n",
       "      <td>8.0</td>\n",
       "      <td>5.0</td>\n",
       "      <td>4.0</td>\n",
       "      <td>2.0</td>\n",
       "      <td>60.0</td>\n",
       "      <td>1.0</td>\n",
       "    </tr>\n",
       "    <tr>\n",
       "      <th>1</th>\n",
       "      <td>CH</td>\n",
       "      <td>25.0</td>\n",
       "      <td>6</td>\n",
       "      <td>6.0</td>\n",
       "      <td>5.0</td>\n",
       "      <td>7.0</td>\n",
       "      <td>5.0</td>\n",
       "      <td>9.0</td>\n",
       "      <td>3.0</td>\n",
       "      <td>2.0</td>\n",
       "      <td>2.0</td>\n",
       "      <td>59.0</td>\n",
       "      <td>1.0</td>\n",
       "    </tr>\n",
       "    <tr>\n",
       "      <th>2</th>\n",
       "      <td>CH</td>\n",
       "      <td>26.0</td>\n",
       "      <td>6</td>\n",
       "      <td>1.0</td>\n",
       "      <td>8.0</td>\n",
       "      <td>8.0</td>\n",
       "      <td>8.0</td>\n",
       "      <td>7.0</td>\n",
       "      <td>6.0</td>\n",
       "      <td>3.0</td>\n",
       "      <td>1.0</td>\n",
       "      <td>24.0</td>\n",
       "      <td>2.0</td>\n",
       "    </tr>\n",
       "    <tr>\n",
       "      <th>3</th>\n",
       "      <td>CH</td>\n",
       "      <td>28.0</td>\n",
       "      <td>6</td>\n",
       "      <td>4.0</td>\n",
       "      <td>6.0</td>\n",
       "      <td>6.0</td>\n",
       "      <td>7.0</td>\n",
       "      <td>10.0</td>\n",
       "      <td>6.0</td>\n",
       "      <td>2.0</td>\n",
       "      <td>2.0</td>\n",
       "      <td>64.0</td>\n",
       "      <td>1.0</td>\n",
       "    </tr>\n",
       "    <tr>\n",
       "      <th>4</th>\n",
       "      <td>CH</td>\n",
       "      <td>29.0</td>\n",
       "      <td>6</td>\n",
       "      <td>5.0</td>\n",
       "      <td>6.0</td>\n",
       "      <td>7.0</td>\n",
       "      <td>5.0</td>\n",
       "      <td>8.0</td>\n",
       "      <td>7.0</td>\n",
       "      <td>2.0</td>\n",
       "      <td>2.0</td>\n",
       "      <td>55.0</td>\n",
       "      <td>1.0</td>\n",
       "    </tr>\n",
       "  </tbody>\n",
       "</table>\n",
       "</div>"
      ],
      "text/plain": [
       "  cntry  idno  year  tvtot  ppltrst  pplfair  pplhlp  happy  sclmeet  sclact  \\\n",
       "0    CH   5.0     6    3.0      3.0     10.0     5.0    8.0      5.0     4.0   \n",
       "1    CH  25.0     6    6.0      5.0      7.0     5.0    9.0      3.0     2.0   \n",
       "2    CH  26.0     6    1.0      8.0      8.0     8.0    7.0      6.0     3.0   \n",
       "3    CH  28.0     6    4.0      6.0      6.0     7.0   10.0      6.0     2.0   \n",
       "4    CH  29.0     6    5.0      6.0      7.0     5.0    8.0      7.0     2.0   \n",
       "\n",
       "   gndr  agea  partner  \n",
       "0   2.0  60.0      1.0  \n",
       "1   2.0  59.0      1.0  \n",
       "2   1.0  24.0      2.0  \n",
       "3   2.0  64.0      1.0  \n",
       "4   2.0  55.0      1.0  "
      ]
     },
     "execution_count": 8,
     "metadata": {},
     "output_type": "execute_result"
    }
   ],
   "source": [
    "# Loading and previewing data\n",
    "df = pd.read_csv('european_survey_data.csv')\n",
    "print(df.shape)\n",
    "df.head()"
   ]
  },
  {
   "cell_type": "code",
   "execution_count": 9,
   "metadata": {},
   "outputs": [
    {
     "data": {
      "text/html": [
       "<div>\n",
       "<style scoped>\n",
       "    .dataframe tbody tr th:only-of-type {\n",
       "        vertical-align: middle;\n",
       "    }\n",
       "\n",
       "    .dataframe tbody tr th {\n",
       "        vertical-align: top;\n",
       "    }\n",
       "\n",
       "    .dataframe thead th {\n",
       "        text-align: right;\n",
       "    }\n",
       "</style>\n",
       "<table border=\"1\" class=\"dataframe\">\n",
       "  <thead>\n",
       "    <tr style=\"text-align: right;\">\n",
       "      <th></th>\n",
       "      <th>Type</th>\n",
       "      <th>Unique</th>\n",
       "      <th>NaN</th>\n",
       "      <th>Sample</th>\n",
       "    </tr>\n",
       "  </thead>\n",
       "  <tbody>\n",
       "    <tr>\n",
       "      <th>cntry</th>\n",
       "      <td>object</td>\n",
       "      <td>6</td>\n",
       "      <td>0</td>\n",
       "      <td>NO</td>\n",
       "    </tr>\n",
       "    <tr>\n",
       "      <th>idno</th>\n",
       "      <td>float64</td>\n",
       "      <td>3086</td>\n",
       "      <td>0</td>\n",
       "      <td>15642</td>\n",
       "    </tr>\n",
       "    <tr>\n",
       "      <th>year</th>\n",
       "      <td>int64</td>\n",
       "      <td>2</td>\n",
       "      <td>0</td>\n",
       "      <td>6</td>\n",
       "    </tr>\n",
       "    <tr>\n",
       "      <th>tvtot</th>\n",
       "      <td>float64</td>\n",
       "      <td>8</td>\n",
       "      <td>8</td>\n",
       "      <td>3</td>\n",
       "    </tr>\n",
       "    <tr>\n",
       "      <th>ppltrst</th>\n",
       "      <td>float64</td>\n",
       "      <td>11</td>\n",
       "      <td>14</td>\n",
       "      <td>5</td>\n",
       "    </tr>\n",
       "    <tr>\n",
       "      <th>pplfair</th>\n",
       "      <td>float64</td>\n",
       "      <td>11</td>\n",
       "      <td>39</td>\n",
       "      <td>10</td>\n",
       "    </tr>\n",
       "    <tr>\n",
       "      <th>pplhlp</th>\n",
       "      <td>float64</td>\n",
       "      <td>11</td>\n",
       "      <td>25</td>\n",
       "      <td>6</td>\n",
       "    </tr>\n",
       "    <tr>\n",
       "      <th>happy</th>\n",
       "      <td>float64</td>\n",
       "      <td>11</td>\n",
       "      <td>31</td>\n",
       "      <td>10</td>\n",
       "    </tr>\n",
       "    <tr>\n",
       "      <th>sclmeet</th>\n",
       "      <td>float64</td>\n",
       "      <td>7</td>\n",
       "      <td>15</td>\n",
       "      <td>7</td>\n",
       "    </tr>\n",
       "    <tr>\n",
       "      <th>sclact</th>\n",
       "      <td>float64</td>\n",
       "      <td>5</td>\n",
       "      <td>94</td>\n",
       "      <td>5</td>\n",
       "    </tr>\n",
       "    <tr>\n",
       "      <th>gndr</th>\n",
       "      <td>float64</td>\n",
       "      <td>2</td>\n",
       "      <td>10</td>\n",
       "      <td>2</td>\n",
       "    </tr>\n",
       "    <tr>\n",
       "      <th>agea</th>\n",
       "      <td>float64</td>\n",
       "      <td>83</td>\n",
       "      <td>239</td>\n",
       "      <td>22</td>\n",
       "    </tr>\n",
       "    <tr>\n",
       "      <th>partner</th>\n",
       "      <td>float64</td>\n",
       "      <td>2</td>\n",
       "      <td>17</td>\n",
       "      <td>2</td>\n",
       "    </tr>\n",
       "  </tbody>\n",
       "</table>\n",
       "</div>"
      ],
      "text/plain": [
       "            Type  Unique  NaN Sample\n",
       "cntry     object       6    0     NO\n",
       "idno     float64    3086    0  15642\n",
       "year       int64       2    0      6\n",
       "tvtot    float64       8    8      3\n",
       "ppltrst  float64      11   14      5\n",
       "pplfair  float64      11   39     10\n",
       "pplhlp   float64      11   25      6\n",
       "happy    float64      11   31     10\n",
       "sclmeet  float64       7   15      7\n",
       "sclact   float64       5   94      5\n",
       "gndr     float64       2   10      2\n",
       "agea     float64      83  239     22\n",
       "partner  float64       2   17      2"
      ]
     },
     "execution_count": 9,
     "metadata": {},
     "output_type": "execute_result"
    }
   ],
   "source": [
    "# Observing types of data, unique, NaN, and sample in all features\n",
    "def snapshot(data):\n",
    "    '''Creates a DataFrame that gives snapshot of original dataset for preliminary cleaning and analysis.'''\n",
    "    preliminary_details = pd.DataFrame()\n",
    "    preliminary_details['Type'] = data.dtypes\n",
    "    preliminary_details['Unique'] = data.nunique()\n",
    "    preliminary_details['NaN'] = data.isnull().sum()\n",
    "    preliminary_details['Sample'] = data.sample().T\n",
    "    return preliminary_details\n",
    "snapshot(df)"
   ]
  },
  {
   "cell_type": "markdown",
   "metadata": {},
   "source": [
    "## Question 1: Did people become less trusting from 2012 to 2014?\n",
    "While similar, the two groups are made up of different people (and are, therefore, independent of each other). If they are normally distributed (Gaussian), we will use ttest_ind for independent samples; if they are non-normally distributed, we will use mannwhitneyu test."
   ]
  },
  {
   "cell_type": "code",
   "execution_count": 60,
   "metadata": {},
   "outputs": [
    {
     "data": {
      "image/png": "[encoded data removed]",
      "text/plain": [
       "<Figure size 1080x360 with 2 Axes>"
      ]
     },
     "metadata": {
      "needs_background": "light"
     },
     "output_type": "display_data"
    },
    {
     "name": "stdout",
     "output_type": "stream",
     "text": [
      "Average Trust in 2012: 5.563097737345463 \t\t\t Average Trust in 2014: 5.556720242254833\n"
     ]
    }
   ],
   "source": [
    "df_2012 = df[df.year == 6]\n",
    "df_2014 = df[df.year == 7]\n",
    "\n",
    "fig, axes = plt.subplots(1, 2, figsize=(15,5), sharex=True, sharey=True)\n",
    "\n",
    "df_2012.ppltrst.hist(ax=axes[0])\n",
    "df_2014.ppltrst.hist(ax=axes[1])\n",
    "axes[0].set_title('Trust in 2012')\n",
    "axes[1].set_title('Trust in 2014')\n",
    "\n",
    "plt.show()\n",
    "print('Average Trust in 2012: {}'.format(np.mean(df_2012.ppltrst)), \n",
    "      '\\t\\t\\t Average Trust in 2014: {}'.format(np.mean(df_2014.ppltrst)))"
   ]
  },
  {
   "cell_type": "markdown",
   "metadata": {},
   "source": [
    "While they have strong appearances of being normally distributed, let's perform the Shapiro-Wilk test statistic for fun in order to quantify just how normal these distributions are.\n",
    "\n",
    "\\begin{align} \n",
    "W=\\frac { (\\sum_{i=1}^n a_ix_{(i)} )^2}{ \\sum_{i=1}^n (x_i-\\bar{x})^2}\n",
    "\\end{align}"
   ]
  },
  {
   "cell_type": "code",
   "execution_count": 47,
   "metadata": {},
   "outputs": [
    {
     "name": "stdout",
     "output_type": "stream",
     "text": [
      "(0.9523736834526062, 3.045615175428091e-35)\n",
      "(0.9583832025527954, 2.1650820660101225e-33)\n"
     ]
    }
   ],
   "source": [
    "print(stats.shapiro(df_2012.ppltrst.dropna()))\n",
    "print(stats.shapiro(df_2014.ppltrst.dropna()))"
   ]
  },
  {
   "cell_type": "markdown",
   "metadata": {},
   "source": [
    "Both test statistic values are very close to 1 indicating they are indeed normally distributed. Therefore, we will use the ttest_ind to assess whether or not people became less trusting. "
   ]
  },
  {
   "cell_type": "code",
   "execution_count": 59,
   "metadata": {},
   "outputs": [
    {
     "data": {
      "text/plain": [
       "Ttest_indResult(statistic=0.13222494679695282, pvalue=0.8948094709117252)"
      ]
     },
     "execution_count": 59,
     "metadata": {},
     "output_type": "execute_result"
    }
   ],
   "source": [
    "stats.ttest_ind(df_2012.ppltrst.dropna(), df_2014.ppltrst.dropna(), equal_var = False)"
   ]
  },
  {
   "cell_type": "markdown",
   "metadata": {},
   "source": [
    "**Answer**: Because the two groups were independent and normally distributed, we implemented the T-Test which showed that people did become slightly less trustworthy (noted by the average trust of years and the positive t-value), but this lacked a statistically significant p-value. Therefore, we cannot reject the null hypothesis and cannot statistically affirm that people became less trustworthy."
   ]
  },
  {
   "cell_type": "markdown",
   "metadata": {},
   "source": [
    "## Question 2: Did people become happier from 2012 to 2014?"
   ]
  },
  {
   "cell_type": "code",
   "execution_count": 62,
   "metadata": {},
   "outputs": [
    {
     "data": {
      "image/png": "[encoded data removed]",
      "text/plain": [
       "<Figure size 1080x360 with 2 Axes>"
      ]
     },
     "metadata": {
      "needs_background": "light"
     },
     "output_type": "display_data"
    },
    {
     "name": "stdout",
     "output_type": "stream",
     "text": [
      "Average Happiness in 2012: 7.723573433115061 \t\t\t Average Happiness in 2014: 7.665733613249358\n"
     ]
    }
   ],
   "source": [
    "fig, axes = plt.subplots(1, 2, figsize=(15,5), sharex=True, sharey=True)\n",
    "\n",
    "df_2012.happy.hist(ax=axes[0])\n",
    "df_2014.happy.hist(ax=axes[1])\n",
    "axes[0].set_title('Happiness in 2012')\n",
    "axes[1].set_title('Happiness in 2014')\n",
    "\n",
    "plt.show()\n",
    "print('Average Happiness in 2012: {}'.format(np.mean(df_2012.happy)), \n",
    "      '\\t\\t\\t Average Happiness in 2014: {}'.format(np.mean(df_2014.happy)))"
   ]
  },
  {
   "cell_type": "code",
   "execution_count": 64,
   "metadata": {},
   "outputs": [
    {
     "name": "stdout",
     "output_type": "stream",
     "text": [
      "(0.8950968980789185, 0.0)\n",
      "(0.90348219871521, 0.0)\n"
     ]
    }
   ],
   "source": [
    "print(stats.shapiro(df_2012.happy.dropna()))\n",
    "print(stats.shapiro(df_2014.happy.dropna()))"
   ]
  },
  {
   "cell_type": "code",
   "execution_count": 66,
   "metadata": {},
   "outputs": [
    {
     "data": {
      "text/plain": [
       "Ttest_indResult(statistic=1.5416999272322065, pvalue=0.12318353845848014)"
      ]
     },
     "execution_count": 66,
     "metadata": {},
     "output_type": "execute_result"
    }
   ],
   "source": [
    "stats.ttest_ind(df_2012.happy.dropna(), df_2014.happy.dropna(), equal_var = False)"
   ]
  },
  {
   "cell_type": "markdown",
   "metadata": {},
   "source": [
    "**Answer**: Because the two groups were independent and normally distributed (according to inverted chi-square/log normal distributions), we implemented the T-Test which revealed that, overall, people did not become happier (noted by the average happiness of years and the positive t-value), but - once again - this lacked a statistically significant p-value. Therefore, we cannot reject the null hypothesis and cannot statistically affirm that people became happier."
   ]
  },
  {
   "cell_type": "markdown",
   "metadata": {},
   "source": [
    "## Question 3: Who reported watching more TV in 2012: men or women?"
   ]
  },
  {
   "cell_type": "code",
   "execution_count": 96,
   "metadata": {},
   "outputs": [
    {
     "data": {
      "image/png": "[encoded data removed]",
      "text/plain": [
       "<Figure size 1080x360 with 2 Axes>"
      ]
     },
     "metadata": {
      "needs_background": "light"
     },
     "output_type": "display_data"
    },
    {
     "name": "stdout",
     "output_type": "stream",
     "text": [
      "Count of Men: 4287 \t\t\t\t\t\t Count of Women: 4293\n",
      "Average TV Time for Men: 5.563097737345463 \t\t\t Average TV Time for Women: 5.556720242254833\n",
      "Sum of TV Time for Men: 23849.0 \t\t\t\t Sum of TV Time for Women: 23855.0\n"
     ]
    }
   ],
   "source": [
    "df_2012_men = df[df.gndr == 1]\n",
    "df_2012_women = df[df.gndr == 2]\n",
    "\n",
    "fig, axes = plt.subplots(1, 2, figsize=(15,5), sharex=True, sharey=True)\n",
    "df_2012_men.tvtot.hist(ax=axes[0])\n",
    "df_2012_women.tvtot.hist(ax=axes[1])\n",
    "axes[0].set_title('2012: Men TV Time')\n",
    "axes[1].set_title('2012: Women TV Time')\n",
    "\n",
    "plt.show()\n",
    "print('Count of Men: {}'.format(len(df_2012.ppltrst.dropna())), \n",
    "      '\\t\\t\\t\\t\\t\\t Count of Women: {}'.format(len(df_2014.ppltrst.dropna())))\n",
    "print('Average TV Time for Men: {}'.format(np.mean(df_2012.ppltrst)), \n",
    "      '\\t\\t\\t Average TV Time for Women: {}'.format(np.mean(df_2014.ppltrst)))\n",
    "print('Sum of TV Time for Men: {}'.format(np.sum(df_2012.ppltrst)), \n",
    "      '\\t\\t\\t\\t Sum of TV Time for Women: {}'.format(np.sum(df_2014.ppltrst)))"
   ]
  },
  {
   "cell_type": "code",
   "execution_count": 71,
   "metadata": {},
   "outputs": [
    {
     "name": "stdout",
     "output_type": "stream",
     "text": [
      "(0.9438452124595642, 1.0865809543259836e-37)\n",
      "(0.9410152435302734, 3.082838965153947e-38)\n"
     ]
    }
   ],
   "source": [
    "print(stats.shapiro(df_2012_men.tvtot.dropna()))\n",
    "print(stats.shapiro(df_2012_women.tvtot.dropna()))"
   ]
  },
  {
   "cell_type": "code",
   "execution_count": 72,
   "metadata": {},
   "outputs": [
    {
     "data": {
      "text/plain": [
       "Ttest_indResult(statistic=-1.5366511037720088, pvalue=0.12441569444006385)"
      ]
     },
     "execution_count": 72,
     "metadata": {},
     "output_type": "execute_result"
    }
   ],
   "source": [
    "stats.ttest_ind(df_2012_men.tvtot.dropna(), df_2012_women.tvtot.dropna(), equal_var = False)"
   ]
  },
  {
   "cell_type": "markdown",
   "metadata": {},
   "source": [
    "**Answer**: According to the averages, sums, and t-tests, we can affirm that women reportedly watch more TV than men. However, because the p-value was not statistically significant, we cannot infer that the same is true for the entire population. (As before, the two groups were independent and relatively normally distributed (according to normal/Gaussian distributions), so we implemented the T-Test.)"
   ]
  },
  {
   "cell_type": "markdown",
   "metadata": {},
   "source": [
    "## Question 4: Who was more likely to believe people were fair in 2012: people living with a partner or people living alone?"
   ]
  },
  {
   "cell_type": "code",
   "execution_count": 95,
   "metadata": {},
   "outputs": [
    {
     "data": {
      "image/png": "[encoded data removed]",
      "text/plain": [
       "<Figure size 1080x360 with 2 Axes>"
      ]
     },
     "metadata": {
      "needs_background": "light"
     },
     "output_type": "display_data"
    },
    {
     "name": "stdout",
     "output_type": "stream",
     "text": [
      "Count for Partner Group: 5259 \t\t\t\t\t Count for No-Partner Group: 3280\n",
      "Fair Belief for Partner Group: 6.063890473474045 \t\t Fair Belief for No-Partner Group: 5.911280487804878\n"
     ]
    }
   ],
   "source": [
    "df_2012_yespartner = df[df.partner == 1]\n",
    "df_2012_nopartner = df[df.partner == 2]\n",
    "\n",
    "fig, axes = plt.subplots(1, 2, figsize=(15,5), sharex=True, sharey=True)\n",
    "df_2012_yespartner.pplfair.hist(ax=axes[0])\n",
    "df_2012_nopartner.pplfair.hist(ax=axes[1])\n",
    "axes[0].set_title('2012: Fair Belief of Partner Group')\n",
    "axes[1].set_title('2012: Fair Belief of No-Partner Group')\n",
    "\n",
    "plt.show()\n",
    "\n",
    "print('Count for Partner Group: {}'.format(len(df_2012_yespartner.pplfair.dropna())), \n",
    "      '\\t\\t\\t\\t\\t Count for No-Partner Group: {}'.format(len(df_2012_nopartner.pplfair.dropna())))\n",
    "print('Fair Belief for Partner Group: {}'.format(np.mean(df_2012_yespartner.pplfair)), \n",
    "      '\\t\\t Fair Belief for No-Partner Group: {}'.format(np.mean(df_2012_nopartner.pplfair)))"
   ]
  },
  {
   "cell_type": "code",
   "execution_count": 97,
   "metadata": {},
   "outputs": [
    {
     "name": "stdout",
     "output_type": "stream",
     "text": [
      "(0.9431131482124329, 5.365711949746157e-41)\n",
      "(0.9564833045005798, 3.0214600224609384e-30)\n"
     ]
    },
    {
     "name": "stderr",
     "output_type": "stream",
     "text": [
      "C:\\ProgramData\\Anaconda3\\lib\\site-packages\\scipy\\stats\\morestats.py:1653: UserWarning: p-value may not be accurate for N > 5000.\n",
      "  warnings.warn(\"p-value may not be accurate for N > 5000.\")\n"
     ]
    }
   ],
   "source": [
    "print(stats.shapiro(df_2012_yespartner.pplfair.dropna()))\n",
    "print(stats.shapiro(df_2012_nopartner.pplfair.dropna()))"
   ]
  },
  {
   "cell_type": "code",
   "execution_count": 98,
   "metadata": {},
   "outputs": [
    {
     "data": {
      "text/plain": [
       "Ttest_indResult(statistic=3.2038704773255624, pvalue=0.0013621612869426684)"
      ]
     },
     "execution_count": 98,
     "metadata": {},
     "output_type": "execute_result"
    }
   ],
   "source": [
    "stats.ttest_ind(df_2012_yespartner.pplfair.dropna(), df_2012_nopartner.pplfair.dropna(), equal_var = False)"
   ]
  },
  {
   "cell_type": "markdown",
   "metadata": {},
   "source": [
    "**Answer**: Finally! People living with a partner were more likely to believe others fair. The p-value below 5% confirms that this is not due to randomness."
   ]
  },
  {
   "cell_type": "markdown",
   "metadata": {},
   "source": [
    "## Question 5: Pick three or four of the countries in the sample and compare how often people met socially in 2014. Are there differences, and if so, which countries stand out?"
   ]
  },
  {
   "cell_type": "code",
   "execution_count": 101,
   "metadata": {},
   "outputs": [
    {
     "data": {
      "text/plain": [
       "ES    1213\n",
       "SE     908\n",
       "CH     773\n",
       "NO     731\n",
       "CZ     658\n",
       "DE      14\n",
       "Name: cntry, dtype: int64"
      ]
     },
     "execution_count": 101,
     "metadata": {},
     "output_type": "execute_result"
    }
   ],
   "source": [
    "df_2014.cntry.value_counts()"
   ]
  },
  {
   "cell_type": "code",
   "execution_count": 154,
   "metadata": {},
   "outputs": [
    {
     "data": {
      "image/png": "[encoded data removed]",
      "text/plain": [
       "<Figure size 1080x360 with 4 Axes>"
      ]
     },
     "metadata": {
      "needs_background": "light"
     },
     "output_type": "display_data"
    },
    {
     "name": "stdout",
     "output_type": "stream",
     "text": [
      "Count: 1211 \t\t\t Count: 908 \t\t\t Count: 772 \t\t Count: 731\n",
      "Average: 5.2601156069364166 \tAverage: 5.426211453744493 \tAverage: 5.160621761658031 Average: 5.3023255813953485\n"
     ]
    }
   ],
   "source": [
    "# Selecting largest countries for greatest sample sizes\n",
    "df_2014_es = df_2014[df_2014.cntry == 'ES']\n",
    "df_2014_se = df_2014[df_2014.cntry == 'SE']\n",
    "df_2014_ch = df_2014[df_2014.cntry == 'CH']\n",
    "df_2014_no = df_2014[df_2014.cntry == 'NO']\n",
    "\n",
    "fig, axes = plt.subplots(1, 4, figsize=(15,5), sharex=True, sharey=True)\n",
    "df_2014_es.sclmeet.hist(ax=axes[0])\n",
    "df_2014_se.sclmeet.hist(ax=axes[1])\n",
    "df_2014_ch.sclmeet.hist(ax=axes[2])\n",
    "df_2014_no.sclmeet.hist(ax=axes[3])\n",
    "axes[0].set_title('Sclmeet for ES (Spain)')\n",
    "axes[1].set_title('Sclmeet for SE (Sweden)')\n",
    "axes[2].set_title('Sclmeet for CH (Switzerland)')\n",
    "axes[3].set_title('Sclmeet for NO (Norway)')\n",
    "\n",
    "plt.show()\n",
    "\n",
    "print('Count: {}'.format(len(df_2014_es.sclmeet.dropna())), \n",
    "      '\\t\\t\\t Count: {}'.format(len(df_2014_se.sclmeet.dropna())), \n",
    "      '\\t\\t\\t Count: {}'.format(len(df_2014_ch.sclmeet.dropna())), \n",
    "      '\\t\\t Count: {}'.format(len(df_2014_no.sclmeet.dropna())))\n",
    "print('Average: {}'.format(np.mean(df_2014_es.sclmeet)), \n",
    "      '\\tAverage: {}'.format(np.mean(df_2014_se.sclmeet)), \n",
    "      '\\tAverage: {}'.format(np.mean(df_2014_ch.sclmeet)), \n",
    "      'Average: {}'.format(np.mean(df_2014_no.sclmeet)))"
   ]
  },
  {
   "cell_type": "code",
   "execution_count": 133,
   "metadata": {},
   "outputs": [
    {
     "data": {
      "text/html": [
       "<table class=\"simpletable\">\n",
       "<caption>Multiple Comparison of Means - Tukey HSD,FWER=0.05</caption>\n",
       "<tr>\n",
       "  <th>group1</th> <th>group2</th> <th>meandiff</th>  <th>lower</th>   <th>upper</th> <th>reject</th>\n",
       "</tr>\n",
       "<tr>\n",
       "    <td>ch</td>     <td>es</td>    <td>0.0995</td>  <td>-0.0647</td> <td>0.2637</td>  <td>False</td>\n",
       "</tr>\n",
       "<tr>\n",
       "    <td>ch</td>     <td>no</td>    <td>0.1417</td>  <td>-0.0423</td> <td>0.3257</td>  <td>False</td>\n",
       "</tr>\n",
       "<tr>\n",
       "    <td>ch</td>     <td>se</td>    <td>0.2656</td>   <td>0.091</td>  <td>0.4402</td>  <td>True</td> \n",
       "</tr>\n",
       "<tr>\n",
       "    <td>es</td>     <td>no</td>    <td>0.0422</td>  <td>-0.1248</td> <td>0.2092</td>  <td>False</td>\n",
       "</tr>\n",
       "<tr>\n",
       "    <td>es</td>     <td>se</td>    <td>0.1661</td>  <td>0.0096</td>  <td>0.3226</td>  <td>True</td> \n",
       "</tr>\n",
       "<tr>\n",
       "    <td>no</td>     <td>se</td>    <td>0.1239</td>  <td>-0.0533</td> <td>0.3011</td>  <td>False</td>\n",
       "</tr>\n",
       "</table>"
      ],
      "text/plain": [
       "<class 'statsmodels.iolib.table.SimpleTable'>"
      ]
     },
     "execution_count": 133,
     "metadata": {},
     "output_type": "execute_result"
    }
   ],
   "source": [
    "sclmeet_records=np.asarray(df_2014_es.sclmeet.dropna().tolist() +\n",
    "                           df_2014_se.sclmeet.dropna().tolist() +\n",
    "                           df_2014_ch.sclmeet.dropna().tolist() +\n",
    "                           df_2014_no.sclmeet.dropna().tolist())\n",
    "\n",
    "sclmeet_countries = np.array(['es'] * len(df_2014_es.sclmeet.dropna()) +\n",
    "                ['se'] * len(df_2014_se.sclmeet.dropna()) +\n",
    "                ['ch'] * len(df_2014_ch.sclmeet.dropna()) +\n",
    "                ['no'] * len(df_2014_no.sclmeet.dropna()))\n",
    "\n",
    "tukey = pairwise_tukeyhsd(endog=sclmeet_records,      # Data\n",
    "                          groups=sclmeet_countries,   # Groups\n",
    "                          alpha=0.05)         # Significance level\n",
    "\n",
    "tukey.summary()  "
   ]
  },
  {
   "cell_type": "markdown",
   "metadata": {},
   "source": [
    "**Answer**: The most consistent stand-out country was Sweden with a noticeably higher score (except when compared to Norway)."
   ]
  },
  {
   "cell_type": "markdown",
   "metadata": {},
   "source": [
    "## Question 6: Pick three or four of the countries in the sample and compare how often people took part in social activities, relative to others their age, in 2014. Are there differences, and if so, which countries stand out?"
   ]
  },
  {
   "cell_type": "code",
   "execution_count": 150,
   "metadata": {},
   "outputs": [
    {
     "data": {
      "text/plain": [
       "15-33     1096\n",
       "47-62     1087\n",
       "33-47     1023\n",
       "62-114     978\n",
       "Name: agea, dtype: int64"
      ]
     },
     "execution_count": 150,
     "metadata": {},
     "output_type": "execute_result"
    }
   ],
   "source": [
    "age_bins = pd.qcut(df_2014.agea, 4, labels=['15-33','33-47','47-62','62-114'])\n",
    "age_bins.value_counts()"
   ]
  },
  {
   "cell_type": "code",
   "execution_count": 151,
   "metadata": {},
   "outputs": [
    {
     "name": "stderr",
     "output_type": "stream",
     "text": [
      "C:\\ProgramData\\Anaconda3\\lib\\site-packages\\ipykernel_launcher.py:1: SettingWithCopyWarning: \n",
      "A value is trying to be set on a copy of a slice from a DataFrame.\n",
      "Try using .loc[row_indexer,col_indexer] = value instead\n",
      "\n",
      "See the caveats in the documentation: http://pandas.pydata.org/pandas-docs/stable/indexing.html#indexing-view-versus-copy\n",
      "  \"\"\"Entry point for launching an IPython kernel.\n"
     ]
    },
    {
     "data": {
      "text/html": [
       "<div>\n",
       "<style scoped>\n",
       "    .dataframe tbody tr th:only-of-type {\n",
       "        vertical-align: middle;\n",
       "    }\n",
       "\n",
       "    .dataframe tbody tr th {\n",
       "        vertical-align: top;\n",
       "    }\n",
       "\n",
       "    .dataframe thead th {\n",
       "        text-align: right;\n",
       "    }\n",
       "</style>\n",
       "<table border=\"1\" class=\"dataframe\">\n",
       "  <thead>\n",
       "    <tr style=\"text-align: right;\">\n",
       "      <th></th>\n",
       "      <th>cntry</th>\n",
       "      <th>idno</th>\n",
       "      <th>year</th>\n",
       "      <th>tvtot</th>\n",
       "      <th>ppltrst</th>\n",
       "      <th>pplfair</th>\n",
       "      <th>pplhlp</th>\n",
       "      <th>happy</th>\n",
       "      <th>sclmeet</th>\n",
       "      <th>sclact</th>\n",
       "      <th>gndr</th>\n",
       "      <th>agea</th>\n",
       "      <th>partner</th>\n",
       "      <th>age_bins</th>\n",
       "    </tr>\n",
       "  </thead>\n",
       "  <tbody>\n",
       "    <tr>\n",
       "      <th>773</th>\n",
       "      <td>CH</td>\n",
       "      <td>5.0</td>\n",
       "      <td>7</td>\n",
       "      <td>2.0</td>\n",
       "      <td>8.0</td>\n",
       "      <td>9.0</td>\n",
       "      <td>7.0</td>\n",
       "      <td>9.0</td>\n",
       "      <td>6.0</td>\n",
       "      <td>4.0</td>\n",
       "      <td>1.0</td>\n",
       "      <td>69.0</td>\n",
       "      <td>1.0</td>\n",
       "      <td>62-114</td>\n",
       "    </tr>\n",
       "    <tr>\n",
       "      <th>774</th>\n",
       "      <td>CH</td>\n",
       "      <td>25.0</td>\n",
       "      <td>7</td>\n",
       "      <td>4.0</td>\n",
       "      <td>4.0</td>\n",
       "      <td>2.0</td>\n",
       "      <td>5.0</td>\n",
       "      <td>6.0</td>\n",
       "      <td>5.0</td>\n",
       "      <td>3.0</td>\n",
       "      <td>1.0</td>\n",
       "      <td>30.0</td>\n",
       "      <td>1.0</td>\n",
       "      <td>15-33</td>\n",
       "    </tr>\n",
       "    <tr>\n",
       "      <th>775</th>\n",
       "      <td>CH</td>\n",
       "      <td>26.0</td>\n",
       "      <td>7</td>\n",
       "      <td>3.0</td>\n",
       "      <td>8.0</td>\n",
       "      <td>8.0</td>\n",
       "      <td>6.0</td>\n",
       "      <td>8.0</td>\n",
       "      <td>7.0</td>\n",
       "      <td>5.0</td>\n",
       "      <td>2.0</td>\n",
       "      <td>49.0</td>\n",
       "      <td>2.0</td>\n",
       "      <td>47-62</td>\n",
       "    </tr>\n",
       "    <tr>\n",
       "      <th>776</th>\n",
       "      <td>CH</td>\n",
       "      <td>28.0</td>\n",
       "      <td>7</td>\n",
       "      <td>2.0</td>\n",
       "      <td>7.0</td>\n",
       "      <td>7.0</td>\n",
       "      <td>5.0</td>\n",
       "      <td>9.0</td>\n",
       "      <td>6.0</td>\n",
       "      <td>2.0</td>\n",
       "      <td>1.0</td>\n",
       "      <td>51.0</td>\n",
       "      <td>1.0</td>\n",
       "      <td>47-62</td>\n",
       "    </tr>\n",
       "    <tr>\n",
       "      <th>777</th>\n",
       "      <td>CH</td>\n",
       "      <td>29.0</td>\n",
       "      <td>7</td>\n",
       "      <td>2.0</td>\n",
       "      <td>4.0</td>\n",
       "      <td>7.0</td>\n",
       "      <td>0.0</td>\n",
       "      <td>8.0</td>\n",
       "      <td>6.0</td>\n",
       "      <td>2.0</td>\n",
       "      <td>2.0</td>\n",
       "      <td>32.0</td>\n",
       "      <td>2.0</td>\n",
       "      <td>15-33</td>\n",
       "    </tr>\n",
       "  </tbody>\n",
       "</table>\n",
       "</div>"
      ],
      "text/plain": [
       "    cntry  idno  year  tvtot  ppltrst  pplfair  pplhlp  happy  sclmeet  \\\n",
       "773    CH   5.0     7    2.0      8.0      9.0     7.0    9.0      6.0   \n",
       "774    CH  25.0     7    4.0      4.0      2.0     5.0    6.0      5.0   \n",
       "775    CH  26.0     7    3.0      8.0      8.0     6.0    8.0      7.0   \n",
       "776    CH  28.0     7    2.0      7.0      7.0     5.0    9.0      6.0   \n",
       "777    CH  29.0     7    2.0      4.0      7.0     0.0    8.0      6.0   \n",
       "\n",
       "     sclact  gndr  agea  partner age_bins  \n",
       "773     4.0   1.0  69.0      1.0   62-114  \n",
       "774     3.0   1.0  30.0      1.0    15-33  \n",
       "775     5.0   2.0  49.0      2.0    47-62  \n",
       "776     2.0   1.0  51.0      1.0    47-62  \n",
       "777     2.0   2.0  32.0      2.0    15-33  "
      ]
     },
     "execution_count": 151,
     "metadata": {},
     "output_type": "execute_result"
    }
   ],
   "source": [
    "df_2014['age_bins'] = age_bins\n",
    "df_2014.head()"
   ]
  },
  {
   "cell_type": "code",
   "execution_count": 166,
   "metadata": {},
   "outputs": [
    {
     "data": {
      "image/png": "[encoded data removed]",
      "text/plain": [
       "<Figure size 1080x720 with 12 Axes>"
      ]
     },
     "metadata": {
      "needs_background": "light"
     },
     "output_type": "display_data"
    }
   ],
   "source": [
    "# Selecting largest countries for greatest sample sizes\n",
    "df_2014_es = df_2014[df_2014.cntry == 'ES']\n",
    "df_2014_se = df_2014[df_2014.cntry == 'SE']\n",
    "df_2014_ch = df_2014[df_2014.cntry == 'CH']\n",
    "\n",
    "fig, axes = plt.subplots(3, 4, figsize=(15,10), sharex=True, sharey=True)\n",
    "\n",
    "df_2014_es.sclact[df_2014_es.age_bins == '15-33'].hist(ax=axes[0,0])\n",
    "df_2014_es.sclact[df_2014_es.age_bins == '33-47'].hist(ax=axes[0,1])\n",
    "df_2014_es.sclact[df_2014_es.age_bins == '47-62'].hist(ax=axes[0,2])\n",
    "df_2014_es.sclact[df_2014_es.age_bins == '62-114'].hist(ax=axes[0,3])\n",
    "\n",
    "df_2014_se.sclact[df_2014_se.age_bins == '15-33'].hist(ax=axes[1,0])\n",
    "df_2014_se.sclact[df_2014_se.age_bins == '33-47'].hist(ax=axes[1,1])\n",
    "df_2014_se.sclact[df_2014_se.age_bins == '47-62'].hist(ax=axes[1,2])\n",
    "df_2014_se.sclact[df_2014_se.age_bins == '62-114'].hist(ax=axes[1,3])\n",
    "\n",
    "df_2014_ch.sclact[df_2014_ch.age_bins == '15-33'].hist(ax=axes[2,0])\n",
    "df_2014_ch.sclact[df_2014_ch.age_bins == '33-47'].hist(ax=axes[2,1])\n",
    "df_2014_ch.sclact[df_2014_ch.age_bins == '47-62'].hist(ax=axes[2,2])\n",
    "df_2014_ch.sclact[df_2014_ch.age_bins == '62-114'].hist(ax=axes[2,3])\n",
    "\n",
    "axes[0,0].set_title('Social Activity for 15-33')\n",
    "axes[0,1].set_title('Social Activity for 33-47')\n",
    "axes[0,2].set_title('Social Activity for 47-62')\n",
    "axes[0,3].set_title('Social Activity for 62-114')\n",
    "\n",
    "plt.show()"
   ]
  },
  {
   "cell_type": "code",
   "execution_count": 168,
   "metadata": {},
   "outputs": [
    {
     "data": {
      "text/html": [
       "<table class=\"simpletable\">\n",
       "<caption>Multiple Comparison of Means - Tukey HSD,FWER=0.05</caption>\n",
       "<tr>\n",
       "  <th>group1</th> <th>group2</th> <th>meandiff</th>  <th>lower</th>   <th>upper</th>  <th>reject</th>\n",
       "</tr>\n",
       "<tr>\n",
       "   <td>15-33</td>  <td>33-47</td>  <td>-0.0458</td> <td>-0.2456</td>  <td>0.154</td>   <td>False</td>\n",
       "</tr>\n",
       "<tr>\n",
       "   <td>15-33</td>  <td>47-62</td>  <td>-0.0679</td> <td>-0.2675</td> <td>0.1317</td>   <td>False</td>\n",
       "</tr>\n",
       "<tr>\n",
       "   <td>15-33</td> <td>62-114</td>  <td>-0.3297</td> <td>-0.5373</td> <td>-0.1221</td>  <td>True</td> \n",
       "</tr>\n",
       "<tr>\n",
       "   <td>33-47</td>  <td>47-62</td>  <td>-0.0221</td> <td>-0.2204</td> <td>0.1761</td>   <td>False</td>\n",
       "</tr>\n",
       "<tr>\n",
       "   <td>33-47</td> <td>62-114</td>  <td>-0.2839</td> <td>-0.4902</td> <td>-0.0776</td>  <td>True</td> \n",
       "</tr>\n",
       "<tr>\n",
       "   <td>47-62</td> <td>62-114</td>  <td>-0.2618</td> <td>-0.468</td>  <td>-0.0557</td>  <td>True</td> \n",
       "</tr>\n",
       "</table>"
      ],
      "text/plain": [
       "<class 'statsmodels.iolib.table.SimpleTable'>"
      ]
     },
     "execution_count": 168,
     "metadata": {},
     "output_type": "execute_result"
    }
   ],
   "source": [
    "es_sclact_numbers=np.asarray(df_2014_es.sclact[df_2014_es.age_bins == '15-33'].dropna().tolist() +\n",
    "                           df_2014_es.sclact[df_2014_es.age_bins == '33-47'].dropna().tolist() +\n",
    "                           df_2014_es.sclact[df_2014_es.age_bins == '47-62'].dropna().tolist() +\n",
    "                           df_2014_es.sclact[df_2014_es.age_bins == '62-114'].dropna().tolist())\n",
    "\n",
    "es_sclact_groups = np.array(['15-33'] * len(df_2014_es.sclact[df_2014_es.age_bins == '15-33'].dropna()) +\n",
    "                            ['33-47'] * len(df_2014_es.sclact[df_2014_es.age_bins == '33-47'].dropna()) +\n",
    "                            ['47-62'] * len(df_2014_es.sclact[df_2014_es.age_bins == '47-62'].dropna()) +\n",
    "                            ['62-114'] * len(df_2014_es.sclact[df_2014_es.age_bins == '62-114'].dropna()))\n",
    "\n",
    "tukey = pairwise_tukeyhsd(endog=es_sclact_numbers,      # Data\n",
    "                          groups=es_sclact_groups,   # Groups\n",
    "                          alpha=0.05)         # Significance level\n",
    "\n",
    "tukey.summary()  "
   ]
  },
  {
   "cell_type": "code",
   "execution_count": 171,
   "metadata": {},
   "outputs": [
    {
     "data": {
      "text/html": [
       "<table class=\"simpletable\">\n",
       "<caption>Multiple Comparison of Means - Tukey HSD,FWER=0.05</caption>\n",
       "<tr>\n",
       "  <th>group1</th> <th>group2</th> <th>meandiff</th>  <th>lower</th>   <th>upper</th> <th>reject</th>\n",
       "</tr>\n",
       "<tr>\n",
       "   <td>15-33</td>  <td>33-47</td>  <td>-0.029</td>  <td>-0.2561</td> <td>0.1981</td>  <td>False</td>\n",
       "</tr>\n",
       "<tr>\n",
       "   <td>15-33</td>  <td>47-62</td>  <td>-0.1392</td> <td>-0.3486</td> <td>0.0701</td>  <td>False</td>\n",
       "</tr>\n",
       "<tr>\n",
       "   <td>15-33</td> <td>62-114</td>  <td>0.0183</td>  <td>-0.1801</td> <td>0.2167</td>  <td>False</td>\n",
       "</tr>\n",
       "<tr>\n",
       "   <td>33-47</td>  <td>47-62</td>  <td>-0.1102</td> <td>-0.3415</td> <td>0.1211</td>  <td>False</td>\n",
       "</tr>\n",
       "<tr>\n",
       "   <td>33-47</td> <td>62-114</td>  <td>0.0473</td>  <td>-0.1741</td> <td>0.2688</td>  <td>False</td>\n",
       "</tr>\n",
       "<tr>\n",
       "   <td>47-62</td> <td>62-114</td>  <td>0.1575</td>  <td>-0.0457</td> <td>0.3608</td>  <td>False</td>\n",
       "</tr>\n",
       "</table>"
      ],
      "text/plain": [
       "<class 'statsmodels.iolib.table.SimpleTable'>"
      ]
     },
     "execution_count": 171,
     "metadata": {},
     "output_type": "execute_result"
    }
   ],
   "source": [
    "se_sclact_numbers=np.asarray(df_2014_se.sclact[df_2014_se.age_bins == '15-33'].dropna().tolist() +\n",
    "                           df_2014_se.sclact[df_2014_se.age_bins == '33-47'].dropna().tolist() +\n",
    "                           df_2014_se.sclact[df_2014_se.age_bins == '47-62'].dropna().tolist() +\n",
    "                           df_2014_se.sclact[df_2014_se.age_bins == '62-114'].dropna().tolist())\n",
    "\n",
    "se_sclact_groups = np.array(['15-33'] * len(df_2014_se.sclact[df_2014_se.age_bins == '15-33'].dropna()) +\n",
    "                            ['33-47'] * len(df_2014_se.sclact[df_2014_se.age_bins == '33-47'].dropna()) +\n",
    "                            ['47-62'] * len(df_2014_se.sclact[df_2014_se.age_bins == '47-62'].dropna()) +\n",
    "                            ['62-114'] * len(df_2014_se.sclact[df_2014_se.age_bins == '62-114'].dropna()))\n",
    "\n",
    "tukey = pairwise_tukeyhsd(endog=se_sclact_numbers,      # Data\n",
    "                          groups=se_sclact_groups,   # Groups\n",
    "                          alpha=0.05)         # Significance level\n",
    "\n",
    "tukey.summary()  "
   ]
  },
  {
   "cell_type": "code",
   "execution_count": 172,
   "metadata": {},
   "outputs": [
    {
     "data": {
      "text/html": [
       "<table class=\"simpletable\">\n",
       "<caption>Multiple Comparison of Means - Tukey HSD,FWER=0.05</caption>\n",
       "<tr>\n",
       "  <th>group1</th> <th>group2</th> <th>meandiff</th>  <th>lower</th>   <th>upper</th> <th>reject</th>\n",
       "</tr>\n",
       "<tr>\n",
       "   <td>15-33</td>  <td>33-47</td>  <td>0.0143</td>  <td>-0.2218</td> <td>0.2503</td>  <td>False</td>\n",
       "</tr>\n",
       "<tr>\n",
       "   <td>15-33</td>  <td>47-62</td>  <td>-0.0271</td> <td>-0.2624</td> <td>0.2082</td>  <td>False</td>\n",
       "</tr>\n",
       "<tr>\n",
       "   <td>15-33</td> <td>62-114</td>  <td>-0.0251</td> <td>-0.268</td>  <td>0.2178</td>  <td>False</td>\n",
       "</tr>\n",
       "<tr>\n",
       "   <td>33-47</td>  <td>47-62</td>  <td>-0.0414</td> <td>-0.2858</td>  <td>0.203</td>  <td>False</td>\n",
       "</tr>\n",
       "<tr>\n",
       "   <td>33-47</td> <td>62-114</td>  <td>-0.0394</td> <td>-0.2911</td> <td>0.2123</td>  <td>False</td>\n",
       "</tr>\n",
       "<tr>\n",
       "   <td>47-62</td> <td>62-114</td>   <td>0.002</td>  <td>-0.2491</td> <td>0.2531</td>  <td>False</td>\n",
       "</tr>\n",
       "</table>"
      ],
      "text/plain": [
       "<class 'statsmodels.iolib.table.SimpleTable'>"
      ]
     },
     "execution_count": 172,
     "metadata": {},
     "output_type": "execute_result"
    }
   ],
   "source": [
    "es_sclact_numbers=np.asarray(df_2014_ch.sclact[df_2014_ch.age_bins == '15-33'].dropna().tolist() +\n",
    "                           df_2014_ch.sclact[df_2014_ch.age_bins == '33-47'].dropna().tolist() +\n",
    "                           df_2014_ch.sclact[df_2014_ch.age_bins == '47-62'].dropna().tolist() +\n",
    "                           df_2014_ch.sclact[df_2014_ch.age_bins == '62-114'].dropna().tolist())\n",
    "\n",
    "es_sclact_groups = np.array(['15-33'] * len(df_2014_ch.sclact[df_2014_ch.age_bins == '15-33'].dropna()) +\n",
    "                            ['33-47'] * len(df_2014_ch.sclact[df_2014_ch.age_bins == '33-47'].dropna()) +\n",
    "                            ['47-62'] * len(df_2014_ch.sclact[df_2014_ch.age_bins == '47-62'].dropna()) +\n",
    "                            ['62-114'] * len(df_2014_ch.sclact[df_2014_ch.age_bins == '62-114'].dropna()))\n",
    "\n",
    "tukey = pairwise_tukeyhsd(endog=es_sclact_numbers,      # Data\n",
    "                          groups=es_sclact_groups,   # Groups\n",
    "                          alpha=0.05)         # Significance level\n",
    "\n",
    "tukey.summary()  "
   ]
  },
  {
   "cell_type": "markdown",
   "metadata": {},
   "source": [
    "**Answer**: Surprisingly, the only statistically significant difference between the social activity of the age groups within the different countries was in Spain where the oldest age group reportedly participated in fewer social activities."
   ]
  }
 ],
 "metadata": {
  "kernelspec": {
   "display_name": "Python 3",
   "language": "python",
   "name": "python3"
  },
  "language_info": {
   "codemirror_mode": {
    "name": "ipython",
    "version": 3
   },
   "file_extension": ".py",
   "mimetype": "text/x-python",
   "name": "python",
   "nbconvert_exporter": "python",
   "pygments_lexer": "ipython3",
   "version": "3.7.3"
  }
 },
 "nbformat": 4,
 "nbformat_minor": 2
}
