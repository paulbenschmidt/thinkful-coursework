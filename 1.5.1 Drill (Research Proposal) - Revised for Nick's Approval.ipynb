{
 "cells": [
  {
   "cell_type": "markdown",
   "metadata": {},
   "source": [
    "# A Study of Student Performance in Exams\n",
    "A dataset entitled [Student's Performance in Exams]('https://www.kaggle.com/spscientist/students-performance-in-exams') observed the test scores in the subjects of math, reading, and writing while observing secondary variables such as gender, race/ethnicity, highest level of parental education between a student's parents, lunch program cost, and whether or not the student completed test preparation.\n",
    "\n",
    "This notebook begins with an introductory analysis of the data then continues into a three-step research proposal in which:\n",
    "1. The **experimental hypothesis** (null and alternative) is introduced\n",
    "2. A **rollout plan** describing the method of implementation is discussed\n",
    "3. An **evaluation plan** where the measurements of what constitutes as a successful experiment are presented"
   ]
  },
  {
   "cell_type": "code",
   "execution_count": 284,
   "metadata": {},
   "outputs": [],
   "source": [
    "import numpy as np\n",
    "import pandas as pd\n",
    "import matplotlib.pyplot as plt\n",
    "%matplotlib inline\n",
    "import seaborn as sns\n",
    "from scipy.stats import ttest_ind"
   ]
  },
  {
   "cell_type": "code",
   "execution_count": 285,
   "metadata": {},
   "outputs": [],
   "source": [
    "df = pd.read_csv('C:\\\\Users\\\\paulb\\\\OneDrive\\\\Desktop\\\\Data Science\\\\Exercises\\\\Curriculum\\\\1.5.1 Drill\\\\StudentsPerformance.csv')\n",
    "df.columns = ['gender', 'race', 'parent_education', 'lunch','test_prep', 'math_score', 'reading_score', 'writing_score']\n",
    "df['average_score'] = (df['math_score'] + df['reading_score'] + df['writing_score']) / 3"
   ]
  },
  {
   "cell_type": "markdown",
   "metadata": {},
   "source": [
    "### Introductory Analysis"
   ]
  },
  {
   "cell_type": "code",
   "execution_count": 286,
   "metadata": {
    "scrolled": true
   },
   "outputs": [
    {
     "data": {
      "text/html": [
       "<div>\n",
       "<style scoped>\n",
       "    .dataframe tbody tr th:only-of-type {\n",
       "        vertical-align: middle;\n",
       "    }\n",
       "\n",
       "    .dataframe tbody tr th {\n",
       "        vertical-align: top;\n",
       "    }\n",
       "\n",
       "    .dataframe thead th {\n",
       "        text-align: right;\n",
       "    }\n",
       "</style>\n",
       "<table border=\"1\" class=\"dataframe\">\n",
       "  <thead>\n",
       "    <tr style=\"text-align: right;\">\n",
       "      <th></th>\n",
       "      <th>gender</th>\n",
       "      <th>race</th>\n",
       "      <th>parent_education</th>\n",
       "      <th>lunch</th>\n",
       "      <th>test_prep</th>\n",
       "      <th>math_score</th>\n",
       "      <th>reading_score</th>\n",
       "      <th>writing_score</th>\n",
       "      <th>average_score</th>\n",
       "    </tr>\n",
       "  </thead>\n",
       "  <tbody>\n",
       "    <tr>\n",
       "      <th>0</th>\n",
       "      <td>female</td>\n",
       "      <td>group B</td>\n",
       "      <td>bachelor's degree</td>\n",
       "      <td>standard</td>\n",
       "      <td>none</td>\n",
       "      <td>72</td>\n",
       "      <td>72</td>\n",
       "      <td>74</td>\n",
       "      <td>72.666667</td>\n",
       "    </tr>\n",
       "    <tr>\n",
       "      <th>1</th>\n",
       "      <td>female</td>\n",
       "      <td>group C</td>\n",
       "      <td>some college</td>\n",
       "      <td>standard</td>\n",
       "      <td>completed</td>\n",
       "      <td>69</td>\n",
       "      <td>90</td>\n",
       "      <td>88</td>\n",
       "      <td>82.333333</td>\n",
       "    </tr>\n",
       "    <tr>\n",
       "      <th>2</th>\n",
       "      <td>female</td>\n",
       "      <td>group B</td>\n",
       "      <td>master's degree</td>\n",
       "      <td>standard</td>\n",
       "      <td>none</td>\n",
       "      <td>90</td>\n",
       "      <td>95</td>\n",
       "      <td>93</td>\n",
       "      <td>92.666667</td>\n",
       "    </tr>\n",
       "    <tr>\n",
       "      <th>3</th>\n",
       "      <td>male</td>\n",
       "      <td>group A</td>\n",
       "      <td>associate's degree</td>\n",
       "      <td>free/reduced</td>\n",
       "      <td>none</td>\n",
       "      <td>47</td>\n",
       "      <td>57</td>\n",
       "      <td>44</td>\n",
       "      <td>49.333333</td>\n",
       "    </tr>\n",
       "    <tr>\n",
       "      <th>4</th>\n",
       "      <td>male</td>\n",
       "      <td>group C</td>\n",
       "      <td>some college</td>\n",
       "      <td>standard</td>\n",
       "      <td>none</td>\n",
       "      <td>76</td>\n",
       "      <td>78</td>\n",
       "      <td>75</td>\n",
       "      <td>76.333333</td>\n",
       "    </tr>\n",
       "  </tbody>\n",
       "</table>\n",
       "</div>"
      ],
      "text/plain": [
       "   gender     race    parent_education         lunch  test_prep  math_score  \\\n",
       "0  female  group B   bachelor's degree      standard       none          72   \n",
       "1  female  group C        some college      standard  completed          69   \n",
       "2  female  group B     master's degree      standard       none          90   \n",
       "3    male  group A  associate's degree  free/reduced       none          47   \n",
       "4    male  group C        some college      standard       none          76   \n",
       "\n",
       "   reading_score  writing_score  average_score  \n",
       "0             72             74      72.666667  \n",
       "1             90             88      82.333333  \n",
       "2             95             93      92.666667  \n",
       "3             57             44      49.333333  \n",
       "4             78             75      76.333333  "
      ]
     },
     "execution_count": 286,
     "metadata": {},
     "output_type": "execute_result"
    }
   ],
   "source": [
    "df.head()"
   ]
  },
  {
   "cell_type": "code",
   "execution_count": 287,
   "metadata": {},
   "outputs": [
    {
     "name": "stdout",
     "output_type": "stream",
     "text": [
      "['female' 'male']\n",
      "['group B' 'group C' 'group A' 'group D' 'group E']\n",
      "[\"bachelor's degree\" 'some college' \"master's degree\" \"associate's degree\"\n",
      " 'high school' 'some high school']\n",
      "['standard' 'free/reduced']\n",
      "['none' 'completed']\n"
     ]
    }
   ],
   "source": [
    "#Locating all variables in df\n",
    "print(df.gender.unique())\n",
    "print(df.race.unique())\n",
    "print(df.parent_education.unique())\n",
    "print(df.lunch.unique())\n",
    "print(df.test_prep.unique())"
   ]
  },
  {
   "cell_type": "code",
   "execution_count": 288,
   "metadata": {},
   "outputs": [
    {
     "data": {
      "text/html": [
       "<div>\n",
       "<style scoped>\n",
       "    .dataframe tbody tr th:only-of-type {\n",
       "        vertical-align: middle;\n",
       "    }\n",
       "\n",
       "    .dataframe tbody tr th {\n",
       "        vertical-align: top;\n",
       "    }\n",
       "\n",
       "    .dataframe thead th {\n",
       "        text-align: right;\n",
       "    }\n",
       "</style>\n",
       "<table border=\"1\" class=\"dataframe\">\n",
       "  <thead>\n",
       "    <tr style=\"text-align: right;\">\n",
       "      <th></th>\n",
       "      <th>math_score</th>\n",
       "      <th>reading_score</th>\n",
       "      <th>writing_score</th>\n",
       "      <th>average_score</th>\n",
       "    </tr>\n",
       "  </thead>\n",
       "  <tbody>\n",
       "    <tr>\n",
       "      <th>count</th>\n",
       "      <td>1000.00000</td>\n",
       "      <td>1000.000000</td>\n",
       "      <td>1000.000000</td>\n",
       "      <td>1000.000000</td>\n",
       "    </tr>\n",
       "    <tr>\n",
       "      <th>mean</th>\n",
       "      <td>66.08900</td>\n",
       "      <td>69.169000</td>\n",
       "      <td>68.054000</td>\n",
       "      <td>67.770667</td>\n",
       "    </tr>\n",
       "    <tr>\n",
       "      <th>std</th>\n",
       "      <td>15.16308</td>\n",
       "      <td>14.600192</td>\n",
       "      <td>15.195657</td>\n",
       "      <td>14.257326</td>\n",
       "    </tr>\n",
       "    <tr>\n",
       "      <th>min</th>\n",
       "      <td>0.00000</td>\n",
       "      <td>17.000000</td>\n",
       "      <td>10.000000</td>\n",
       "      <td>9.000000</td>\n",
       "    </tr>\n",
       "    <tr>\n",
       "      <th>25%</th>\n",
       "      <td>57.00000</td>\n",
       "      <td>59.000000</td>\n",
       "      <td>57.750000</td>\n",
       "      <td>58.333333</td>\n",
       "    </tr>\n",
       "    <tr>\n",
       "      <th>50%</th>\n",
       "      <td>66.00000</td>\n",
       "      <td>70.000000</td>\n",
       "      <td>69.000000</td>\n",
       "      <td>68.333333</td>\n",
       "    </tr>\n",
       "    <tr>\n",
       "      <th>75%</th>\n",
       "      <td>77.00000</td>\n",
       "      <td>79.000000</td>\n",
       "      <td>79.000000</td>\n",
       "      <td>77.666667</td>\n",
       "    </tr>\n",
       "    <tr>\n",
       "      <th>max</th>\n",
       "      <td>100.00000</td>\n",
       "      <td>100.000000</td>\n",
       "      <td>100.000000</td>\n",
       "      <td>100.000000</td>\n",
       "    </tr>\n",
       "  </tbody>\n",
       "</table>\n",
       "</div>"
      ],
      "text/plain": [
       "       math_score  reading_score  writing_score  average_score\n",
       "count  1000.00000    1000.000000    1000.000000    1000.000000\n",
       "mean     66.08900      69.169000      68.054000      67.770667\n",
       "std      15.16308      14.600192      15.195657      14.257326\n",
       "min       0.00000      17.000000      10.000000       9.000000\n",
       "25%      57.00000      59.000000      57.750000      58.333333\n",
       "50%      66.00000      70.000000      69.000000      68.333333\n",
       "75%      77.00000      79.000000      79.000000      77.666667\n",
       "max     100.00000     100.000000     100.000000     100.000000"
      ]
     },
     "execution_count": 288,
     "metadata": {},
     "output_type": "execute_result"
    }
   ],
   "source": [
    "df.describe()"
   ]
  },
  {
   "cell_type": "code",
   "execution_count": 289,
   "metadata": {},
   "outputs": [
    {
     "data": {
      "text/plain": [
       "gender              0\n",
       "race                0\n",
       "parent_education    0\n",
       "lunch               0\n",
       "test_prep           0\n",
       "math_score          0\n",
       "reading_score       0\n",
       "writing_score       0\n",
       "average_score       0\n",
       "dtype: int64"
      ]
     },
     "execution_count": 289,
     "metadata": {},
     "output_type": "execute_result"
    }
   ],
   "source": [
    "df.isnull().sum()"
   ]
  },
  {
   "cell_type": "code",
   "execution_count": 290,
   "metadata": {},
   "outputs": [
    {
     "data": {
      "text/html": [
       "<div>\n",
       "<style scoped>\n",
       "    .dataframe tbody tr th:only-of-type {\n",
       "        vertical-align: middle;\n",
       "    }\n",
       "\n",
       "    .dataframe tbody tr th {\n",
       "        vertical-align: top;\n",
       "    }\n",
       "\n",
       "    .dataframe thead th {\n",
       "        text-align: right;\n",
       "    }\n",
       "</style>\n",
       "<table border=\"1\" class=\"dataframe\">\n",
       "  <thead>\n",
       "    <tr style=\"text-align: right;\">\n",
       "      <th></th>\n",
       "      <th>math_score</th>\n",
       "      <th>reading_score</th>\n",
       "      <th>writing_score</th>\n",
       "      <th>average_score</th>\n",
       "    </tr>\n",
       "    <tr>\n",
       "      <th>race</th>\n",
       "      <th></th>\n",
       "      <th></th>\n",
       "      <th></th>\n",
       "      <th></th>\n",
       "    </tr>\n",
       "  </thead>\n",
       "  <tbody>\n",
       "    <tr>\n",
       "      <th>group A</th>\n",
       "      <td>61.629213</td>\n",
       "      <td>64.674157</td>\n",
       "      <td>62.674157</td>\n",
       "      <td>62.992509</td>\n",
       "    </tr>\n",
       "    <tr>\n",
       "      <th>group B</th>\n",
       "      <td>63.452632</td>\n",
       "      <td>67.352632</td>\n",
       "      <td>65.600000</td>\n",
       "      <td>65.468421</td>\n",
       "    </tr>\n",
       "    <tr>\n",
       "      <th>group C</th>\n",
       "      <td>64.463950</td>\n",
       "      <td>69.103448</td>\n",
       "      <td>67.827586</td>\n",
       "      <td>67.131661</td>\n",
       "    </tr>\n",
       "    <tr>\n",
       "      <th>group D</th>\n",
       "      <td>67.362595</td>\n",
       "      <td>70.030534</td>\n",
       "      <td>70.145038</td>\n",
       "      <td>69.179389</td>\n",
       "    </tr>\n",
       "    <tr>\n",
       "      <th>group E</th>\n",
       "      <td>73.821429</td>\n",
       "      <td>73.028571</td>\n",
       "      <td>71.407143</td>\n",
       "      <td>72.752381</td>\n",
       "    </tr>\n",
       "  </tbody>\n",
       "</table>\n",
       "</div>"
      ],
      "text/plain": [
       "         math_score  reading_score  writing_score  average_score\n",
       "race                                                            \n",
       "group A   61.629213      64.674157      62.674157      62.992509\n",
       "group B   63.452632      67.352632      65.600000      65.468421\n",
       "group C   64.463950      69.103448      67.827586      67.131661\n",
       "group D   67.362595      70.030534      70.145038      69.179389\n",
       "group E   73.821429      73.028571      71.407143      72.752381"
      ]
     },
     "execution_count": 290,
     "metadata": {},
     "output_type": "execute_result"
    }
   ],
   "source": [
    "#Observing scores across race groups\n",
    "race = df.groupby('race').agg('mean')\n",
    "race"
   ]
  },
  {
   "cell_type": "markdown",
   "metadata": {},
   "source": [
    "Across groups, we notice a distinct distributions where the average differences between race/ethnicity groups are noticeable."
   ]
  },
  {
   "cell_type": "code",
   "execution_count": 291,
   "metadata": {},
   "outputs": [
    {
     "data": {
      "text/html": [
       "<div>\n",
       "<style scoped>\n",
       "    .dataframe tbody tr th:only-of-type {\n",
       "        vertical-align: middle;\n",
       "    }\n",
       "\n",
       "    .dataframe tbody tr th {\n",
       "        vertical-align: top;\n",
       "    }\n",
       "\n",
       "    .dataframe thead th {\n",
       "        text-align: right;\n",
       "    }\n",
       "</style>\n",
       "<table border=\"1\" class=\"dataframe\">\n",
       "  <thead>\n",
       "    <tr style=\"text-align: right;\">\n",
       "      <th></th>\n",
       "      <th>math_score</th>\n",
       "      <th>reading_score</th>\n",
       "      <th>writing_score</th>\n",
       "      <th>average_score</th>\n",
       "    </tr>\n",
       "    <tr>\n",
       "      <th>parent_education</th>\n",
       "      <th></th>\n",
       "      <th></th>\n",
       "      <th></th>\n",
       "      <th></th>\n",
       "    </tr>\n",
       "  </thead>\n",
       "  <tbody>\n",
       "    <tr>\n",
       "      <th>associate's degree</th>\n",
       "      <td>67.882883</td>\n",
       "      <td>70.927928</td>\n",
       "      <td>69.896396</td>\n",
       "      <td>69.569069</td>\n",
       "    </tr>\n",
       "    <tr>\n",
       "      <th>bachelor's degree</th>\n",
       "      <td>69.389831</td>\n",
       "      <td>73.000000</td>\n",
       "      <td>73.381356</td>\n",
       "      <td>71.923729</td>\n",
       "    </tr>\n",
       "    <tr>\n",
       "      <th>high school</th>\n",
       "      <td>62.137755</td>\n",
       "      <td>64.704082</td>\n",
       "      <td>62.448980</td>\n",
       "      <td>63.096939</td>\n",
       "    </tr>\n",
       "    <tr>\n",
       "      <th>master's degree</th>\n",
       "      <td>69.745763</td>\n",
       "      <td>75.372881</td>\n",
       "      <td>75.677966</td>\n",
       "      <td>73.598870</td>\n",
       "    </tr>\n",
       "    <tr>\n",
       "      <th>some college</th>\n",
       "      <td>67.128319</td>\n",
       "      <td>69.460177</td>\n",
       "      <td>68.840708</td>\n",
       "      <td>68.476401</td>\n",
       "    </tr>\n",
       "    <tr>\n",
       "      <th>some high school</th>\n",
       "      <td>63.497207</td>\n",
       "      <td>66.938547</td>\n",
       "      <td>64.888268</td>\n",
       "      <td>65.108007</td>\n",
       "    </tr>\n",
       "  </tbody>\n",
       "</table>\n",
       "</div>"
      ],
      "text/plain": [
       "                    math_score  reading_score  writing_score  average_score\n",
       "parent_education                                                           \n",
       "associate's degree   67.882883      70.927928      69.896396      69.569069\n",
       "bachelor's degree    69.389831      73.000000      73.381356      71.923729\n",
       "high school          62.137755      64.704082      62.448980      63.096939\n",
       "master's degree      69.745763      75.372881      75.677966      73.598870\n",
       "some college         67.128319      69.460177      68.840708      68.476401\n",
       "some high school     63.497207      66.938547      64.888268      65.108007"
      ]
     },
     "execution_count": 291,
     "metadata": {},
     "output_type": "execute_result"
    }
   ],
   "source": [
    "#Observing scores across parent education\n",
    "df.groupby('parent_education').mean()"
   ]
  },
  {
   "cell_type": "markdown",
   "metadata": {},
   "source": [
    "With the exception of 'high school' and 'some high school', the trends perfectly follow the expected pattern of greater parental education positively affecting their children's education."
   ]
  },
  {
   "cell_type": "code",
   "execution_count": 292,
   "metadata": {
    "scrolled": true
   },
   "outputs": [
    {
     "data": {
      "text/html": [
       "<div>\n",
       "<style scoped>\n",
       "    .dataframe tbody tr th:only-of-type {\n",
       "        vertical-align: middle;\n",
       "    }\n",
       "\n",
       "    .dataframe tbody tr th {\n",
       "        vertical-align: top;\n",
       "    }\n",
       "\n",
       "    .dataframe thead th {\n",
       "        text-align: right;\n",
       "    }\n",
       "</style>\n",
       "<table border=\"1\" class=\"dataframe\">\n",
       "  <thead>\n",
       "    <tr style=\"text-align: right;\">\n",
       "      <th></th>\n",
       "      <th>math_score</th>\n",
       "      <th>reading_score</th>\n",
       "      <th>writing_score</th>\n",
       "      <th>average_score</th>\n",
       "    </tr>\n",
       "    <tr>\n",
       "      <th>lunch</th>\n",
       "      <th></th>\n",
       "      <th></th>\n",
       "      <th></th>\n",
       "      <th></th>\n",
       "    </tr>\n",
       "  </thead>\n",
       "  <tbody>\n",
       "    <tr>\n",
       "      <th>free/reduced</th>\n",
       "      <td>58.921127</td>\n",
       "      <td>64.653521</td>\n",
       "      <td>63.022535</td>\n",
       "      <td>62.199061</td>\n",
       "    </tr>\n",
       "    <tr>\n",
       "      <th>standard</th>\n",
       "      <td>70.034109</td>\n",
       "      <td>71.654264</td>\n",
       "      <td>70.823256</td>\n",
       "      <td>70.837209</td>\n",
       "    </tr>\n",
       "  </tbody>\n",
       "</table>\n",
       "</div>"
      ],
      "text/plain": [
       "              math_score  reading_score  writing_score  average_score\n",
       "lunch                                                                \n",
       "free/reduced   58.921127      64.653521      63.022535      62.199061\n",
       "standard       70.034109      71.654264      70.823256      70.837209"
      ]
     },
     "execution_count": 292,
     "metadata": {},
     "output_type": "execute_result"
    }
   ],
   "source": [
    "df.groupby('lunch').mean()"
   ]
  },
  {
   "cell_type": "markdown",
   "metadata": {},
   "source": [
    "In the above cell, we see a potential correlation between lunch type and average score. However, it would be unreasonable to assume raising the cost of lunch would improve scores. Working under the assumption that schools that offer standard lunch are in wealthier, more economically developed geographic locations, the issue is not changing food accessibility but increasing economic/educational development."
   ]
  },
  {
   "cell_type": "code",
   "execution_count": 293,
   "metadata": {
    "scrolled": false
   },
   "outputs": [
    {
     "data": {
      "text/html": [
       "<div>\n",
       "<style scoped>\n",
       "    .dataframe tbody tr th:only-of-type {\n",
       "        vertical-align: middle;\n",
       "    }\n",
       "\n",
       "    .dataframe tbody tr th {\n",
       "        vertical-align: top;\n",
       "    }\n",
       "\n",
       "    .dataframe thead th {\n",
       "        text-align: right;\n",
       "    }\n",
       "</style>\n",
       "<table border=\"1\" class=\"dataframe\">\n",
       "  <thead>\n",
       "    <tr style=\"text-align: right;\">\n",
       "      <th></th>\n",
       "      <th></th>\n",
       "      <th>mean</th>\n",
       "      <th>count</th>\n",
       "      <th>perc_count</th>\n",
       "    </tr>\n",
       "    <tr>\n",
       "      <th>lunch</th>\n",
       "      <th>parent_education</th>\n",
       "      <th></th>\n",
       "      <th></th>\n",
       "      <th></th>\n",
       "    </tr>\n",
       "  </thead>\n",
       "  <tbody>\n",
       "    <tr>\n",
       "      <th rowspan=\"6\" valign=\"top\">free/reduced</th>\n",
       "      <th>associate's degree</th>\n",
       "      <td>65.428571</td>\n",
       "      <td>77</td>\n",
       "      <td>0.077</td>\n",
       "    </tr>\n",
       "    <tr>\n",
       "      <th>bachelor's degree</th>\n",
       "      <td>67.053030</td>\n",
       "      <td>44</td>\n",
       "      <td>0.044</td>\n",
       "    </tr>\n",
       "    <tr>\n",
       "      <th>high school</th>\n",
       "      <td>57.376190</td>\n",
       "      <td>70</td>\n",
       "      <td>0.070</td>\n",
       "    </tr>\n",
       "    <tr>\n",
       "      <th>master's degree</th>\n",
       "      <td>67.111111</td>\n",
       "      <td>24</td>\n",
       "      <td>0.024</td>\n",
       "    </tr>\n",
       "    <tr>\n",
       "      <th>some college</th>\n",
       "      <td>62.970464</td>\n",
       "      <td>79</td>\n",
       "      <td>0.079</td>\n",
       "    </tr>\n",
       "    <tr>\n",
       "      <th>some high school</th>\n",
       "      <td>57.224044</td>\n",
       "      <td>61</td>\n",
       "      <td>0.061</td>\n",
       "    </tr>\n",
       "    <tr>\n",
       "      <th rowspan=\"6\" valign=\"top\">standard</th>\n",
       "      <th>associate's degree</th>\n",
       "      <td>71.767816</td>\n",
       "      <td>145</td>\n",
       "      <td>0.145</td>\n",
       "    </tr>\n",
       "    <tr>\n",
       "      <th>bachelor's degree</th>\n",
       "      <td>74.819820</td>\n",
       "      <td>74</td>\n",
       "      <td>0.074</td>\n",
       "    </tr>\n",
       "    <tr>\n",
       "      <th>high school</th>\n",
       "      <td>66.275132</td>\n",
       "      <td>126</td>\n",
       "      <td>0.126</td>\n",
       "    </tr>\n",
       "    <tr>\n",
       "      <th>master's degree</th>\n",
       "      <td>78.047619</td>\n",
       "      <td>35</td>\n",
       "      <td>0.035</td>\n",
       "    </tr>\n",
       "    <tr>\n",
       "      <th>some college</th>\n",
       "      <td>71.435374</td>\n",
       "      <td>147</td>\n",
       "      <td>0.147</td>\n",
       "    </tr>\n",
       "    <tr>\n",
       "      <th>some high school</th>\n",
       "      <td>69.183616</td>\n",
       "      <td>118</td>\n",
       "      <td>0.118</td>\n",
       "    </tr>\n",
       "  </tbody>\n",
       "</table>\n",
       "</div>"
      ],
      "text/plain": [
       "                                      mean  count  perc_count\n",
       "lunch        parent_education                                \n",
       "free/reduced associate's degree  65.428571     77       0.077\n",
       "             bachelor's degree   67.053030     44       0.044\n",
       "             high school         57.376190     70       0.070\n",
       "             master's degree     67.111111     24       0.024\n",
       "             some college        62.970464     79       0.079\n",
       "             some high school    57.224044     61       0.061\n",
       "standard     associate's degree  71.767816    145       0.145\n",
       "             bachelor's degree   74.819820     74       0.074\n",
       "             high school         66.275132    126       0.126\n",
       "             master's degree     78.047619     35       0.035\n",
       "             some college        71.435374    147       0.147\n",
       "             some high school    69.183616    118       0.118"
      ]
     },
     "execution_count": 293,
     "metadata": {},
     "output_type": "execute_result"
    }
   ],
   "source": [
    "lunch_groups = df.groupby(['lunch', 'parent_education'])['average_score'].agg(['mean','count'])\n",
    "lunch_groups['perc_count'] = lunch_groups['count']/lunch_groups['count'].sum()\n",
    "lunch_groups"
   ]
  },
  {
   "cell_type": "markdown",
   "metadata": {},
   "source": [
    "The additional *perc_count* column illustrates the heavier density of the population in the \"standard\" lunch group. While the dataset does not provide more economic data on where the \"free/reduced\" lunch groups are located, it is most likely government-funded programs in lower economic areas. It would be interesting to observe how similar economic areas differ in scores when comparing the lunch cost."
   ]
  },
  {
   "cell_type": "markdown",
   "metadata": {},
   "source": [
    "### Step 1. Experimental Hypothesis\n",
    "#### Making the Case for Focusing on the Variable Test Preparation\n",
    "While there are a variety of approaches one could take to improve student scores, the most beneficial and practical variable that positively affects the average test score is whether or not the student completed the test preparation. For a high-level visualization supporting this claim, see the histogram below: "
   ]
  },
  {
   "cell_type": "code",
   "execution_count": 294,
   "metadata": {},
   "outputs": [],
   "source": [
    "complete_test_prep = df[df['test_prep'] == 'completed']\n",
    "incomplete_test_prep = df[df['test_prep'] == 'none']"
   ]
  },
  {
   "cell_type": "code",
   "execution_count": 295,
   "metadata": {},
   "outputs": [
    {
     "data": {
      "image/png": "[encoded data removed]",
      "text/plain": [
       "<Figure size 864x576 with 1 Axes>"
      ]
     },
     "metadata": {
      "needs_background": "light"
     },
     "output_type": "display_data"
    }
   ],
   "source": [
    "plt.figure(figsize=[12,8])\n",
    "plt.hist(complete_test_prep['average_score'], normed=True, color='blue', alpha=.5) \n",
    "plt.hist(incomplete_test_prep['average_score'], normed=True, color='red', alpha=.5)\n",
    "plt.title('Normed Distribution of Average Test Scores According to Test Preparation')\n",
    "plt.legend(['Complete Test Prep','Incomplete Test Prep'])\n",
    "plt.xlabel('Average Test Scores')\n",
    "plt.show()"
   ]
  },
  {
   "cell_type": "markdown",
   "metadata": {},
   "source": [
    "As you can see in the graph and visualization below, the test preparation has a positive affect across all subjects."
   ]
  },
  {
   "cell_type": "code",
   "execution_count": 296,
   "metadata": {
    "scrolled": false
   },
   "outputs": [
    {
     "name": "stdout",
     "output_type": "stream",
     "text": [
      "        math_score  reading_score  writing_score  average_score\n",
      "mean     69.695531      73.893855      74.418994       72.66946\n",
      "median   69.000000      75.000000      76.000000       73.50000\n",
      "std      14.444699      13.638384      13.375335       13.03696\n",
      "        math_score  reading_score  writing_score  average_score\n",
      "mean     64.077882      66.534268      64.504673      65.038941\n",
      "median   64.000000      67.000000      65.000000      65.333333\n",
      "std      15.192376      14.463885      14.999661      14.186707\n"
     ]
    },
    {
     "data": {
      "image/png": "[encoded data removed]",
      "text/plain": [
       "<Figure size 1080x288 with 4 Axes>"
      ]
     },
     "metadata": {
      "needs_background": "light"
     },
     "output_type": "display_data"
    }
   ],
   "source": [
    "print(df[df.test_prep == 'completed'].agg({'math_score':['mean','median','std'],\n",
    "                                           'reading_score':['mean','median','std'],\n",
    "                                           'writing_score':['mean','median','std'],\n",
    "                                           'average_score':['mean', 'median','std']}))\n",
    "print(df[df.test_prep == 'none'].agg({'math_score':['mean','median','std'],\n",
    "                                           'reading_score':['mean','median','std'],\n",
    "                                           'writing_score':['mean','median','std'],\n",
    "                                             'average_score':['mean', 'median','std']}))\n",
    "\n",
    "fig, axs = plt.subplots(1, 4, sharex=True, sharey=True, figsize=(15,4))\n",
    "fig.suptitle('Observing Score Differences across Preparation Variable', fontsize='x-large')\n",
    "fig.tight_layout()\n",
    "fig.subplots_adjust(top=.8, hspace=.5)\n",
    "axs[0].hist(df.math_score[df.test_prep == 'completed'], normed=True, color='b', alpha=.5)\n",
    "axs[0].hist(df.math_score[df.test_prep == 'none'], normed=True, color='r', alpha=.5)\n",
    "axs[0].legend(fontsize='small', loc=2, labels=['With Preparation','No Preparation'])\n",
    "axs[0].title.set_text('Math Score')\n",
    "axs[1].hist(df.reading_score[df.test_prep == 'completed'], normed=True, color='b', alpha=.5)\n",
    "axs[1].hist(df.reading_score[df.test_prep == 'none'], normed=True, color='r', alpha=.5)\n",
    "axs[1].legend(fontsize='x-small', labels=['With Preparation','No Preparation'])\n",
    "axs[1].title.set_text('Reading Score')\n",
    "axs[2].hist(df.writing_score[df.test_prep == 'completed'], normed=True, color='b', alpha=.5)\n",
    "axs[2].hist(df.writing_score[df.test_prep == 'none'], normed=True, color='r', alpha=.5)\n",
    "axs[2].legend(fontsize='x-small', labels=['With Preparation','No Preparation'])\n",
    "axs[2].title.set_text('Writing Score')\n",
    "axs[3].hist(df.average_score[df.test_prep == 'completed'], normed=True, color='b', alpha=.5)\n",
    "axs[3].hist(df.average_score[df.test_prep == 'none'], normed=True, color='r', alpha=.5)\n",
    "axs[3].title.set_text('Average Scores')\n",
    "axs[3].legend(fontsize='x-small', labels=['With Preparation','No Preparation'])\n",
    "\n",
    "plt.show()"
   ]
  },
  {
   "cell_type": "code",
   "execution_count": 297,
   "metadata": {},
   "outputs": [
    {
     "data": {
      "text/html": [
       "<div>\n",
       "<style scoped>\n",
       "    .dataframe tbody tr th:only-of-type {\n",
       "        vertical-align: middle;\n",
       "    }\n",
       "\n",
       "    .dataframe tbody tr th {\n",
       "        vertical-align: top;\n",
       "    }\n",
       "\n",
       "    .dataframe thead tr th {\n",
       "        text-align: left;\n",
       "    }\n",
       "\n",
       "    .dataframe thead tr:last-of-type th {\n",
       "        text-align: right;\n",
       "    }\n",
       "</style>\n",
       "<table border=\"1\" class=\"dataframe\">\n",
       "  <thead>\n",
       "    <tr>\n",
       "      <th></th>\n",
       "      <th></th>\n",
       "      <th colspan=\"4\" halign=\"left\">math_score</th>\n",
       "      <th colspan=\"4\" halign=\"left\">reading_score</th>\n",
       "      <th colspan=\"4\" halign=\"left\">writing_score</th>\n",
       "      <th colspan=\"4\" halign=\"left\">average_score</th>\n",
       "    </tr>\n",
       "    <tr>\n",
       "      <th></th>\n",
       "      <th></th>\n",
       "      <th>mean</th>\n",
       "      <th>median</th>\n",
       "      <th>std</th>\n",
       "      <th>count</th>\n",
       "      <th>mean</th>\n",
       "      <th>median</th>\n",
       "      <th>std</th>\n",
       "      <th>count</th>\n",
       "      <th>mean</th>\n",
       "      <th>median</th>\n",
       "      <th>std</th>\n",
       "      <th>count</th>\n",
       "      <th>mean</th>\n",
       "      <th>median</th>\n",
       "      <th>std</th>\n",
       "      <th>count</th>\n",
       "    </tr>\n",
       "    <tr>\n",
       "      <th>test_prep</th>\n",
       "      <th>race</th>\n",
       "      <th></th>\n",
       "      <th></th>\n",
       "      <th></th>\n",
       "      <th></th>\n",
       "      <th></th>\n",
       "      <th></th>\n",
       "      <th></th>\n",
       "      <th></th>\n",
       "      <th></th>\n",
       "      <th></th>\n",
       "      <th></th>\n",
       "      <th></th>\n",
       "      <th></th>\n",
       "      <th></th>\n",
       "      <th></th>\n",
       "      <th></th>\n",
       "    </tr>\n",
       "  </thead>\n",
       "  <tbody>\n",
       "    <tr>\n",
       "      <th rowspan=\"5\" valign=\"top\">completed</th>\n",
       "      <th>group A</th>\n",
       "      <td>68.258065</td>\n",
       "      <td>72.0</td>\n",
       "      <td>16.453911</td>\n",
       "      <td>31</td>\n",
       "      <td>71.032258</td>\n",
       "      <td>72.0</td>\n",
       "      <td>16.073755</td>\n",
       "      <td>31</td>\n",
       "      <td>70.903226</td>\n",
       "      <td>74.0</td>\n",
       "      <td>15.038517</td>\n",
       "      <td>31</td>\n",
       "      <td>70.064516</td>\n",
       "      <td>73.000000</td>\n",
       "      <td>15.302970</td>\n",
       "      <td>31</td>\n",
       "    </tr>\n",
       "    <tr>\n",
       "      <th>group B</th>\n",
       "      <td>67.191176</td>\n",
       "      <td>65.5</td>\n",
       "      <td>14.339443</td>\n",
       "      <td>68</td>\n",
       "      <td>72.852941</td>\n",
       "      <td>74.5</td>\n",
       "      <td>13.109487</td>\n",
       "      <td>68</td>\n",
       "      <td>71.882353</td>\n",
       "      <td>73.5</td>\n",
       "      <td>13.468071</td>\n",
       "      <td>68</td>\n",
       "      <td>70.642157</td>\n",
       "      <td>70.666667</td>\n",
       "      <td>12.875255</td>\n",
       "      <td>68</td>\n",
       "    </tr>\n",
       "    <tr>\n",
       "      <th>group C</th>\n",
       "      <td>67.495726</td>\n",
       "      <td>67.0</td>\n",
       "      <td>14.282026</td>\n",
       "      <td>117</td>\n",
       "      <td>73.658120</td>\n",
       "      <td>75.0</td>\n",
       "      <td>13.996405</td>\n",
       "      <td>117</td>\n",
       "      <td>74.452991</td>\n",
       "      <td>77.0</td>\n",
       "      <td>13.556075</td>\n",
       "      <td>117</td>\n",
       "      <td>71.868946</td>\n",
       "      <td>72.666667</td>\n",
       "      <td>13.207811</td>\n",
       "      <td>117</td>\n",
       "    </tr>\n",
       "    <tr>\n",
       "      <th>group D</th>\n",
       "      <td>69.792683</td>\n",
       "      <td>69.5</td>\n",
       "      <td>12.804067</td>\n",
       "      <td>82</td>\n",
       "      <td>74.146341</td>\n",
       "      <td>75.0</td>\n",
       "      <td>12.707655</td>\n",
       "      <td>82</td>\n",
       "      <td>76.658537</td>\n",
       "      <td>77.5</td>\n",
       "      <td>12.318028</td>\n",
       "      <td>82</td>\n",
       "      <td>73.532520</td>\n",
       "      <td>74.333333</td>\n",
       "      <td>11.824489</td>\n",
       "      <td>82</td>\n",
       "    </tr>\n",
       "    <tr>\n",
       "      <th>group E</th>\n",
       "      <td>77.433333</td>\n",
       "      <td>79.0</td>\n",
       "      <td>13.653542</td>\n",
       "      <td>60</td>\n",
       "      <td>76.666667</td>\n",
       "      <td>75.0</td>\n",
       "      <td>13.361552</td>\n",
       "      <td>60</td>\n",
       "      <td>75.983333</td>\n",
       "      <td>76.0</td>\n",
       "      <td>12.981723</td>\n",
       "      <td>60</td>\n",
       "      <td>76.694444</td>\n",
       "      <td>76.833333</td>\n",
       "      <td>12.612476</td>\n",
       "      <td>60</td>\n",
       "    </tr>\n",
       "    <tr>\n",
       "      <th rowspan=\"5\" valign=\"top\">none</th>\n",
       "      <th>group A</th>\n",
       "      <td>58.086207</td>\n",
       "      <td>58.0</td>\n",
       "      <td>12.102319</td>\n",
       "      <td>58</td>\n",
       "      <td>61.275862</td>\n",
       "      <td>60.5</td>\n",
       "      <td>14.258015</td>\n",
       "      <td>58</td>\n",
       "      <td>58.275862</td>\n",
       "      <td>58.0</td>\n",
       "      <td>13.923088</td>\n",
       "      <td>58</td>\n",
       "      <td>59.212644</td>\n",
       "      <td>59.333333</td>\n",
       "      <td>12.535128</td>\n",
       "      <td>58</td>\n",
       "    </tr>\n",
       "    <tr>\n",
       "      <th>group B</th>\n",
       "      <td>61.368852</td>\n",
       "      <td>62.0</td>\n",
       "      <td>15.736572</td>\n",
       "      <td>122</td>\n",
       "      <td>64.286885</td>\n",
       "      <td>64.0</td>\n",
       "      <td>15.432862</td>\n",
       "      <td>122</td>\n",
       "      <td>62.098361</td>\n",
       "      <td>63.0</td>\n",
       "      <td>15.696191</td>\n",
       "      <td>122</td>\n",
       "      <td>62.584699</td>\n",
       "      <td>62.833333</td>\n",
       "      <td>14.959530</td>\n",
       "      <td>122</td>\n",
       "    </tr>\n",
       "    <tr>\n",
       "      <th>group C</th>\n",
       "      <td>62.707921</td>\n",
       "      <td>63.0</td>\n",
       "      <td>14.927981</td>\n",
       "      <td>202</td>\n",
       "      <td>66.465347</td>\n",
       "      <td>67.0</td>\n",
       "      <td>13.335371</td>\n",
       "      <td>202</td>\n",
       "      <td>63.990099</td>\n",
       "      <td>65.0</td>\n",
       "      <td>14.449084</td>\n",
       "      <td>202</td>\n",
       "      <td>64.387789</td>\n",
       "      <td>65.666667</td>\n",
       "      <td>13.533277</td>\n",
       "      <td>202</td>\n",
       "    </tr>\n",
       "    <tr>\n",
       "      <th>group D</th>\n",
       "      <td>66.255556</td>\n",
       "      <td>67.5</td>\n",
       "      <td>14.082805</td>\n",
       "      <td>180</td>\n",
       "      <td>68.155556</td>\n",
       "      <td>68.5</td>\n",
       "      <td>14.041368</td>\n",
       "      <td>180</td>\n",
       "      <td>67.177778</td>\n",
       "      <td>69.0</td>\n",
       "      <td>14.284482</td>\n",
       "      <td>180</td>\n",
       "      <td>67.196296</td>\n",
       "      <td>68.666667</td>\n",
       "      <td>13.423475</td>\n",
       "      <td>180</td>\n",
       "    </tr>\n",
       "    <tr>\n",
       "      <th>group E</th>\n",
       "      <td>71.112500</td>\n",
       "      <td>72.0</td>\n",
       "      <td>16.371474</td>\n",
       "      <td>80</td>\n",
       "      <td>70.300000</td>\n",
       "      <td>72.5</td>\n",
       "      <td>15.438240</td>\n",
       "      <td>80</td>\n",
       "      <td>67.975000</td>\n",
       "      <td>69.0</td>\n",
       "      <td>15.755228</td>\n",
       "      <td>80</td>\n",
       "      <td>69.795833</td>\n",
       "      <td>70.666667</td>\n",
       "      <td>15.290575</td>\n",
       "      <td>80</td>\n",
       "    </tr>\n",
       "  </tbody>\n",
       "</table>\n",
       "</div>"
      ],
      "text/plain": [
       "                  math_score                         reading_score         \\\n",
       "                        mean median        std count          mean median   \n",
       "test_prep race                                                              \n",
       "completed group A  68.258065   72.0  16.453911    31     71.032258   72.0   \n",
       "          group B  67.191176   65.5  14.339443    68     72.852941   74.5   \n",
       "          group C  67.495726   67.0  14.282026   117     73.658120   75.0   \n",
       "          group D  69.792683   69.5  12.804067    82     74.146341   75.0   \n",
       "          group E  77.433333   79.0  13.653542    60     76.666667   75.0   \n",
       "none      group A  58.086207   58.0  12.102319    58     61.275862   60.5   \n",
       "          group B  61.368852   62.0  15.736572   122     64.286885   64.0   \n",
       "          group C  62.707921   63.0  14.927981   202     66.465347   67.0   \n",
       "          group D  66.255556   67.5  14.082805   180     68.155556   68.5   \n",
       "          group E  71.112500   72.0  16.371474    80     70.300000   72.5   \n",
       "\n",
       "                                   writing_score                          \\\n",
       "                         std count          mean median        std count   \n",
       "test_prep race                                                             \n",
       "completed group A  16.073755    31     70.903226   74.0  15.038517    31   \n",
       "          group B  13.109487    68     71.882353   73.5  13.468071    68   \n",
       "          group C  13.996405   117     74.452991   77.0  13.556075   117   \n",
       "          group D  12.707655    82     76.658537   77.5  12.318028    82   \n",
       "          group E  13.361552    60     75.983333   76.0  12.981723    60   \n",
       "none      group A  14.258015    58     58.275862   58.0  13.923088    58   \n",
       "          group B  15.432862   122     62.098361   63.0  15.696191   122   \n",
       "          group C  13.335371   202     63.990099   65.0  14.449084   202   \n",
       "          group D  14.041368   180     67.177778   69.0  14.284482   180   \n",
       "          group E  15.438240    80     67.975000   69.0  15.755228    80   \n",
       "\n",
       "                  average_score                              \n",
       "                           mean     median        std count  \n",
       "test_prep race                                               \n",
       "completed group A     70.064516  73.000000  15.302970    31  \n",
       "          group B     70.642157  70.666667  12.875255    68  \n",
       "          group C     71.868946  72.666667  13.207811   117  \n",
       "          group D     73.532520  74.333333  11.824489    82  \n",
       "          group E     76.694444  76.833333  12.612476    60  \n",
       "none      group A     59.212644  59.333333  12.535128    58  \n",
       "          group B     62.584699  62.833333  14.959530   122  \n",
       "          group C     64.387789  65.666667  13.533277   202  \n",
       "          group D     67.196296  68.666667  13.423475   180  \n",
       "          group E     69.795833  70.666667  15.290575    80  "
      ]
     },
     "execution_count": 297,
     "metadata": {},
     "output_type": "execute_result"
    }
   ],
   "source": [
    "df.groupby(['test_prep', 'race'])['math_score','reading_score','writing_score','average_score'].agg(['mean','median','std','count'])"
   ]
  },
  {
   "cell_type": "markdown",
   "metadata": {},
   "source": [
    "For the most concise visualization of the positive effects across the variety of racial groups, observe the violin plot below. For a breakdown of the actual figures, see the graph two cells below where the increase can be quantified across groups - for a total percentage increase of 9.9% across all groups."
   ]
  },
  {
   "cell_type": "code",
   "execution_count": 298,
   "metadata": {},
   "outputs": [
    {
     "data": {
      "text/plain": [
       "<seaborn.axisgrid.FacetGrid at 0x16333d70>"
      ]
     },
     "execution_count": 298,
     "metadata": {},
     "output_type": "execute_result"
    },
    {
     "data": {
      "image/png": "[encoded data removed]",
      "text/plain": [
       "<Figure size 1096.75x504 with 1 Axes>"
      ]
     },
     "metadata": {
      "needs_background": "light"
     },
     "output_type": "display_data"
    }
   ],
   "source": [
    "sns.catplot(x=\"race\", y=\"average_score\", hue=\"test_prep\",\n",
    "            kind=\"violin\", split=True, data=df, height=7, aspect=2)"
   ]
  },
  {
   "cell_type": "code",
   "execution_count": 299,
   "metadata": {},
   "outputs": [
    {
     "data": {
      "text/plain": [
       "race     test_prep\n",
       "group A  completed    70.064516\n",
       "         none         59.212644\n",
       "group B  completed    70.642157\n",
       "         none         62.584699\n",
       "group C  completed    71.868946\n",
       "         none         64.387789\n",
       "group D  completed    73.532520\n",
       "         none         67.196296\n",
       "group E  completed    76.694444\n",
       "         none         69.795833\n",
       "Name: average_score, dtype: float64"
      ]
     },
     "execution_count": 299,
     "metadata": {},
     "output_type": "execute_result"
    }
   ],
   "source": [
    "a = df.groupby(['race','test_prep'])['average_score'].mean()\n",
    "a"
   ]
  },
  {
   "cell_type": "code",
   "execution_count": 300,
   "metadata": {},
   "outputs": [
    {
     "name": "stdout",
     "output_type": "stream",
     "text": [
      "90.70064590759273\n",
      "80.79431538505509\n",
      "9.906330522537644\n"
     ]
    }
   ],
   "source": [
    "mean_comp = (a[0]+a[2]+a[4]+a[6]+a[8])/4\n",
    "mean_incomp = (a[1]+a[3]+a[5]+a[7]+a[9])/4\n",
    "print(mean_comp)\n",
    "print(mean_incomp)\n",
    "print(mean_comp-mean_incomp)"
   ]
  },
  {
   "cell_type": "markdown",
   "metadata": {},
   "source": [
    "As consistently effective as the test preparation is, only 35.8% of students are currently completing the specified preparation course - leaving the 64.2% majority with no completion of preparation. Considering that this is a easily controllable variable of change, this will be the primary variable of focus in the attempt to improve student scores in all subjects."
   ]
  },
  {
   "cell_type": "code",
   "execution_count": 301,
   "metadata": {},
   "outputs": [
    {
     "name": "stdout",
     "output_type": "stream",
     "text": [
      "           gender  race  parent_education  lunch  average_score\n",
      "test_prep                                                      \n",
      "completed     358   358               358    358            358\n",
      "none          642   642               642    642            642\n"
     ]
    }
   ],
   "source": [
    "print(df.groupby('test_prep').count().drop(['math_score', 'reading_score', 'writing_score'], axis=1))"
   ]
  },
  {
   "cell_type": "markdown",
   "metadata": {},
   "source": [
    "#### Testing the Working Hypothesis on the Observeable Results of Test Preparation"
   ]
  },
  {
   "cell_type": "markdown",
   "metadata": {},
   "source": [
    "With the data at hand, we will compute the probability of the **null hypothesis** - that **increasing student involvement in the test preparation course will have no effect on the overall student grade.** This will be considered false if its p-value falls below the arbitrary standard of 5%. If the null hypothesis is proven to be statistically unlikely by this measurement, we will accept the alternative hypothesis - that increasing student involvement in the test preparation course will have a positive effect on the overall student grade."
   ]
  },
  {
   "cell_type": "code",
   "execution_count": 302,
   "metadata": {},
   "outputs": [
    {
     "name": "stdout",
     "output_type": "stream",
     "text": [
      "8.594538326688614\n",
      "0.00000000000000004427\n"
     ]
    }
   ],
   "source": [
    "no_prep = df[df['test_prep'] == 'none']\n",
    "yes_prep = df[df['test_prep'] == 'completed']\n",
    "t_value, p_value = ttest_ind(yes_prep['average_score'], no_prep['average_score'], equal_var=False)\n",
    "print(t_value)\n",
    "print(f'{p_value:.20f}')"
   ]
  },
  {
   "cell_type": "markdown",
   "metadata": {},
   "source": [
    "Given the standard deviations of both completed and non-completed test preparation groups and their sample sizes, the difference in average score means between the groups is 8.59 points (t-value above). The statistical likelihood that this would occur in the population group (without test preparation) is incredibly low at 0.000000000000004427% (p-value above). This confidently establishes the value of test preparation when studying the scores of students.\n",
    "\n",
    "Since this is well below the pre-defined standard of 5%, we can safely reject the null hypothesis that the test preparation has no effect on the average student's average test scores. Moreover, since this p-value was predicted according to a two-tailed distribution and since there are only noticeable improvements, the chances of the test preparation actually improving (instead of merely affecting positively or negatively) a student's test scores is even higher on a one-tailed distribution since we do not have reason to believe the preparation to hinder a student's scores."
   ]
  },
  {
   "cell_type": "markdown",
   "metadata": {},
   "source": [
    "#### Presenting the Hypotheses to Be Used in the Future Experiment:"
   ]
  },
  {
   "cell_type": "markdown",
   "metadata": {},
   "source": [
    "Considering the alternative hypothesis provides a confidence interval of over 99.9% according to the data at hand, we will repeat the null hypothesis for the future experiment: **increasing student involvement in the test preparation course will have no effect on the overall student grade.** In tandem, the alternative hypothesis for which we will argue is that **increasing student involvement in the test preparation course will have a positive effect on the overall student grade.**\n",
    "\n",
    "In short, the potential solution to improving the grades of students will be by increasing their involvement in the test preparation course."
   ]
  },
  {
   "cell_type": "markdown",
   "metadata": {},
   "source": [
    "### Step 2. Rollout Plan\n",
    "\n",
    "Since the two test-participation groups are currently split at appriximately 1/3 (for students who completed the course) and 2/3 (students who did not complete the course), the rollout plan is to effectively flip those fractions so that the control group of students who did not complete the course becomes 33% and those who complete the course are at 66%. Doing this will allow an A/B test where the control group of those who will not complete the course (33%) will be compared against the larger 66% of students who will be participating.\n",
    "\n",
    "Resembling the current study, this experiment will take place over the course of a school term in order to replicate the same study and measure the expected progress against the former term. In this way, we will have both an A/B comparison within the same future term as well as an A/B comparison across the former and future terms where the ratios of non-test-prep and test-prep groups are 35.8/64.2 and 66.7/33.3 respectively.\n",
    "\n",
    "Since we will be observing the same grade levels of students where students will differ, this experiment will be a pooled cross-sectional study instead of panel data. The selection of the 66% of participants will be at random since all groups see a  percentage increase through participation in the test prep course. The same secondary variables will be recorded at the end of the study for consistency across the experiments."
   ]
  },
  {
   "cell_type": "markdown",
   "metadata": {},
   "source": [
    "### Step 3. Evaluation Plan\n",
    "\n",
    "As mentioned above, the primary variable of focus will be the student's participation in the test preparation course. With the new study observing the progress of a 66% participation rate in the test preparation, we will consider the experiment a success if the results from the former study scale to the future.\n",
    "\n",
    "Elaborating, in the current study, 35.8% of students participated in the test preparation course and received an average score across subjects of 72.66946%. The other 64.2% of students who did not participate, on the other hand, received an average of 65.038941%. As a result, the average of the entire population was 67.770667%. If this proposed experiment scales like the previous experiment, the entire population should see an increase from 67.770667% to 69.425%.\n",
    "\n",
    "In conclusion, this experiment will be considered a success if it meets the following two conditions: (1) **the entire population will experience an overall grade increase of 1.6%** and (2) **the new sample group of test-preparations participators continues to have an average of 7 points higher than the control group.**"
   ]
  }
 ],
 "metadata": {
  "kernelspec": {
   "display_name": "Python 3",
   "language": "python",
   "name": "python3"
  },
  "language_info": {
   "codemirror_mode": {
    "name": "ipython",
    "version": 3
   },
   "file_extension": ".py",
   "mimetype": "text/x-python",
   "name": "python",
   "nbconvert_exporter": "python",
   "pygments_lexer": "ipython3",
   "version": "3.7.2"
  }
 },
 "nbformat": 4,
 "nbformat_minor": 2
}
