{
 "cells": [
  {
   "cell_type": "code",
   "execution_count": 1,
   "metadata": {},
   "outputs": [
    {
     "name": "stdout",
     "output_type": "stream",
     "text": [
      "A diagnostic test has a 98% probability of giving a positive result when applied to a person suffering from Thripshaw's Disease, and 10% probability of giving a (false) positive when applied to a non-sufferer. It is estimated that 0.5 % of the population are sufferers. Suppose that the test is now administered to a person whose disease status is unknown. Calculate the probability that the test will:\n"
     ]
    }
   ],
   "source": [
    "# Bayes' Rule\n",
    "# P(A | B) = P(B | A) * P(A) / [P(A)*P(B|A) + P(A~)*P(B|A~)]\n",
    "\n",
    "print('''A diagnostic test has a 98% probability of giving a positive result when applied to a person suffering from Thripshaw's Disease, and 10% probability of giving a (false) positive when applied to a non-sufferer. It is estimated that 0.5 % of the population are sufferers. Suppose that the test is now administered to a person whose disease status is unknown. Calculate the probability that the test will:''')"
   ]
  },
  {
   "cell_type": "code",
   "execution_count": 10,
   "metadata": {},
   "outputs": [
    {
     "name": "stdout",
     "output_type": "stream",
     "text": [
      "10.440000000000001%\n"
     ]
    }
   ],
   "source": [
    "# 1. Be positive\n",
    "\n",
    "positive = (.005 * .98) + (.1 * .995)\n",
    "print(str(positive * 100) + \"%\")"
   ]
  },
  {
   "cell_type": "code",
   "execution_count": 1,
   "metadata": {},
   "outputs": [
    {
     "name": "stdout",
     "output_type": "stream",
     "text": [
      "98.0%\n"
     ]
    }
   ],
   "source": [
    "# 2. Correctly diagnose a sufferer of Thripshaw's\n",
    "\n",
    "correct_positive = .98\n",
    "print(str(correct_positive * 100) + \"%\")"
   ]
  },
  {
   "cell_type": "code",
   "execution_count": 2,
   "metadata": {},
   "outputs": [
    {
     "name": "stdout",
     "output_type": "stream",
     "text": [
      "90.0%\n"
     ]
    }
   ],
   "source": [
    "# 3. Correctly identify a non-sufferer of Thripshaw's\n",
    "\n",
    "correct_negative = 1 - .1\n",
    "print(str(correct_negative * 100) + \"%\")"
   ]
  },
  {
   "cell_type": "code",
   "execution_count": 5,
   "metadata": {},
   "outputs": [
    {
     "name": "stdout",
     "output_type": "stream",
     "text": [
      "90.03999999999999%\n",
      "9.960000000000003%\n"
     ]
    }
   ],
   "source": [
    "# 4. Misclassify the person\n",
    "\n",
    "# misclassify = (.02 * .995) + (.1 * .995)\n",
    "# print(str(misclassify * 100) + \"%\")\n",
    "\n",
    "correct_classify = (.98 * .005) + (.9 * .995)\n",
    "print(str(correct_classify * 100) + \"%\")\n",
    "misclassify = 1 - correct_classify\n",
    "print(str(misclassify * 100) + \"%\")"
   ]
  }
 ],
 "metadata": {
  "kernelspec": {
   "display_name": "Python 3",
   "language": "python",
   "name": "python3"
  },
  "language_info": {
   "codemirror_mode": {
    "name": "ipython",
    "version": 3
   },
   "file_extension": ".py",
   "mimetype": "text/x-python",
   "name": "python",
   "nbconvert_exporter": "python",
   "pygments_lexer": "ipython3",
   "version": "3.7.2"
  }
 },
 "nbformat": 4,
 "nbformat_minor": 2
}
