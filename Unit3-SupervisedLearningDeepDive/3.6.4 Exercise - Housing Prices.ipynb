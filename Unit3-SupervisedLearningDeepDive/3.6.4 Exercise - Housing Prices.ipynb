{
 "cells": [
  {
   "cell_type": "markdown",
   "metadata": {},
   "source": [
    "# Predicting Housing Prices"
   ]
  },
  {
   "cell_type": "markdown",
   "metadata": {},
   "source": [
    "The [dataset]('https://www.kaggle.com/anthonypino/melbourne-housing-market') below is a record of housing clearance data from Melbourne in 2016. The purpose of this exercise is to predict the continuous target variable of house price given the other features."
   ]
  },
  {
   "cell_type": "markdown",
   "metadata": {},
   "source": [
    "## Loading Data"
   ]
  },
  {
   "cell_type": "code",
   "execution_count": 1,
   "metadata": {},
   "outputs": [],
   "source": [
    "import pandas as pd\n",
    "import numpy as np\n",
    "\n",
    "import matplotlib.pyplot as plt\n",
    "import seaborn as sns\n",
    "\n",
    "from sklearn.model_selection import train_test_split\n",
    "from sklearn.linear_model import LinearRegression\n",
    "from sklearn.linear_model import Lasso\n",
    "from sklearn.linear_model import Ridge\n",
    "from sklearn.neighbors import KNeighborsRegressor\n",
    "from sklearn.ensemble import RandomForestRegressor\n",
    "from sklearn.feature_selection import SelectFromModel\n",
    "from sklearn.ensemble import RandomForestClassifier\n",
    "from sklearn.svm import SVR\n",
    "\n",
    "from sklearn.feature_selection import SelectKBest, chi2\n",
    "\n",
    "from sklearn.metrics import accuracy_score"
   ]
  },
  {
   "cell_type": "code",
   "execution_count": 2,
   "metadata": {},
   "outputs": [],
   "source": [
    "df = pd.read_csv('Melbourne_housing_FULL.csv')"
   ]
  },
  {
   "cell_type": "markdown",
   "metadata": {},
   "source": [
    "## Preliminary Analysis"
   ]
  },
  {
   "cell_type": "code",
   "execution_count": 3,
   "metadata": {},
   "outputs": [
    {
     "data": {
      "text/plain": [
       "(34857, 21)"
      ]
     },
     "execution_count": 3,
     "metadata": {},
     "output_type": "execute_result"
    }
   ],
   "source": [
    "df.shape"
   ]
  },
  {
   "cell_type": "code",
   "execution_count": 4,
   "metadata": {},
   "outputs": [
    {
     "data": {
      "text/html": [
       "<div>\n",
       "<style scoped>\n",
       "    .dataframe tbody tr th:only-of-type {\n",
       "        vertical-align: middle;\n",
       "    }\n",
       "\n",
       "    .dataframe tbody tr th {\n",
       "        vertical-align: top;\n",
       "    }\n",
       "\n",
       "    .dataframe thead th {\n",
       "        text-align: right;\n",
       "    }\n",
       "</style>\n",
       "<table border=\"1\" class=\"dataframe\">\n",
       "  <thead>\n",
       "    <tr style=\"text-align: right;\">\n",
       "      <th></th>\n",
       "      <th>Suburb</th>\n",
       "      <th>Address</th>\n",
       "      <th>Rooms</th>\n",
       "      <th>Type</th>\n",
       "      <th>Price</th>\n",
       "      <th>Method</th>\n",
       "      <th>SellerG</th>\n",
       "      <th>Date</th>\n",
       "      <th>Distance</th>\n",
       "      <th>Postcode</th>\n",
       "      <th>...</th>\n",
       "      <th>Bathroom</th>\n",
       "      <th>Car</th>\n",
       "      <th>Landsize</th>\n",
       "      <th>BuildingArea</th>\n",
       "      <th>YearBuilt</th>\n",
       "      <th>CouncilArea</th>\n",
       "      <th>Lattitude</th>\n",
       "      <th>Longtitude</th>\n",
       "      <th>Regionname</th>\n",
       "      <th>Propertycount</th>\n",
       "    </tr>\n",
       "  </thead>\n",
       "  <tbody>\n",
       "    <tr>\n",
       "      <th>0</th>\n",
       "      <td>Abbotsford</td>\n",
       "      <td>68 Studley St</td>\n",
       "      <td>2</td>\n",
       "      <td>h</td>\n",
       "      <td>NaN</td>\n",
       "      <td>SS</td>\n",
       "      <td>Jellis</td>\n",
       "      <td>3/09/2016</td>\n",
       "      <td>2.5</td>\n",
       "      <td>3067.0</td>\n",
       "      <td>...</td>\n",
       "      <td>1.0</td>\n",
       "      <td>1.0</td>\n",
       "      <td>126.0</td>\n",
       "      <td>NaN</td>\n",
       "      <td>NaN</td>\n",
       "      <td>Yarra City Council</td>\n",
       "      <td>-37.8014</td>\n",
       "      <td>144.9958</td>\n",
       "      <td>Northern Metropolitan</td>\n",
       "      <td>4019.0</td>\n",
       "    </tr>\n",
       "    <tr>\n",
       "      <th>1</th>\n",
       "      <td>Abbotsford</td>\n",
       "      <td>85 Turner St</td>\n",
       "      <td>2</td>\n",
       "      <td>h</td>\n",
       "      <td>1480000.0</td>\n",
       "      <td>S</td>\n",
       "      <td>Biggin</td>\n",
       "      <td>3/12/2016</td>\n",
       "      <td>2.5</td>\n",
       "      <td>3067.0</td>\n",
       "      <td>...</td>\n",
       "      <td>1.0</td>\n",
       "      <td>1.0</td>\n",
       "      <td>202.0</td>\n",
       "      <td>NaN</td>\n",
       "      <td>NaN</td>\n",
       "      <td>Yarra City Council</td>\n",
       "      <td>-37.7996</td>\n",
       "      <td>144.9984</td>\n",
       "      <td>Northern Metropolitan</td>\n",
       "      <td>4019.0</td>\n",
       "    </tr>\n",
       "    <tr>\n",
       "      <th>2</th>\n",
       "      <td>Abbotsford</td>\n",
       "      <td>25 Bloomburg St</td>\n",
       "      <td>2</td>\n",
       "      <td>h</td>\n",
       "      <td>1035000.0</td>\n",
       "      <td>S</td>\n",
       "      <td>Biggin</td>\n",
       "      <td>4/02/2016</td>\n",
       "      <td>2.5</td>\n",
       "      <td>3067.0</td>\n",
       "      <td>...</td>\n",
       "      <td>1.0</td>\n",
       "      <td>0.0</td>\n",
       "      <td>156.0</td>\n",
       "      <td>79.0</td>\n",
       "      <td>1900.0</td>\n",
       "      <td>Yarra City Council</td>\n",
       "      <td>-37.8079</td>\n",
       "      <td>144.9934</td>\n",
       "      <td>Northern Metropolitan</td>\n",
       "      <td>4019.0</td>\n",
       "    </tr>\n",
       "    <tr>\n",
       "      <th>3</th>\n",
       "      <td>Abbotsford</td>\n",
       "      <td>18/659 Victoria St</td>\n",
       "      <td>3</td>\n",
       "      <td>u</td>\n",
       "      <td>NaN</td>\n",
       "      <td>VB</td>\n",
       "      <td>Rounds</td>\n",
       "      <td>4/02/2016</td>\n",
       "      <td>2.5</td>\n",
       "      <td>3067.0</td>\n",
       "      <td>...</td>\n",
       "      <td>2.0</td>\n",
       "      <td>1.0</td>\n",
       "      <td>0.0</td>\n",
       "      <td>NaN</td>\n",
       "      <td>NaN</td>\n",
       "      <td>Yarra City Council</td>\n",
       "      <td>-37.8114</td>\n",
       "      <td>145.0116</td>\n",
       "      <td>Northern Metropolitan</td>\n",
       "      <td>4019.0</td>\n",
       "    </tr>\n",
       "    <tr>\n",
       "      <th>4</th>\n",
       "      <td>Abbotsford</td>\n",
       "      <td>5 Charles St</td>\n",
       "      <td>3</td>\n",
       "      <td>h</td>\n",
       "      <td>1465000.0</td>\n",
       "      <td>SP</td>\n",
       "      <td>Biggin</td>\n",
       "      <td>4/03/2017</td>\n",
       "      <td>2.5</td>\n",
       "      <td>3067.0</td>\n",
       "      <td>...</td>\n",
       "      <td>2.0</td>\n",
       "      <td>0.0</td>\n",
       "      <td>134.0</td>\n",
       "      <td>150.0</td>\n",
       "      <td>1900.0</td>\n",
       "      <td>Yarra City Council</td>\n",
       "      <td>-37.8093</td>\n",
       "      <td>144.9944</td>\n",
       "      <td>Northern Metropolitan</td>\n",
       "      <td>4019.0</td>\n",
       "    </tr>\n",
       "  </tbody>\n",
       "</table>\n",
       "<p>5 rows × 21 columns</p>\n",
       "</div>"
      ],
      "text/plain": [
       "       Suburb             Address  Rooms Type      Price Method SellerG  \\\n",
       "0  Abbotsford       68 Studley St      2    h        NaN     SS  Jellis   \n",
       "1  Abbotsford        85 Turner St      2    h  1480000.0      S  Biggin   \n",
       "2  Abbotsford     25 Bloomburg St      2    h  1035000.0      S  Biggin   \n",
       "3  Abbotsford  18/659 Victoria St      3    u        NaN     VB  Rounds   \n",
       "4  Abbotsford        5 Charles St      3    h  1465000.0     SP  Biggin   \n",
       "\n",
       "        Date  Distance  Postcode  ...  Bathroom  Car  Landsize  BuildingArea  \\\n",
       "0  3/09/2016       2.5    3067.0  ...       1.0  1.0     126.0           NaN   \n",
       "1  3/12/2016       2.5    3067.0  ...       1.0  1.0     202.0           NaN   \n",
       "2  4/02/2016       2.5    3067.0  ...       1.0  0.0     156.0          79.0   \n",
       "3  4/02/2016       2.5    3067.0  ...       2.0  1.0       0.0           NaN   \n",
       "4  4/03/2017       2.5    3067.0  ...       2.0  0.0     134.0         150.0   \n",
       "\n",
       "   YearBuilt         CouncilArea Lattitude  Longtitude             Regionname  \\\n",
       "0        NaN  Yarra City Council  -37.8014    144.9958  Northern Metropolitan   \n",
       "1        NaN  Yarra City Council  -37.7996    144.9984  Northern Metropolitan   \n",
       "2     1900.0  Yarra City Council  -37.8079    144.9934  Northern Metropolitan   \n",
       "3        NaN  Yarra City Council  -37.8114    145.0116  Northern Metropolitan   \n",
       "4     1900.0  Yarra City Council  -37.8093    144.9944  Northern Metropolitan   \n",
       "\n",
       "  Propertycount  \n",
       "0        4019.0  \n",
       "1        4019.0  \n",
       "2        4019.0  \n",
       "3        4019.0  \n",
       "4        4019.0  \n",
       "\n",
       "[5 rows x 21 columns]"
      ]
     },
     "execution_count": 4,
     "metadata": {},
     "output_type": "execute_result"
    }
   ],
   "source": [
    "df.head()"
   ]
  },
  {
   "cell_type": "code",
   "execution_count": 5,
   "metadata": {},
   "outputs": [],
   "source": [
    "def snapshot(data):\n",
    "    '''Creates a DataFrame that gives snapshot of original dataset for preliminary cleaning and analysis.'''\n",
    "    preliminary_details = pd.DataFrame()\n",
    "    preliminary_details['Type'] = data.dtypes\n",
    "    preliminary_details['Unique'] = data.nunique()\n",
    "    preliminary_details['NaN'] = data.isnull().sum()\n",
    "    preliminary_details['Sample'] = data.sample().T\n",
    "    return preliminary_details"
   ]
  },
  {
   "cell_type": "code",
   "execution_count": 6,
   "metadata": {
    "scrolled": false
   },
   "outputs": [
    {
     "data": {
      "text/html": [
       "<div>\n",
       "<style scoped>\n",
       "    .dataframe tbody tr th:only-of-type {\n",
       "        vertical-align: middle;\n",
       "    }\n",
       "\n",
       "    .dataframe tbody tr th {\n",
       "        vertical-align: top;\n",
       "    }\n",
       "\n",
       "    .dataframe thead th {\n",
       "        text-align: right;\n",
       "    }\n",
       "</style>\n",
       "<table border=\"1\" class=\"dataframe\">\n",
       "  <thead>\n",
       "    <tr style=\"text-align: right;\">\n",
       "      <th></th>\n",
       "      <th>Type</th>\n",
       "      <th>Unique</th>\n",
       "      <th>NaN</th>\n",
       "      <th>Sample</th>\n",
       "    </tr>\n",
       "  </thead>\n",
       "  <tbody>\n",
       "    <tr>\n",
       "      <th>Suburb</th>\n",
       "      <td>object</td>\n",
       "      <td>351</td>\n",
       "      <td>0</td>\n",
       "      <td>Viewbank</td>\n",
       "    </tr>\n",
       "    <tr>\n",
       "      <th>Address</th>\n",
       "      <td>object</td>\n",
       "      <td>34009</td>\n",
       "      <td>0</td>\n",
       "      <td>7 Kuranga Rd</td>\n",
       "    </tr>\n",
       "    <tr>\n",
       "      <th>Rooms</th>\n",
       "      <td>int64</td>\n",
       "      <td>12</td>\n",
       "      <td>0</td>\n",
       "      <td>3</td>\n",
       "    </tr>\n",
       "    <tr>\n",
       "      <th>Type</th>\n",
       "      <td>object</td>\n",
       "      <td>3</td>\n",
       "      <td>0</td>\n",
       "      <td>h</td>\n",
       "    </tr>\n",
       "    <tr>\n",
       "      <th>Price</th>\n",
       "      <td>float64</td>\n",
       "      <td>2871</td>\n",
       "      <td>7610</td>\n",
       "      <td>950000</td>\n",
       "    </tr>\n",
       "    <tr>\n",
       "      <th>Method</th>\n",
       "      <td>object</td>\n",
       "      <td>9</td>\n",
       "      <td>0</td>\n",
       "      <td>S</td>\n",
       "    </tr>\n",
       "    <tr>\n",
       "      <th>SellerG</th>\n",
       "      <td>object</td>\n",
       "      <td>388</td>\n",
       "      <td>0</td>\n",
       "      <td>Nelson</td>\n",
       "    </tr>\n",
       "    <tr>\n",
       "      <th>Date</th>\n",
       "      <td>object</td>\n",
       "      <td>78</td>\n",
       "      <td>0</td>\n",
       "      <td>4/11/2017</td>\n",
       "    </tr>\n",
       "    <tr>\n",
       "      <th>Distance</th>\n",
       "      <td>float64</td>\n",
       "      <td>215</td>\n",
       "      <td>1</td>\n",
       "      <td>8.9</td>\n",
       "    </tr>\n",
       "    <tr>\n",
       "      <th>Postcode</th>\n",
       "      <td>float64</td>\n",
       "      <td>211</td>\n",
       "      <td>1</td>\n",
       "      <td>3084</td>\n",
       "    </tr>\n",
       "    <tr>\n",
       "      <th>Bedroom2</th>\n",
       "      <td>float64</td>\n",
       "      <td>15</td>\n",
       "      <td>8217</td>\n",
       "      <td>3</td>\n",
       "    </tr>\n",
       "    <tr>\n",
       "      <th>Bathroom</th>\n",
       "      <td>float64</td>\n",
       "      <td>11</td>\n",
       "      <td>8226</td>\n",
       "      <td>2</td>\n",
       "    </tr>\n",
       "    <tr>\n",
       "      <th>Car</th>\n",
       "      <td>float64</td>\n",
       "      <td>15</td>\n",
       "      <td>8728</td>\n",
       "      <td>2</td>\n",
       "    </tr>\n",
       "    <tr>\n",
       "      <th>Landsize</th>\n",
       "      <td>float64</td>\n",
       "      <td>1684</td>\n",
       "      <td>11810</td>\n",
       "      <td>NaN</td>\n",
       "    </tr>\n",
       "    <tr>\n",
       "      <th>BuildingArea</th>\n",
       "      <td>float64</td>\n",
       "      <td>740</td>\n",
       "      <td>21115</td>\n",
       "      <td>NaN</td>\n",
       "    </tr>\n",
       "    <tr>\n",
       "      <th>YearBuilt</th>\n",
       "      <td>float64</td>\n",
       "      <td>160</td>\n",
       "      <td>19306</td>\n",
       "      <td>NaN</td>\n",
       "    </tr>\n",
       "    <tr>\n",
       "      <th>CouncilArea</th>\n",
       "      <td>object</td>\n",
       "      <td>33</td>\n",
       "      <td>3</td>\n",
       "      <td>Banyule City Council</td>\n",
       "    </tr>\n",
       "    <tr>\n",
       "      <th>Lattitude</th>\n",
       "      <td>float64</td>\n",
       "      <td>13402</td>\n",
       "      <td>7976</td>\n",
       "      <td>-37.7326</td>\n",
       "    </tr>\n",
       "    <tr>\n",
       "      <th>Longtitude</th>\n",
       "      <td>float64</td>\n",
       "      <td>14524</td>\n",
       "      <td>7976</td>\n",
       "      <td>145.095</td>\n",
       "    </tr>\n",
       "    <tr>\n",
       "      <th>Regionname</th>\n",
       "      <td>object</td>\n",
       "      <td>8</td>\n",
       "      <td>3</td>\n",
       "      <td>Eastern Metropolitan</td>\n",
       "    </tr>\n",
       "    <tr>\n",
       "      <th>Propertycount</th>\n",
       "      <td>float64</td>\n",
       "      <td>342</td>\n",
       "      <td>3</td>\n",
       "      <td>2698</td>\n",
       "    </tr>\n",
       "  </tbody>\n",
       "</table>\n",
       "</div>"
      ],
      "text/plain": [
       "                  Type  Unique    NaN                Sample\n",
       "Suburb          object     351      0              Viewbank\n",
       "Address         object   34009      0          7 Kuranga Rd\n",
       "Rooms            int64      12      0                     3\n",
       "Type            object       3      0                     h\n",
       "Price          float64    2871   7610                950000\n",
       "Method          object       9      0                     S\n",
       "SellerG         object     388      0                Nelson\n",
       "Date            object      78      0             4/11/2017\n",
       "Distance       float64     215      1                   8.9\n",
       "Postcode       float64     211      1                  3084\n",
       "Bedroom2       float64      15   8217                     3\n",
       "Bathroom       float64      11   8226                     2\n",
       "Car            float64      15   8728                     2\n",
       "Landsize       float64    1684  11810                   NaN\n",
       "BuildingArea   float64     740  21115                   NaN\n",
       "YearBuilt      float64     160  19306                   NaN\n",
       "CouncilArea     object      33      3  Banyule City Council\n",
       "Lattitude      float64   13402   7976              -37.7326\n",
       "Longtitude     float64   14524   7976               145.095\n",
       "Regionname      object       8      3  Eastern Metropolitan\n",
       "Propertycount  float64     342      3                  2698"
      ]
     },
     "execution_count": 6,
     "metadata": {},
     "output_type": "execute_result"
    }
   ],
   "source": [
    "snapshot(df)"
   ]
  },
  {
   "cell_type": "code",
   "execution_count": 7,
   "metadata": {},
   "outputs": [
    {
     "data": {
      "text/html": [
       "<div>\n",
       "<style scoped>\n",
       "    .dataframe tbody tr th:only-of-type {\n",
       "        vertical-align: middle;\n",
       "    }\n",
       "\n",
       "    .dataframe tbody tr th {\n",
       "        vertical-align: top;\n",
       "    }\n",
       "\n",
       "    .dataframe thead th {\n",
       "        text-align: right;\n",
       "    }\n",
       "</style>\n",
       "<table border=\"1\" class=\"dataframe\">\n",
       "  <thead>\n",
       "    <tr style=\"text-align: right;\">\n",
       "      <th></th>\n",
       "      <th>Type</th>\n",
       "      <th>Unique</th>\n",
       "      <th>NaN</th>\n",
       "      <th>Sample</th>\n",
       "    </tr>\n",
       "  </thead>\n",
       "  <tbody>\n",
       "    <tr>\n",
       "      <th>Suburb</th>\n",
       "      <td>object</td>\n",
       "      <td>338</td>\n",
       "      <td>0</td>\n",
       "      <td>Highett</td>\n",
       "    </tr>\n",
       "    <tr>\n",
       "      <th>Address</th>\n",
       "      <td>object</td>\n",
       "      <td>20424</td>\n",
       "      <td>0</td>\n",
       "      <td>10 Haynes St</td>\n",
       "    </tr>\n",
       "    <tr>\n",
       "      <th>Rooms</th>\n",
       "      <td>int64</td>\n",
       "      <td>11</td>\n",
       "      <td>0</td>\n",
       "      <td>4</td>\n",
       "    </tr>\n",
       "    <tr>\n",
       "      <th>Type</th>\n",
       "      <td>object</td>\n",
       "      <td>3</td>\n",
       "      <td>0</td>\n",
       "      <td>h</td>\n",
       "    </tr>\n",
       "    <tr>\n",
       "      <th>Price</th>\n",
       "      <td>float64</td>\n",
       "      <td>2607</td>\n",
       "      <td>0</td>\n",
       "      <td>1.535e+06</td>\n",
       "    </tr>\n",
       "    <tr>\n",
       "      <th>Method</th>\n",
       "      <td>object</td>\n",
       "      <td>5</td>\n",
       "      <td>0</td>\n",
       "      <td>S</td>\n",
       "    </tr>\n",
       "    <tr>\n",
       "      <th>SellerG</th>\n",
       "      <td>object</td>\n",
       "      <td>323</td>\n",
       "      <td>0</td>\n",
       "      <td>Thomson</td>\n",
       "    </tr>\n",
       "    <tr>\n",
       "      <th>Date</th>\n",
       "      <td>object</td>\n",
       "      <td>78</td>\n",
       "      <td>0</td>\n",
       "      <td>22/07/2017</td>\n",
       "    </tr>\n",
       "    <tr>\n",
       "      <th>Distance</th>\n",
       "      <td>float64</td>\n",
       "      <td>211</td>\n",
       "      <td>0</td>\n",
       "      <td>16</td>\n",
       "    </tr>\n",
       "    <tr>\n",
       "      <th>Postcode</th>\n",
       "      <td>float64</td>\n",
       "      <td>208</td>\n",
       "      <td>0</td>\n",
       "      <td>3190</td>\n",
       "    </tr>\n",
       "    <tr>\n",
       "      <th>Bedroom2</th>\n",
       "      <td>float64</td>\n",
       "      <td>14</td>\n",
       "      <td>0</td>\n",
       "      <td>4</td>\n",
       "    </tr>\n",
       "    <tr>\n",
       "      <th>Bathroom</th>\n",
       "      <td>float64</td>\n",
       "      <td>10</td>\n",
       "      <td>0</td>\n",
       "      <td>2</td>\n",
       "    </tr>\n",
       "    <tr>\n",
       "      <th>Car</th>\n",
       "      <td>float64</td>\n",
       "      <td>13</td>\n",
       "      <td>377</td>\n",
       "      <td>2</td>\n",
       "    </tr>\n",
       "    <tr>\n",
       "      <th>Landsize</th>\n",
       "      <td>float64</td>\n",
       "      <td>1557</td>\n",
       "      <td>2827</td>\n",
       "      <td>719</td>\n",
       "    </tr>\n",
       "    <tr>\n",
       "      <th>BuildingArea</th>\n",
       "      <td>float64</td>\n",
       "      <td>662</td>\n",
       "      <td>10144</td>\n",
       "      <td>719</td>\n",
       "    </tr>\n",
       "    <tr>\n",
       "      <th>YearBuilt</th>\n",
       "      <td>float64</td>\n",
       "      <td>151</td>\n",
       "      <td>8717</td>\n",
       "      <td>1998</td>\n",
       "    </tr>\n",
       "    <tr>\n",
       "      <th>CouncilArea</th>\n",
       "      <td>object</td>\n",
       "      <td>33</td>\n",
       "      <td>0</td>\n",
       "      <td>Bayside City Council</td>\n",
       "    </tr>\n",
       "    <tr>\n",
       "      <th>Lattitude</th>\n",
       "      <td>float64</td>\n",
       "      <td>11283</td>\n",
       "      <td>22</td>\n",
       "      <td>-37.95</td>\n",
       "    </tr>\n",
       "    <tr>\n",
       "      <th>Longtitude</th>\n",
       "      <td>float64</td>\n",
       "      <td>12181</td>\n",
       "      <td>22</td>\n",
       "      <td>145.031</td>\n",
       "    </tr>\n",
       "    <tr>\n",
       "      <th>Regionname</th>\n",
       "      <td>object</td>\n",
       "      <td>8</td>\n",
       "      <td>0</td>\n",
       "      <td>Southern Metropolitan</td>\n",
       "    </tr>\n",
       "    <tr>\n",
       "      <th>Propertycount</th>\n",
       "      <td>float64</td>\n",
       "      <td>332</td>\n",
       "      <td>0</td>\n",
       "      <td>4794</td>\n",
       "    </tr>\n",
       "  </tbody>\n",
       "</table>\n",
       "</div>"
      ],
      "text/plain": [
       "                  Type  Unique    NaN                 Sample\n",
       "Suburb          object     338      0                Highett\n",
       "Address         object   20424      0           10 Haynes St\n",
       "Rooms            int64      11      0                      4\n",
       "Type            object       3      0                      h\n",
       "Price          float64    2607      0              1.535e+06\n",
       "Method          object       5      0                      S\n",
       "SellerG         object     323      0                Thomson\n",
       "Date            object      78      0             22/07/2017\n",
       "Distance       float64     211      0                     16\n",
       "Postcode       float64     208      0                   3190\n",
       "Bedroom2       float64      14      0                      4\n",
       "Bathroom       float64      10      0                      2\n",
       "Car            float64      13    377                      2\n",
       "Landsize       float64    1557   2827                    719\n",
       "BuildingArea   float64     662  10144                    719\n",
       "YearBuilt      float64     151   8717                   1998\n",
       "CouncilArea     object      33      0   Bayside City Council\n",
       "Lattitude      float64   11283     22                 -37.95\n",
       "Longtitude     float64   12181     22                145.031\n",
       "Regionname      object       8      0  Southern Metropolitan\n",
       "Propertycount  float64     332      0                   4794"
      ]
     },
     "execution_count": 7,
     "metadata": {},
     "output_type": "execute_result"
    }
   ],
   "source": [
    "# Since our variable of interest is Price, we will be dropping all NaN entries\n",
    "df = df[~df.Price.isnull()]\n",
    "\n",
    "# With considerable overlap between the NaN values in Bedroom2, Bathroom, etc. we will remove these rows instead of filling\n",
    "# them with means/medians/common value in order to avoid skewing the results (since they account for almost 25% of the data)\n",
    "df = df[~df.Bathroom.isnull()]\n",
    "snapshot(df)"
   ]
  },
  {
   "cell_type": "code",
   "execution_count": 8,
   "metadata": {},
   "outputs": [
    {
     "data": {
      "text/html": [
       "<div>\n",
       "<style scoped>\n",
       "    .dataframe tbody tr th:only-of-type {\n",
       "        vertical-align: middle;\n",
       "    }\n",
       "\n",
       "    .dataframe tbody tr th {\n",
       "        vertical-align: top;\n",
       "    }\n",
       "\n",
       "    .dataframe thead th {\n",
       "        text-align: right;\n",
       "    }\n",
       "</style>\n",
       "<table border=\"1\" class=\"dataframe\">\n",
       "  <thead>\n",
       "    <tr style=\"text-align: right;\">\n",
       "      <th></th>\n",
       "      <th>Type</th>\n",
       "      <th>Unique</th>\n",
       "      <th>NaN</th>\n",
       "      <th>Sample</th>\n",
       "    </tr>\n",
       "  </thead>\n",
       "  <tbody>\n",
       "    <tr>\n",
       "      <th>Suburb</th>\n",
       "      <td>object</td>\n",
       "      <td>338</td>\n",
       "      <td>0</td>\n",
       "      <td>Sunbury</td>\n",
       "    </tr>\n",
       "    <tr>\n",
       "      <th>Address</th>\n",
       "      <td>object</td>\n",
       "      <td>20424</td>\n",
       "      <td>0</td>\n",
       "      <td>16 Deakin St</td>\n",
       "    </tr>\n",
       "    <tr>\n",
       "      <th>Rooms</th>\n",
       "      <td>int64</td>\n",
       "      <td>11</td>\n",
       "      <td>0</td>\n",
       "      <td>3</td>\n",
       "    </tr>\n",
       "    <tr>\n",
       "      <th>Type</th>\n",
       "      <td>object</td>\n",
       "      <td>3</td>\n",
       "      <td>0</td>\n",
       "      <td>h</td>\n",
       "    </tr>\n",
       "    <tr>\n",
       "      <th>Price</th>\n",
       "      <td>float64</td>\n",
       "      <td>2607</td>\n",
       "      <td>0</td>\n",
       "      <td>505000</td>\n",
       "    </tr>\n",
       "    <tr>\n",
       "      <th>Method</th>\n",
       "      <td>object</td>\n",
       "      <td>5</td>\n",
       "      <td>0</td>\n",
       "      <td>S</td>\n",
       "    </tr>\n",
       "    <tr>\n",
       "      <th>SellerG</th>\n",
       "      <td>object</td>\n",
       "      <td>323</td>\n",
       "      <td>0</td>\n",
       "      <td>YPA</td>\n",
       "    </tr>\n",
       "    <tr>\n",
       "      <th>Date</th>\n",
       "      <td>object</td>\n",
       "      <td>78</td>\n",
       "      <td>0</td>\n",
       "      <td>23/09/2017</td>\n",
       "    </tr>\n",
       "    <tr>\n",
       "      <th>Distance</th>\n",
       "      <td>float64</td>\n",
       "      <td>211</td>\n",
       "      <td>0</td>\n",
       "      <td>31.7</td>\n",
       "    </tr>\n",
       "    <tr>\n",
       "      <th>Postcode</th>\n",
       "      <td>float64</td>\n",
       "      <td>208</td>\n",
       "      <td>0</td>\n",
       "      <td>3429</td>\n",
       "    </tr>\n",
       "    <tr>\n",
       "      <th>Bedroom2</th>\n",
       "      <td>float64</td>\n",
       "      <td>14</td>\n",
       "      <td>0</td>\n",
       "      <td>3</td>\n",
       "    </tr>\n",
       "    <tr>\n",
       "      <th>Bathroom</th>\n",
       "      <td>float64</td>\n",
       "      <td>10</td>\n",
       "      <td>0</td>\n",
       "      <td>2</td>\n",
       "    </tr>\n",
       "    <tr>\n",
       "      <th>Car</th>\n",
       "      <td>float64</td>\n",
       "      <td>14</td>\n",
       "      <td>0</td>\n",
       "      <td>3</td>\n",
       "    </tr>\n",
       "    <tr>\n",
       "      <th>Landsize</th>\n",
       "      <td>float64</td>\n",
       "      <td>1558</td>\n",
       "      <td>0</td>\n",
       "      <td>593.555</td>\n",
       "    </tr>\n",
       "    <tr>\n",
       "      <th>BuildingArea</th>\n",
       "      <td>float64</td>\n",
       "      <td>663</td>\n",
       "      <td>0</td>\n",
       "      <td>156.835</td>\n",
       "    </tr>\n",
       "    <tr>\n",
       "      <th>YearBuilt</th>\n",
       "      <td>float64</td>\n",
       "      <td>152</td>\n",
       "      <td>0</td>\n",
       "      <td>1980</td>\n",
       "    </tr>\n",
       "    <tr>\n",
       "      <th>CouncilArea</th>\n",
       "      <td>object</td>\n",
       "      <td>33</td>\n",
       "      <td>0</td>\n",
       "      <td>Hume City Council</td>\n",
       "    </tr>\n",
       "    <tr>\n",
       "      <th>Lattitude</th>\n",
       "      <td>float64</td>\n",
       "      <td>11284</td>\n",
       "      <td>0</td>\n",
       "      <td>-37.5829</td>\n",
       "    </tr>\n",
       "    <tr>\n",
       "      <th>Longtitude</th>\n",
       "      <td>float64</td>\n",
       "      <td>12182</td>\n",
       "      <td>0</td>\n",
       "      <td>144.712</td>\n",
       "    </tr>\n",
       "    <tr>\n",
       "      <th>Regionname</th>\n",
       "      <td>object</td>\n",
       "      <td>8</td>\n",
       "      <td>0</td>\n",
       "      <td>Western Metropolitan</td>\n",
       "    </tr>\n",
       "    <tr>\n",
       "      <th>Propertycount</th>\n",
       "      <td>float64</td>\n",
       "      <td>332</td>\n",
       "      <td>0</td>\n",
       "      <td>14092</td>\n",
       "    </tr>\n",
       "  </tbody>\n",
       "</table>\n",
       "</div>"
      ],
      "text/plain": [
       "                  Type  Unique  NaN                Sample\n",
       "Suburb          object     338    0               Sunbury\n",
       "Address         object   20424    0          16 Deakin St\n",
       "Rooms            int64      11    0                     3\n",
       "Type            object       3    0                     h\n",
       "Price          float64    2607    0                505000\n",
       "Method          object       5    0                     S\n",
       "SellerG         object     323    0                   YPA\n",
       "Date            object      78    0            23/09/2017\n",
       "Distance       float64     211    0                  31.7\n",
       "Postcode       float64     208    0                  3429\n",
       "Bedroom2       float64      14    0                     3\n",
       "Bathroom       float64      10    0                     2\n",
       "Car            float64      14    0                     3\n",
       "Landsize       float64    1558    0               593.555\n",
       "BuildingArea   float64     663    0               156.835\n",
       "YearBuilt      float64     152    0                  1980\n",
       "CouncilArea     object      33    0     Hume City Council\n",
       "Lattitude      float64   11284    0              -37.5829\n",
       "Longtitude     float64   12182    0               144.712\n",
       "Regionname      object       8    0  Western Metropolitan\n",
       "Propertycount  float64     332    0                 14092"
      ]
     },
     "execution_count": 8,
     "metadata": {},
     "output_type": "execute_result"
    }
   ],
   "source": [
    "# Filling missing values\n",
    "df['Car'] = df['Car'].fillna(df.Car.mean())\n",
    "df['Landsize'] = df['Landsize'].fillna(df.Landsize.mean())\n",
    "df['BuildingArea'] = df['BuildingArea'].fillna(df.BuildingArea.mean())\n",
    "df['YearBuilt'] = df['YearBuilt'].fillna(df.YearBuilt.mean())\n",
    "df['Lattitude'] = df['Lattitude'].fillna(df.Lattitude.mean())\n",
    "df['Longtitude'] = df['Longtitude'].fillna(df.Longtitude.mean())\n",
    "\n",
    "snapshot(df)"
   ]
  },
  {
   "cell_type": "code",
   "execution_count": 9,
   "metadata": {},
   "outputs": [
    {
     "data": {
      "image/png": "[encoded data removed]",
      "text/plain": [
       "<Figure size 1080x360 with 1 Axes>"
      ]
     },
     "metadata": {
      "needs_background": "light"
     },
     "output_type": "display_data"
    }
   ],
   "source": [
    "plt.figure(figsize=(15,5))\n",
    "sns.distplot(df.Price)\n",
    "plt.title('Price Distribution for Dataset')\n",
    "plt.show()"
   ]
  },
  {
   "cell_type": "code",
   "execution_count": 10,
   "metadata": {},
   "outputs": [
    {
     "data": {
      "text/plain": [
       "Rooms            0.444840\n",
       "Price            1.000000\n",
       "Distance        -0.236455\n",
       "Postcode         0.034974\n",
       "Bedroom2         0.430296\n",
       "Bathroom         0.429878\n",
       "Car              0.200711\n",
       "Landsize         0.030446\n",
       "BuildingArea     0.074828\n",
       "YearBuilt       -0.261293\n",
       "Lattitude       -0.216179\n",
       "Longtitude       0.198100\n",
       "Propertycount   -0.051381\n",
       "Name: Price, dtype: float64"
      ]
     },
     "execution_count": 10,
     "metadata": {},
     "output_type": "execute_result"
    }
   ],
   "source": [
    "# Observing the correlations of features against target variable 'Price'\n",
    "corr = df.corr()\n",
    "corr['Price']"
   ]
  },
  {
   "cell_type": "markdown",
   "metadata": {},
   "source": [
    "As one would assume, the higher correlations with house prices are with the features: Rooms, Bedroom2, Bathroom, and Car. There also seem to be negative correlations with the year built - that's reasonable. Interestingly, we also see hints of correlation with Lattitude (sic) and Longitude that seem to hint toward a wealthier area."
   ]
  },
  {
   "cell_type": "markdown",
   "metadata": {},
   "source": [
    "## Feature Engineering"
   ]
  },
  {
   "cell_type": "code",
   "execution_count": 11,
   "metadata": {},
   "outputs": [
    {
     "data": {
      "text/plain": [
       "Suburb         object\n",
       "Address        object\n",
       "Type           object\n",
       "Method         object\n",
       "SellerG        object\n",
       "Date           object\n",
       "CouncilArea    object\n",
       "Regionname     object\n",
       "dtype: object"
      ]
     },
     "execution_count": 11,
     "metadata": {},
     "output_type": "execute_result"
    }
   ],
   "source": [
    "df.dtypes[df.dtypes == 'object']"
   ]
  },
  {
   "cell_type": "markdown",
   "metadata": {},
   "source": [
    "* Suburb: 338 different values (for initial study will be dropping, may add later)\n",
    "* Address: almost all are unique values; provides no insight\n",
    "* Type: 3 unique values\n",
    "* Method: type of sale (5 unique values)\n",
    "* SellerG: Real Estate Agent (323 unique values: could be interesting to observe, but we will remove)\n",
    "* Date: splitting into day, month, year columns\n",
    "* CouncilArea: 33 unique values (may provide insight)\n",
    "* Regionname: 8 unique values"
   ]
  },
  {
   "cell_type": "code",
   "execution_count": 12,
   "metadata": {},
   "outputs": [
    {
     "data": {
      "text/plain": [
       "(20800, 64)"
      ]
     },
     "execution_count": 12,
     "metadata": {},
     "output_type": "execute_result"
    }
   ],
   "source": [
    "features = df.drop('Price', 1)\n",
    "features = features.drop(['Suburb','Address','SellerG'], 1)\n",
    "features = pd.concat([features.drop('Type', axis=1), \n",
    "                      pd.get_dummies(features['Type'], prefix='Type')], axis=1)\n",
    "features = pd.concat([features.drop('Method', axis=1), \n",
    "                      pd.get_dummies(features['Method'], prefix='Method')], axis=1)\n",
    "features['year'] = pd.DatetimeIndex(df['Date']).year\n",
    "features['month'] = pd.DatetimeIndex(df['Date']).month\n",
    "features['date'] = pd.DatetimeIndex(df['Date']).day\n",
    "features = features.drop('Date', 1)\n",
    "features = pd.concat([features.drop('CouncilArea', axis=1), \n",
    "                      pd.get_dummies(features['CouncilArea'], prefix='CouncilArea')], axis=1)\n",
    "features = pd.concat([features.drop('Regionname', axis=1), \n",
    "                      pd.get_dummies(features['Regionname'], prefix='Regionname')], axis=1)\n",
    "\n",
    "features.shape"
   ]
  },
  {
   "cell_type": "markdown",
   "metadata": {},
   "source": [
    "## Model 1: Baseline Model with All Features"
   ]
  },
  {
   "cell_type": "code",
   "execution_count": 13,
   "metadata": {},
   "outputs": [],
   "source": [
    "X_train, X_test, y_train, y_test = train_test_split(features, \n",
    "                                                    df.Price,\n",
    "                                                    test_size = 0.3)"
   ]
  },
  {
   "cell_type": "code",
   "execution_count": 14,
   "metadata": {},
   "outputs": [
    {
     "name": "stderr",
     "output_type": "stream",
     "text": [
      "C:\\ProgramData\\Anaconda3\\lib\\site-packages\\sklearn\\linear_model\\coordinate_descent.py:492: ConvergenceWarning: Objective did not converge. You might want to increase the number of iterations. Fitting data with very small alpha may cause precision problems.\n",
      "  ConvergenceWarning)\n"
     ]
    },
    {
     "data": {
      "image/png": "[encoded data removed]",
      "text/plain": [
       "<Figure size 432x288 with 1 Axes>"
      ]
     },
     "metadata": {
      "needs_background": "light"
     },
     "output_type": "display_data"
    },
    {
     "name": "stdout",
     "output_type": "stream",
     "text": [
      "\n",
      "R-squared: \n",
      " 0.6205376124315909\n"
     ]
    }
   ],
   "source": [
    "lasso = Lasso()\n",
    "lasso.fit(X_train, y_train)\n",
    "\n",
    "pred = lasso.predict(X_test)\n",
    "\n",
    "plt.scatter(pred, y_test)\n",
    "plt.show()\n",
    "print('\\nR-squared: \\n', lasso.score(X_test, y_test))"
   ]
  },
  {
   "cell_type": "code",
   "execution_count": 15,
   "metadata": {},
   "outputs": [
    {
     "data": {
      "image/png": "[encoded data removed]",
      "text/plain": [
       "<Figure size 432x288 with 1 Axes>"
      ]
     },
     "metadata": {
      "needs_background": "light"
     },
     "output_type": "display_data"
    },
    {
     "name": "stdout",
     "output_type": "stream",
     "text": [
      "\n",
      "R-squared: \n",
      " 0.6203944937087845\n"
     ]
    }
   ],
   "source": [
    "ridge = Ridge()\n",
    "ridge.fit(X_train, y_train)\n",
    "\n",
    "pred = ridge.predict(X_test)\n",
    "\n",
    "plt.scatter(pred, y_test)\n",
    "plt.show()\n",
    "print('\\nR-squared: \\n', ridge.score(X_test, y_test))"
   ]
  },
  {
   "cell_type": "code",
   "execution_count": 16,
   "metadata": {},
   "outputs": [
    {
     "data": {
      "image/png": "[encoded data removed]",
      "text/plain": [
       "<Figure size 432x288 with 1 Axes>"
      ]
     },
     "metadata": {
      "needs_background": "light"
     },
     "output_type": "display_data"
    },
    {
     "name": "stdout",
     "output_type": "stream",
     "text": [
      "\n",
      "R-squared: \n",
      " 0.538619874249997\n"
     ]
    }
   ],
   "source": [
    "knr = KNeighborsRegressor(n_neighbors=10, weights='distance')\n",
    "knr.fit(X_train, y_train)\n",
    "\n",
    "pred = knr.predict(X_test)\n",
    "\n",
    "plt.scatter(pred, y_test)\n",
    "plt.show()\n",
    "print('\\nR-squared: \\n', knr.score(X_test, y_test))"
   ]
  },
  {
   "cell_type": "markdown",
   "metadata": {},
   "source": [
    "## Model 2: Reformed Model with All Features According to Logarithm of Target"
   ]
  },
  {
   "cell_type": "code",
   "execution_count": 17,
   "metadata": {},
   "outputs": [],
   "source": [
    "X_train, X_test, y_train, y_test = train_test_split(features, \n",
    "                                                    np.log(df.Price),\n",
    "                                                    test_size = 0.3)"
   ]
  },
  {
   "cell_type": "code",
   "execution_count": 18,
   "metadata": {},
   "outputs": [
    {
     "data": {
      "image/png": "[encoded data removed]",
      "text/plain": [
       "<Figure size 432x288 with 1 Axes>"
      ]
     },
     "metadata": {
      "needs_background": "light"
     },
     "output_type": "display_data"
    },
    {
     "name": "stdout",
     "output_type": "stream",
     "text": [
      "\n",
      "R-squared: \n",
      " -2.9733151801310402\n"
     ]
    }
   ],
   "source": [
    "lasso = Lasso()\n",
    "lasso.fit(X_train, y_train)\n",
    "\n",
    "pred = lasso.predict(X_test)\n",
    "\n",
    "plt.scatter(pred, y_test)\n",
    "plt.show()\n",
    "print('\\nR-squared: \\n', lasso.score(X_test, y_test))"
   ]
  },
  {
   "cell_type": "code",
   "execution_count": 19,
   "metadata": {},
   "outputs": [
    {
     "data": {
      "image/png": "[encoded data removed]",
      "text/plain": [
       "<Figure size 432x288 with 1 Axes>"
      ]
     },
     "metadata": {
      "needs_background": "light"
     },
     "output_type": "display_data"
    },
    {
     "name": "stdout",
     "output_type": "stream",
     "text": [
      "\n",
      "R-squared: \n",
      " 0.5893030113757122\n"
     ]
    }
   ],
   "source": [
    "knr = KNeighborsRegressor(n_neighbors=7, weights='distance')\n",
    "knr.fit(X_train, y_train)\n",
    "\n",
    "pred = knr.predict(X_test)\n",
    "\n",
    "plt.scatter(pred, y_test)\n",
    "plt.show()\n",
    "print('\\nR-squared: \\n', knr.score(X_test, y_test))"
   ]
  },
  {
   "cell_type": "markdown",
   "metadata": {},
   "source": [
    "## Model 3: Select Features According to Logarithm of Target"
   ]
  },
  {
   "cell_type": "code",
   "execution_count": 20,
   "metadata": {},
   "outputs": [
    {
     "data": {
      "text/html": [
       "<div>\n",
       "<style scoped>\n",
       "    .dataframe tbody tr th:only-of-type {\n",
       "        vertical-align: middle;\n",
       "    }\n",
       "\n",
       "    .dataframe tbody tr th {\n",
       "        vertical-align: top;\n",
       "    }\n",
       "\n",
       "    .dataframe thead th {\n",
       "        text-align: right;\n",
       "    }\n",
       "</style>\n",
       "<table border=\"1\" class=\"dataframe\">\n",
       "  <thead>\n",
       "    <tr style=\"text-align: right;\">\n",
       "      <th></th>\n",
       "      <th>Rooms</th>\n",
       "      <th>Distance</th>\n",
       "      <th>Postcode</th>\n",
       "      <th>Bedroom2</th>\n",
       "      <th>Bathroom</th>\n",
       "      <th>Car</th>\n",
       "      <th>Landsize</th>\n",
       "      <th>BuildingArea</th>\n",
       "      <th>YearBuilt</th>\n",
       "      <th>Lattitude</th>\n",
       "      <th>...</th>\n",
       "      <th>CouncilArea_Yarra City Council</th>\n",
       "      <th>CouncilArea_Yarra Ranges Shire Council</th>\n",
       "      <th>Regionname_Eastern Metropolitan</th>\n",
       "      <th>Regionname_Eastern Victoria</th>\n",
       "      <th>Regionname_Northern Metropolitan</th>\n",
       "      <th>Regionname_Northern Victoria</th>\n",
       "      <th>Regionname_South-Eastern Metropolitan</th>\n",
       "      <th>Regionname_Southern Metropolitan</th>\n",
       "      <th>Regionname_Western Metropolitan</th>\n",
       "      <th>Regionname_Western Victoria</th>\n",
       "    </tr>\n",
       "  </thead>\n",
       "  <tbody>\n",
       "    <tr>\n",
       "      <th>1</th>\n",
       "      <td>0.066667</td>\n",
       "      <td>0.051975</td>\n",
       "      <td>0.068507</td>\n",
       "      <td>0.10</td>\n",
       "      <td>0.111111</td>\n",
       "      <td>0.055556</td>\n",
       "      <td>0.000466</td>\n",
       "      <td>0.003523</td>\n",
       "      <td>0.936338</td>\n",
       "      <td>0.493080</td>\n",
       "      <td>...</td>\n",
       "      <td>1.0</td>\n",
       "      <td>0.0</td>\n",
       "      <td>0.0</td>\n",
       "      <td>0.0</td>\n",
       "      <td>1.0</td>\n",
       "      <td>0.0</td>\n",
       "      <td>0.0</td>\n",
       "      <td>0.0</td>\n",
       "      <td>0.0</td>\n",
       "      <td>0.0</td>\n",
       "    </tr>\n",
       "    <tr>\n",
       "      <th>2</th>\n",
       "      <td>0.066667</td>\n",
       "      <td>0.051975</td>\n",
       "      <td>0.068507</td>\n",
       "      <td>0.10</td>\n",
       "      <td>0.111111</td>\n",
       "      <td>0.000000</td>\n",
       "      <td>0.000360</td>\n",
       "      <td>0.001775</td>\n",
       "      <td>0.855407</td>\n",
       "      <td>0.482609</td>\n",
       "      <td>...</td>\n",
       "      <td>1.0</td>\n",
       "      <td>0.0</td>\n",
       "      <td>0.0</td>\n",
       "      <td>0.0</td>\n",
       "      <td>1.0</td>\n",
       "      <td>0.0</td>\n",
       "      <td>0.0</td>\n",
       "      <td>0.0</td>\n",
       "      <td>0.0</td>\n",
       "      <td>0.0</td>\n",
       "    </tr>\n",
       "    <tr>\n",
       "      <th>4</th>\n",
       "      <td>0.133333</td>\n",
       "      <td>0.051975</td>\n",
       "      <td>0.068507</td>\n",
       "      <td>0.15</td>\n",
       "      <td>0.222222</td>\n",
       "      <td>0.000000</td>\n",
       "      <td>0.000309</td>\n",
       "      <td>0.003370</td>\n",
       "      <td>0.855407</td>\n",
       "      <td>0.480842</td>\n",
       "      <td>...</td>\n",
       "      <td>1.0</td>\n",
       "      <td>0.0</td>\n",
       "      <td>0.0</td>\n",
       "      <td>0.0</td>\n",
       "      <td>1.0</td>\n",
       "      <td>0.0</td>\n",
       "      <td>0.0</td>\n",
       "      <td>0.0</td>\n",
       "      <td>0.0</td>\n",
       "      <td>0.0</td>\n",
       "    </tr>\n",
       "    <tr>\n",
       "      <th>5</th>\n",
       "      <td>0.133333</td>\n",
       "      <td>0.051975</td>\n",
       "      <td>0.068507</td>\n",
       "      <td>0.15</td>\n",
       "      <td>0.222222</td>\n",
       "      <td>0.055556</td>\n",
       "      <td>0.000217</td>\n",
       "      <td>0.003523</td>\n",
       "      <td>0.936338</td>\n",
       "      <td>0.496486</td>\n",
       "      <td>...</td>\n",
       "      <td>1.0</td>\n",
       "      <td>0.0</td>\n",
       "      <td>0.0</td>\n",
       "      <td>0.0</td>\n",
       "      <td>1.0</td>\n",
       "      <td>0.0</td>\n",
       "      <td>0.0</td>\n",
       "      <td>0.0</td>\n",
       "      <td>0.0</td>\n",
       "      <td>0.0</td>\n",
       "    </tr>\n",
       "    <tr>\n",
       "      <th>6</th>\n",
       "      <td>0.200000</td>\n",
       "      <td>0.051975</td>\n",
       "      <td>0.068507</td>\n",
       "      <td>0.15</td>\n",
       "      <td>0.111111</td>\n",
       "      <td>0.111111</td>\n",
       "      <td>0.000277</td>\n",
       "      <td>0.003190</td>\n",
       "      <td>0.993925</td>\n",
       "      <td>0.483492</td>\n",
       "      <td>...</td>\n",
       "      <td>1.0</td>\n",
       "      <td>0.0</td>\n",
       "      <td>0.0</td>\n",
       "      <td>0.0</td>\n",
       "      <td>1.0</td>\n",
       "      <td>0.0</td>\n",
       "      <td>0.0</td>\n",
       "      <td>0.0</td>\n",
       "      <td>0.0</td>\n",
       "      <td>0.0</td>\n",
       "    </tr>\n",
       "  </tbody>\n",
       "</table>\n",
       "<p>5 rows × 64 columns</p>\n",
       "</div>"
      ],
      "text/plain": [
       "      Rooms  Distance  Postcode  Bedroom2  Bathroom       Car  Landsize  \\\n",
       "1  0.066667  0.051975  0.068507      0.10  0.111111  0.055556  0.000466   \n",
       "2  0.066667  0.051975  0.068507      0.10  0.111111  0.000000  0.000360   \n",
       "4  0.133333  0.051975  0.068507      0.15  0.222222  0.000000  0.000309   \n",
       "5  0.133333  0.051975  0.068507      0.15  0.222222  0.055556  0.000217   \n",
       "6  0.200000  0.051975  0.068507      0.15  0.111111  0.111111  0.000277   \n",
       "\n",
       "   BuildingArea  YearBuilt  Lattitude  ...  CouncilArea_Yarra City Council  \\\n",
       "1      0.003523   0.936338   0.493080  ...                             1.0   \n",
       "2      0.001775   0.855407   0.482609  ...                             1.0   \n",
       "4      0.003370   0.855407   0.480842  ...                             1.0   \n",
       "5      0.003523   0.936338   0.496486  ...                             1.0   \n",
       "6      0.003190   0.993925   0.483492  ...                             1.0   \n",
       "\n",
       "   CouncilArea_Yarra Ranges Shire Council  Regionname_Eastern Metropolitan  \\\n",
       "1                                     0.0                              0.0   \n",
       "2                                     0.0                              0.0   \n",
       "4                                     0.0                              0.0   \n",
       "5                                     0.0                              0.0   \n",
       "6                                     0.0                              0.0   \n",
       "\n",
       "   Regionname_Eastern Victoria  Regionname_Northern Metropolitan  \\\n",
       "1                          0.0                               1.0   \n",
       "2                          0.0                               1.0   \n",
       "4                          0.0                               1.0   \n",
       "5                          0.0                               1.0   \n",
       "6                          0.0                               1.0   \n",
       "\n",
       "   Regionname_Northern Victoria  Regionname_South-Eastern Metropolitan  \\\n",
       "1                           0.0                                    0.0   \n",
       "2                           0.0                                    0.0   \n",
       "4                           0.0                                    0.0   \n",
       "5                           0.0                                    0.0   \n",
       "6                           0.0                                    0.0   \n",
       "\n",
       "   Regionname_Southern Metropolitan  Regionname_Western Metropolitan  \\\n",
       "1                               0.0                              0.0   \n",
       "2                               0.0                              0.0   \n",
       "4                               0.0                              0.0   \n",
       "5                               0.0                              0.0   \n",
       "6                               0.0                              0.0   \n",
       "\n",
       "   Regionname_Western Victoria  \n",
       "1                          0.0  \n",
       "2                          0.0  \n",
       "4                          0.0  \n",
       "5                          0.0  \n",
       "6                          0.0  \n",
       "\n",
       "[5 rows x 64 columns]"
      ]
     },
     "execution_count": 20,
     "metadata": {},
     "output_type": "execute_result"
    }
   ],
   "source": [
    "features_norm = (features - features.min()) / (features.max() - features.min())\n",
    "features_norm.head()"
   ]
  },
  {
   "cell_type": "code",
   "execution_count": 21,
   "metadata": {},
   "outputs": [],
   "source": [
    "target_log = pd.Series(np.log(df.Price))\n",
    "target_log = target_log.astype('int')"
   ]
  },
  {
   "cell_type": "code",
   "execution_count": 22,
   "metadata": {},
   "outputs": [],
   "source": [
    "features_new = SelectKBest(chi2, k=20).fit_transform(features_norm, target_log)"
   ]
  },
  {
   "cell_type": "code",
   "execution_count": 23,
   "metadata": {},
   "outputs": [],
   "source": [
    "X_train, X_test, y_train, y_test = train_test_split(features_new, \n",
    "                                                    np.log(df.Price),\n",
    "                                                    test_size = 0.3)"
   ]
  },
  {
   "cell_type": "code",
   "execution_count": 24,
   "metadata": {},
   "outputs": [
    {
     "data": {
      "image/png": "[encoded data removed]",
      "text/plain": [
       "<Figure size 432x288 with 1 Axes>"
      ]
     },
     "metadata": {
      "needs_background": "light"
     },
     "output_type": "display_data"
    },
    {
     "name": "stdout",
     "output_type": "stream",
     "text": [
      "\n",
      "R-squared: \n",
      " 0.5659993462180302\n"
     ]
    }
   ],
   "source": [
    "knr = KNeighborsRegressor(n_neighbors=10, weights='distance')\n",
    "knr.fit(X_train, y_train)\n",
    "\n",
    "pred = knr.predict(X_test)\n",
    "\n",
    "plt.scatter(pred, y_test)\n",
    "plt.show()\n",
    "print('\\nR-squared: \\n', knr.score(X_test, y_test))"
   ]
  },
  {
   "cell_type": "markdown",
   "metadata": {},
   "source": [
    "## Model 4: Ensemble Modeling with Random Forest Regression"
   ]
  },
  {
   "cell_type": "code",
   "execution_count": 25,
   "metadata": {},
   "outputs": [],
   "source": [
    "X_train, X_test, y_train, y_test = train_test_split(features, \n",
    "                                                    df.Price,\n",
    "                                                    test_size = 0.3)"
   ]
  },
  {
   "cell_type": "code",
   "execution_count": 26,
   "metadata": {},
   "outputs": [
    {
     "name": "stderr",
     "output_type": "stream",
     "text": [
      "C:\\ProgramData\\Anaconda3\\lib\\site-packages\\sklearn\\ensemble\\forest.py:246: FutureWarning: The default value of n_estimators will change from 10 in version 0.20 to 100 in 0.22.\n",
      "  \"10 in version 0.20 to 100 in 0.22.\", FutureWarning)\n"
     ]
    },
    {
     "data": {
      "image/png": "[encoded data removed]",
      "text/plain": [
       "<Figure size 432x288 with 1 Axes>"
      ]
     },
     "metadata": {
      "needs_background": "light"
     },
     "output_type": "display_data"
    },
    {
     "name": "stdout",
     "output_type": "stream",
     "text": [
      "\n",
      "R-squared: \n",
      " 0.7866493651575502\n"
     ]
    }
   ],
   "source": [
    "rfr = RandomForestRegressor()\n",
    "rfr.fit(X_train, y_train)\n",
    "\n",
    "pred = rfr.predict(X_test)\n",
    "\n",
    "plt.scatter(pred, y_test)\n",
    "plt.show()\n",
    "print('\\nR-squared: \\n', rfr.score(X_test, y_test))"
   ]
  },
  {
   "cell_type": "code",
   "execution_count": 27,
   "metadata": {},
   "outputs": [],
   "source": [
    "X_train, X_test, y_train, y_test = train_test_split(features, \n",
    "                                                    np.log(df.Price),\n",
    "                                                    test_size = 0.3)"
   ]
  },
  {
   "cell_type": "code",
   "execution_count": 28,
   "metadata": {},
   "outputs": [
    {
     "name": "stderr",
     "output_type": "stream",
     "text": [
      "C:\\ProgramData\\Anaconda3\\lib\\site-packages\\sklearn\\ensemble\\forest.py:246: FutureWarning: The default value of n_estimators will change from 10 in version 0.20 to 100 in 0.22.\n",
      "  \"10 in version 0.20 to 100 in 0.22.\", FutureWarning)\n"
     ]
    },
    {
     "data": {
      "image/png": "[encoded data removed]",
      "text/plain": [
       "<Figure size 432x288 with 1 Axes>"
      ]
     },
     "metadata": {
      "needs_background": "light"
     },
     "output_type": "display_data"
    },
    {
     "name": "stdout",
     "output_type": "stream",
     "text": [
      "\n",
      "R-squared: \n",
      " 0.8582900921981435\n"
     ]
    }
   ],
   "source": [
    "rfr = RandomForestRegressor()\n",
    "rfr.fit(X_train, y_train)\n",
    "\n",
    "pred = rfr.predict(X_test)\n",
    "\n",
    "plt.scatter(pred, y_test)\n",
    "plt.show()\n",
    "print('\\nR-squared: \\n', rfr.score(X_test, y_test))"
   ]
  },
  {
   "cell_type": "markdown",
   "metadata": {},
   "source": [
    "## Model 5: Ensemble Modeling with Select Features with Random Forest Regression"
   ]
  },
  {
   "cell_type": "code",
   "execution_count": 29,
   "metadata": {},
   "outputs": [
    {
     "name": "stderr",
     "output_type": "stream",
     "text": [
      "C:\\ProgramData\\Anaconda3\\lib\\site-packages\\sklearn\\ensemble\\forest.py:246: FutureWarning: The default value of n_estimators will change from 10 in version 0.20 to 100 in 0.22.\n",
      "  \"10 in version 0.20 to 100 in 0.22.\", FutureWarning)\n"
     ]
    },
    {
     "name": "stdout",
     "output_type": "stream",
     "text": [
      "('Rooms', 0.06625092520411227)\n",
      "('Distance', 0.10667958716139907)\n",
      "('Postcode', 0.01574620112201959)\n",
      "('Bedroom2', 0.042329485042332554)\n",
      "('Bathroom', 0.0209914118164895)\n",
      "('Car', 0.007454475626237593)\n",
      "('Landsize', 0.055820127242223926)\n",
      "('BuildingArea', 0.02954968569360253)\n",
      "('YearBuilt', 0.01343083879187787)\n",
      "('Lattitude', 0.06334450301992724)\n",
      "('Longtitude', 0.06857870131967252)\n",
      "('Propertycount', 0.013265195432033538)\n",
      "('Type_h', 0.004714069816860416)\n",
      "('Type_t', 0.003663787210783588)\n",
      "('Type_u', 0.20604159179575263)\n",
      "('Method_PI', 0.0020256201479001107)\n",
      "('Method_S', 0.0026486967186089188)\n",
      "('Method_SA', 0.0001622431083938865)\n",
      "('Method_SP', 0.0010921270025157953)\n",
      "('Method_VB', 0.0017757461702624904)\n",
      "('year', 0.003977037445360829)\n",
      "('month', 0.008060277510158247)\n",
      "('date', 0.010770058570523766)\n",
      "('CouncilArea_Banyule City Council', 0.0009190681539262439)\n",
      "('CouncilArea_Bayside City Council', 0.0003784329329440602)\n",
      "('CouncilArea_Boroondara City Council', 0.0007615108837784506)\n",
      "('CouncilArea_Brimbank City Council', 0.0001755730631032253)\n",
      "('CouncilArea_Cardinia Shire Council', 4.201764849671225e-06)\n",
      "('CouncilArea_Casey City Council', 8.216407690547627e-05)\n",
      "('CouncilArea_Darebin City Council', 0.0001543425004829843)\n",
      "('CouncilArea_Frankston City Council', 2.0718267233913408e-05)\n",
      "('CouncilArea_Glen Eira City Council', 0.0008976399313815823)\n",
      "('CouncilArea_Greater Dandenong City Council', 8.957313832891319e-05)\n",
      "('CouncilArea_Hobsons Bay City Council', 0.00018651451520921796)\n",
      "('CouncilArea_Hume City Council', 0.0002922578874084915)\n",
      "('CouncilArea_Kingston City Council', 0.0021902864097654937)\n",
      "('CouncilArea_Knox City Council', 0.0001218683785038268)\n",
      "('CouncilArea_Macedon Ranges Shire Council', 3.115055584227161e-05)\n",
      "('CouncilArea_Manningham City Council', 8.571651493338855e-05)\n",
      "('CouncilArea_Maribyrnong City Council', 0.0010090250719142642)\n",
      "('CouncilArea_Maroondah City Council', 4.2705829777313225e-05)\n",
      "('CouncilArea_Melbourne City Council', 0.00029036401905988934)\n",
      "('CouncilArea_Melton City Council', 0.001114587280147381)\n",
      "('CouncilArea_Mitchell Shire Council', 4.855990116505143e-06)\n",
      "('CouncilArea_Monash City Council', 0.0011025256715391006)\n",
      "('CouncilArea_Moonee Valley City Council', 0.001180419114453319)\n",
      "('CouncilArea_Moorabool Shire Council', 6.583419408709873e-06)\n",
      "('CouncilArea_Moreland City Council', 0.0002055271607556133)\n",
      "('CouncilArea_Nillumbik Shire Council', 1.0970933735344237e-05)\n",
      "('CouncilArea_Port Phillip City Council', 0.0002265265233624306)\n",
      "('CouncilArea_Stonnington City Council', 0.000864435048802952)\n",
      "('CouncilArea_Whitehorse City Council', 0.00020703315211452727)\n",
      "('CouncilArea_Whittlesea City Council', 0.00010470830094456973)\n",
      "('CouncilArea_Wyndham City Council', 5.351230759475149e-06)\n",
      "('CouncilArea_Yarra City Council', 0.00028082616272041665)\n",
      "('CouncilArea_Yarra Ranges Shire Council', 7.080475730003202e-06)\n",
      "('Regionname_Eastern Metropolitan', 0.030825525366794927)\n",
      "('Regionname_Eastern Victoria', 1.9856589109846935e-05)\n",
      "('Regionname_Northern Metropolitan', 0.00044691258422028293)\n",
      "('Regionname_Northern Victoria', 8.597153211831045e-06)\n",
      "('Regionname_South-Eastern Metropolitan', 9.402055258456569e-06)\n",
      "('Regionname_Southern Metropolitan', 0.20712442558827568)\n",
      "('Regionname_Western Metropolitan', 0.00011497512391670902)\n",
      "('Regionname_Western Victoria', 2.3368210224376312e-05)\n"
     ]
    }
   ],
   "source": [
    "rfr = RandomForestRegressor()\n",
    "rfr.fit(X_train, y_train)\n",
    "\n",
    "# Print the name and gini importance of each feature\n",
    "feat_labels = features.columns\n",
    "for feature in zip(feat_labels, rfr.feature_importances_):\n",
    "    print(feature)"
   ]
  },
  {
   "cell_type": "code",
   "execution_count": 30,
   "metadata": {},
   "outputs": [
    {
     "data": {
      "text/plain": [
       "SelectFromModel(estimator=RandomForestRegressor(bootstrap=True, criterion='mse', max_depth=None,\n",
       "           max_features='auto', max_leaf_nodes=None,\n",
       "           min_impurity_decrease=0.0, min_impurity_split=None,\n",
       "           min_samples_leaf=1, min_samples_split=2,\n",
       "           min_weight_fraction_leaf=0.0, n_estimators=10, n_jobs=None,\n",
       "           oob_score=False, random_state=None, verbose=0, warm_start=False),\n",
       "        max_features=None, norm_order=1, prefit=False, threshold=0.025)"
      ]
     },
     "execution_count": 30,
     "metadata": {},
     "output_type": "execute_result"
    }
   ],
   "source": [
    "# Create a selector object that will use the random forest classifier to identify\n",
    "# features that have an importance of more than 0.15\n",
    "sfm = SelectFromModel(rfr, threshold=0.025)\n",
    "\n",
    "# Train the selector\n",
    "sfm.fit(X_train, y_train)"
   ]
  },
  {
   "cell_type": "code",
   "execution_count": 31,
   "metadata": {},
   "outputs": [
    {
     "name": "stdout",
     "output_type": "stream",
     "text": [
      "Rooms\n",
      "Distance\n",
      "Bedroom2\n",
      "Landsize\n",
      "BuildingArea\n",
      "Lattitude\n",
      "Longtitude\n",
      "Type_u\n",
      "Regionname_Eastern Metropolitan\n",
      "Regionname_Southern Metropolitan\n"
     ]
    }
   ],
   "source": [
    "# Print the names of the most important features\n",
    "for feature_list_index in sfm.get_support(indices=True):\n",
    "    print(feat_labels[feature_list_index])"
   ]
  },
  {
   "cell_type": "code",
   "execution_count": 32,
   "metadata": {},
   "outputs": [],
   "source": [
    "# Transform the data to create a new dataset containing only the most important features\n",
    "# Note: We have to apply the transform to both the training X and test X data.\n",
    "X_important_train = sfm.transform(X_train)\n",
    "X_important_test = sfm.transform(X_test)"
   ]
  },
  {
   "cell_type": "code",
   "execution_count": 33,
   "metadata": {},
   "outputs": [
    {
     "data": {
      "text/plain": [
       "RandomForestRegressor(bootstrap=True, criterion='mse', max_depth=None,\n",
       "           max_features='auto', max_leaf_nodes=None,\n",
       "           min_impurity_decrease=0.0, min_impurity_split=None,\n",
       "           min_samples_leaf=1, min_samples_split=2,\n",
       "           min_weight_fraction_leaf=0.0, n_estimators=10000, n_jobs=-1,\n",
       "           oob_score=False, random_state=None, verbose=0, warm_start=False)"
      ]
     },
     "execution_count": 33,
     "metadata": {},
     "output_type": "execute_result"
    }
   ],
   "source": [
    "# Create a new random forest classifier for the most important features\n",
    "rfr_important = RandomForestRegressor(n_estimators=10000, n_jobs=-1)\n",
    "\n",
    "# Train the new classifier on the new dataset containing the most important features\n",
    "rfr_important.fit(X_important_train, y_train)"
   ]
  },
  {
   "cell_type": "code",
   "execution_count": 36,
   "metadata": {},
   "outputs": [
    {
     "data": {
      "image/png": "[encoded data removed]",
      "text/plain": [
       "<Figure size 432x288 with 1 Axes>"
      ]
     },
     "metadata": {
      "needs_background": "light"
     },
     "output_type": "display_data"
    },
    {
     "name": "stdout",
     "output_type": "stream",
     "text": [
      "\n",
      "R-squared: \n",
      " 0.8583813664979164\n"
     ]
    }
   ],
   "source": [
    "pred = rfr_important.predict(X_important_test)\n",
    "\n",
    "plt.scatter(pred, y_test)\n",
    "plt.show()\n",
    "print('\\nR-squared: \\n', rfr_important.score(X_important_test, y_test))"
   ]
  },
  {
   "cell_type": "markdown",
   "metadata": {},
   "source": [
    "While this model could still use adjustments, a 85% r-squared is commendable and accurate enough for the purposes of this assignment. Lastly, the reduced feature model (of 10 features) performed slightly better than the all feature model; however, when the reduced features were tested against the linear models of ridge and lasso, they didn't even predict 10% of the variance.\n",
    "\n",
    "In conclusion, while Random Forest ensemble is the most accurate of the models shown above, it would be useful to develop a model that gave more insight into how each of the features contributed to the predicted variable."
   ]
  }
 ],
 "metadata": {
  "kernelspec": {
   "display_name": "Python 3",
   "language": "python",
   "name": "python3"
  },
  "language_info": {
   "codemirror_mode": {
    "name": "ipython",
    "version": 3
   },
   "file_extension": ".py",
   "mimetype": "text/x-python",
   "name": "python",
   "nbconvert_exporter": "python",
   "pygments_lexer": "ipython3",
   "version": "3.7.3"
  }
 },
 "nbformat": 4,
 "nbformat_minor": 2
}
