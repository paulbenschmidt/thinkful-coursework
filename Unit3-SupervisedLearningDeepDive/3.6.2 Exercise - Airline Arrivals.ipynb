{
 "cells": [
  {
   "cell_type": "markdown",
   "metadata": {},
   "source": [
    "# Predicting Late Arrival Time with Lasso Regression"
   ]
  },
  {
   "cell_type": "markdown",
   "metadata": {},
   "source": [
    "The [dataset]('http://stat-computing.org/dataexpo/2009/the-data.html') below is a record of flights taken during the month of January in 2018.\n",
    "\n",
    "The purpose of this exercise is to predict how late a flight will be. Because the dependent target variable is continuous, we will use a regression model to try and predict how late a given flight will be. For the purposes of this exercise, we are only concerned with predicting how late a flight will be for flights that are considered late (with ARR_DELAY > 30). This will cause the original dataset of 570,118 entries to be limited to 60,278 entries."
   ]
  },
  {
   "cell_type": "markdown",
   "metadata": {},
   "source": [
    "## Loading Data"
   ]
  },
  {
   "cell_type": "code",
   "execution_count": 1,
   "metadata": {},
   "outputs": [],
   "source": [
    "import pandas as pd\n",
    "import numpy as np\n",
    "\n",
    "import matplotlib.pyplot as plt\n",
    "import seaborn as sns\n",
    "\n",
    "from sklearn.model_selection import train_test_split\n",
    "from sklearn.linear_model import LinearRegression\n",
    "from sklearn.linear_model import Lasso\n",
    "from sklearn.metrics import confusion_matrix"
   ]
  },
  {
   "cell_type": "code",
   "execution_count": 2,
   "metadata": {},
   "outputs": [],
   "source": [
    "df = pd.read_csv('460592500_T_ONTIME_REPORTING.csv')\n",
    "\n",
    "# Limiting dataframe to flights that are considered late according to predetermined time value\n",
    "df = df[df.ARR_DELAY > 30]\n",
    "\n",
    "# Dropping completely NaN features\n",
    "df = df.drop(['CANCELLATION_CODE','DIV1_TAIL_NUM','Unnamed: 32'], 1)"
   ]
  },
  {
   "cell_type": "markdown",
   "metadata": {},
   "source": [
    "## Preliminary Analysis"
   ]
  },
  {
   "cell_type": "code",
   "execution_count": 3,
   "metadata": {},
   "outputs": [
    {
     "data": {
      "text/html": [
       "<div>\n",
       "<style scoped>\n",
       "    .dataframe tbody tr th:only-of-type {\n",
       "        vertical-align: middle;\n",
       "    }\n",
       "\n",
       "    .dataframe tbody tr th {\n",
       "        vertical-align: top;\n",
       "    }\n",
       "\n",
       "    .dataframe thead th {\n",
       "        text-align: right;\n",
       "    }\n",
       "</style>\n",
       "<table border=\"1\" class=\"dataframe\">\n",
       "  <thead>\n",
       "    <tr style=\"text-align: right;\">\n",
       "      <th></th>\n",
       "      <th>YEAR</th>\n",
       "      <th>MONTH</th>\n",
       "      <th>DAY_OF_MONTH</th>\n",
       "      <th>DAY_OF_WEEK</th>\n",
       "      <th>OP_UNIQUE_CARRIER</th>\n",
       "      <th>OP_CARRIER_FL_NUM</th>\n",
       "      <th>ORIGIN_AIRPORT_ID</th>\n",
       "      <th>ORIGIN</th>\n",
       "      <th>DEST_AIRPORT_ID</th>\n",
       "      <th>DEST</th>\n",
       "      <th>...</th>\n",
       "      <th>DIVERTED</th>\n",
       "      <th>CRS_ELAPSED_TIME</th>\n",
       "      <th>ACTUAL_ELAPSED_TIME</th>\n",
       "      <th>AIR_TIME</th>\n",
       "      <th>DISTANCE</th>\n",
       "      <th>CARRIER_DELAY</th>\n",
       "      <th>WEATHER_DELAY</th>\n",
       "      <th>NAS_DELAY</th>\n",
       "      <th>SECURITY_DELAY</th>\n",
       "      <th>LATE_AIRCRAFT_DELAY</th>\n",
       "    </tr>\n",
       "  </thead>\n",
       "  <tbody>\n",
       "    <tr>\n",
       "      <th>68</th>\n",
       "      <td>2018</td>\n",
       "      <td>1</td>\n",
       "      <td>27</td>\n",
       "      <td>6</td>\n",
       "      <td>UA</td>\n",
       "      <td>301</td>\n",
       "      <td>11292</td>\n",
       "      <td>DEN</td>\n",
       "      <td>12889</td>\n",
       "      <td>LAS</td>\n",
       "      <td>...</td>\n",
       "      <td>0.0</td>\n",
       "      <td>118.0</td>\n",
       "      <td>144.0</td>\n",
       "      <td>85.0</td>\n",
       "      <td>628.0</td>\n",
       "      <td>42.0</td>\n",
       "      <td>0.0</td>\n",
       "      <td>26.0</td>\n",
       "      <td>0.0</td>\n",
       "      <td>0.0</td>\n",
       "    </tr>\n",
       "    <tr>\n",
       "      <th>84</th>\n",
       "      <td>2018</td>\n",
       "      <td>1</td>\n",
       "      <td>27</td>\n",
       "      <td>6</td>\n",
       "      <td>UA</td>\n",
       "      <td>284</td>\n",
       "      <td>10821</td>\n",
       "      <td>BWI</td>\n",
       "      <td>12266</td>\n",
       "      <td>IAH</td>\n",
       "      <td>...</td>\n",
       "      <td>0.0</td>\n",
       "      <td>217.0</td>\n",
       "      <td>271.0</td>\n",
       "      <td>203.0</td>\n",
       "      <td>1235.0</td>\n",
       "      <td>0.0</td>\n",
       "      <td>0.0</td>\n",
       "      <td>48.0</td>\n",
       "      <td>0.0</td>\n",
       "      <td>0.0</td>\n",
       "    </tr>\n",
       "    <tr>\n",
       "      <th>118</th>\n",
       "      <td>2018</td>\n",
       "      <td>1</td>\n",
       "      <td>27</td>\n",
       "      <td>6</td>\n",
       "      <td>UA</td>\n",
       "      <td>254</td>\n",
       "      <td>11292</td>\n",
       "      <td>DEN</td>\n",
       "      <td>13930</td>\n",
       "      <td>ORD</td>\n",
       "      <td>...</td>\n",
       "      <td>0.0</td>\n",
       "      <td>146.0</td>\n",
       "      <td>123.0</td>\n",
       "      <td>107.0</td>\n",
       "      <td>888.0</td>\n",
       "      <td>65.0</td>\n",
       "      <td>0.0</td>\n",
       "      <td>0.0</td>\n",
       "      <td>0.0</td>\n",
       "      <td>0.0</td>\n",
       "    </tr>\n",
       "    <tr>\n",
       "      <th>131</th>\n",
       "      <td>2018</td>\n",
       "      <td>1</td>\n",
       "      <td>27</td>\n",
       "      <td>6</td>\n",
       "      <td>UA</td>\n",
       "      <td>242</td>\n",
       "      <td>14771</td>\n",
       "      <td>SFO</td>\n",
       "      <td>10721</td>\n",
       "      <td>BOS</td>\n",
       "      <td>...</td>\n",
       "      <td>0.0</td>\n",
       "      <td>341.0</td>\n",
       "      <td>291.0</td>\n",
       "      <td>273.0</td>\n",
       "      <td>2704.0</td>\n",
       "      <td>71.0</td>\n",
       "      <td>0.0</td>\n",
       "      <td>0.0</td>\n",
       "      <td>0.0</td>\n",
       "      <td>0.0</td>\n",
       "    </tr>\n",
       "    <tr>\n",
       "      <th>150</th>\n",
       "      <td>2018</td>\n",
       "      <td>1</td>\n",
       "      <td>27</td>\n",
       "      <td>6</td>\n",
       "      <td>UA</td>\n",
       "      <td>222</td>\n",
       "      <td>12953</td>\n",
       "      <td>LGA</td>\n",
       "      <td>13930</td>\n",
       "      <td>ORD</td>\n",
       "      <td>...</td>\n",
       "      <td>0.0</td>\n",
       "      <td>163.0</td>\n",
       "      <td>140.0</td>\n",
       "      <td>122.0</td>\n",
       "      <td>733.0</td>\n",
       "      <td>44.0</td>\n",
       "      <td>0.0</td>\n",
       "      <td>0.0</td>\n",
       "      <td>0.0</td>\n",
       "      <td>0.0</td>\n",
       "    </tr>\n",
       "  </tbody>\n",
       "</table>\n",
       "<p>5 rows × 30 columns</p>\n",
       "</div>"
      ],
      "text/plain": [
       "     YEAR  MONTH  DAY_OF_MONTH  DAY_OF_WEEK OP_UNIQUE_CARRIER  \\\n",
       "68   2018      1            27            6                UA   \n",
       "84   2018      1            27            6                UA   \n",
       "118  2018      1            27            6                UA   \n",
       "131  2018      1            27            6                UA   \n",
       "150  2018      1            27            6                UA   \n",
       "\n",
       "     OP_CARRIER_FL_NUM  ORIGIN_AIRPORT_ID ORIGIN  DEST_AIRPORT_ID DEST  ...  \\\n",
       "68                 301              11292    DEN            12889  LAS  ...   \n",
       "84                 284              10821    BWI            12266  IAH  ...   \n",
       "118                254              11292    DEN            13930  ORD  ...   \n",
       "131                242              14771    SFO            10721  BOS  ...   \n",
       "150                222              12953    LGA            13930  ORD  ...   \n",
       "\n",
       "     DIVERTED  CRS_ELAPSED_TIME  ACTUAL_ELAPSED_TIME  AIR_TIME  DISTANCE  \\\n",
       "68        0.0             118.0                144.0      85.0     628.0   \n",
       "84        0.0             217.0                271.0     203.0    1235.0   \n",
       "118       0.0             146.0                123.0     107.0     888.0   \n",
       "131       0.0             341.0                291.0     273.0    2704.0   \n",
       "150       0.0             163.0                140.0     122.0     733.0   \n",
       "\n",
       "     CARRIER_DELAY  WEATHER_DELAY  NAS_DELAY  SECURITY_DELAY  \\\n",
       "68            42.0            0.0       26.0             0.0   \n",
       "84             0.0            0.0       48.0             0.0   \n",
       "118           65.0            0.0        0.0             0.0   \n",
       "131           71.0            0.0        0.0             0.0   \n",
       "150           44.0            0.0        0.0             0.0   \n",
       "\n",
       "     LATE_AIRCRAFT_DELAY  \n",
       "68                   0.0  \n",
       "84                   0.0  \n",
       "118                  0.0  \n",
       "131                  0.0  \n",
       "150                  0.0  \n",
       "\n",
       "[5 rows x 30 columns]"
      ]
     },
     "execution_count": 3,
     "metadata": {},
     "output_type": "execute_result"
    }
   ],
   "source": [
    "df.head()"
   ]
  },
  {
   "cell_type": "code",
   "execution_count": 4,
   "metadata": {},
   "outputs": [
    {
     "data": {
      "text/plain": [
       "(60278, 30)"
      ]
     },
     "execution_count": 4,
     "metadata": {},
     "output_type": "execute_result"
    }
   ],
   "source": [
    "df.shape"
   ]
  },
  {
   "cell_type": "code",
   "execution_count": 5,
   "metadata": {},
   "outputs": [
    {
     "data": {
      "text/plain": [
       "YEAR                   0\n",
       "MONTH                  0\n",
       "DAY_OF_MONTH           0\n",
       "DAY_OF_WEEK            0\n",
       "OP_UNIQUE_CARRIER      0\n",
       "OP_CARRIER_FL_NUM      0\n",
       "ORIGIN_AIRPORT_ID      0\n",
       "ORIGIN                 0\n",
       "DEST_AIRPORT_ID        0\n",
       "DEST                   0\n",
       "CRS_DEP_TIME           0\n",
       "DEP_TIME               0\n",
       "DEP_DELAY              8\n",
       "DEP_DELAY_NEW          8\n",
       "TAXI_OUT               0\n",
       "TAXI_IN                0\n",
       "CRS_ARR_TIME           0\n",
       "ARR_TIME               0\n",
       "ARR_DELAY              0\n",
       "CANCELLED              0\n",
       "DIVERTED               0\n",
       "CRS_ELAPSED_TIME       0\n",
       "ACTUAL_ELAPSED_TIME    0\n",
       "AIR_TIME               0\n",
       "DISTANCE               0\n",
       "CARRIER_DELAY          0\n",
       "WEATHER_DELAY          0\n",
       "NAS_DELAY              0\n",
       "SECURITY_DELAY         0\n",
       "LATE_AIRCRAFT_DELAY    0\n",
       "dtype: int64"
      ]
     },
     "execution_count": 5,
     "metadata": {},
     "output_type": "execute_result"
    }
   ],
   "source": [
    "df.isnull().sum()"
   ]
  },
  {
   "cell_type": "code",
   "execution_count": 6,
   "metadata": {},
   "outputs": [
    {
     "data": {
      "text/plain": [
       "YEAR                     int64\n",
       "MONTH                    int64\n",
       "DAY_OF_MONTH             int64\n",
       "DAY_OF_WEEK              int64\n",
       "OP_UNIQUE_CARRIER       object\n",
       "OP_CARRIER_FL_NUM        int64\n",
       "ORIGIN_AIRPORT_ID        int64\n",
       "ORIGIN                  object\n",
       "DEST_AIRPORT_ID          int64\n",
       "DEST                    object\n",
       "CRS_DEP_TIME             int64\n",
       "DEP_TIME               float64\n",
       "DEP_DELAY              float64\n",
       "DEP_DELAY_NEW          float64\n",
       "TAXI_OUT               float64\n",
       "TAXI_IN                float64\n",
       "CRS_ARR_TIME             int64\n",
       "ARR_TIME               float64\n",
       "ARR_DELAY              float64\n",
       "CANCELLED              float64\n",
       "DIVERTED               float64\n",
       "CRS_ELAPSED_TIME       float64\n",
       "ACTUAL_ELAPSED_TIME    float64\n",
       "AIR_TIME               float64\n",
       "DISTANCE               float64\n",
       "CARRIER_DELAY          float64\n",
       "WEATHER_DELAY          float64\n",
       "NAS_DELAY              float64\n",
       "SECURITY_DELAY         float64\n",
       "LATE_AIRCRAFT_DELAY    float64\n",
       "dtype: object"
      ]
     },
     "execution_count": 6,
     "metadata": {},
     "output_type": "execute_result"
    }
   ],
   "source": [
    "df.dtypes"
   ]
  },
  {
   "cell_type": "code",
   "execution_count": 7,
   "metadata": {},
   "outputs": [],
   "source": [
    "# Dropping superfluous non-numerical features\n",
    "df = df.drop(['ORIGIN', 'DEST'], 1)"
   ]
  },
  {
   "cell_type": "code",
   "execution_count": 8,
   "metadata": {},
   "outputs": [
    {
     "data": {
      "text/plain": [
       "Text(0.5, 1.0, 'Late Flight Comparison Among Airlines')"
      ]
     },
     "execution_count": 8,
     "metadata": {},
     "output_type": "execute_result"
    },
    {
     "data": {
      "image/png": "[encoded data removed]",
      "text/plain": [
       "<Figure size 432x288 with 1 Axes>"
      ]
     },
     "metadata": {
      "needs_background": "light"
     },
     "output_type": "display_data"
    }
   ],
   "source": [
    "sns.countplot(df.OP_UNIQUE_CARRIER)\n",
    "plt.title('Late Flight Comparison Among Airlines')"
   ]
  },
  {
   "cell_type": "code",
   "execution_count": 9,
   "metadata": {},
   "outputs": [
    {
     "data": {
      "text/plain": [
       "YEAR                        NaN\n",
       "MONTH                       NaN\n",
       "DAY_OF_MONTH          -0.026359\n",
       "DAY_OF_WEEK            0.024540\n",
       "OP_CARRIER_FL_NUM      0.039589\n",
       "ORIGIN_AIRPORT_ID     -0.016280\n",
       "DEST_AIRPORT_ID       -0.045060\n",
       "CRS_DEP_TIME          -0.039337\n",
       "DEP_TIME              -0.022185\n",
       "DEP_DELAY              0.975909\n",
       "DEP_DELAY_NEW          0.976621\n",
       "TAXI_OUT               0.021021\n",
       "TAXI_IN                0.029353\n",
       "CRS_ARR_TIME          -0.033438\n",
       "ARR_TIME              -0.067726\n",
       "ARR_DELAY              1.000000\n",
       "CANCELLED                   NaN\n",
       "DIVERTED                    NaN\n",
       "CRS_ELAPSED_TIME      -0.003918\n",
       "ACTUAL_ELAPSED_TIME   -0.010121\n",
       "AIR_TIME              -0.020655\n",
       "DISTANCE              -0.014606\n",
       "CARRIER_DELAY          0.654960\n",
       "WEATHER_DELAY          0.359479\n",
       "NAS_DELAY              0.199582\n",
       "SECURITY_DELAY         0.019679\n",
       "LATE_AIRCRAFT_DELAY    0.388424\n",
       "Name: ARR_DELAY, dtype: float64"
      ]
     },
     "execution_count": 9,
     "metadata": {},
     "output_type": "execute_result"
    }
   ],
   "source": [
    "# Observing the correlations of features against target variable 'ARR_DELAY'\n",
    "corr = df.corr()\n",
    "corr['ARR_DELAY']"
   ]
  },
  {
   "cell_type": "markdown",
   "metadata": {},
   "source": [
    "Unsurprisingly, it looks like the key feature in helping us identify the ARR_DELAY is going to be DEP_DELAY; moreover, there is a slightly higher correlation with DEP_DELAY_NEW. However, in order to simulate a real-life situation, we will drop the DEP_DELAY_NEW feature (under the assumption that this column is updated at the actual time of late departure) because then the model would be little more than a calculation of how long a flight takes to get from Point A to Point B.\n",
    "\n",
    "In addition to this, we will also be dropping the YEAR (all are 2018), MONTH (all are January), CANCELLED, and DIVERTED features since they have no variability."
   ]
  },
  {
   "cell_type": "code",
   "execution_count": 10,
   "metadata": {},
   "outputs": [],
   "source": [
    "df = df.drop(['DEP_DELAY_NEW', 'YEAR', 'MONTH', 'CANCELLED','DIVERTED'], 1)\n",
    "\n",
    "# Removing 8 NaN rows for consistency\n",
    "df = df[~df.DEP_DELAY.isnull()]"
   ]
  },
  {
   "cell_type": "code",
   "execution_count": 11,
   "metadata": {},
   "outputs": [
    {
     "data": {
      "text/plain": [
       "DAY_OF_MONTH             31\n",
       "DAY_OF_WEEK               7\n",
       "OP_UNIQUE_CARRIER        18\n",
       "OP_CARRIER_FL_NUM      6213\n",
       "ORIGIN_AIRPORT_ID       329\n",
       "DEST_AIRPORT_ID         323\n",
       "CRS_DEP_TIME           1134\n",
       "DEP_TIME               1351\n",
       "DEP_DELAY               938\n",
       "TAXI_OUT                165\n",
       "TAXI_IN                 127\n",
       "CRS_ARR_TIME           1273\n",
       "ARR_TIME               1414\n",
       "ARR_DELAY               883\n",
       "CRS_ELAPSED_TIME        434\n",
       "ACTUAL_ELAPSED_TIME     512\n",
       "AIR_TIME                473\n",
       "DISTANCE               1349\n",
       "CARRIER_DELAY           748\n",
       "WEATHER_DELAY           493\n",
       "NAS_DELAY               379\n",
       "SECURITY_DELAY           81\n",
       "LATE_AIRCRAFT_DELAY     483\n",
       "dtype: int64"
      ]
     },
     "execution_count": 11,
     "metadata": {},
     "output_type": "execute_result"
    }
   ],
   "source": [
    "df.nunique()"
   ]
  },
  {
   "cell_type": "code",
   "execution_count": 12,
   "metadata": {},
   "outputs": [],
   "source": [
    "# Changing categorical variables into dummy variables\n",
    "features = pd.concat([df.drop('DAY_OF_MONTH', axis=1), pd.get_dummies(df['DAY_OF_MONTH'], prefix='day')], axis=1)\n",
    "features = pd.concat([features.drop('DAY_OF_WEEK', axis=1), pd.get_dummies(features['DAY_OF_WEEK'])], axis=1)\n",
    "features = pd.concat([features.drop('OP_UNIQUE_CARRIER', axis=1), \n",
    "                      pd.get_dummies(features['OP_UNIQUE_CARRIER'], prefix='carrier')], axis=1)\n",
    "features = features.rename({1: \"sun\", 2: \"mon\", 3: \"tues\", 4: \"wed\", 5: \"thur\", 6: \"fri\", 7: \"sat\"}, axis='columns')"
   ]
  },
  {
   "cell_type": "code",
   "execution_count": 13,
   "metadata": {},
   "outputs": [
    {
     "data": {
      "text/plain": [
       "(60270, 76)"
      ]
     },
     "execution_count": 13,
     "metadata": {},
     "output_type": "execute_result"
    }
   ],
   "source": [
    "features.shape"
   ]
  },
  {
   "cell_type": "markdown",
   "metadata": {},
   "source": [
    "## Splitting Dataset into Training and Testing Sets"
   ]
  },
  {
   "cell_type": "code",
   "execution_count": 14,
   "metadata": {},
   "outputs": [
    {
     "data": {
      "text/plain": [
       "31.0"
      ]
     },
     "execution_count": 14,
     "metadata": {},
     "output_type": "execute_result"
    },
    {
     "data": {
      "image/png": "[encoded data removed]",
      "text/plain": [
       "<Figure size 432x288 with 1 Axes>"
      ]
     },
     "metadata": {
      "needs_background": "light"
     },
     "output_type": "display_data"
    }
   ],
   "source": [
    "sns.distplot(features.ARR_DELAY)\n",
    "features.ARR_DELAY.min()"
   ]
  },
  {
   "cell_type": "code",
   "execution_count": 15,
   "metadata": {},
   "outputs": [],
   "source": [
    "X_train, X_test, y_train, y_test = train_test_split(features.drop('ARR_DELAY',1), \n",
    "                                                    features.ARR_DELAY,\n",
    "                                                    test_size = 0.3)"
   ]
  },
  {
   "cell_type": "markdown",
   "metadata": {},
   "source": [
    "## Model 1: Lasso Regression with All Features"
   ]
  },
  {
   "cell_type": "code",
   "execution_count": 16,
   "metadata": {},
   "outputs": [
    {
     "name": "stderr",
     "output_type": "stream",
     "text": [
      "C:\\ProgramData\\Anaconda3\\lib\\site-packages\\sklearn\\linear_model\\coordinate_descent.py:492: ConvergenceWarning: Objective did not converge. You might want to increase the number of iterations. Fitting data with very small alpha may cause precision problems.\n",
      "  ConvergenceWarning)\n"
     ]
    },
    {
     "data": {
      "image/png": "[encoded data removed]",
      "text/plain": [
       "<Figure size 432x288 with 1 Axes>"
      ]
     },
     "metadata": {
      "needs_background": "light"
     },
     "output_type": "display_data"
    },
    {
     "name": "stdout",
     "output_type": "stream",
     "text": [
      "\n",
      "R-squared: \n",
      " 0.9999636593473309\n"
     ]
    }
   ],
   "source": [
    "# Using Lasso Regression to remove all features that don't provide insight\n",
    "lasso = Lasso()\n",
    "lasso.fit(X_train, y_train)\n",
    "\n",
    "pred = lasso.predict(X_test)\n",
    "plt.scatter(pred, y_test)\n",
    "plt.show()\n",
    "print('\\nR-squared: \\n', lasso.score(X_test, y_test))"
   ]
  },
  {
   "cell_type": "code",
   "execution_count": 17,
   "metadata": {},
   "outputs": [
    {
     "data": {
      "text/html": [
       "<div>\n",
       "<style scoped>\n",
       "    .dataframe tbody tr th:only-of-type {\n",
       "        vertical-align: middle;\n",
       "    }\n",
       "\n",
       "    .dataframe tbody tr th {\n",
       "        vertical-align: top;\n",
       "    }\n",
       "\n",
       "    .dataframe thead th {\n",
       "        text-align: right;\n",
       "    }\n",
       "</style>\n",
       "<table border=\"1\" class=\"dataframe\">\n",
       "  <thead>\n",
       "    <tr style=\"text-align: right;\">\n",
       "      <th></th>\n",
       "      <th>features</th>\n",
       "      <th>coefficients</th>\n",
       "    </tr>\n",
       "  </thead>\n",
       "  <tbody>\n",
       "    <tr>\n",
       "      <th>0</th>\n",
       "      <td>OP_CARRIER_FL_NUM</td>\n",
       "      <td>-0.000003</td>\n",
       "    </tr>\n",
       "    <tr>\n",
       "      <th>1</th>\n",
       "      <td>ORIGIN_AIRPORT_ID</td>\n",
       "      <td>0.000006</td>\n",
       "    </tr>\n",
       "    <tr>\n",
       "      <th>2</th>\n",
       "      <td>DEST_AIRPORT_ID</td>\n",
       "      <td>-0.000002</td>\n",
       "    </tr>\n",
       "    <tr>\n",
       "      <th>3</th>\n",
       "      <td>DEP_TIME</td>\n",
       "      <td>-0.000027</td>\n",
       "    </tr>\n",
       "    <tr>\n",
       "      <th>4</th>\n",
       "      <td>DEP_DELAY</td>\n",
       "      <td>0.809886</td>\n",
       "    </tr>\n",
       "    <tr>\n",
       "      <th>5</th>\n",
       "      <td>TAXI_OUT</td>\n",
       "      <td>0.001713</td>\n",
       "    </tr>\n",
       "    <tr>\n",
       "      <th>6</th>\n",
       "      <td>CRS_ARR_TIME</td>\n",
       "      <td>-0.000010</td>\n",
       "    </tr>\n",
       "    <tr>\n",
       "      <th>7</th>\n",
       "      <td>ARR_TIME</td>\n",
       "      <td>-0.000004</td>\n",
       "    </tr>\n",
       "    <tr>\n",
       "      <th>8</th>\n",
       "      <td>CRS_ELAPSED_TIME</td>\n",
       "      <td>-0.798106</td>\n",
       "    </tr>\n",
       "    <tr>\n",
       "      <th>9</th>\n",
       "      <td>ACTUAL_ELAPSED_TIME</td>\n",
       "      <td>0.803260</td>\n",
       "    </tr>\n",
       "    <tr>\n",
       "      <th>10</th>\n",
       "      <td>DISTANCE</td>\n",
       "      <td>-0.000645</td>\n",
       "    </tr>\n",
       "    <tr>\n",
       "      <th>11</th>\n",
       "      <td>CARRIER_DELAY</td>\n",
       "      <td>0.189655</td>\n",
       "    </tr>\n",
       "    <tr>\n",
       "      <th>12</th>\n",
       "      <td>WEATHER_DELAY</td>\n",
       "      <td>0.189506</td>\n",
       "    </tr>\n",
       "    <tr>\n",
       "      <th>13</th>\n",
       "      <td>NAS_DELAY</td>\n",
       "      <td>0.190304</td>\n",
       "    </tr>\n",
       "    <tr>\n",
       "      <th>14</th>\n",
       "      <td>SECURITY_DELAY</td>\n",
       "      <td>0.133324</td>\n",
       "    </tr>\n",
       "    <tr>\n",
       "      <th>15</th>\n",
       "      <td>LATE_AIRCRAFT_DELAY</td>\n",
       "      <td>0.189372</td>\n",
       "    </tr>\n",
       "  </tbody>\n",
       "</table>\n",
       "</div>"
      ],
      "text/plain": [
       "               features  coefficients\n",
       "0     OP_CARRIER_FL_NUM     -0.000003\n",
       "1     ORIGIN_AIRPORT_ID      0.000006\n",
       "2       DEST_AIRPORT_ID     -0.000002\n",
       "3              DEP_TIME     -0.000027\n",
       "4             DEP_DELAY      0.809886\n",
       "5              TAXI_OUT      0.001713\n",
       "6          CRS_ARR_TIME     -0.000010\n",
       "7              ARR_TIME     -0.000004\n",
       "8      CRS_ELAPSED_TIME     -0.798106\n",
       "9   ACTUAL_ELAPSED_TIME      0.803260\n",
       "10             DISTANCE     -0.000645\n",
       "11        CARRIER_DELAY      0.189655\n",
       "12        WEATHER_DELAY      0.189506\n",
       "13            NAS_DELAY      0.190304\n",
       "14       SECURITY_DELAY      0.133324\n",
       "15  LATE_AIRCRAFT_DELAY      0.189372"
      ]
     },
     "execution_count": 17,
     "metadata": {},
     "output_type": "execute_result"
    }
   ],
   "source": [
    "lasso_features = pd.DataFrame()\n",
    "lasso_features['features'] = X_train.columns[lasso.coef_ != 0]\n",
    "lasso_features['coefficients'] = lasso.coef_[lasso.coef_ != 0]\n",
    "lasso_features"
   ]
  },
  {
   "cell_type": "markdown",
   "metadata": {},
   "source": [
    "As was estimated with the correlation matrix, the most valuable feature is DEP_DELAY - the initial estimate of how delayed a flight will be departing from the origin airport. Let's see how the same model performs without this feature."
   ]
  },
  {
   "cell_type": "code",
   "execution_count": 18,
   "metadata": {},
   "outputs": [
    {
     "data": {
      "image/png": "[encoded data removed]",
      "text/plain": [
       "<Figure size 432x288 with 1 Axes>"
      ]
     },
     "metadata": {
      "needs_background": "light"
     },
     "output_type": "display_data"
    },
    {
     "name": "stdout",
     "output_type": "stream",
     "text": [
      "\n",
      "R-squared: \n",
      " 0.9999937459537355\n"
     ]
    }
   ],
   "source": [
    "lasso = Lasso()\n",
    "lasso.fit(X_train.drop('DEP_DELAY', 1), y_train)\n",
    "\n",
    "pred = lasso.predict(X_test.drop('DEP_DELAY', 1))\n",
    "plt.scatter(pred, y_test)\n",
    "plt.show()\n",
    "print('\\nR-squared: \\n', lasso.score(X_test.drop('DEP_DELAY', 1), y_test))"
   ]
  },
  {
   "cell_type": "code",
   "execution_count": 19,
   "metadata": {},
   "outputs": [
    {
     "data": {
      "text/html": [
       "<div>\n",
       "<style scoped>\n",
       "    .dataframe tbody tr th:only-of-type {\n",
       "        vertical-align: middle;\n",
       "    }\n",
       "\n",
       "    .dataframe tbody tr th {\n",
       "        vertical-align: top;\n",
       "    }\n",
       "\n",
       "    .dataframe thead th {\n",
       "        text-align: right;\n",
       "    }\n",
       "</style>\n",
       "<table border=\"1\" class=\"dataframe\">\n",
       "  <thead>\n",
       "    <tr style=\"text-align: right;\">\n",
       "      <th></th>\n",
       "      <th>features</th>\n",
       "      <th>coefficients</th>\n",
       "    </tr>\n",
       "  </thead>\n",
       "  <tbody>\n",
       "    <tr>\n",
       "      <th>0</th>\n",
       "      <td>OP_CARRIER_FL_NUM</td>\n",
       "      <td>6.344522e-07</td>\n",
       "    </tr>\n",
       "    <tr>\n",
       "      <th>1</th>\n",
       "      <td>ORIGIN_AIRPORT_ID</td>\n",
       "      <td>8.402649e-07</td>\n",
       "    </tr>\n",
       "    <tr>\n",
       "      <th>2</th>\n",
       "      <td>DEST_AIRPORT_ID</td>\n",
       "      <td>9.820716e-08</td>\n",
       "    </tr>\n",
       "    <tr>\n",
       "      <th>3</th>\n",
       "      <td>CRS_DEP_TIME</td>\n",
       "      <td>-4.312098e-06</td>\n",
       "    </tr>\n",
       "    <tr>\n",
       "      <th>4</th>\n",
       "      <td>CRS_ARR_TIME</td>\n",
       "      <td>-3.462405e-06</td>\n",
       "    </tr>\n",
       "    <tr>\n",
       "      <th>5</th>\n",
       "      <td>ARR_TIME</td>\n",
       "      <td>-5.026255e-07</td>\n",
       "    </tr>\n",
       "    <tr>\n",
       "      <th>6</th>\n",
       "      <td>CARRIER_DELAY</td>\n",
       "      <td>9.997047e-01</td>\n",
       "    </tr>\n",
       "    <tr>\n",
       "      <th>7</th>\n",
       "      <td>WEATHER_DELAY</td>\n",
       "      <td>9.993846e-01</td>\n",
       "    </tr>\n",
       "    <tr>\n",
       "      <th>8</th>\n",
       "      <td>NAS_DELAY</td>\n",
       "      <td>9.991483e-01</td>\n",
       "    </tr>\n",
       "    <tr>\n",
       "      <th>9</th>\n",
       "      <td>SECURITY_DELAY</td>\n",
       "      <td>9.434114e-01</td>\n",
       "    </tr>\n",
       "    <tr>\n",
       "      <th>10</th>\n",
       "      <td>LATE_AIRCRAFT_DELAY</td>\n",
       "      <td>9.995045e-01</td>\n",
       "    </tr>\n",
       "  </tbody>\n",
       "</table>\n",
       "</div>"
      ],
      "text/plain": [
       "               features  coefficients\n",
       "0     OP_CARRIER_FL_NUM  6.344522e-07\n",
       "1     ORIGIN_AIRPORT_ID  8.402649e-07\n",
       "2       DEST_AIRPORT_ID  9.820716e-08\n",
       "3          CRS_DEP_TIME -4.312098e-06\n",
       "4          CRS_ARR_TIME -3.462405e-06\n",
       "5              ARR_TIME -5.026255e-07\n",
       "6         CARRIER_DELAY  9.997047e-01\n",
       "7         WEATHER_DELAY  9.993846e-01\n",
       "8             NAS_DELAY  9.991483e-01\n",
       "9        SECURITY_DELAY  9.434114e-01\n",
       "10  LATE_AIRCRAFT_DELAY  9.995045e-01"
      ]
     },
     "execution_count": 19,
     "metadata": {},
     "output_type": "execute_result"
    }
   ],
   "source": [
    "lasso_features_2 = pd.DataFrame()\n",
    "lasso_features_2['features'] = X_train.drop('DEP_DELAY', 1).columns[lasso.coef_ != 0]\n",
    "lasso_features_2['coefficients'] = lasso.coef_[lasso.coef_ != 0]\n",
    "lasso_features_2"
   ]
  },
  {
   "cell_type": "markdown",
   "metadata": {},
   "source": [
    "Interestingly, the amount of variance explained increases when removing the formerly most valuable feature. The reasoning for this is that now the lasso regression formula simply sets the coefficients of the types of delays to essentially **1** which means simple addition of these types of delays to calculate the total delay time. It is interesting that it didn't do this earlier though. Let's see how the model performs when these are stripped as well."
   ]
  },
  {
   "cell_type": "code",
   "execution_count": 20,
   "metadata": {},
   "outputs": [
    {
     "data": {
      "text/plain": [
       "['CRS_DEP_TIME',\n",
       " 'CRS_ARR_TIME',\n",
       " 'ARR_TIME',\n",
       " 'CARRIER_DELAY',\n",
       " 'WEATHER_DELAY',\n",
       " 'NAS_DELAY',\n",
       " 'SECURITY_DELAY',\n",
       " 'LATE_AIRCRAFT_DELAY',\n",
       " 'DEP_DELAY']"
      ]
     },
     "execution_count": 20,
     "metadata": {},
     "output_type": "execute_result"
    }
   ],
   "source": [
    "features_removed = list(lasso_features_2.features[3:])\n",
    "features_removed.append('DEP_DELAY')\n",
    "\n",
    "features_removed"
   ]
  },
  {
   "cell_type": "code",
   "execution_count": 21,
   "metadata": {},
   "outputs": [
    {
     "data": {
      "image/png": "[encoded data removed]",
      "text/plain": [
       "<Figure size 432x288 with 1 Axes>"
      ]
     },
     "metadata": {
      "needs_background": "light"
     },
     "output_type": "display_data"
    },
    {
     "name": "stdout",
     "output_type": "stream",
     "text": [
      "\n",
      "R-squared: \n",
      " 0.023654822240587344\n"
     ]
    }
   ],
   "source": [
    "lasso = Lasso()\n",
    "lasso.fit(X_train.drop(features_removed, 1), y_train)\n",
    "\n",
    "pred = lasso.predict(X_test.drop(features_removed, 1))\n",
    "plt.scatter(pred, y_test)\n",
    "plt.show()\n",
    "print('\\nR-squared: \\n', lasso.score(X_test.drop(features_removed, 1), y_test))"
   ]
  },
  {
   "cell_type": "code",
   "execution_count": 22,
   "metadata": {},
   "outputs": [
    {
     "data": {
      "text/html": [
       "<div>\n",
       "<style scoped>\n",
       "    .dataframe tbody tr th:only-of-type {\n",
       "        vertical-align: middle;\n",
       "    }\n",
       "\n",
       "    .dataframe tbody tr th {\n",
       "        vertical-align: top;\n",
       "    }\n",
       "\n",
       "    .dataframe thead th {\n",
       "        text-align: right;\n",
       "    }\n",
       "</style>\n",
       "<table border=\"1\" class=\"dataframe\">\n",
       "  <thead>\n",
       "    <tr style=\"text-align: right;\">\n",
       "      <th></th>\n",
       "      <th>features</th>\n",
       "      <th>coefficients</th>\n",
       "    </tr>\n",
       "  </thead>\n",
       "  <tbody>\n",
       "    <tr>\n",
       "      <th>0</th>\n",
       "      <td>OP_CARRIER_FL_NUM</td>\n",
       "      <td>0.000979</td>\n",
       "    </tr>\n",
       "    <tr>\n",
       "      <th>1</th>\n",
       "      <td>ORIGIN_AIRPORT_ID</td>\n",
       "      <td>-0.001010</td>\n",
       "    </tr>\n",
       "    <tr>\n",
       "      <th>2</th>\n",
       "      <td>DEST_AIRPORT_ID</td>\n",
       "      <td>-0.002708</td>\n",
       "    </tr>\n",
       "    <tr>\n",
       "      <th>3</th>\n",
       "      <td>DEP_TIME</td>\n",
       "      <td>-0.004327</td>\n",
       "    </tr>\n",
       "    <tr>\n",
       "      <th>4</th>\n",
       "      <td>TAXI_OUT</td>\n",
       "      <td>0.369948</td>\n",
       "    </tr>\n",
       "    <tr>\n",
       "      <th>5</th>\n",
       "      <td>TAXI_IN</td>\n",
       "      <td>0.567121</td>\n",
       "    </tr>\n",
       "    <tr>\n",
       "      <th>6</th>\n",
       "      <td>CRS_ELAPSED_TIME</td>\n",
       "      <td>0.555966</td>\n",
       "    </tr>\n",
       "    <tr>\n",
       "      <th>7</th>\n",
       "      <td>ACTUAL_ELAPSED_TIME</td>\n",
       "      <td>-0.417549</td>\n",
       "    </tr>\n",
       "    <tr>\n",
       "      <th>8</th>\n",
       "      <td>AIR_TIME</td>\n",
       "      <td>-0.190647</td>\n",
       "    </tr>\n",
       "    <tr>\n",
       "      <th>9</th>\n",
       "      <td>DISTANCE</td>\n",
       "      <td>0.005848</td>\n",
       "    </tr>\n",
       "    <tr>\n",
       "      <th>10</th>\n",
       "      <td>day_17</td>\n",
       "      <td>5.883823</td>\n",
       "    </tr>\n",
       "    <tr>\n",
       "      <th>11</th>\n",
       "      <td>thur</td>\n",
       "      <td>4.017204</td>\n",
       "    </tr>\n",
       "    <tr>\n",
       "      <th>12</th>\n",
       "      <td>carrier_DL</td>\n",
       "      <td>0.072184</td>\n",
       "    </tr>\n",
       "    <tr>\n",
       "      <th>13</th>\n",
       "      <td>carrier_OO</td>\n",
       "      <td>9.280425</td>\n",
       "    </tr>\n",
       "    <tr>\n",
       "      <th>14</th>\n",
       "      <td>carrier_WN</td>\n",
       "      <td>-14.613487</td>\n",
       "    </tr>\n",
       "  </tbody>\n",
       "</table>\n",
       "</div>"
      ],
      "text/plain": [
       "               features  coefficients\n",
       "0     OP_CARRIER_FL_NUM      0.000979\n",
       "1     ORIGIN_AIRPORT_ID     -0.001010\n",
       "2       DEST_AIRPORT_ID     -0.002708\n",
       "3              DEP_TIME     -0.004327\n",
       "4              TAXI_OUT      0.369948\n",
       "5               TAXI_IN      0.567121\n",
       "6      CRS_ELAPSED_TIME      0.555966\n",
       "7   ACTUAL_ELAPSED_TIME     -0.417549\n",
       "8              AIR_TIME     -0.190647\n",
       "9              DISTANCE      0.005848\n",
       "10               day_17      5.883823\n",
       "11                 thur      4.017204\n",
       "12           carrier_DL      0.072184\n",
       "13           carrier_OO      9.280425\n",
       "14           carrier_WN    -14.613487"
      ]
     },
     "execution_count": 22,
     "metadata": {},
     "output_type": "execute_result"
    }
   ],
   "source": [
    "lasso_features_3 = pd.DataFrame()\n",
    "lasso_features_3['features'] = X_train.drop(features_removed, 1).columns[lasso.coef_ != 0]\n",
    "lasso_features_3['coefficients'] = lasso.coef_[lasso.coef_ != 0]\n",
    "lasso_features_3"
   ]
  },
  {
   "cell_type": "markdown",
   "metadata": {},
   "source": [
    "That is wonderful. After removing the staple features of the model, the model is reduced to making a dookie."
   ]
  }
 ],
 "metadata": {
  "kernelspec": {
   "display_name": "Python 3",
   "language": "python",
   "name": "python3"
  },
  "language_info": {
   "codemirror_mode": {
    "name": "ipython",
    "version": 3
   },
   "file_extension": ".py",
   "mimetype": "text/x-python",
   "name": "python",
   "nbconvert_exporter": "python",
   "pygments_lexer": "ipython3",
   "version": "3.7.3"
  }
 },
 "nbformat": 4,
 "nbformat_minor": 2
}
