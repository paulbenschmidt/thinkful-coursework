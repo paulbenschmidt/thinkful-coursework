{
 "cells": [
  {
   "cell_type": "code",
   "execution_count": 235,
   "metadata": {
    "run_control": {
     "frozen": false,
     "read_only": false
    }
   },
   "outputs": [],
   "source": [
    "import pandas as pd\n",
    "import numpy as np\n",
    "import scipy\n",
    "import matplotlib.pyplot as plt\n",
    "%matplotlib inline\n",
    "import seaborn as sns\n",
    "\n",
    "from sklearn import ensemble\n",
    "from sklearn import datasets\n",
    "from sklearn.utils import shuffle\n",
    "from sklearn.metrics import mean_squared_error"
   ]
  },
  {
   "cell_type": "markdown",
   "metadata": {},
   "source": [
    "### Gradient boost guided example\n",
    "\n",
    "Having walked through gradient boost by hand, now let's try it with SKlearn.  We'll still use the European Social Survey Data, but now with a categorical outcome: Whether or not someone lives with a partner."
   ]
  },
  {
   "cell_type": "code",
   "execution_count": 236,
   "metadata": {},
   "outputs": [],
   "source": [
    "df = pd.read_csv((\n",
    "    \"https://raw.githubusercontent.com/Thinkful-Ed/data-201-resources/\"\n",
    "    \"master/ESS_practice_data/ESSdata_Thinkful.csv\")).dropna()\n",
    "\n",
    "# Definine outcome and predictors.\n",
    "# Set our outcome to 0 and 1.\n",
    "y = df['partner'] - 1\n",
    "X = df.loc[:, ~df.columns.isin(['partner', 'cntry', 'idno'])]\n",
    "\n",
    "# Make the categorical variable 'country' into dummies.\n",
    "X = pd.concat([X, pd.get_dummies(df['cntry'])], axis=1)\n",
    "\n",
    "# Create training and test sets.\n",
    "offset = int(X.shape[0] * 0.9)\n",
    "\n",
    "# Put 90% of the data in the training set.\n",
    "X_train, y_train = X[:offset], y[:offset]\n",
    "\n",
    "# And put 10% in the test set.\n",
    "X_test, y_test = X[offset:], y[offset:]"
   ]
  },
  {
   "cell_type": "markdown",
   "metadata": {},
   "source": [
    "Since we're now working with a binary outcome, we've switched to a classifier.  Now our loss function can't be the residuals.  Our options are \"deviance\", or \"exponential\".  Deviance is used for logistic regression, and we'll try that here."
   ]
  },
  {
   "cell_type": "code",
   "execution_count": 237,
   "metadata": {},
   "outputs": [
    {
     "name": "stdout",
     "output_type": "stream",
     "text": [
      "Training set accuracy:\n",
      "Percent Type I errors: 0.04650845608292417\n",
      "Percent Type II errors: 0.17607746863066012\n",
      "\n",
      "Test set accuracy:\n",
      "Percent Type I errors: 0.06257668711656442\n",
      "Percent Type II errors: 0.18527607361963191\n"
     ]
    }
   ],
   "source": [
    "# We'll make 500 iterations, use 2-deep trees, and set our loss function.\n",
    "params = {'n_estimators': 500,\n",
    "          'max_depth': 2,\n",
    "          'loss': 'deviance'}\n",
    "\n",
    "# Initialize and fit the model.\n",
    "clf = ensemble.GradientBoostingClassifier(**params)\n",
    "clf.fit(X_train, y_train)\n",
    "\n",
    "predict_train = clf.predict(X_train)\n",
    "predict_test = clf.predict(X_test)\n",
    "\n",
    "# Accuracy tables.\n",
    "table_train = pd.crosstab(y_train, predict_train, margins=True)\n",
    "table_test = pd.crosstab(y_test, predict_test, margins=True)\n",
    "\n",
    "train_tI_errors = table_train.loc[0.0,1.0] / table_train.loc['All','All']\n",
    "train_tII_errors = table_train.loc[1.0,0.0] / table_train.loc['All','All']\n",
    "\n",
    "test_tI_errors = table_test.loc[0.0,1.0]/table_test.loc['All','All']\n",
    "test_tII_errors = table_test.loc[1.0,0.0]/table_test.loc['All','All']\n",
    "\n",
    "print((\n",
    "    'Training set accuracy:\\n'\n",
    "    'Percent Type I errors: {}\\n'\n",
    "    'Percent Type II errors: {}\\n\\n'\n",
    "    'Test set accuracy:\\n'\n",
    "    'Percent Type I errors: {}\\n'\n",
    "    'Percent Type II errors: {}'\n",
    ").format(train_tI_errors, train_tII_errors, test_tI_errors, test_tII_errors))\n"
   ]
  },
  {
   "cell_type": "code",
   "execution_count": 238,
   "metadata": {},
   "outputs": [
    {
     "name": "stdout",
     "output_type": "stream",
     "text": [
      "[0.7622549  0.7120098  0.71691176 0.72760736 0.77272727 0.76904177\n",
      " 0.72727273 0.74447174 0.76412776 0.74692875]\n",
      "0.744335385712145\n"
     ]
    }
   ],
   "source": [
    "scores = cross_val_score(clf, X, y, cv=10)\n",
    "print(scores)\n",
    "print(scores.mean())"
   ]
  },
  {
   "cell_type": "markdown",
   "metadata": {},
   "source": [
    "Unlike decision trees, gradient boost solutions are not terribly easy to interpret on the surface.  But they aren't quite a black box.  We can get a measure of how important various features are by counting how many times a feature is used over the course of many decision trees."
   ]
  },
  {
   "cell_type": "code",
   "execution_count": 239,
   "metadata": {},
   "outputs": [
    {
     "data": {
      "image/png": "[encoded data removed]",
      "text/plain": [
       "<Figure size 432x288 with 1 Axes>"
      ]
     },
     "metadata": {
      "needs_background": "light"
     },
     "output_type": "display_data"
    }
   ],
   "source": [
    "feature_importance = clf.feature_importances_\n",
    "\n",
    "# Make importances relative to max importance.\n",
    "feature_importance = 100.0 * (feature_importance / feature_importance.max())\n",
    "sorted_idx = np.argsort(feature_importance)\n",
    "pos = np.arange(sorted_idx.shape[0]) + .5\n",
    "plt.subplot(1, 2, 2)\n",
    "plt.barh(pos, feature_importance[sorted_idx], align='center')\n",
    "plt.yticks(pos, X.columns[sorted_idx])\n",
    "plt.xlabel('Relative Importance')\n",
    "plt.title('Variable Importance')\n",
    "plt.show()"
   ]
  },
  {
   "cell_type": "markdown",
   "metadata": {},
   "source": [
    "It appears that age and happiness are the most important features in predicting whether or not someone lives with a partner."
   ]
  },
  {
   "cell_type": "markdown",
   "metadata": {
    "collapsed": true
   },
   "source": [
    "### DRILL: Improve this gradient boost model\n",
    "\n",
    "While this model is already doing alright, we've seen from the Type I and Type II error rates that there is definitely room for improvement.  Your task is to see how low you can get the error rates to go in the test set, based on your model in the training set.  Strategies you might use include:\n",
    "\n",
    "* Creating new features\n",
    "* Applying more overfitting-prevention strategies like subsampling\n",
    "* More iterations\n",
    "* Trying a different loss function\n",
    "* Changing the structure of the weak learner: Allowing more leaves in the tree, or other modifications\n",
    "\n",
    "Have fun!"
   ]
  },
  {
   "cell_type": "code",
   "execution_count": 240,
   "metadata": {
    "scrolled": true
   },
   "outputs": [
    {
     "data": {
      "text/html": [
       "<div>\n",
       "<style scoped>\n",
       "    .dataframe tbody tr th:only-of-type {\n",
       "        vertical-align: middle;\n",
       "    }\n",
       "\n",
       "    .dataframe tbody tr th {\n",
       "        vertical-align: top;\n",
       "    }\n",
       "\n",
       "    .dataframe thead th {\n",
       "        text-align: right;\n",
       "    }\n",
       "</style>\n",
       "<table border=\"1\" class=\"dataframe\">\n",
       "  <thead>\n",
       "    <tr style=\"text-align: right;\">\n",
       "      <th></th>\n",
       "      <th>cntry</th>\n",
       "      <th>idno</th>\n",
       "      <th>year</th>\n",
       "      <th>tvtot</th>\n",
       "      <th>ppltrst</th>\n",
       "      <th>pplfair</th>\n",
       "      <th>pplhlp</th>\n",
       "      <th>happy</th>\n",
       "      <th>sclmeet</th>\n",
       "      <th>sclact</th>\n",
       "      <th>gndr</th>\n",
       "      <th>agea</th>\n",
       "      <th>partner</th>\n",
       "    </tr>\n",
       "  </thead>\n",
       "  <tbody>\n",
       "    <tr>\n",
       "      <th>0</th>\n",
       "      <td>CH</td>\n",
       "      <td>5.0</td>\n",
       "      <td>6</td>\n",
       "      <td>3.0</td>\n",
       "      <td>3.0</td>\n",
       "      <td>10.0</td>\n",
       "      <td>5.0</td>\n",
       "      <td>8.0</td>\n",
       "      <td>5.0</td>\n",
       "      <td>4.0</td>\n",
       "      <td>2.0</td>\n",
       "      <td>60.0</td>\n",
       "      <td>1.0</td>\n",
       "    </tr>\n",
       "    <tr>\n",
       "      <th>1</th>\n",
       "      <td>CH</td>\n",
       "      <td>25.0</td>\n",
       "      <td>6</td>\n",
       "      <td>6.0</td>\n",
       "      <td>5.0</td>\n",
       "      <td>7.0</td>\n",
       "      <td>5.0</td>\n",
       "      <td>9.0</td>\n",
       "      <td>3.0</td>\n",
       "      <td>2.0</td>\n",
       "      <td>2.0</td>\n",
       "      <td>59.0</td>\n",
       "      <td>1.0</td>\n",
       "    </tr>\n",
       "    <tr>\n",
       "      <th>2</th>\n",
       "      <td>CH</td>\n",
       "      <td>26.0</td>\n",
       "      <td>6</td>\n",
       "      <td>1.0</td>\n",
       "      <td>8.0</td>\n",
       "      <td>8.0</td>\n",
       "      <td>8.0</td>\n",
       "      <td>7.0</td>\n",
       "      <td>6.0</td>\n",
       "      <td>3.0</td>\n",
       "      <td>1.0</td>\n",
       "      <td>24.0</td>\n",
       "      <td>2.0</td>\n",
       "    </tr>\n",
       "    <tr>\n",
       "      <th>3</th>\n",
       "      <td>CH</td>\n",
       "      <td>28.0</td>\n",
       "      <td>6</td>\n",
       "      <td>4.0</td>\n",
       "      <td>6.0</td>\n",
       "      <td>6.0</td>\n",
       "      <td>7.0</td>\n",
       "      <td>10.0</td>\n",
       "      <td>6.0</td>\n",
       "      <td>2.0</td>\n",
       "      <td>2.0</td>\n",
       "      <td>64.0</td>\n",
       "      <td>1.0</td>\n",
       "    </tr>\n",
       "    <tr>\n",
       "      <th>4</th>\n",
       "      <td>CH</td>\n",
       "      <td>29.0</td>\n",
       "      <td>6</td>\n",
       "      <td>5.0</td>\n",
       "      <td>6.0</td>\n",
       "      <td>7.0</td>\n",
       "      <td>5.0</td>\n",
       "      <td>8.0</td>\n",
       "      <td>7.0</td>\n",
       "      <td>2.0</td>\n",
       "      <td>2.0</td>\n",
       "      <td>55.0</td>\n",
       "      <td>1.0</td>\n",
       "    </tr>\n",
       "  </tbody>\n",
       "</table>\n",
       "</div>"
      ],
      "text/plain": [
       "  cntry  idno  year  tvtot  ppltrst  pplfair  pplhlp  happy  sclmeet  sclact  \\\n",
       "0    CH   5.0     6    3.0      3.0     10.0     5.0    8.0      5.0     4.0   \n",
       "1    CH  25.0     6    6.0      5.0      7.0     5.0    9.0      3.0     2.0   \n",
       "2    CH  26.0     6    1.0      8.0      8.0     8.0    7.0      6.0     3.0   \n",
       "3    CH  28.0     6    4.0      6.0      6.0     7.0   10.0      6.0     2.0   \n",
       "4    CH  29.0     6    5.0      6.0      7.0     5.0    8.0      7.0     2.0   \n",
       "\n",
       "   gndr  agea  partner  \n",
       "0   2.0  60.0      1.0  \n",
       "1   2.0  59.0      1.0  \n",
       "2   1.0  24.0      2.0  \n",
       "3   2.0  64.0      1.0  \n",
       "4   2.0  55.0      1.0  "
      ]
     },
     "execution_count": 240,
     "metadata": {},
     "output_type": "execute_result"
    }
   ],
   "source": [
    "# For easy loading...\n",
    "df = pd.read_csv((\n",
    "    \"https://raw.githubusercontent.com/Thinkful-Ed/data-201-resources/\"\n",
    "    \"master/ESS_practice_data/ESSdata_Thinkful.csv\")).dropna()\n",
    "df.head()"
   ]
  },
  {
   "cell_type": "markdown",
   "metadata": {},
   "source": [
    "#### Step 1 of 5: Creating New Features"
   ]
  },
  {
   "cell_type": "code",
   "execution_count": 241,
   "metadata": {
    "scrolled": true
   },
   "outputs": [
    {
     "data": {
      "text/plain": [
       "cntry         6\n",
       "idno       3076\n",
       "year          2\n",
       "tvtot         8\n",
       "ppltrst      11\n",
       "pplfair      11\n",
       "pplhlp       11\n",
       "happy        11\n",
       "sclmeet       7\n",
       "sclact        5\n",
       "gndr          2\n",
       "agea         83\n",
       "partner       2\n",
       "dtype: int64"
      ]
     },
     "execution_count": 241,
     "metadata": {},
     "output_type": "execute_result"
    }
   ],
   "source": [
    "df.nunique()"
   ]
  },
  {
   "cell_type": "markdown",
   "metadata": {},
   "source": [
    "Observing the above, the year and gender are categorical variable. Therefore, we should make these features into dummies so that they aren't treated with incremental value."
   ]
  },
  {
   "cell_type": "code",
   "execution_count": 242,
   "metadata": {},
   "outputs": [
    {
     "data": {
      "text/html": [
       "<div>\n",
       "<style scoped>\n",
       "    .dataframe tbody tr th:only-of-type {\n",
       "        vertical-align: middle;\n",
       "    }\n",
       "\n",
       "    .dataframe tbody tr th {\n",
       "        vertical-align: top;\n",
       "    }\n",
       "\n",
       "    .dataframe thead th {\n",
       "        text-align: right;\n",
       "    }\n",
       "</style>\n",
       "<table border=\"1\" class=\"dataframe\">\n",
       "  <thead>\n",
       "    <tr style=\"text-align: right;\">\n",
       "      <th></th>\n",
       "      <th>tvtot</th>\n",
       "      <th>ppltrst</th>\n",
       "      <th>pplfair</th>\n",
       "      <th>pplhlp</th>\n",
       "      <th>happy</th>\n",
       "      <th>sclmeet</th>\n",
       "      <th>sclact</th>\n",
       "      <th>agea</th>\n",
       "      <th>cntry_CH</th>\n",
       "      <th>cntry_CZ</th>\n",
       "      <th>cntry_DE</th>\n",
       "      <th>cntry_ES</th>\n",
       "      <th>cntry_NO</th>\n",
       "      <th>cntry_SE</th>\n",
       "      <th>male</th>\n",
       "      <th>second_year</th>\n",
       "    </tr>\n",
       "  </thead>\n",
       "  <tbody>\n",
       "    <tr>\n",
       "      <th>0</th>\n",
       "      <td>3.0</td>\n",
       "      <td>3.0</td>\n",
       "      <td>10.0</td>\n",
       "      <td>5.0</td>\n",
       "      <td>8.0</td>\n",
       "      <td>5.0</td>\n",
       "      <td>4.0</td>\n",
       "      <td>60.0</td>\n",
       "      <td>1</td>\n",
       "      <td>0</td>\n",
       "      <td>0</td>\n",
       "      <td>0</td>\n",
       "      <td>0</td>\n",
       "      <td>0</td>\n",
       "      <td>1</td>\n",
       "      <td>0</td>\n",
       "    </tr>\n",
       "    <tr>\n",
       "      <th>1</th>\n",
       "      <td>6.0</td>\n",
       "      <td>5.0</td>\n",
       "      <td>7.0</td>\n",
       "      <td>5.0</td>\n",
       "      <td>9.0</td>\n",
       "      <td>3.0</td>\n",
       "      <td>2.0</td>\n",
       "      <td>59.0</td>\n",
       "      <td>1</td>\n",
       "      <td>0</td>\n",
       "      <td>0</td>\n",
       "      <td>0</td>\n",
       "      <td>0</td>\n",
       "      <td>0</td>\n",
       "      <td>1</td>\n",
       "      <td>0</td>\n",
       "    </tr>\n",
       "    <tr>\n",
       "      <th>2</th>\n",
       "      <td>1.0</td>\n",
       "      <td>8.0</td>\n",
       "      <td>8.0</td>\n",
       "      <td>8.0</td>\n",
       "      <td>7.0</td>\n",
       "      <td>6.0</td>\n",
       "      <td>3.0</td>\n",
       "      <td>24.0</td>\n",
       "      <td>1</td>\n",
       "      <td>0</td>\n",
       "      <td>0</td>\n",
       "      <td>0</td>\n",
       "      <td>0</td>\n",
       "      <td>0</td>\n",
       "      <td>0</td>\n",
       "      <td>0</td>\n",
       "    </tr>\n",
       "    <tr>\n",
       "      <th>3</th>\n",
       "      <td>4.0</td>\n",
       "      <td>6.0</td>\n",
       "      <td>6.0</td>\n",
       "      <td>7.0</td>\n",
       "      <td>10.0</td>\n",
       "      <td>6.0</td>\n",
       "      <td>2.0</td>\n",
       "      <td>64.0</td>\n",
       "      <td>1</td>\n",
       "      <td>0</td>\n",
       "      <td>0</td>\n",
       "      <td>0</td>\n",
       "      <td>0</td>\n",
       "      <td>0</td>\n",
       "      <td>1</td>\n",
       "      <td>0</td>\n",
       "    </tr>\n",
       "    <tr>\n",
       "      <th>4</th>\n",
       "      <td>5.0</td>\n",
       "      <td>6.0</td>\n",
       "      <td>7.0</td>\n",
       "      <td>5.0</td>\n",
       "      <td>8.0</td>\n",
       "      <td>7.0</td>\n",
       "      <td>2.0</td>\n",
       "      <td>55.0</td>\n",
       "      <td>1</td>\n",
       "      <td>0</td>\n",
       "      <td>0</td>\n",
       "      <td>0</td>\n",
       "      <td>0</td>\n",
       "      <td>0</td>\n",
       "      <td>1</td>\n",
       "      <td>0</td>\n",
       "    </tr>\n",
       "  </tbody>\n",
       "</table>\n",
       "</div>"
      ],
      "text/plain": [
       "   tvtot  ppltrst  pplfair  pplhlp  happy  sclmeet  sclact  agea  cntry_CH  \\\n",
       "0    3.0      3.0     10.0     5.0    8.0      5.0     4.0  60.0         1   \n",
       "1    6.0      5.0      7.0     5.0    9.0      3.0     2.0  59.0         1   \n",
       "2    1.0      8.0      8.0     8.0    7.0      6.0     3.0  24.0         1   \n",
       "3    4.0      6.0      6.0     7.0   10.0      6.0     2.0  64.0         1   \n",
       "4    5.0      6.0      7.0     5.0    8.0      7.0     2.0  55.0         1   \n",
       "\n",
       "   cntry_CZ  cntry_DE  cntry_ES  cntry_NO  cntry_SE  male  second_year  \n",
       "0         0         0         0         0         0     1            0  \n",
       "1         0         0         0         0         0     1            0  \n",
       "2         0         0         0         0         0     0            0  \n",
       "3         0         0         0         0         0     1            0  \n",
       "4         0         0         0         0         0     1            0  "
      ]
     },
     "execution_count": 242,
     "metadata": {},
     "output_type": "execute_result"
    }
   ],
   "source": [
    "y = df['partner'] - 1\n",
    "X = df.loc[:, ~df.columns.isin(['partner', 'cntry', 'idno','year','gndr'])]\n",
    "\n",
    "# Make the categorical variable 'country' into dummies as well as 'year' and 'gndr' into binary categoricals\n",
    "X = pd.concat([X, pd.get_dummies(df[['cntry']])], axis=1)\n",
    "X['male'] = np.where(df[\"gndr\"] == 2, 1, 0)\n",
    "X['second_year'] = np.where(df[\"year\"] == 7, 1, 0)\n",
    "X.head()"
   ]
  },
  {
   "cell_type": "markdown",
   "metadata": {},
   "source": [
    "Observing the correlation below, the second highest (and highest *positive*) one-to-one variable correlation with the partner-target variable is with 'sclmeet', their level of social interaction. Let's dig a little further."
   ]
  },
  {
   "cell_type": "code",
   "execution_count": 244,
   "metadata": {},
   "outputs": [],
   "source": [
    "# Observing correlation effect, squaring this feature increases the correlation percentage by over 1 percent. \n",
    "X['sclmeet_squared'] = X.sclmeet ** 2"
   ]
  },
  {
   "cell_type": "code",
   "execution_count": 245,
   "metadata": {},
   "outputs": [
    {
     "data": {
      "image/png": "[encoded data removed]",
      "text/plain": [
       "<Figure size 1440x360 with 1 Axes>"
      ]
     },
     "metadata": {
      "needs_background": "light"
     },
     "output_type": "display_data"
    }
   ],
   "source": [
    "# Observing age affect on target\n",
    "X['target'] = y\n",
    "\n",
    "plt.figure(figsize=(20,5))\n",
    "sns.countplot(x='agea', hue='target', data=X)\n",
    "plt.show()\n",
    "\n",
    "X = X.drop('target', 1)"
   ]
  },
  {
   "cell_type": "code",
   "execution_count": 246,
   "metadata": {},
   "outputs": [
    {
     "data": {
      "text/plain": [
       "0.9521158129175946"
      ]
     },
     "execution_count": 246,
     "metadata": {},
     "output_type": "execute_result"
    }
   ],
   "source": [
    "# Creating categorical variable for the high-target age group below 23\n",
    "X['younger_than_23'] = np.where(X.agea < 23, 1, 0)\n",
    "y[X.younger_than_23 == 1].mean()"
   ]
  },
  {
   "cell_type": "code",
   "execution_count": 247,
   "metadata": {},
   "outputs": [],
   "source": [
    "X['age_times_happy'] = X.agea * X.happy"
   ]
  },
  {
   "cell_type": "code",
   "execution_count": 248,
   "metadata": {},
   "outputs": [
    {
     "data": {
      "text/html": [
       "<div>\n",
       "<style scoped>\n",
       "    .dataframe tbody tr th:only-of-type {\n",
       "        vertical-align: middle;\n",
       "    }\n",
       "\n",
       "    .dataframe tbody tr th {\n",
       "        vertical-align: top;\n",
       "    }\n",
       "\n",
       "    .dataframe thead th {\n",
       "        text-align: right;\n",
       "    }\n",
       "</style>\n",
       "<table border=\"1\" class=\"dataframe\">\n",
       "  <thead>\n",
       "    <tr style=\"text-align: right;\">\n",
       "      <th></th>\n",
       "      <th>tvtot</th>\n",
       "      <th>ppltrst</th>\n",
       "      <th>pplfair</th>\n",
       "      <th>pplhlp</th>\n",
       "      <th>happy</th>\n",
       "      <th>sclmeet</th>\n",
       "      <th>sclact</th>\n",
       "      <th>agea</th>\n",
       "      <th>cntry_CH</th>\n",
       "      <th>cntry_CZ</th>\n",
       "      <th>cntry_DE</th>\n",
       "      <th>cntry_ES</th>\n",
       "      <th>cntry_NO</th>\n",
       "      <th>cntry_SE</th>\n",
       "      <th>male</th>\n",
       "      <th>second_year</th>\n",
       "      <th>sclmeet_squared</th>\n",
       "      <th>younger_than_23</th>\n",
       "      <th>age_times_happy</th>\n",
       "      <th>target</th>\n",
       "    </tr>\n",
       "  </thead>\n",
       "  <tbody>\n",
       "    <tr>\n",
       "      <th>tvtot</th>\n",
       "      <td>1.000000</td>\n",
       "      <td>-0.142422</td>\n",
       "      <td>-0.119277</td>\n",
       "      <td>-0.069080</td>\n",
       "      <td>-0.118598</td>\n",
       "      <td>-0.078864</td>\n",
       "      <td>-0.092375</td>\n",
       "      <td>0.257674</td>\n",
       "      <td>-0.173825</td>\n",
       "      <td>0.218606</td>\n",
       "      <td>0.004144</td>\n",
       "      <td>0.035985</td>\n",
       "      <td>-0.017619</td>\n",
       "      <td>-0.050075</td>\n",
       "      <td>0.017922</td>\n",
       "      <td>-0.031596</td>\n",
       "      <td>-0.077242</td>\n",
       "      <td>-0.109670</td>\n",
       "      <td>0.159138</td>\n",
       "      <td>-0.028816</td>\n",
       "    </tr>\n",
       "    <tr>\n",
       "      <th>ppltrst</th>\n",
       "      <td>-0.142422</td>\n",
       "      <td>1.000000</td>\n",
       "      <td>0.597506</td>\n",
       "      <td>0.459250</td>\n",
       "      <td>0.231533</td>\n",
       "      <td>0.122555</td>\n",
       "      <td>0.137491</td>\n",
       "      <td>-0.029412</td>\n",
       "      <td>0.031936</td>\n",
       "      <td>-0.225021</td>\n",
       "      <td>-0.009180</td>\n",
       "      <td>-0.152500</td>\n",
       "      <td>0.217530</td>\n",
       "      <td>0.132684</td>\n",
       "      <td>-0.029921</td>\n",
       "      <td>-0.001600</td>\n",
       "      <td>0.113109</td>\n",
       "      <td>0.012685</td>\n",
       "      <td>0.093452</td>\n",
       "      <td>-0.034371</td>\n",
       "    </tr>\n",
       "    <tr>\n",
       "      <th>pplfair</th>\n",
       "      <td>-0.119277</td>\n",
       "      <td>0.597506</td>\n",
       "      <td>1.000000</td>\n",
       "      <td>0.480931</td>\n",
       "      <td>0.247755</td>\n",
       "      <td>0.096501</td>\n",
       "      <td>0.128808</td>\n",
       "      <td>0.014724</td>\n",
       "      <td>0.058250</td>\n",
       "      <td>-0.215494</td>\n",
       "      <td>0.005904</td>\n",
       "      <td>-0.188744</td>\n",
       "      <td>0.191488</td>\n",
       "      <td>0.161542</td>\n",
       "      <td>0.022251</td>\n",
       "      <td>0.004283</td>\n",
       "      <td>0.083597</td>\n",
       "      <td>0.018556</td>\n",
       "      <td>0.142029</td>\n",
       "      <td>-0.034054</td>\n",
       "    </tr>\n",
       "    <tr>\n",
       "      <th>pplhlp</th>\n",
       "      <td>-0.069080</td>\n",
       "      <td>0.459250</td>\n",
       "      <td>0.480931</td>\n",
       "      <td>1.000000</td>\n",
       "      <td>0.215323</td>\n",
       "      <td>0.080489</td>\n",
       "      <td>0.092673</td>\n",
       "      <td>0.040351</td>\n",
       "      <td>0.079003</td>\n",
       "      <td>-0.166372</td>\n",
       "      <td>0.003274</td>\n",
       "      <td>-0.223920</td>\n",
       "      <td>0.153183</td>\n",
       "      <td>0.173921</td>\n",
       "      <td>0.042046</td>\n",
       "      <td>-0.032901</td>\n",
       "      <td>0.072531</td>\n",
       "      <td>0.021953</td>\n",
       "      <td>0.146244</td>\n",
       "      <td>-0.022069</td>\n",
       "    </tr>\n",
       "    <tr>\n",
       "      <th>happy</th>\n",
       "      <td>-0.118598</td>\n",
       "      <td>0.231533</td>\n",
       "      <td>0.247755</td>\n",
       "      <td>0.215323</td>\n",
       "      <td>1.000000</td>\n",
       "      <td>0.182944</td>\n",
       "      <td>0.192030</td>\n",
       "      <td>-0.042970</td>\n",
       "      <td>0.110593</td>\n",
       "      <td>-0.206445</td>\n",
       "      <td>-0.003884</td>\n",
       "      <td>-0.074060</td>\n",
       "      <td>0.100777</td>\n",
       "      <td>0.063745</td>\n",
       "      <td>-0.022413</td>\n",
       "      <td>-0.013378</td>\n",
       "      <td>0.172120</td>\n",
       "      <td>0.064411</td>\n",
       "      <td>0.473904</td>\n",
       "      <td>-0.145061</td>\n",
       "    </tr>\n",
       "    <tr>\n",
       "      <th>sclmeet</th>\n",
       "      <td>-0.078864</td>\n",
       "      <td>0.122555</td>\n",
       "      <td>0.096501</td>\n",
       "      <td>0.080489</td>\n",
       "      <td>0.182944</td>\n",
       "      <td>1.000000</td>\n",
       "      <td>0.283319</td>\n",
       "      <td>-0.194443</td>\n",
       "      <td>-0.021595</td>\n",
       "      <td>-0.174738</td>\n",
       "      <td>-0.022014</td>\n",
       "      <td>0.011601</td>\n",
       "      <td>0.070484</td>\n",
       "      <td>0.097158</td>\n",
       "      <td>0.009533</td>\n",
       "      <td>-0.028502</td>\n",
       "      <td>0.985043</td>\n",
       "      <td>0.192910</td>\n",
       "      <td>-0.075821</td>\n",
       "      <td>0.162970</td>\n",
       "    </tr>\n",
       "    <tr>\n",
       "      <th>sclact</th>\n",
       "      <td>-0.092375</td>\n",
       "      <td>0.137491</td>\n",
       "      <td>0.128808</td>\n",
       "      <td>0.092673</td>\n",
       "      <td>0.192030</td>\n",
       "      <td>0.283319</td>\n",
       "      <td>1.000000</td>\n",
       "      <td>-0.059442</td>\n",
       "      <td>-0.004271</td>\n",
       "      <td>-0.038131</td>\n",
       "      <td>0.003764</td>\n",
       "      <td>-0.107427</td>\n",
       "      <td>0.080589</td>\n",
       "      <td>0.080040</td>\n",
       "      <td>-0.031648</td>\n",
       "      <td>0.012150</td>\n",
       "      <td>0.268370</td>\n",
       "      <td>0.064411</td>\n",
       "      <td>0.053886</td>\n",
       "      <td>0.011405</td>\n",
       "    </tr>\n",
       "    <tr>\n",
       "      <th>agea</th>\n",
       "      <td>0.257674</td>\n",
       "      <td>-0.029412</td>\n",
       "      <td>0.014724</td>\n",
       "      <td>0.040351</td>\n",
       "      <td>-0.042970</td>\n",
       "      <td>-0.194443</td>\n",
       "      <td>-0.059442</td>\n",
       "      <td>1.000000</td>\n",
       "      <td>-0.015258</td>\n",
       "      <td>-0.033002</td>\n",
       "      <td>0.030541</td>\n",
       "      <td>0.010583</td>\n",
       "      <td>-0.023270</td>\n",
       "      <td>0.048733</td>\n",
       "      <td>0.020598</td>\n",
       "      <td>-0.003520</td>\n",
       "      <td>-0.200770</td>\n",
       "      <td>-0.546374</td>\n",
       "      <td>0.838211</td>\n",
       "      <td>-0.256670</td>\n",
       "    </tr>\n",
       "    <tr>\n",
       "      <th>cntry_CH</th>\n",
       "      <td>-0.173825</td>\n",
       "      <td>0.031936</td>\n",
       "      <td>0.058250</td>\n",
       "      <td>0.079003</td>\n",
       "      <td>0.110593</td>\n",
       "      <td>-0.021595</td>\n",
       "      <td>-0.004271</td>\n",
       "      <td>-0.015258</td>\n",
       "      <td>1.000000</td>\n",
       "      <td>-0.196084</td>\n",
       "      <td>-0.027113</td>\n",
       "      <td>-0.294179</td>\n",
       "      <td>-0.216024</td>\n",
       "      <td>-0.243774</td>\n",
       "      <td>0.013925</td>\n",
       "      <td>0.003218</td>\n",
       "      <td>-0.035229</td>\n",
       "      <td>0.017730</td>\n",
       "      <td>0.040859</td>\n",
       "      <td>-0.019266</td>\n",
       "    </tr>\n",
       "    <tr>\n",
       "      <th>cntry_CZ</th>\n",
       "      <td>0.218606</td>\n",
       "      <td>-0.225021</td>\n",
       "      <td>-0.215494</td>\n",
       "      <td>-0.166372</td>\n",
       "      <td>-0.206445</td>\n",
       "      <td>-0.174738</td>\n",
       "      <td>-0.038131</td>\n",
       "      <td>-0.033002</td>\n",
       "      <td>-0.196084</td>\n",
       "      <td>1.000000</td>\n",
       "      <td>-0.024048</td>\n",
       "      <td>-0.260926</td>\n",
       "      <td>-0.191605</td>\n",
       "      <td>-0.216219</td>\n",
       "      <td>0.024788</td>\n",
       "      <td>0.001472</td>\n",
       "      <td>-0.168655</td>\n",
       "      <td>-0.004459</td>\n",
       "      <td>-0.137669</td>\n",
       "      <td>0.033158</td>\n",
       "    </tr>\n",
       "    <tr>\n",
       "      <th>cntry_DE</th>\n",
       "      <td>0.004144</td>\n",
       "      <td>-0.009180</td>\n",
       "      <td>0.005904</td>\n",
       "      <td>0.003274</td>\n",
       "      <td>-0.003884</td>\n",
       "      <td>-0.022014</td>\n",
       "      <td>0.003764</td>\n",
       "      <td>0.030541</td>\n",
       "      <td>-0.027113</td>\n",
       "      <td>-0.024048</td>\n",
       "      <td>1.000000</td>\n",
       "      <td>-0.036078</td>\n",
       "      <td>-0.026493</td>\n",
       "      <td>-0.029897</td>\n",
       "      <td>0.011096</td>\n",
       "      <td>0.002100</td>\n",
       "      <td>-0.027919</td>\n",
       "      <td>-0.020296</td>\n",
       "      <td>0.024773</td>\n",
       "      <td>-0.014865</td>\n",
       "    </tr>\n",
       "    <tr>\n",
       "      <th>cntry_ES</th>\n",
       "      <td>0.035985</td>\n",
       "      <td>-0.152500</td>\n",
       "      <td>-0.188744</td>\n",
       "      <td>-0.223920</td>\n",
       "      <td>-0.074060</td>\n",
       "      <td>0.011601</td>\n",
       "      <td>-0.107427</td>\n",
       "      <td>0.010583</td>\n",
       "      <td>-0.294179</td>\n",
       "      <td>-0.260926</td>\n",
       "      <td>-0.036078</td>\n",
       "      <td>1.000000</td>\n",
       "      <td>-0.287460</td>\n",
       "      <td>-0.324387</td>\n",
       "      <td>0.007807</td>\n",
       "      <td>-0.006935</td>\n",
       "      <td>0.017570</td>\n",
       "      <td>-0.038907</td>\n",
       "      <td>-0.030519</td>\n",
       "      <td>-0.000387</td>\n",
       "    </tr>\n",
       "    <tr>\n",
       "      <th>cntry_NO</th>\n",
       "      <td>-0.017619</td>\n",
       "      <td>0.217530</td>\n",
       "      <td>0.191488</td>\n",
       "      <td>0.153183</td>\n",
       "      <td>0.100777</td>\n",
       "      <td>0.070484</td>\n",
       "      <td>0.080589</td>\n",
       "      <td>-0.023270</td>\n",
       "      <td>-0.216024</td>\n",
       "      <td>-0.191605</td>\n",
       "      <td>-0.026493</td>\n",
       "      <td>-0.287460</td>\n",
       "      <td>1.000000</td>\n",
       "      <td>-0.238206</td>\n",
       "      <td>-0.027735</td>\n",
       "      <td>0.001012</td>\n",
       "      <td>0.066682</td>\n",
       "      <td>0.027359</td>\n",
       "      <td>0.033952</td>\n",
       "      <td>-0.014130</td>\n",
       "    </tr>\n",
       "    <tr>\n",
       "      <th>cntry_SE</th>\n",
       "      <td>-0.050075</td>\n",
       "      <td>0.132684</td>\n",
       "      <td>0.161542</td>\n",
       "      <td>0.173921</td>\n",
       "      <td>0.063745</td>\n",
       "      <td>0.097158</td>\n",
       "      <td>0.080040</td>\n",
       "      <td>0.048733</td>\n",
       "      <td>-0.243774</td>\n",
       "      <td>-0.216219</td>\n",
       "      <td>-0.029897</td>\n",
       "      <td>-0.324387</td>\n",
       "      <td>-0.238206</td>\n",
       "      <td>1.000000</td>\n",
       "      <td>-0.019075</td>\n",
       "      <td>0.002085</td>\n",
       "      <td>0.102509</td>\n",
       "      <td>0.007436</td>\n",
       "      <td>0.079763</td>\n",
       "      <td>0.004964</td>\n",
       "    </tr>\n",
       "    <tr>\n",
       "      <th>male</th>\n",
       "      <td>0.017922</td>\n",
       "      <td>-0.029921</td>\n",
       "      <td>0.022251</td>\n",
       "      <td>0.042046</td>\n",
       "      <td>-0.022413</td>\n",
       "      <td>0.009533</td>\n",
       "      <td>-0.031648</td>\n",
       "      <td>0.020598</td>\n",
       "      <td>0.013925</td>\n",
       "      <td>0.024788</td>\n",
       "      <td>0.011096</td>\n",
       "      <td>0.007807</td>\n",
       "      <td>-0.027735</td>\n",
       "      <td>-0.019075</td>\n",
       "      <td>1.000000</td>\n",
       "      <td>0.001355</td>\n",
       "      <td>0.010007</td>\n",
       "      <td>-0.008426</td>\n",
       "      <td>0.002397</td>\n",
       "      <td>0.033984</td>\n",
       "    </tr>\n",
       "    <tr>\n",
       "      <th>second_year</th>\n",
       "      <td>-0.031596</td>\n",
       "      <td>-0.001600</td>\n",
       "      <td>0.004283</td>\n",
       "      <td>-0.032901</td>\n",
       "      <td>-0.013378</td>\n",
       "      <td>-0.028502</td>\n",
       "      <td>0.012150</td>\n",
       "      <td>-0.003520</td>\n",
       "      <td>0.003218</td>\n",
       "      <td>0.001472</td>\n",
       "      <td>0.002100</td>\n",
       "      <td>-0.006935</td>\n",
       "      <td>0.001012</td>\n",
       "      <td>0.002085</td>\n",
       "      <td>0.001355</td>\n",
       "      <td>1.000000</td>\n",
       "      <td>-0.035147</td>\n",
       "      <td>0.020949</td>\n",
       "      <td>-0.009733</td>\n",
       "      <td>0.018689</td>\n",
       "    </tr>\n",
       "    <tr>\n",
       "      <th>sclmeet_squared</th>\n",
       "      <td>-0.077242</td>\n",
       "      <td>0.113109</td>\n",
       "      <td>0.083597</td>\n",
       "      <td>0.072531</td>\n",
       "      <td>0.172120</td>\n",
       "      <td>0.985043</td>\n",
       "      <td>0.268370</td>\n",
       "      <td>-0.200770</td>\n",
       "      <td>-0.035229</td>\n",
       "      <td>-0.168655</td>\n",
       "      <td>-0.027919</td>\n",
       "      <td>0.017570</td>\n",
       "      <td>0.066682</td>\n",
       "      <td>0.102509</td>\n",
       "      <td>0.010007</td>\n",
       "      <td>-0.035147</td>\n",
       "      <td>1.000000</td>\n",
       "      <td>0.206167</td>\n",
       "      <td>-0.088282</td>\n",
       "      <td>0.176098</td>\n",
       "    </tr>\n",
       "    <tr>\n",
       "      <th>younger_than_23</th>\n",
       "      <td>-0.109670</td>\n",
       "      <td>0.012685</td>\n",
       "      <td>0.018556</td>\n",
       "      <td>0.021953</td>\n",
       "      <td>0.064411</td>\n",
       "      <td>0.192910</td>\n",
       "      <td>0.064411</td>\n",
       "      <td>-0.546374</td>\n",
       "      <td>0.017730</td>\n",
       "      <td>-0.004459</td>\n",
       "      <td>-0.020296</td>\n",
       "      <td>-0.038907</td>\n",
       "      <td>0.027359</td>\n",
       "      <td>0.007436</td>\n",
       "      <td>-0.008426</td>\n",
       "      <td>0.020949</td>\n",
       "      <td>0.206167</td>\n",
       "      <td>1.000000</td>\n",
       "      <td>-0.448794</td>\n",
       "      <td>0.410501</td>\n",
       "    </tr>\n",
       "    <tr>\n",
       "      <th>age_times_happy</th>\n",
       "      <td>0.159138</td>\n",
       "      <td>0.093452</td>\n",
       "      <td>0.142029</td>\n",
       "      <td>0.146244</td>\n",
       "      <td>0.473904</td>\n",
       "      <td>-0.075821</td>\n",
       "      <td>0.053886</td>\n",
       "      <td>0.838211</td>\n",
       "      <td>0.040859</td>\n",
       "      <td>-0.137669</td>\n",
       "      <td>0.024773</td>\n",
       "      <td>-0.030519</td>\n",
       "      <td>0.033952</td>\n",
       "      <td>0.079763</td>\n",
       "      <td>0.002397</td>\n",
       "      <td>-0.009733</td>\n",
       "      <td>-0.088282</td>\n",
       "      <td>-0.448794</td>\n",
       "      <td>1.000000</td>\n",
       "      <td>-0.305113</td>\n",
       "    </tr>\n",
       "    <tr>\n",
       "      <th>target</th>\n",
       "      <td>-0.028816</td>\n",
       "      <td>-0.034371</td>\n",
       "      <td>-0.034054</td>\n",
       "      <td>-0.022069</td>\n",
       "      <td>-0.145061</td>\n",
       "      <td>0.162970</td>\n",
       "      <td>0.011405</td>\n",
       "      <td>-0.256670</td>\n",
       "      <td>-0.019266</td>\n",
       "      <td>0.033158</td>\n",
       "      <td>-0.014865</td>\n",
       "      <td>-0.000387</td>\n",
       "      <td>-0.014130</td>\n",
       "      <td>0.004964</td>\n",
       "      <td>0.033984</td>\n",
       "      <td>0.018689</td>\n",
       "      <td>0.176098</td>\n",
       "      <td>0.410501</td>\n",
       "      <td>-0.305113</td>\n",
       "      <td>1.000000</td>\n",
       "    </tr>\n",
       "  </tbody>\n",
       "</table>\n",
       "</div>"
      ],
      "text/plain": [
       "                    tvtot   ppltrst   pplfair    pplhlp     happy   sclmeet  \\\n",
       "tvtot            1.000000 -0.142422 -0.119277 -0.069080 -0.118598 -0.078864   \n",
       "ppltrst         -0.142422  1.000000  0.597506  0.459250  0.231533  0.122555   \n",
       "pplfair         -0.119277  0.597506  1.000000  0.480931  0.247755  0.096501   \n",
       "pplhlp          -0.069080  0.459250  0.480931  1.000000  0.215323  0.080489   \n",
       "happy           -0.118598  0.231533  0.247755  0.215323  1.000000  0.182944   \n",
       "sclmeet         -0.078864  0.122555  0.096501  0.080489  0.182944  1.000000   \n",
       "sclact          -0.092375  0.137491  0.128808  0.092673  0.192030  0.283319   \n",
       "agea             0.257674 -0.029412  0.014724  0.040351 -0.042970 -0.194443   \n",
       "cntry_CH        -0.173825  0.031936  0.058250  0.079003  0.110593 -0.021595   \n",
       "cntry_CZ         0.218606 -0.225021 -0.215494 -0.166372 -0.206445 -0.174738   \n",
       "cntry_DE         0.004144 -0.009180  0.005904  0.003274 -0.003884 -0.022014   \n",
       "cntry_ES         0.035985 -0.152500 -0.188744 -0.223920 -0.074060  0.011601   \n",
       "cntry_NO        -0.017619  0.217530  0.191488  0.153183  0.100777  0.070484   \n",
       "cntry_SE        -0.050075  0.132684  0.161542  0.173921  0.063745  0.097158   \n",
       "male             0.017922 -0.029921  0.022251  0.042046 -0.022413  0.009533   \n",
       "second_year     -0.031596 -0.001600  0.004283 -0.032901 -0.013378 -0.028502   \n",
       "sclmeet_squared -0.077242  0.113109  0.083597  0.072531  0.172120  0.985043   \n",
       "younger_than_23 -0.109670  0.012685  0.018556  0.021953  0.064411  0.192910   \n",
       "age_times_happy  0.159138  0.093452  0.142029  0.146244  0.473904 -0.075821   \n",
       "target          -0.028816 -0.034371 -0.034054 -0.022069 -0.145061  0.162970   \n",
       "\n",
       "                   sclact      agea  cntry_CH  cntry_CZ  cntry_DE  cntry_ES  \\\n",
       "tvtot           -0.092375  0.257674 -0.173825  0.218606  0.004144  0.035985   \n",
       "ppltrst          0.137491 -0.029412  0.031936 -0.225021 -0.009180 -0.152500   \n",
       "pplfair          0.128808  0.014724  0.058250 -0.215494  0.005904 -0.188744   \n",
       "pplhlp           0.092673  0.040351  0.079003 -0.166372  0.003274 -0.223920   \n",
       "happy            0.192030 -0.042970  0.110593 -0.206445 -0.003884 -0.074060   \n",
       "sclmeet          0.283319 -0.194443 -0.021595 -0.174738 -0.022014  0.011601   \n",
       "sclact           1.000000 -0.059442 -0.004271 -0.038131  0.003764 -0.107427   \n",
       "agea            -0.059442  1.000000 -0.015258 -0.033002  0.030541  0.010583   \n",
       "cntry_CH        -0.004271 -0.015258  1.000000 -0.196084 -0.027113 -0.294179   \n",
       "cntry_CZ        -0.038131 -0.033002 -0.196084  1.000000 -0.024048 -0.260926   \n",
       "cntry_DE         0.003764  0.030541 -0.027113 -0.024048  1.000000 -0.036078   \n",
       "cntry_ES        -0.107427  0.010583 -0.294179 -0.260926 -0.036078  1.000000   \n",
       "cntry_NO         0.080589 -0.023270 -0.216024 -0.191605 -0.026493 -0.287460   \n",
       "cntry_SE         0.080040  0.048733 -0.243774 -0.216219 -0.029897 -0.324387   \n",
       "male            -0.031648  0.020598  0.013925  0.024788  0.011096  0.007807   \n",
       "second_year      0.012150 -0.003520  0.003218  0.001472  0.002100 -0.006935   \n",
       "sclmeet_squared  0.268370 -0.200770 -0.035229 -0.168655 -0.027919  0.017570   \n",
       "younger_than_23  0.064411 -0.546374  0.017730 -0.004459 -0.020296 -0.038907   \n",
       "age_times_happy  0.053886  0.838211  0.040859 -0.137669  0.024773 -0.030519   \n",
       "target           0.011405 -0.256670 -0.019266  0.033158 -0.014865 -0.000387   \n",
       "\n",
       "                 cntry_NO  cntry_SE      male  second_year  sclmeet_squared  \\\n",
       "tvtot           -0.017619 -0.050075  0.017922    -0.031596        -0.077242   \n",
       "ppltrst          0.217530  0.132684 -0.029921    -0.001600         0.113109   \n",
       "pplfair          0.191488  0.161542  0.022251     0.004283         0.083597   \n",
       "pplhlp           0.153183  0.173921  0.042046    -0.032901         0.072531   \n",
       "happy            0.100777  0.063745 -0.022413    -0.013378         0.172120   \n",
       "sclmeet          0.070484  0.097158  0.009533    -0.028502         0.985043   \n",
       "sclact           0.080589  0.080040 -0.031648     0.012150         0.268370   \n",
       "agea            -0.023270  0.048733  0.020598    -0.003520        -0.200770   \n",
       "cntry_CH        -0.216024 -0.243774  0.013925     0.003218        -0.035229   \n",
       "cntry_CZ        -0.191605 -0.216219  0.024788     0.001472        -0.168655   \n",
       "cntry_DE        -0.026493 -0.029897  0.011096     0.002100        -0.027919   \n",
       "cntry_ES        -0.287460 -0.324387  0.007807    -0.006935         0.017570   \n",
       "cntry_NO         1.000000 -0.238206 -0.027735     0.001012         0.066682   \n",
       "cntry_SE        -0.238206  1.000000 -0.019075     0.002085         0.102509   \n",
       "male            -0.027735 -0.019075  1.000000     0.001355         0.010007   \n",
       "second_year      0.001012  0.002085  0.001355     1.000000        -0.035147   \n",
       "sclmeet_squared  0.066682  0.102509  0.010007    -0.035147         1.000000   \n",
       "younger_than_23  0.027359  0.007436 -0.008426     0.020949         0.206167   \n",
       "age_times_happy  0.033952  0.079763  0.002397    -0.009733        -0.088282   \n",
       "target          -0.014130  0.004964  0.033984     0.018689         0.176098   \n",
       "\n",
       "                 younger_than_23  age_times_happy    target  \n",
       "tvtot                  -0.109670         0.159138 -0.028816  \n",
       "ppltrst                 0.012685         0.093452 -0.034371  \n",
       "pplfair                 0.018556         0.142029 -0.034054  \n",
       "pplhlp                  0.021953         0.146244 -0.022069  \n",
       "happy                   0.064411         0.473904 -0.145061  \n",
       "sclmeet                 0.192910        -0.075821  0.162970  \n",
       "sclact                  0.064411         0.053886  0.011405  \n",
       "agea                   -0.546374         0.838211 -0.256670  \n",
       "cntry_CH                0.017730         0.040859 -0.019266  \n",
       "cntry_CZ               -0.004459        -0.137669  0.033158  \n",
       "cntry_DE               -0.020296         0.024773 -0.014865  \n",
       "cntry_ES               -0.038907        -0.030519 -0.000387  \n",
       "cntry_NO                0.027359         0.033952 -0.014130  \n",
       "cntry_SE                0.007436         0.079763  0.004964  \n",
       "male                   -0.008426         0.002397  0.033984  \n",
       "second_year             0.020949        -0.009733  0.018689  \n",
       "sclmeet_squared         0.206167        -0.088282  0.176098  \n",
       "younger_than_23         1.000000        -0.448794  0.410501  \n",
       "age_times_happy        -0.448794         1.000000 -0.305113  \n",
       "target                  0.410501        -0.305113  1.000000  "
      ]
     },
     "execution_count": 248,
     "metadata": {},
     "output_type": "execute_result"
    }
   ],
   "source": [
    "X['target'] = y\n",
    "X.corr()"
   ]
  },
  {
   "cell_type": "code",
   "execution_count": 249,
   "metadata": {},
   "outputs": [],
   "source": [
    "X = X.drop('target', 1)"
   ]
  },
  {
   "cell_type": "markdown",
   "metadata": {},
   "source": [
    "#### Overfitting-Prevention through Subsampling"
   ]
  },
  {
   "cell_type": "code",
   "execution_count": 250,
   "metadata": {},
   "outputs": [],
   "source": [
    "from sklearn.model_selection import cross_val_score"
   ]
  },
  {
   "cell_type": "code",
   "execution_count": 251,
   "metadata": {},
   "outputs": [],
   "source": [
    "offset = int(X.shape[0] * 0.9)\n",
    "X_train, y_train = X[:offset], y[:offset]\n",
    "X_test, y_test = X[offset:], y[offset:]"
   ]
  },
  {
   "cell_type": "code",
   "execution_count": 252,
   "metadata": {},
   "outputs": [
    {
     "data": {
      "text/plain": [
       "GradientBoostingClassifier(criterion='friedman_mse', init=None,\n",
       "              learning_rate=0.1, loss='deviance', max_depth=2,\n",
       "              max_features=None, max_leaf_nodes=None,\n",
       "              min_impurity_decrease=0.0, min_impurity_split=None,\n",
       "              min_samples_leaf=1, min_samples_split=2,\n",
       "              min_weight_fraction_leaf=0.0, n_estimators=500,\n",
       "              n_iter_no_change=None, presort='auto', random_state=None,\n",
       "              subsample=1.0, tol=0.0001, validation_fraction=0.1,\n",
       "              verbose=0, warm_start=False)"
      ]
     },
     "execution_count": 252,
     "metadata": {},
     "output_type": "execute_result"
    }
   ],
   "source": [
    "# Initialize and fit the model.\n",
    "clf = ensemble.GradientBoostingClassifier(**params)\n",
    "clf.fit(X, y)"
   ]
  },
  {
   "cell_type": "code",
   "execution_count": 253,
   "metadata": {},
   "outputs": [
    {
     "name": "stdout",
     "output_type": "stream",
     "text": [
      "[0.77205882 0.73284314 0.71446078 0.72883436 0.77395577 0.76904177\n",
      " 0.73341523 0.74815725 0.77272727 0.74324324]\n",
      "0.74887376414668\n"
     ]
    }
   ],
   "source": [
    "scores = cross_val_score(clf, X, y, cv=10)\n",
    "print(scores)\n",
    "print(scores.mean())"
   ]
  },
  {
   "cell_type": "markdown",
   "metadata": {},
   "source": [
    "The addition of the new feature ('agea_times_happy') increases the accuracy by 0.4%."
   ]
  },
  {
   "cell_type": "markdown",
   "metadata": {},
   "source": [
    "#### Changing Iterations\n",
    "##### 750 Iterations"
   ]
  },
  {
   "cell_type": "code",
   "execution_count": 254,
   "metadata": {},
   "outputs": [
    {
     "data": {
      "text/plain": [
       "GradientBoostingClassifier(criterion='friedman_mse', init=None,\n",
       "              learning_rate=0.1, loss='deviance', max_depth=2,\n",
       "              max_features=None, max_leaf_nodes=None,\n",
       "              min_impurity_decrease=0.0, min_impurity_split=None,\n",
       "              min_samples_leaf=1, min_samples_split=2,\n",
       "              min_weight_fraction_leaf=0.0, n_estimators=750,\n",
       "              n_iter_no_change=None, presort='auto', random_state=None,\n",
       "              subsample=1.0, tol=0.0001, validation_fraction=0.1,\n",
       "              verbose=0, warm_start=False)"
      ]
     },
     "execution_count": 254,
     "metadata": {},
     "output_type": "execute_result"
    }
   ],
   "source": [
    "# Adjusting number of estimators from 500 to 750\n",
    "params = {'n_estimators': 750,\n",
    "          'max_depth': 2,\n",
    "          'loss': 'deviance'}\n",
    "clf = ensemble.GradientBoostingClassifier(**params)\n",
    "clf.fit(X, y)"
   ]
  },
  {
   "cell_type": "code",
   "execution_count": 255,
   "metadata": {},
   "outputs": [
    {
     "name": "stdout",
     "output_type": "stream",
     "text": [
      "[0.77205882 0.73651961 0.70833333 0.72760736 0.77149877 0.77149877\n",
      " 0.73341523 0.74570025 0.76658477 0.74570025]\n",
      "0.7478917161067107\n"
     ]
    }
   ],
   "source": [
    "scores = cross_val_score(clf, X, y, cv=10)\n",
    "print(scores)\n",
    "print(scores.mean())"
   ]
  },
  {
   "cell_type": "markdown",
   "metadata": {},
   "source": [
    "##### 1000 Iterations"
   ]
  },
  {
   "cell_type": "code",
   "execution_count": 256,
   "metadata": {},
   "outputs": [
    {
     "data": {
      "text/plain": [
       "GradientBoostingClassifier(criterion='friedman_mse', init=None,\n",
       "              learning_rate=0.1, loss='deviance', max_depth=2,\n",
       "              max_features=None, max_leaf_nodes=None,\n",
       "              min_impurity_decrease=0.0, min_impurity_split=None,\n",
       "              min_samples_leaf=1, min_samples_split=2,\n",
       "              min_weight_fraction_leaf=0.0, n_estimators=1000,\n",
       "              n_iter_no_change=None, presort='auto', random_state=None,\n",
       "              subsample=1.0, tol=0.0001, validation_fraction=0.1,\n",
       "              verbose=0, warm_start=False)"
      ]
     },
     "execution_count": 256,
     "metadata": {},
     "output_type": "execute_result"
    }
   ],
   "source": [
    "# Adjusting number of estimators from 500 to 1000\n",
    "params = {'n_estimators': 1000,\n",
    "          'max_depth': 2,\n",
    "          'loss': 'deviance'}\n",
    "clf = ensemble.GradientBoostingClassifier(**params)\n",
    "clf.fit(X, y)"
   ]
  },
  {
   "cell_type": "code",
   "execution_count": 257,
   "metadata": {},
   "outputs": [
    {
     "name": "stdout",
     "output_type": "stream",
     "text": [
      "[0.76960784 0.73529412 0.70955882 0.73128834 0.77027027 0.77027027\n",
      " 0.74201474 0.72113022 0.76289926 0.73955774]\n",
      "0.7451891634014516\n"
     ]
    }
   ],
   "source": [
    "scores = cross_val_score(clf, X, y, cv=10)\n",
    "print(scores)\n",
    "print(scores.mean())"
   ]
  },
  {
   "cell_type": "markdown",
   "metadata": {},
   "source": [
    "There is greater variance in the scores, strongly suggesting overfitting for certain subsets and causing problems in others."
   ]
  },
  {
   "cell_type": "markdown",
   "metadata": {},
   "source": [
    "#### Different Loss Function"
   ]
  },
  {
   "cell_type": "code",
   "execution_count": 258,
   "metadata": {},
   "outputs": [
    {
     "data": {
      "text/plain": [
       "GradientBoostingClassifier(criterion='friedman_mse', init=None,\n",
       "              learning_rate=0.1, loss='exponential', max_depth=2,\n",
       "              max_features=None, max_leaf_nodes=None,\n",
       "              min_impurity_decrease=0.0, min_impurity_split=None,\n",
       "              min_samples_leaf=1, min_samples_split=2,\n",
       "              min_weight_fraction_leaf=0.0, n_estimators=500,\n",
       "              n_iter_no_change=None, presort='auto', random_state=None,\n",
       "              subsample=1.0, tol=0.0001, validation_fraction=0.1,\n",
       "              verbose=0, warm_start=False)"
      ]
     },
     "execution_count": 258,
     "metadata": {},
     "output_type": "execute_result"
    }
   ],
   "source": [
    "# Adjusting loss function from 'deviance' to 'exponential'\n",
    "params = {'n_estimators': 500,\n",
    "          'max_depth': 2,\n",
    "          'loss': 'exponential'}\n",
    "clf = ensemble.GradientBoostingClassifier(**params)\n",
    "clf.fit(X, y)"
   ]
  },
  {
   "cell_type": "code",
   "execution_count": 259,
   "metadata": {},
   "outputs": [
    {
     "name": "stdout",
     "output_type": "stream",
     "text": [
      "[0.76838235 0.70588235 0.71323529 0.72392638 0.77395577 0.77027027\n",
      " 0.73587224 0.74324324 0.77149877 0.74570025]\n",
      "0.7451966920908639\n"
     ]
    }
   ],
   "source": [
    "scores = cross_val_score(clf, X, y, cv=10)\n",
    "print(scores)\n",
    "print(scores.mean())"
   ]
  },
  {
   "cell_type": "markdown",
   "metadata": {},
   "source": [
    "The loss function adjustment doesn't seem to affect the accuracy of the model."
   ]
  },
  {
   "cell_type": "markdown",
   "metadata": {},
   "source": [
    "#### Adjusting Weak-Learner Structure"
   ]
  },
  {
   "cell_type": "code",
   "execution_count": 260,
   "metadata": {},
   "outputs": [
    {
     "data": {
      "text/plain": [
       "GradientBoostingClassifier(criterion='friedman_mse', init=None,\n",
       "              learning_rate=0.1, loss='deviance', max_depth=3,\n",
       "              max_features=None, max_leaf_nodes=None,\n",
       "              min_impurity_decrease=0.0, min_impurity_split=None,\n",
       "              min_samples_leaf=1, min_samples_split=2,\n",
       "              min_weight_fraction_leaf=0.0, n_estimators=500,\n",
       "              n_iter_no_change=None, presort='auto', random_state=None,\n",
       "              subsample=1.0, tol=0.0001, validation_fraction=0.1,\n",
       "              verbose=0, warm_start=False)"
      ]
     },
     "execution_count": 260,
     "metadata": {},
     "output_type": "execute_result"
    }
   ],
   "source": [
    "# Adjusting max-depth from '2' to '3'\n",
    "params = {'n_estimators': 500,\n",
    "          'max_depth': 3,\n",
    "          'loss': 'deviance'}\n",
    "clf = ensemble.GradientBoostingClassifier(**params)\n",
    "clf.fit(X, y)"
   ]
  },
  {
   "cell_type": "code",
   "execution_count": 261,
   "metadata": {},
   "outputs": [
    {
     "name": "stdout",
     "output_type": "stream",
     "text": [
      "[0.75980392 0.71691176 0.69240196 0.72515337 0.77027027 0.76658477\n",
      " 0.73955774 0.65356265 0.74570025 0.74692875]\n",
      "0.7316875443896376\n"
     ]
    }
   ],
   "source": [
    "scores = cross_val_score(clf, X, y, cv=10)\n",
    "print(scores)\n",
    "print(scores.mean())"
   ]
  },
  {
   "cell_type": "code",
   "execution_count": 262,
   "metadata": {},
   "outputs": [
    {
     "data": {
      "text/plain": [
       "GradientBoostingClassifier(criterion='friedman_mse', init=None,\n",
       "              learning_rate=0.1, loss='deviance', max_depth=4,\n",
       "              max_features=None, max_leaf_nodes=None,\n",
       "              min_impurity_decrease=0.0, min_impurity_split=None,\n",
       "              min_samples_leaf=1, min_samples_split=2,\n",
       "              min_weight_fraction_leaf=0.0, n_estimators=500,\n",
       "              n_iter_no_change=None, presort='auto', random_state=None,\n",
       "              subsample=1.0, tol=0.0001, validation_fraction=0.1,\n",
       "              verbose=0, warm_start=False)"
      ]
     },
     "execution_count": 262,
     "metadata": {},
     "output_type": "execute_result"
    }
   ],
   "source": [
    "# Adjusting max-depth from '2' to '4'\n",
    "params = {'n_estimators': 500,\n",
    "          'max_depth': 4,\n",
    "          'loss': 'deviance'}\n",
    "clf = ensemble.GradientBoostingClassifier(**params)\n",
    "clf.fit(X, y)"
   ]
  },
  {
   "cell_type": "code",
   "execution_count": 263,
   "metadata": {},
   "outputs": [
    {
     "name": "stdout",
     "output_type": "stream",
     "text": [
      "[0.77328431 0.71078431 0.67892157 0.72515337 0.75921376 0.75552826\n",
      " 0.73710074 0.57739558 0.74938575 0.74324324]\n",
      "0.7210010892178882\n"
     ]
    }
   ],
   "source": [
    "scores = cross_val_score(clf, X, y, cv=10)\n",
    "print(scores)\n",
    "print(scores.mean())"
   ]
  },
  {
   "cell_type": "code",
   "execution_count": 264,
   "metadata": {},
   "outputs": [
    {
     "data": {
      "text/plain": [
       "GradientBoostingClassifier(criterion='friedman_mse', init=None,\n",
       "              learning_rate=0.1, loss='deviance', max_depth=2,\n",
       "              max_features=None, max_leaf_nodes=None,\n",
       "              min_impurity_decrease=0.0, min_impurity_split=None,\n",
       "              min_samples_leaf=1, min_samples_split=2,\n",
       "              min_weight_fraction_leaf=0.0, n_estimators=500,\n",
       "              n_iter_no_change=None, presort='auto', random_state=None,\n",
       "              subsample=1.0, tol=0.0001, validation_fraction=0.1,\n",
       "              verbose=0, warm_start=True)"
      ]
     },
     "execution_count": 264,
     "metadata": {},
     "output_type": "execute_result"
    }
   ],
   "source": [
    "# Adding 'warm_start' parameter\n",
    "params = {'n_estimators': 500,\n",
    "          'max_depth': 2,\n",
    "          'warm_start': True,\n",
    "          'loss': 'deviance'}\n",
    "clf = ensemble.GradientBoostingClassifier(**params)\n",
    "clf.fit(X, y)"
   ]
  },
  {
   "cell_type": "code",
   "execution_count": 265,
   "metadata": {
    "scrolled": true
   },
   "outputs": [
    {
     "name": "stdout",
     "output_type": "stream",
     "text": [
      "[0.77205882 0.73284314 0.71446078 0.72883436 0.77395577 0.76904177\n",
      " 0.73341523 0.74815725 0.77149877 0.74324324]\n",
      "0.74875091402383\n"
     ]
    }
   ],
   "source": [
    "scores = cross_val_score(clf, X, y, cv=10)\n",
    "print(scores)\n",
    "print(scores.mean())"
   ]
  },
  {
   "cell_type": "markdown",
   "metadata": {},
   "source": [
    "#### Conclusions"
   ]
  },
  {
   "cell_type": "markdown",
   "metadata": {},
   "source": [
    "After adjusting the different settings and observing their results on the accuracy of the model on the test set, the results showed that the only adjustment that seemed to make a considerable difference was in the creation of new features."
   ]
  }
 ],
 "metadata": {
  "hide_input": false,
  "kernelspec": {
   "display_name": "Python 3",
   "language": "python",
   "name": "python3"
  },
  "language_info": {
   "codemirror_mode": {
    "name": "ipython",
    "version": 3
   },
   "file_extension": ".py",
   "mimetype": "text/x-python",
   "name": "python",
   "nbconvert_exporter": "python",
   "pygments_lexer": "ipython3",
   "version": "3.7.3"
  },
  "toc": {
   "colors": {
    "hover_highlight": "#DAA520",
    "running_highlight": "#FF0000",
    "selected_highlight": "#FFD700"
   },
   "moveMenuLeft": true,
   "nav_menu": {
    "height": "59px",
    "width": "252px"
   },
   "navigate_menu": true,
   "number_sections": true,
   "sideBar": true,
   "threshold": 4,
   "toc_cell": false,
   "toc_section_display": "block",
   "toc_window_display": false
  }
 },
 "nbformat": 4,
 "nbformat_minor": 2
}
